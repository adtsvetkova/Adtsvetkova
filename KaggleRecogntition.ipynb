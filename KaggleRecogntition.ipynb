{
 "cells": [
  {
   "cell_type": "markdown",
   "metadata": {},
   "source": [
    "# Соревнование на Kaggle\n",
    "**Ссылка**: https://www.kaggle.com/c/quickdraw-doodle-recognition/overview\n",
    "\n",
    "Score: 0.8"
   ]
  },
  {
   "cell_type": "markdown",
   "metadata": {
    "colab_type": "text",
    "id": "-t7HSSx4RQz2"
   },
   "source": [
    "# Imports"
   ]
  },
  {
   "cell_type": "code",
   "execution_count": 1,
   "metadata": {
    "ExecuteTime": {
     "end_time": "2018-11-07T16:08:15.388798Z",
     "start_time": "2018-11-07T16:08:15.081241Z"
    },
    "colab": {
     "base_uri": "https://localhost:8080/",
     "height": 34
    },
    "colab_type": "code",
    "id": "jRfFivfYRQz7",
    "outputId": "14a92b15-892a-4aee-e04d-5bf1f320c3c7"
   },
   "outputs": [
    {
     "name": "stderr",
     "output_type": "stream",
     "text": [
      "Using TensorFlow backend.\n"
     ]
    }
   ],
   "source": [
    "import zipfile\n",
    "import numpy as np\n",
    "import pandas as pd\n",
    "import os\n",
    "import tqdm\n",
    "import matplotlib \n",
    "%matplotlib inline\n",
    "import matplotlib.pyplot as plt\n",
    "import csv\n",
    "from keras.layers.advanced_activations import LeakyReLU\n"
   ]
  },
  {
   "cell_type": "code",
   "execution_count": 0,
   "metadata": {
    "ExecuteTime": {
     "end_time": "2018-11-07T16:09:43.935122Z",
     "start_time": "2018-11-07T16:09:43.339804Z"
    },
    "colab": {},
    "colab_type": "code",
    "id": "xztQGciKRQ1H"
   },
   "outputs": [],
   "source": [
    "import tensorflow as tf\n",
    "import keras\n",
    "from keras import backend as K"
   ]
  },
  {
   "cell_type": "code",
   "execution_count": 0,
   "metadata": {
    "colab": {},
    "colab_type": "code",
    "id": "gLSiP2cn_Opr"
   },
   "outputs": [],
   "source": [
    "from keras.models import Sequential\n",
    "from keras.layers import Conv2D, MaxPooling2D, Flatten, Dense, Activation, Dropout, GlobalAveragePooling2D, \\\n",
    "    BatchNormalization"
   ]
  },
  {
   "cell_type": "markdown",
   "metadata": {
    "colab_type": "text",
    "id": "2uT6jLiXRQ0I"
   },
   "source": [
    "# Download data from Kaggle"
   ]
  },
  {
   "cell_type": "code",
   "execution_count": 14,
   "metadata": {
    "colab": {
     "base_uri": "https://localhost:8080/",
     "height": 776
    },
    "colab_type": "code",
    "id": "25f-d07sRQ0M",
    "outputId": "c72aa398-9c2b-4ca7-caef-07221ca703e0"
   },
   "outputs": [
    {
     "name": "stdout",
     "output_type": "stream",
     "text": [
      "Collecting kaggle\n",
      "\u001b[?25l  Downloading https://files.pythonhosted.org/packages/83/9b/ac57e15fbb239c6793c8d0b7dfd1a4c4a025eaa9f791b5388a7afb515aed/kaggle-1.5.0.tar.gz (53kB)\n",
      "\r",
      "\u001b[K    19% |██████▏                         | 10kB 13.4MB/s eta 0:00:01\r",
      "\u001b[K    38% |████████████▎                   | 20kB 2.0MB/s eta 0:00:01\r",
      "\u001b[K    57% |██████████████████▌             | 30kB 2.3MB/s eta 0:00:01\r",
      "\u001b[K    77% |████████████████████████▋       | 40kB 2.1MB/s eta 0:00:01\r",
      "\u001b[K    96% |██████████████████████████████▉ | 51kB 2.5MB/s eta 0:00:01\r",
      "\u001b[K    100% |████████████████████████████████| 61kB 2.7MB/s \n",
      "\u001b[?25hRequirement already satisfied, skipping upgrade: urllib3<1.23.0,>=1.15 in /usr/local/lib/python3.6/dist-packages (from kaggle) (1.22)\n",
      "Requirement already satisfied, skipping upgrade: six>=1.10 in /usr/local/lib/python3.6/dist-packages (from kaggle) (1.11.0)\n",
      "Requirement already satisfied, skipping upgrade: certifi in /usr/local/lib/python3.6/dist-packages (from kaggle) (2018.10.15)\n",
      "Requirement already satisfied, skipping upgrade: python-dateutil in /usr/local/lib/python3.6/dist-packages (from kaggle) (2.5.3)\n",
      "Requirement already satisfied, skipping upgrade: requests in /usr/local/lib/python3.6/dist-packages (from kaggle) (2.18.4)\n",
      "Requirement already satisfied, skipping upgrade: tqdm in /usr/local/lib/python3.6/dist-packages (from kaggle) (4.28.1)\n",
      "Collecting python-slugify (from kaggle)\n",
      "  Downloading https://files.pythonhosted.org/packages/00/ad/c778a6df614b6217c30fe80045b365bfa08b5dd3cb02e8b37a6d25126781/python-slugify-1.2.6.tar.gz\n",
      "Requirement already satisfied, skipping upgrade: idna<2.7,>=2.5 in /usr/local/lib/python3.6/dist-packages (from requests->kaggle) (2.6)\n",
      "Requirement already satisfied, skipping upgrade: chardet<3.1.0,>=3.0.2 in /usr/local/lib/python3.6/dist-packages (from requests->kaggle) (3.0.4)\n",
      "Collecting Unidecode>=0.04.16 (from python-slugify->kaggle)\n",
      "\u001b[?25l  Downloading https://files.pythonhosted.org/packages/59/ef/67085e30e8bbcdd76e2f0a4ad8151c13a2c5bce77c85f8cad6e1f16fb141/Unidecode-1.0.22-py2.py3-none-any.whl (235kB)\n",
      "\r",
      "\u001b[K    4% |█▍                              | 10kB 13.2MB/s eta 0:00:01\r",
      "\u001b[K    8% |██▉                             | 20kB 6.4MB/s eta 0:00:01\r",
      "\u001b[K    13% |████▏                           | 30kB 4.7MB/s eta 0:00:01\r",
      "\u001b[K    17% |█████▋                          | 40kB 3.7MB/s eta 0:00:01\r",
      "\u001b[K    21% |███████                         | 51kB 3.5MB/s eta 0:00:01\r",
      "\u001b[K    26% |████████▍                       | 61kB 4.1MB/s eta 0:00:01\r",
      "\u001b[K    30% |█████████▊                      | 71kB 3.9MB/s eta 0:00:01\r",
      "\u001b[K    34% |███████████▏                    | 81kB 3.7MB/s eta 0:00:01\r",
      "\u001b[K    39% |████████████▌                   | 92kB 4.2MB/s eta 0:00:01\r",
      "\u001b[K    43% |██████████████                  | 102kB 4.1MB/s eta 0:00:01\r",
      "\u001b[K    47% |███████████████▎                | 112kB 4.2MB/s eta 0:00:01\r",
      "\u001b[K    52% |████████████████▊               | 122kB 4.1MB/s eta 0:00:01\r",
      "\u001b[K    56% |██████████████████              | 133kB 4.1MB/s eta 0:00:01\r",
      "\u001b[K    60% |███████████████████▌            | 143kB 4.9MB/s eta 0:00:01\r",
      "\u001b[K    65% |████████████████████▉           | 153kB 5.1MB/s eta 0:00:01\r",
      "\u001b[K    69% |██████████████████████▎         | 163kB 4.5MB/s eta 0:00:01\r",
      "\u001b[K    73% |███████████████████████▋        | 174kB 5.2MB/s eta 0:00:01\r",
      "\u001b[K    78% |█████████████████████████       | 184kB 5.4MB/s eta 0:00:01\r",
      "\u001b[K    82% |██████████████████████████▌     | 194kB 5.4MB/s eta 0:00:01\r",
      "\u001b[K    86% |███████████████████████████▉    | 204kB 5.4MB/s eta 0:00:01\r",
      "\u001b[K    91% |█████████████████████████████▎  | 215kB 4.6MB/s eta 0:00:01\r",
      "\u001b[K    95% |██████████████████████████████▋ | 225kB 5.3MB/s eta 0:00:01\r",
      "\u001b[K    100% |████████████████████████████████| 235kB 5.6MB/s \n",
      "\u001b[?25hBuilding wheels for collected packages: kaggle, python-slugify\n",
      "  Running setup.py bdist_wheel for kaggle ... \u001b[?25l-\b \b\\\b \bdone\n",
      "\u001b[?25h  Stored in directory: /root/.cache/pip/wheels/8b/21/3b/a0076243c6ae12a6215b2da515fe06b539aee7217b406e510e\n",
      "  Running setup.py bdist_wheel for python-slugify ... \u001b[?25l-\b \bdone\n",
      "\u001b[?25h  Stored in directory: /root/.cache/pip/wheels/e3/65/da/2045deea3098ed7471eca0e2460cfbd3fdfe8c1d6fa6fcac92\n",
      "Successfully built kaggle python-slugify\n",
      "Installing collected packages: Unidecode, python-slugify, kaggle\n",
      "Successfully installed Unidecode-1.0.22 kaggle-1.5.0 python-slugify-1.2.6\n"
     ]
    }
   ],
   "source": [
    "# we need to use python 3 version of Kaggle!\n",
    "# remove python 2 version with `pip uninstall kaggle`\n",
    "! pip3 install kaggle --upgrade"
   ]
  },
  {
   "cell_type": "code",
   "execution_count": 9,
   "metadata": {
    "ExecuteTime": {
     "end_time": "2018-11-06T15:29:19.895974Z",
     "start_time": "2018-11-06T15:26:21.334564Z"
    },
    "colab": {
     "base_uri": "https://localhost:8080/",
     "height": 105
    },
    "colab_type": "code",
    "id": "BK3CyGyaRQ0V",
    "outputId": "474a7b29-a20a-45f3-ef78-71eb67e9d98d"
   },
   "outputs": [
    {
     "name": "stdout",
     "output_type": "stream",
     "text": [
      "train_simplified.zip: Skipping, found more recently modified local copy (use --force to force download)\n"
     ]
    }
   ],
   "source": [
    "# get <token> from https://www.kaggle.com/<user>/account, click \"Create New API Token\", open json file\n",
    "! KAGGLE_USERNAME=adtsvetkova KAGGLE_KEY=711dab66e0f54e09951120830972f100 kaggle competitions download -c quickdraw-doodle-recognition -f train_simplified.zip"
   ]
  },
  {
   "cell_type": "code",
   "execution_count": 0,
   "metadata": {
    "ExecuteTime": {
     "end_time": "2018-11-07T16:08:31.048432Z",
     "start_time": "2018-11-07T16:08:31.004128Z"
    },
    "colab": {},
    "colab_type": "code",
    "id": "yrjZpeO4RQ0k"
   },
   "outputs": [],
   "source": [
    "# open zip file, will read everything from it\n",
    "zf = zipfile.ZipFile(\"train_simplified.zip\")"
   ]
  },
  {
   "cell_type": "markdown",
   "metadata": {
    "colab_type": "text",
    "id": "a5RRT_JpRQ0o"
   },
   "source": [
    "# Data generators from disk (no need to store in RAM)"
   ]
  },
  {
   "cell_type": "code",
   "execution_count": 0,
   "metadata": {
    "ExecuteTime": {
     "end_time": "2018-11-07T16:09:00.917240Z",
     "start_time": "2018-11-07T16:09:00.906369Z"
    },
    "colab": {
     "base_uri": "https://localhost:8080/",
     "height": 34
    },
    "colab_type": "code",
    "id": "SgE-ZehpRQ0q",
    "outputId": "7694f4b4-b3cf-4900-acda-28d360d1ef23"
   },
   "outputs": [
    {
     "data": {
      "text/plain": [
       "['fence', 'yoga', 'horse', 'sandwich', 'cat']"
      ]
     },
     "execution_count": 151,
     "metadata": {
      "tags": []
     },
     "output_type": "execute_result"
    }
   ],
   "source": [
    "class_labels = map(lambda x: x.replace(\".csv\", \"\"), zf.namelist())\n",
    "class_labels[:5]"
   ]
  },
  {
   "cell_type": "code",
   "execution_count": 0,
   "metadata": {
    "ExecuteTime": {
     "end_time": "2018-11-07T16:09:01.213496Z",
     "start_time": "2018-11-07T16:09:01.203670Z"
    },
    "colab": {},
    "colab_type": "code",
    "id": "_ay84avwRQ0y"
   },
   "outputs": [],
   "source": [
    "# loop through file eternally\n",
    "def get_eternal_csv_generator(fn, debug=False):\n",
    "    while True:\n",
    "        with zf.open(fn) as f:\n",
    "            f.readline()  # skip header\n",
    "            for line in csv.reader(f, delimiter=',', quotechar='\"'):\n",
    "                yield line[1], line[5]\n",
    "            if debug:\n",
    "                print fn, \"is done, starting from the beginning...\""
   ]
  },
  {
   "cell_type": "code",
   "execution_count": 0,
   "metadata": {
    "ExecuteTime": {
     "end_time": "2018-11-07T16:09:01.651230Z",
     "start_time": "2018-11-07T16:09:01.642356Z"
    },
    "colab": {},
    "colab_type": "code",
    "id": "giOUUXxRRQ03"
   },
   "outputs": [],
   "source": [
    "def raw_batch_generator(batch_size, debug=False):\n",
    "    generators = np.array([get_eternal_csv_generator(fn, debug) for fn in zf.namelist()])\n",
    "    while True:\n",
    "        random_indices = np.random.randint(0, len(generators), size=batch_size)\n",
    "        yield [gen.next() for gen in generators[random_indices]]"
   ]
  },
  {
   "cell_type": "markdown",
   "metadata": {
    "colab_type": "text",
    "id": "F355xsEwRQ07"
   },
   "source": [
    "# Images generator"
   ]
  },
  {
   "cell_type": "code",
   "execution_count": 0,
   "metadata": {
    "ExecuteTime": {
     "end_time": "2018-11-07T16:09:04.267262Z",
     "start_time": "2018-11-07T16:09:04.251004Z"
    },
    "colab": {},
    "colab_type": "code",
    "id": "V4gvfZjyRQ08"
   },
   "outputs": [],
   "source": [
    "# copy-paste from https://www.kaggle.com/jpmiller/image-based-cnn\n",
    "\n",
    "import ast\n",
    "from PIL import Image, ImageDraw\n",
    "\n",
    "IMG_SIZE = 64\n",
    "\n",
    "# faster conversion function\n",
    "def draw_it(strokes):\n",
    "    image = Image.new(\"P\", (256, 256), color=255)\n",
    "    image_draw = ImageDraw.Draw(image)\n",
    "    for stroke in ast.literal_eval(strokes):\n",
    "        for i in range(len(stroke[0])-1):\n",
    "            image_draw.line([stroke[0][i], \n",
    "                             stroke[1][i],\n",
    "                             stroke[0][i+1], \n",
    "                             stroke[1][i+1]],\n",
    "                            fill=0, width=5)\n",
    "    image = image.resize((IMG_SIZE, IMG_SIZE))\n",
    "    return np.array(image, dtype=np.uint8)"
   ]
  },
  {
   "cell_type": "code",
   "execution_count": 0,
   "metadata": {
    "ExecuteTime": {
     "end_time": "2018-11-07T16:09:07.131184Z",
     "start_time": "2018-11-07T16:09:07.120659Z"
    },
    "colab": {},
    "colab_type": "code",
    "id": "GlgBjSS5RQ1A"
   },
   "outputs": [],
   "source": [
    "def images_and_labels_generator(batch_size):\n",
    "    for batch in raw_batch_generator(batch_size):\n",
    "        batch_images = []\n",
    "        batch_labels = []\n",
    "        for e in batch:\n",
    "            batch_images.append(draw_it(e[0]))\n",
    "            batch_labels.append(e[1])\n",
    "        batch_images = np.stack(batch_images, axis=0)\n",
    "        yield batch_images, batch_labels"
   ]
  },
  {
   "cell_type": "code",
   "execution_count": 0,
   "metadata": {
    "ExecuteTime": {
     "end_time": "2018-11-07T16:09:31.235828Z",
     "start_time": "2018-11-07T16:09:31.078072Z"
    },
    "colab": {
     "base_uri": "https://localhost:8080/",
     "height": 280
    },
    "colab_type": "code",
    "id": "hUF8OYnaRQ1D",
    "outputId": "9e8c84b2-66b2-4c6f-8f4e-bfa356d96d0b"
   },
   "outputs": [
    {
     "data": {
      "image/png": "[encoded data removed]",
      "text/plain": [
       "<matplotlib.figure.Figure at 0x7f0fe05c8610>"
      ]
     },
     "metadata": {
      "tags": []
     },
     "output_type": "display_data"
    }
   ],
   "source": [
    "b = images_and_labels_generator(32).next()\n",
    "plt.imshow(b[0][10, :, :])\n",
    "plt.title(b[1][10])\n",
    "plt.show()"
   ]
  },
  {
   "cell_type": "markdown",
   "metadata": {
    "colab_type": "text",
    "id": "9DQguMI22X1d"
   },
   "source": [
    "#Эксперименты с архитектурой CNN\n"
   ]
  },
  {
   "cell_type": "markdown",
   "metadata": {
    "colab_type": "text",
    "id": "fBhJjHELOtE4"
   },
   "source": [
    "# Эксперимент №1"
   ]
  },
  {
   "cell_type": "markdown",
   "metadata": {
    "colab_type": "text",
    "id": "212-oNsoGLZV"
   },
   "source": [
    "Простая CNN c повторяющимися сверточными слоями и батч нормализацией"
   ]
  },
  {
   "cell_type": "code",
   "execution_count": 0,
   "metadata": {
    "colab": {},
    "colab_type": "code",
    "id": "x21pk5duGmXh"
   },
   "outputs": [],
   "source": [
    "def reset_tf_session():\n",
    "    curr_session = tf.get_default_session()\n",
    "    # close current session\n",
    "    if curr_session is not None:\n",
    "        curr_session.close()\n",
    "    # reset graph\n",
    "    K.clear_session()\n",
    "    # create new session\n",
    "    config = tf.ConfigProto()\n",
    "    config.gpu_options.allow_growth = True\n",
    "    s = tf.InteractiveSession(config=config)\n",
    "    K.set_session(s)\n",
    "    return s"
   ]
  },
  {
   "cell_type": "code",
   "execution_count": 141,
   "metadata": {
    "colab": {
     "base_uri": "https://localhost:8080/",
     "height": 102
    },
    "colab_type": "code",
    "id": "NvjU7_nJGmbd",
    "outputId": "65f05684-415c-43f6-b52b-3a80d628c60e"
   },
   "outputs": [
    {
     "data": {
      "text/plain": [
       "[('snowman', 134),\n",
       " ('eyeglasses', 254),\n",
       " ('ceiling fan', 18),\n",
       " ('camel', 90),\n",
       " ('stove', 119)]"
      ]
     },
     "execution_count": 141,
     "metadata": {
      "tags": []
     },
     "output_type": "execute_result"
    }
   ],
   "source": [
    "NUM_CLASSES = len(class_labels)\n",
    "class_to_idx = {c: idx for idx, c in enumerate(class_labels)}\n",
    "class_to_idx.items()[:5]"
   ]
  },
  {
   "cell_type": "code",
   "execution_count": 0,
   "metadata": {
    "colab": {},
    "colab_type": "code",
    "id": "8qjatqrKGmhr"
   },
   "outputs": [],
   "source": [
    "def train_iterator(batch_size):\n",
    "    for batch in images_and_labels_generator(batch_size):\n",
    "        images = batch[0].astype('float32')\n",
    "        images = images/ 255 - 0.5\n",
    "        images = np.expand_dims(images, -1)\n",
    "        labels = keras.utils.to_categorical(map(class_to_idx.get, batch[1]), NUM_CLASSES)\n",
    "        yield images, labels"
   ]
  },
  {
   "cell_type": "code",
   "execution_count": 0,
   "metadata": {
    "colab": {},
    "colab_type": "code",
    "id": "k5YaZdhHGV_W"
   },
   "outputs": [],
   "source": [
    "def make_model():\n",
    "   \n",
    "    model = Sequential()\n",
    "    \n",
    "\n",
    "    model.add(Conv2D(32, (3,3),padding='same', input_shape=(IMG_SIZE, IMG_SIZE, 1)))\n",
    "    model.add(Conv2D(32, (3,3),padding='same'))\n",
    "    model.add(BatchNormalization())\n",
    "    model.add(Activation('elu'))\n",
    "    model.add(MaxPooling2D(pool_size=(2,2), strides=(2,2)))\n",
    "    \n",
    "    \n",
    "    model.add(Conv2D(64, (3,3),padding='same'))\n",
    "    model.add(Conv2D(64, (3,3),padding='same'))\n",
    "    model.add(BatchNormalization())\n",
    "    model.add(Activation('elu'))\n",
    "    model.add(MaxPooling2D(pool_size=(2,2), strides=(2,2)))\n",
    " \n",
    "\n",
    "    model.add(Flatten())\n",
    "\n",
    "    model.add(Dense(256, activation='elu'))\n",
    "\n",
    "    model.add(Dense(64, activation='elu'))\n",
    "    model.add(Dense(NUM_CLASSES, activation=\"softmax\"))\n",
    "    \n",
    "    return model"
   ]
  },
  {
   "cell_type": "code",
   "execution_count": 144,
   "metadata": {
    "colab": {
     "base_uri": "https://localhost:8080/",
     "height": 612
    },
    "colab_type": "code",
    "id": "ulUvjy__GWE8",
    "outputId": "9915198c-8346-4445-90e7-b70d6191eec3"
   },
   "outputs": [
    {
     "name": "stdout",
     "output_type": "stream",
     "text": [
      "_________________________________________________________________\n",
      "Layer (type)                 Output Shape              Param #   \n",
      "=================================================================\n",
      "conv2d_1 (Conv2D)            (None, 128, 128, 32)      320       \n",
      "_________________________________________________________________\n",
      "conv2d_2 (Conv2D)            (None, 128, 128, 32)      9248      \n",
      "_________________________________________________________________\n",
      "batch_normalization_1 (Batch (None, 128, 128, 32)      128       \n",
      "_________________________________________________________________\n",
      "activation_1 (Activation)    (None, 128, 128, 32)      0         \n",
      "_________________________________________________________________\n",
      "max_pooling2d_1 (MaxPooling2 (None, 64, 64, 32)        0         \n",
      "_________________________________________________________________\n",
      "conv2d_3 (Conv2D)            (None, 64, 64, 64)        18496     \n",
      "_________________________________________________________________\n",
      "conv2d_4 (Conv2D)            (None, 64, 64, 64)        36928     \n",
      "_________________________________________________________________\n",
      "batch_normalization_2 (Batch (None, 64, 64, 64)        256       \n",
      "_________________________________________________________________\n",
      "activation_2 (Activation)    (None, 64, 64, 64)        0         \n",
      "_________________________________________________________________\n",
      "max_pooling2d_2 (MaxPooling2 (None, 32, 32, 64)        0         \n",
      "_________________________________________________________________\n",
      "flatten_1 (Flatten)          (None, 65536)             0         \n",
      "_________________________________________________________________\n",
      "dense_1 (Dense)              (None, 256)               16777472  \n",
      "_________________________________________________________________\n",
      "dense_2 (Dense)              (None, 64)                16448     \n",
      "_________________________________________________________________\n",
      "dense_3 (Dense)              (None, 340)               22100     \n",
      "=================================================================\n",
      "Total params: 16,881,396\n",
      "Trainable params: 16,881,204\n",
      "Non-trainable params: 192\n",
      "_________________________________________________________________\n"
     ]
    }
   ],
   "source": [
    "# describe model\n",
    "s = reset_tf_session()  # clear default graph\n",
    "model = make_model()\n",
    "model.summary()"
   ]
  },
  {
   "cell_type": "code",
   "execution_count": 0,
   "metadata": {
    "colab": {},
    "colab_type": "code",
    "id": "SvG-AsjLGWKN"
   },
   "outputs": [],
   "source": [
    "# custom metrics we need\n",
    "from keras.metrics import categorical_accuracy, top_k_categorical_accuracy\n",
    "\n",
    "def top_3_accuracy(y_true, y_pred):\n",
    "    return top_k_categorical_accuracy(y_true, y_pred, k=3)"
   ]
  },
  {
   "cell_type": "code",
   "execution_count": 0,
   "metadata": {
    "colab": {},
    "colab_type": "code",
    "id": "BD94M4lYGWUG"
   },
   "outputs": [],
   "source": [
    "BATCH_SIZE = 128\n",
    "STEPS_PER_EPOCH = 500\n",
    "EPOCHS = 100\n",
    "\n",
    "s = reset_tf_session()  # clear default graph\n",
    "model = make_model()  # define our model\n",
    "\n",
    "# prepare model for fitting (loss, optimizer, etc)\n",
    "model.compile(\n",
    "    loss='categorical_crossentropy',\n",
    "    optimizer=keras.optimizers.adam(clipnorm=5.),  # gradient clipping just in case\n",
    "    metrics=[categorical_accuracy, top_3_accuracy]  # report top 3 accuracy, correlates with MAP@3!\n",
    ")"
   ]
  },
  {
   "cell_type": "code",
   "execution_count": 0,
   "metadata": {
    "colab": {},
    "colab_type": "code",
    "id": "q84rrFLEGWXz"
   },
   "outputs": [],
   "source": [
    "# for saving the model after every epoch\n",
    "from keras.models import save_model\n",
    "\n",
    "class ModelSaveCallback(keras.callbacks.Callback):\n",
    "    def __init__(self, file_name):\n",
    "        super(ModelSaveCallback, self).__init__()\n",
    "        self.file_name = file_name\n",
    "\n",
    "    def on_epoch_end(self, epoch, logs=None):\n",
    "        model_filename = self.file_name.format(epoch)\n",
    "        save_model(self.model, model_filename)\n",
    "        print(\"Model saved in {}\".format(model_filename))"
   ]
  },
  {
   "cell_type": "code",
   "execution_count": 0,
   "metadata": {
    "colab": {},
    "colab_type": "code",
    "id": "26mecmJfJax5"
   },
   "outputs": [],
   "source": [
    "last_finished_epoch = 0"
   ]
  },
  {
   "cell_type": "code",
   "execution_count": 0,
   "metadata": {
    "colab": {
     "base_uri": "https://localhost:8080/",
     "height": 5117
    },
    "colab_type": "code",
    "id": "wxHUa_zEGWR-",
    "outputId": "814d6a09-c367-4d37-f215-981f656ffbe8"
   },
   "outputs": [
    {
     "name": "stdout",
     "output_type": "stream",
     "text": [
      "Epoch 1/100\n",
      "500/500 [==============================] - 62s 124ms/step - loss: 5.0476 - categorical_accuracy: 0.0550 - top_3_accuracy: 0.1199\n",
      "Model saved in model_0\n",
      "Epoch 2/100\n",
      "500/500 [==============================] - 61s 122ms/step - loss: 3.6879 - categorical_accuracy: 0.2133 - top_3_accuracy: 0.3797\n",
      "Model saved in model_1\n",
      "Epoch 3/100\n",
      "500/500 [==============================] - 61s 123ms/step - loss: 3.1920 - categorical_accuracy: 0.2980 - top_3_accuracy: 0.4910\n",
      "Model saved in model_2\n",
      "Epoch 4/100\n",
      "500/500 [==============================] - 62s 123ms/step - loss: 2.9714 - categorical_accuracy: 0.3404 - top_3_accuracy: 0.5365\n",
      "Model saved in model_3\n",
      "Epoch 5/100\n",
      "500/500 [==============================] - 61s 123ms/step - loss: 2.8308 - categorical_accuracy: 0.3640 - top_3_accuracy: 0.5658\n",
      "Model saved in model_4\n",
      "Epoch 6/100\n",
      "500/500 [==============================] - 61s 123ms/step - loss: 2.7345 - categorical_accuracy: 0.3834 - top_3_accuracy: 0.5874\n",
      "Model saved in model_5\n",
      "Epoch 7/100\n",
      "500/500 [==============================] - 61s 123ms/step - loss: 2.6348 - categorical_accuracy: 0.4005 - top_3_accuracy: 0.6075\n",
      "Model saved in model_6\n",
      "Epoch 8/100\n",
      "500/500 [==============================] - 61s 123ms/step - loss: 2.5846 - categorical_accuracy: 0.4127 - top_3_accuracy: 0.6166\n",
      "Model saved in model_7\n",
      "Epoch 9/100\n",
      "500/500 [==============================] - 61s 123ms/step - loss: 2.5244 - categorical_accuracy: 0.4247 - top_3_accuracy: 0.6295\n",
      "Model saved in model_8\n",
      "Epoch 10/100\n",
      "500/500 [==============================] - 62s 123ms/step - loss: 2.4597 - categorical_accuracy: 0.4353 - top_3_accuracy: 0.6430\n",
      "Model saved in model_9\n",
      "Epoch 11/100\n",
      "500/500 [==============================] - 61s 123ms/step - loss: 2.4090 - categorical_accuracy: 0.4463 - top_3_accuracy: 0.6503\n",
      "Model saved in model_10\n",
      "Epoch 12/100\n",
      "500/500 [==============================] - 62s 123ms/step - loss: 2.3821 - categorical_accuracy: 0.4541 - top_3_accuracy: 0.6579\n",
      "Model saved in model_11\n",
      "Epoch 13/100\n",
      "500/500 [==============================] - 61s 123ms/step - loss: 2.3335 - categorical_accuracy: 0.4598 - top_3_accuracy: 0.6685\n",
      "Model saved in model_12\n",
      "Epoch 14/100\n",
      "500/500 [==============================] - 62s 123ms/step - loss: 2.3046 - categorical_accuracy: 0.4694 - top_3_accuracy: 0.6741\n",
      "Model saved in model_13\n",
      "Epoch 15/100\n",
      "500/500 [==============================] - 62s 123ms/step - loss: 2.2736 - categorical_accuracy: 0.4721 - top_3_accuracy: 0.6785\n",
      "Model saved in model_14\n",
      "Epoch 16/100\n",
      "500/500 [==============================] - 61s 122ms/step - loss: 2.2270 - categorical_accuracy: 0.4820 - top_3_accuracy: 0.6873\n",
      "Model saved in model_15\n",
      "Epoch 17/100\n",
      "500/500 [==============================] - 61s 122ms/step - loss: 2.2115 - categorical_accuracy: 0.4867 - top_3_accuracy: 0.6885\n",
      "Model saved in model_16\n",
      "Epoch 18/100\n",
      "500/500 [==============================] - 61s 122ms/step - loss: 2.1874 - categorical_accuracy: 0.4923 - top_3_accuracy: 0.6927\n",
      "Model saved in model_17\n",
      "Epoch 19/100\n",
      "500/500 [==============================] - 61s 122ms/step - loss: 2.1693 - categorical_accuracy: 0.4958 - top_3_accuracy: 0.7000\n",
      "Model saved in model_18\n",
      "Epoch 20/100\n",
      "500/500 [==============================] - 61s 122ms/step - loss: 2.1293 - categorical_accuracy: 0.5030 - top_3_accuracy: 0.7046\n",
      "Model saved in model_19\n",
      "Epoch 21/100\n",
      "500/500 [==============================] - 61s 122ms/step - loss: 2.0999 - categorical_accuracy: 0.5099 - top_3_accuracy: 0.7095\n",
      "Model saved in model_20\n",
      "Epoch 22/100\n",
      "500/500 [==============================] - 61s 122ms/step - loss: 2.1073 - categorical_accuracy: 0.5058 - top_3_accuracy: 0.7085\n",
      "Model saved in model_21\n",
      "Epoch 23/100\n",
      "500/500 [==============================] - 61s 122ms/step - loss: 2.0838 - categorical_accuracy: 0.5146 - top_3_accuracy: 0.7128\n",
      "Model saved in model_22\n",
      "Epoch 24/100\n",
      "500/500 [==============================] - 62s 123ms/step - loss: 2.0626 - categorical_accuracy: 0.5166 - top_3_accuracy: 0.7154\n",
      "Model saved in model_23\n",
      "Epoch 25/100\n",
      "500/500 [==============================] - 61s 122ms/step - loss: 2.0468 - categorical_accuracy: 0.5188 - top_3_accuracy: 0.7207\n",
      "Model saved in model_24\n",
      "Epoch 26/100\n",
      "500/500 [==============================] - 62s 123ms/step - loss: 2.0305 - categorical_accuracy: 0.5218 - top_3_accuracy: 0.7241\n",
      "Model saved in model_25\n",
      "Epoch 27/100\n",
      "500/500 [==============================] - 61s 123ms/step - loss: 2.0315 - categorical_accuracy: 0.5223 - top_3_accuracy: 0.7218\n",
      "Model saved in model_26\n",
      "Epoch 28/100\n",
      "500/500 [==============================] - 62s 123ms/step - loss: 2.0060 - categorical_accuracy: 0.5280 - top_3_accuracy: 0.7296\n",
      "Model saved in model_27\n",
      "Epoch 29/100\n",
      "500/500 [==============================] - 61s 123ms/step - loss: 2.0050 - categorical_accuracy: 0.5290 - top_3_accuracy: 0.7275\n",
      "Model saved in model_28\n",
      "Epoch 30/100\n",
      "500/500 [==============================] - 62s 123ms/step - loss: 1.9943 - categorical_accuracy: 0.5291 - top_3_accuracy: 0.7284\n",
      "Model saved in model_29\n",
      "Epoch 31/100\n",
      "500/500 [==============================] - 61s 123ms/step - loss: 1.9872 - categorical_accuracy: 0.5316 - top_3_accuracy: 0.7329\n",
      "Model saved in model_30\n",
      "Epoch 32/100\n",
      "500/500 [==============================] - 62s 123ms/step - loss: 1.9851 - categorical_accuracy: 0.5319 - top_3_accuracy: 0.7311\n",
      "Model saved in model_31\n",
      "Epoch 33/100\n",
      "500/500 [==============================] - 62s 123ms/step - loss: 1.9761 - categorical_accuracy: 0.5352 - top_3_accuracy: 0.7345\n",
      "Model saved in model_32\n",
      "Epoch 34/100\n",
      "500/500 [==============================] - 62s 123ms/step - loss: 1.9756 - categorical_accuracy: 0.5357 - top_3_accuracy: 0.7330\n",
      "Model saved in model_33\n",
      "Epoch 35/100\n",
      "500/500 [==============================] - 61s 123ms/step - loss: 1.9438 - categorical_accuracy: 0.5425 - top_3_accuracy: 0.7395\n",
      "Model saved in model_34\n",
      "Epoch 36/100\n",
      "500/500 [==============================] - 62s 123ms/step - loss: 1.9541 - categorical_accuracy: 0.5399 - top_3_accuracy: 0.7369\n",
      "Model saved in model_35\n",
      "Epoch 37/100\n",
      "500/500 [==============================] - 62s 125ms/step - loss: 1.9474 - categorical_accuracy: 0.5418 - top_3_accuracy: 0.7391\n",
      "Model saved in model_36\n",
      "Epoch 38/100\n",
      "500/500 [==============================] - 62s 124ms/step - loss: 1.9264 - categorical_accuracy: 0.5456 - top_3_accuracy: 0.7421\n",
      "Model saved in model_37\n",
      "Epoch 39/100\n",
      "500/500 [==============================] - 62s 124ms/step - loss: 1.9234 - categorical_accuracy: 0.5463 - top_3_accuracy: 0.7438\n",
      "Model saved in model_38\n",
      "Epoch 40/100\n",
      "500/500 [==============================] - 62s 124ms/step - loss: 1.9030 - categorical_accuracy: 0.5484 - top_3_accuracy: 0.7453\n",
      "Model saved in model_39\n",
      "Epoch 41/100\n",
      "500/500 [==============================] - 62s 124ms/step - loss: 1.8988 - categorical_accuracy: 0.5493 - top_3_accuracy: 0.7469\n",
      "Model saved in model_40\n",
      "Epoch 42/100\n",
      "500/500 [==============================] - 62s 124ms/step - loss: 1.9018 - categorical_accuracy: 0.5520 - top_3_accuracy: 0.7480\n",
      "Model saved in model_41\n",
      "Epoch 43/100\n",
      "500/500 [==============================] - 62s 125ms/step - loss: 1.8913 - categorical_accuracy: 0.5512 - top_3_accuracy: 0.7479\n",
      "Model saved in model_42\n",
      "Epoch 44/100\n",
      "500/500 [==============================] - 62s 124ms/step - loss: 1.8983 - categorical_accuracy: 0.5493 - top_3_accuracy: 0.7455\n",
      "Model saved in model_43\n",
      "Epoch 45/100\n",
      "500/500 [==============================] - 62s 124ms/step - loss: 1.8928 - categorical_accuracy: 0.5514 - top_3_accuracy: 0.7475\n",
      "Model saved in model_44\n",
      "Epoch 46/100\n",
      "500/500 [==============================] - 62s 123ms/step - loss: 1.8679 - categorical_accuracy: 0.5556 - top_3_accuracy: 0.7523\n",
      "Model saved in model_45\n",
      "Epoch 47/100\n",
      "500/500 [==============================] - 62s 124ms/step - loss: 1.8751 - categorical_accuracy: 0.5566 - top_3_accuracy: 0.7508\n",
      "Model saved in model_46\n",
      "Epoch 48/100\n",
      "500/500 [==============================] - 62s 124ms/step - loss: 1.8660 - categorical_accuracy: 0.5573 - top_3_accuracy: 0.7543\n",
      "Model saved in model_47\n",
      "Epoch 49/100\n",
      "500/500 [==============================] - 62s 125ms/step - loss: 1.8498 - categorical_accuracy: 0.5613 - top_3_accuracy: 0.7557\n",
      "Model saved in model_48\n",
      "Epoch 50/100\n",
      "500/500 [==============================] - 62s 124ms/step - loss: 1.8515 - categorical_accuracy: 0.5612 - top_3_accuracy: 0.7556\n",
      "Model saved in model_49\n",
      "Epoch 51/100\n",
      "500/500 [==============================] - 62s 123ms/step - loss: 1.8564 - categorical_accuracy: 0.5587 - top_3_accuracy: 0.7538\n",
      "Model saved in model_50\n",
      "Epoch 52/100\n",
      "500/500 [==============================] - 62s 123ms/step - loss: 1.8536 - categorical_accuracy: 0.5618 - top_3_accuracy: 0.7561\n",
      "Model saved in model_51\n",
      "Epoch 53/100\n",
      "500/500 [==============================] - 61s 123ms/step - loss: 1.8522 - categorical_accuracy: 0.5585 - top_3_accuracy: 0.7548\n",
      "Model saved in model_52\n",
      "Epoch 54/100\n",
      "500/500 [==============================] - 62s 123ms/step - loss: 1.8401 - categorical_accuracy: 0.5658 - top_3_accuracy: 0.7581\n",
      "Model saved in model_53\n",
      "Epoch 55/100\n",
      "500/500 [==============================] - 61s 123ms/step - loss: 1.8324 - categorical_accuracy: 0.5655 - top_3_accuracy: 0.7601\n",
      "Model saved in model_54\n",
      "Epoch 56/100\n",
      "500/500 [==============================] - 66s 132ms/step - loss: 1.8260 - categorical_accuracy: 0.5666 - top_3_accuracy: 0.7598\n",
      "Model saved in model_55\n",
      "Epoch 57/100\n",
      "500/500 [==============================] - 62s 124ms/step - loss: 1.8267 - categorical_accuracy: 0.5696 - top_3_accuracy: 0.7611\n",
      "Model saved in model_56\n",
      "Epoch 58/100\n",
      "500/500 [==============================] - 61s 123ms/step - loss: 1.8243 - categorical_accuracy: 0.5693 - top_3_accuracy: 0.7619\n",
      "Model saved in model_57\n",
      "Epoch 59/100\n",
      "500/500 [==============================] - 61s 122ms/step - loss: 1.8346 - categorical_accuracy: 0.5649 - top_3_accuracy: 0.7588\n",
      "Model saved in model_58\n",
      "Epoch 60/100\n",
      "500/500 [==============================] - 62s 123ms/step - loss: 1.8194 - categorical_accuracy: 0.5665 - top_3_accuracy: 0.7605\n",
      "Model saved in model_59\n",
      "Epoch 61/100\n",
      "500/500 [==============================] - 61s 122ms/step - loss: 1.8211 - categorical_accuracy: 0.5714 - top_3_accuracy: 0.7607\n",
      "Model saved in model_60\n",
      "Epoch 62/100\n",
      "500/500 [==============================] - 60s 120ms/step - loss: 1.8208 - categorical_accuracy: 0.5712 - top_3_accuracy: 0.7595\n",
      "Model saved in model_61\n",
      "Epoch 63/100\n",
      "500/500 [==============================] - 60s 120ms/step - loss: 1.7993 - categorical_accuracy: 0.5718 - top_3_accuracy: 0.7638\n",
      "Model saved in model_62\n",
      "Epoch 64/100\n",
      "500/500 [==============================] - 60s 120ms/step - loss: 1.7997 - categorical_accuracy: 0.5709 - top_3_accuracy: 0.7653\n",
      "Model saved in model_63\n",
      "Epoch 65/100\n",
      "500/500 [==============================] - 60s 120ms/step - loss: 1.7946 - categorical_accuracy: 0.5753 - top_3_accuracy: 0.7668\n",
      "Model saved in model_64\n",
      "Epoch 66/100\n",
      "500/500 [==============================] - 68s 136ms/step - loss: 1.7712 - categorical_accuracy: 0.5778 - top_3_accuracy: 0.7691\n",
      "Model saved in model_65\n",
      "Epoch 67/100\n",
      "500/500 [==============================] - 61s 122ms/step - loss: 1.7749 - categorical_accuracy: 0.5770 - top_3_accuracy: 0.7697\n",
      "Model saved in model_66\n",
      "Epoch 68/100\n",
      "500/500 [==============================] - 61s 122ms/step - loss: 1.7777 - categorical_accuracy: 0.5782 - top_3_accuracy: 0.7689\n",
      "Model saved in model_67\n",
      "Epoch 69/100\n",
      "500/500 [==============================] - 61s 122ms/step - loss: 1.7947 - categorical_accuracy: 0.5750 - top_3_accuracy: 0.7661\n",
      "Model saved in model_68\n",
      "Epoch 70/100\n",
      "500/500 [==============================] - 61s 122ms/step - loss: 1.7855 - categorical_accuracy: 0.5756 - top_3_accuracy: 0.7657\n",
      "Model saved in model_69\n",
      "Epoch 71/100\n",
      "500/500 [==============================] - 61s 122ms/step - loss: 1.7864 - categorical_accuracy: 0.5771 - top_3_accuracy: 0.7672\n",
      "Model saved in model_70\n",
      "Epoch 72/100\n",
      "500/500 [==============================] - 61s 121ms/step - loss: 1.7724 - categorical_accuracy: 0.5764 - top_3_accuracy: 0.7686\n",
      "Model saved in model_71\n",
      "Epoch 73/100\n",
      "500/500 [==============================] - 60s 121ms/step - loss: 1.7671 - categorical_accuracy: 0.5778 - top_3_accuracy: 0.7717\n",
      "Model saved in model_72\n",
      "Epoch 74/100\n",
      "500/500 [==============================] - 61s 122ms/step - loss: 1.7713 - categorical_accuracy: 0.5790 - top_3_accuracy: 0.7694\n",
      "Model saved in model_73\n",
      "Epoch 75/100\n",
      "500/500 [==============================] - 61s 121ms/step - loss: 1.7632 - categorical_accuracy: 0.5812 - top_3_accuracy: 0.7725\n",
      "Model saved in model_74\n",
      "Epoch 76/100\n",
      "500/500 [==============================] - 61s 121ms/step - loss: 1.7581 - categorical_accuracy: 0.5797 - top_3_accuracy: 0.7698\n",
      "Model saved in model_75\n",
      "Epoch 77/100\n",
      "500/500 [==============================] - 61s 121ms/step - loss: 1.7418 - categorical_accuracy: 0.5856 - top_3_accuracy: 0.7744\n",
      "Model saved in model_76\n",
      "Epoch 78/100\n",
      "500/500 [==============================] - 61s 122ms/step - loss: 1.7571 - categorical_accuracy: 0.5822 - top_3_accuracy: 0.7730\n",
      "Model saved in model_77\n",
      "Epoch 79/100\n",
      "500/500 [==============================] - 60s 121ms/step - loss: 1.7607 - categorical_accuracy: 0.5802 - top_3_accuracy: 0.7723\n",
      "Model saved in model_78\n",
      "Epoch 80/100\n",
      "500/500 [==============================] - 61s 122ms/step - loss: 1.7467 - categorical_accuracy: 0.5852 - top_3_accuracy: 0.7734\n",
      "Model saved in model_79\n",
      "Epoch 81/100\n",
      "500/500 [==============================] - 61s 122ms/step - loss: 1.7475 - categorical_accuracy: 0.5817 - top_3_accuracy: 0.7724\n",
      "Model saved in model_80\n",
      "Epoch 82/100\n",
      "500/500 [==============================] - 61s 122ms/step - loss: 1.7460 - categorical_accuracy: 0.5847 - top_3_accuracy: 0.7739\n",
      "Model saved in model_81\n",
      "Epoch 83/100\n",
      "500/500 [==============================] - 61s 122ms/step - loss: 1.7467 - categorical_accuracy: 0.5836 - top_3_accuracy: 0.7746\n",
      "Model saved in model_82\n",
      "Epoch 84/100\n",
      "500/500 [==============================] - 68s 135ms/step - loss: 1.7501 - categorical_accuracy: 0.5802 - top_3_accuracy: 0.7729\n",
      "Model saved in model_83\n",
      "Epoch 85/100\n",
      "500/500 [==============================] - 62s 123ms/step - loss: 1.7248 - categorical_accuracy: 0.5897 - top_3_accuracy: 0.7775\n",
      "Model saved in model_84\n",
      "Epoch 86/100\n",
      "500/500 [==============================] - 62s 124ms/step - loss: 1.7340 - categorical_accuracy: 0.5869 - top_3_accuracy: 0.7770\n",
      "Model saved in model_85\n",
      "Epoch 87/100\n",
      "500/500 [==============================] - 62s 124ms/step - loss: 1.7262 - categorical_accuracy: 0.5877 - top_3_accuracy: 0.7791\n",
      "Model saved in model_86\n",
      "Epoch 88/100\n",
      "500/500 [==============================] - 62s 124ms/step - loss: 1.7386 - categorical_accuracy: 0.5873 - top_3_accuracy: 0.7748\n",
      "Model saved in model_87\n",
      "Epoch 89/100\n",
      "500/500 [==============================] - 62s 124ms/step - loss: 1.7292 - categorical_accuracy: 0.5879 - top_3_accuracy: 0.7770\n",
      "Model saved in model_88\n",
      "Epoch 90/100\n",
      "500/500 [==============================] - 61s 123ms/step - loss: 1.7199 - categorical_accuracy: 0.5893 - top_3_accuracy: 0.7792\n",
      "Model saved in model_89\n",
      "Epoch 91/100\n",
      "500/500 [==============================] - 61s 122ms/step - loss: 1.7146 - categorical_accuracy: 0.5915 - top_3_accuracy: 0.7778\n",
      "Model saved in model_90\n",
      "Epoch 92/100\n",
      "500/500 [==============================] - 61s 122ms/step - loss: 1.7151 - categorical_accuracy: 0.5882 - top_3_accuracy: 0.7778\n",
      "Model saved in model_91\n",
      "Epoch 93/100\n",
      "500/500 [==============================] - 69s 137ms/step - loss: 1.7178 - categorical_accuracy: 0.5885 - top_3_accuracy: 0.7793\n",
      "Model saved in model_92\n",
      "Epoch 94/100\n",
      "500/500 [==============================] - 62s 123ms/step - loss: 1.7154 - categorical_accuracy: 0.5917 - top_3_accuracy: 0.7809\n",
      "Model saved in model_93\n",
      "Epoch 95/100\n",
      "500/500 [==============================] - 62s 124ms/step - loss: 1.7182 - categorical_accuracy: 0.5927 - top_3_accuracy: 0.7773\n",
      "Model saved in model_94\n",
      "Epoch 96/100\n",
      "500/500 [==============================] - 62s 123ms/step - loss: 1.7077 - categorical_accuracy: 0.5903 - top_3_accuracy: 0.7796\n",
      "Model saved in model_95\n",
      "Epoch 97/100\n",
      "500/500 [==============================] - 61s 123ms/step - loss: 1.7212 - categorical_accuracy: 0.5877 - top_3_accuracy: 0.7778\n",
      "Model saved in model_96\n",
      "Epoch 98/100\n",
      "500/500 [==============================] - 61s 123ms/step - loss: 1.6947 - categorical_accuracy: 0.5945 - top_3_accuracy: 0.7836\n",
      "Model saved in model_97\n",
      "Epoch 99/100\n",
      "500/500 [==============================] - 61s 122ms/step - loss: 1.7165 - categorical_accuracy: 0.5915 - top_3_accuracy: 0.7789\n",
      "Model saved in model_98\n",
      "Epoch 100/100\n",
      "500/500 [==============================] - 61s 122ms/step - loss: 1.7158 - categorical_accuracy: 0.5914 - top_3_accuracy: 0.7778\n",
      "Model saved in model_99\n"
     ]
    }
   ],
   "source": [
    "CNN_batchnorm = model.fit_generator(\n",
    "    train_iterator(BATCH_SIZE), \n",
    "    steps_per_epoch=STEPS_PER_EPOCH,\n",
    "    epochs=EPOCHS,\n",
    "    callbacks=[ModelSaveCallback(\"model_{}\")],\n",
    "    verbose=1,\n",
    "    initial_epoch=last_finished_epoch\n",
    ")"
   ]
  },
  {
   "cell_type": "markdown",
   "metadata": {
    "colab_type": "text",
    "id": "30mseBzB1ux9"
   },
   "source": [
    "**Вывод:** При проверке на тестовых данных на kaggle показывает низкий score (0.399), значит модель переобучается. Поэтому на следующем этапе добавлю больше слоев свертки для увеличения количества фильтров, добавлю DropOut после каждого слоя,  использую меньший размер батча, добавляю функцию EarlyStopping, использую большее количество параметров\n",
    "\n"
   ]
  },
  {
   "cell_type": "markdown",
   "metadata": {
    "colab_type": "text",
    "id": "DRdLCJsHupj0"
   },
   "source": [
    "#Эксперимент №2"
   ]
  },
  {
   "cell_type": "code",
   "execution_count": 0,
   "metadata": {
    "colab": {
     "base_uri": "https://localhost:8080/",
     "height": 34
    },
    "colab_type": "code",
    "id": "NhpvGjRk93Gp",
    "outputId": "cb99a649-13b8-49b7-e088-37a9263261d2"
   },
   "outputs": [
    {
     "data": {
      "text/plain": [
       "['fence', 'yoga', 'horse', 'sandwich', 'cat']"
      ]
     },
     "execution_count": 65,
     "metadata": {
      "tags": []
     },
     "output_type": "execute_result"
    }
   ],
   "source": [
    "class_labels = map(lambda x: x.replace(\".csv\", \"\"), zf.namelist())\n",
    "class_labels[:5]"
   ]
  },
  {
   "cell_type": "code",
   "execution_count": 0,
   "metadata": {
    "colab": {},
    "colab_type": "code",
    "id": "LlPocX4X9z2h"
   },
   "outputs": [],
   "source": [
    "# loop through file eternally\n",
    "def get_eternal_csv_generator(fn, debug=False):\n",
    "    while True:\n",
    "        with zf.open(fn) as f:\n",
    "            f.readline()  # skip header\n",
    "            for line in csv.reader(f, delimiter=',', quotechar='\"'):\n",
    "                yield line[1], line[5]\n",
    "            if debug:\n",
    "                print fn, \"is done, starting from the beginning...\""
   ]
  },
  {
   "cell_type": "code",
   "execution_count": 0,
   "metadata": {
    "colab": {},
    "colab_type": "code",
    "id": "O4qf56na9zKn"
   },
   "outputs": [],
   "source": [
    "def raw_batch_generator(batch_size, debug=False):\n",
    "    generators = np.array([get_eternal_csv_generator(fn, debug) for fn in zf.namelist()])\n",
    "    while True:\n",
    "        random_indices = np.random.randint(0, len(generators), size=batch_size)\n",
    "        yield [gen.next() for gen in generators[random_indices]]"
   ]
  },
  {
   "cell_type": "code",
   "execution_count": 0,
   "metadata": {
    "colab": {},
    "colab_type": "code",
    "id": "5l5CdZEjGWNy"
   },
   "outputs": [],
   "source": [
    "# copy-paste from https://www.kaggle.com/jpmiller/image-based-cnn\n",
    "\n",
    "import ast\n",
    "from PIL import Image, ImageDraw\n",
    "import cv2\n",
    "\n",
    "IMG_SIZE = 128\n",
    "\n",
    "# faster conversion function\n",
    "def draw_it(strokes):\n",
    "    img = 255 * np.ones((256, 256), np.uint8)\n",
    "    for stroke in ast.literal_eval(strokes):\n",
    "        for i in range(len(stroke[0]) - 1):\n",
    "            _ = cv2.line(img, (stroke[0][i], stroke[1][i]), (stroke[0][i + 1], stroke[1][i + 1]), 0, 3)\n",
    "    return cv2.resize(img, (IMG_SIZE, IMG_SIZE))"
   ]
  },
  {
   "cell_type": "code",
   "execution_count": 0,
   "metadata": {
    "colab": {},
    "colab_type": "code",
    "id": "_cASlu_S9lQX"
   },
   "outputs": [],
   "source": [
    "def images_and_labels_generator(batch_size):\n",
    "    for batch in raw_batch_generator(batch_size):\n",
    "        batch_images = []\n",
    "        batch_labels = []\n",
    "        for e in batch:\n",
    "            batch_images.append(draw_it(e[0]))\n",
    "            batch_labels.append(e[1])\n",
    "        batch_images = np.stack(batch_images, axis=0)\n",
    "        yield batch_images, batch_labels"
   ]
  },
  {
   "cell_type": "code",
   "execution_count": 0,
   "metadata": {
    "colab": {
     "base_uri": "https://localhost:8080/",
     "height": 280
    },
    "colab_type": "code",
    "id": "VM68bWDS9o0g",
    "outputId": "e9e7d2fc-1167-4e31-d681-53b0602d655e"
   },
   "outputs": [
    {
     "data": {
      "image/png": "[encoded data removed]",
      "text/plain": [
       "<matplotlib.figure.Figure at 0x7f7d48edef90>"
      ]
     },
     "metadata": {
      "tags": []
     },
     "output_type": "display_data"
    }
   ],
   "source": [
    "b = images_and_labels_generator(32).next()\n",
    "plt.imshow(b[0][10, :, :])\n",
    "plt.title(b[1][10])\n",
    "plt.show()"
   ]
  },
  {
   "cell_type": "code",
   "execution_count": 0,
   "metadata": {
    "colab": {},
    "colab_type": "code",
    "id": "NxsEdugT-8Vw"
   },
   "outputs": [],
   "source": [
    "# reset graph when you change architecture!\n",
    "def reset_tf_session():\n",
    "    curr_session = tf.get_default_session()\n",
    "    # close current session\n",
    "    if curr_session is not None:\n",
    "        curr_session.close()\n",
    "    # reset graph\n",
    "    K.clear_session()\n",
    "    # create new session\n",
    "    config = tf.ConfigProto()\n",
    "    config.gpu_options.allow_growth = True\n",
    "    s = tf.InteractiveSession(config=config)\n",
    "    K.set_session(s)\n",
    "    return s"
   ]
  },
  {
   "cell_type": "code",
   "execution_count": 0,
   "metadata": {
    "colab": {
     "base_uri": "https://localhost:8080/",
     "height": 102
    },
    "colab_type": "code",
    "id": "BH1sSg6R-QmL",
    "outputId": "8567adf1-1a21-4618-8e95-f83d87d18837"
   },
   "outputs": [
    {
     "data": {
      "text/plain": [
       "[('snowman', 134),\n",
       " ('eyeglasses', 254),\n",
       " ('ceiling fan', 18),\n",
       " ('camel', 90),\n",
       " ('stove', 119)]"
      ]
     },
     "execution_count": 171,
     "metadata": {
      "tags": []
     },
     "output_type": "execute_result"
    }
   ],
   "source": [
    "NUM_CLASSES = len(class_labels)\n",
    "class_to_idx = {c: idx for idx, c in enumerate(class_labels)}\n",
    "class_to_idx.items()[:5]"
   ]
  },
  {
   "cell_type": "code",
   "execution_count": 0,
   "metadata": {
    "colab": {},
    "colab_type": "code",
    "id": "lL-jNrRG_DIP"
   },
   "outputs": [],
   "source": [
    "def train_iterator(batch_size):\n",
    "    for batch in images_and_labels_generator(batch_size):\n",
    "        images = batch[0].astype('float32')\n",
    "        images = images/ 255 - 0.5\n",
    "        images = np.expand_dims(images, -1)\n",
    "        labels = keras.utils.to_categorical(map(class_to_idx.get, batch[1]), NUM_CLASSES)\n",
    "        yield images, labels"
   ]
  },
  {
   "cell_type": "code",
   "execution_count": 0,
   "metadata": {
    "colab": {
     "base_uri": "https://localhost:8080/",
     "height": 51
    },
    "colab_type": "code",
    "id": "oLsB91A6_DQd",
    "outputId": "e781e31d-8fca-4eae-b3ba-72ee273be684"
   },
   "outputs": [
    {
     "name": "stdout",
     "output_type": "stream",
     "text": [
      "(32, 128, 128, 1)\n",
      "(32, 340)\n"
     ]
    }
   ],
   "source": [
    "sample = train_iterator(32).next()\n",
    "print sample[0].shape\n",
    "print sample[1].shape"
   ]
  },
  {
   "cell_type": "code",
   "execution_count": 0,
   "metadata": {
    "colab": {},
    "colab_type": "code",
    "id": "1L7JF4jr_DXh"
   },
   "outputs": [],
   "source": [
    "def make_model():\n",
    "    \"\"\"\n",
    "    Define your model architecture here.\n",
    "    Returns `Sequential` model.\n",
    "    \"\"\"\n",
    "    model = Sequential()\n",
    "    \n",
    "    \n",
    "    model.add(Conv2D(128, (3,3),padding='same', input_shape=(IMG_SIZE, IMG_SIZE, 1)))\n",
    "    model.add(BatchNormalization())\n",
    "    model.add(LeakyReLU(0.1))\n",
    "    model.add(MaxPooling2D(pool_size=(2,2), strides=(2,2)))\n",
    "    model.add(Dropout(0.25))\n",
    "    \n",
    "    \n",
    "    model.add(Conv2D(64, (3,3),padding='same'))\n",
    "    model.add(BatchNormalization())\n",
    "    model.add(LeakyReLU(0.1))\n",
    "    model.add(MaxPooling2D(pool_size=(2,2), strides=(2,2)))\n",
    "    model.add(Dropout(0.25))\n",
    "\n",
    "    model.add(Flatten())\n",
    "\n",
    "    model.add(Dense(256))\n",
    "    model.add(BatchNormalization())\n",
    "    model.add(LeakyReLU(0.1))\n",
    "    model.add(Dropout(0.25))\n",
    "\n",
    "    model.add(Dense(NUM_CLASSES, activation=\"softmax\"))\n",
    "    \n",
    "    \n",
    "    return model"
   ]
  },
  {
   "cell_type": "code",
   "execution_count": 0,
   "metadata": {
    "colab": {
     "base_uri": "https://localhost:8080/",
     "height": 680
    },
    "colab_type": "code",
    "id": "pfXPgqKUECB7",
    "outputId": "7afdc01c-39a0-4e4e-944a-3e2c1b4d39a7"
   },
   "outputs": [
    {
     "name": "stdout",
     "output_type": "stream",
     "text": [
      "_________________________________________________________________\n",
      "Layer (type)                 Output Shape              Param #   \n",
      "=================================================================\n",
      "conv2d_1 (Conv2D)            (None, 128, 128, 128)     1280      \n",
      "_________________________________________________________________\n",
      "batch_normalization_1 (Batch (None, 128, 128, 128)     512       \n",
      "_________________________________________________________________\n",
      "leaky_re_lu_1 (LeakyReLU)    (None, 128, 128, 128)     0         \n",
      "_________________________________________________________________\n",
      "max_pooling2d_1 (MaxPooling2 (None, 64, 64, 128)       0         \n",
      "_________________________________________________________________\n",
      "dropout_1 (Dropout)          (None, 64, 64, 128)       0         \n",
      "_________________________________________________________________\n",
      "conv2d_2 (Conv2D)            (None, 64, 64, 64)        73792     \n",
      "_________________________________________________________________\n",
      "batch_normalization_2 (Batch (None, 64, 64, 64)        256       \n",
      "_________________________________________________________________\n",
      "leaky_re_lu_2 (LeakyReLU)    (None, 64, 64, 64)        0         \n",
      "_________________________________________________________________\n",
      "max_pooling2d_2 (MaxPooling2 (None, 32, 32, 64)        0         \n",
      "_________________________________________________________________\n",
      "dropout_2 (Dropout)          (None, 32, 32, 64)        0         \n",
      "_________________________________________________________________\n",
      "flatten_1 (Flatten)          (None, 65536)             0         \n",
      "_________________________________________________________________\n",
      "dense_1 (Dense)              (None, 256)               16777472  \n",
      "_________________________________________________________________\n",
      "batch_normalization_3 (Batch (None, 256)               1024      \n",
      "_________________________________________________________________\n",
      "leaky_re_lu_3 (LeakyReLU)    (None, 256)               0         \n",
      "_________________________________________________________________\n",
      "dropout_3 (Dropout)          (None, 256)               0         \n",
      "_________________________________________________________________\n",
      "dense_2 (Dense)              (None, 340)               87380     \n",
      "=================================================================\n",
      "Total params: 16,941,716\n",
      "Trainable params: 16,940,820\n",
      "Non-trainable params: 896\n",
      "_________________________________________________________________\n"
     ]
    }
   ],
   "source": [
    "# describe model\n",
    "s = reset_tf_session()  # clear default graph\n",
    "model = make_model()\n",
    "model.summary()"
   ]
  },
  {
   "cell_type": "code",
   "execution_count": 0,
   "metadata": {
    "colab": {},
    "colab_type": "code",
    "id": "gIOD41Q7_DUH"
   },
   "outputs": [],
   "source": [
    "# custom metrics we need\n",
    "from keras.metrics import categorical_accuracy, top_k_categorical_accuracy\n",
    "\n",
    "def top_3_accuracy(y_true, y_pred):\n",
    "    return top_k_categorical_accuracy(y_true, y_pred, k=3)"
   ]
  },
  {
   "cell_type": "code",
   "execution_count": 0,
   "metadata": {
    "colab": {},
    "colab_type": "code",
    "id": "yBT1oMisBmZN"
   },
   "outputs": [],
   "source": [
    "BATCH_SIZE = 64\n",
    "STEPS_PER_EPOCH = 100\n",
    "EPOCHS = 250 \n",
    "\n",
    "s = reset_tf_session()  # clear default graph\n",
    "model = make_model()  # define our model\n",
    "\n",
    "# prepare model for fitting (loss, optimizer, etc)\n",
    "model.compile(\n",
    "    loss='categorical_crossentropy',\n",
    "    optimizer=keras.optimizers.adam(clipnorm=5.),  # gradient clipping just in case\n",
    "    metrics=[categorical_accuracy, top_3_accuracy]  # report top 3 accuracy, correlates with MAP@3!\n",
    ")"
   ]
  },
  {
   "cell_type": "code",
   "execution_count": 0,
   "metadata": {
    "colab": {},
    "colab_type": "code",
    "id": "4ZAQiHNXJUNV"
   },
   "outputs": [],
   "source": [
    "from tensorflow.keras.callbacks import EarlyStopping, ReduceLROnPlateau, ModelCheckpoint\n",
    "callbacks = [\n",
    "    EarlyStopping(monitor='top_3_accuracy', patience=15, min_delta=0.001, mode='max'),\n",
    "    ReduceLROnPlateau(monitor='top_3_accuracy', factor=0.5, patience=5, min_delta=0.005, mode='max', cooldown=3),\n",
    "    ModelCheckpoint(\"./CNN_2_dropout.model\",monitor='top_3_accuracy', mode = 'max', save_best_only=True, verbose=1)\n",
    "]"
   ]
  },
  {
   "cell_type": "code",
   "execution_count": 0,
   "metadata": {
    "colab": {},
    "colab_type": "code",
    "id": "6Cr5e3QCBmjg"
   },
   "outputs": [],
   "source": [
    "last_finished_epoch = 0\n",
    "\n",
    "# you can continue from snapshot!!!\n",
    "# from keras.models import load_model\n",
    "# s = reset_tf_session()\n",
    "# last_finished_epoch = 2\n",
    "# model = load_model(\"model_{}\".format(last_finished_epoch), \n",
    "#                    custom_objects={\"top_3_accuracy\": top_3_accuracy})"
   ]
  },
  {
   "cell_type": "code",
   "execution_count": 0,
   "metadata": {
    "colab": {
     "base_uri": "https://localhost:8080/",
     "height": 7837
    },
    "colab_type": "code",
    "id": "503kCL2n_DL_",
    "outputId": "66a5374b-5d54-40c0-a90b-67eab3b848e6"
   },
   "outputs": [
    {
     "name": "stdout",
     "output_type": "stream",
     "text": [
      "Epoch 1/250\n",
      "100/100 [==============================] - 43s 427ms/step - loss: 5.4995 - categorical_accuracy: 0.0356 - top_3_accuracy: 0.0730\n",
      "\n",
      "Epoch 00001: top_3_accuracy improved from -inf to 0.07297, saving model to ./CNN_2_dropout.model\n",
      "Epoch 2/250\n",
      "100/100 [==============================] - 41s 411ms/step - loss: 4.8949 - categorical_accuracy: 0.0789 - top_3_accuracy: 0.1592\n",
      "\n",
      "Epoch 00002: top_3_accuracy improved from 0.07297 to 0.15922, saving model to ./CNN_2_dropout.model\n",
      "Epoch 3/250\n",
      "100/100 [==============================] - 41s 410ms/step - loss: 4.5455 - categorical_accuracy: 0.1147 - top_3_accuracy: 0.2284\n",
      "\n",
      "Epoch 00003: top_3_accuracy improved from 0.15922 to 0.22844, saving model to ./CNN_2_dropout.model\n",
      "Epoch 4/250\n",
      "100/100 [==============================] - 41s 410ms/step - loss: 4.2365 - categorical_accuracy: 0.1622 - top_3_accuracy: 0.2992\n",
      "\n",
      "Epoch 00004: top_3_accuracy improved from 0.22844 to 0.29922, saving model to ./CNN_2_dropout.model\n",
      "Epoch 5/250\n",
      "100/100 [==============================] - 41s 410ms/step - loss: 4.0176 - categorical_accuracy: 0.1920 - top_3_accuracy: 0.3361\n",
      "\n",
      "Epoch 00005: top_3_accuracy improved from 0.29922 to 0.33609, saving model to ./CNN_2_dropout.model\n",
      "Epoch 6/250\n",
      "100/100 [==============================] - 41s 411ms/step - loss: 3.8742 - categorical_accuracy: 0.2089 - top_3_accuracy: 0.3678\n",
      "\n",
      "Epoch 00006: top_3_accuracy improved from 0.33609 to 0.36781, saving model to ./CNN_2_dropout.model\n",
      "Epoch 7/250\n",
      "100/100 [==============================] - 41s 410ms/step - loss: 3.6848 - categorical_accuracy: 0.2392 - top_3_accuracy: 0.4056\n",
      "\n",
      "Epoch 00007: top_3_accuracy improved from 0.36781 to 0.40563, saving model to ./CNN_2_dropout.model\n",
      "Epoch 8/250\n",
      "100/100 [==============================] - 41s 410ms/step - loss: 3.6051 - categorical_accuracy: 0.2514 - top_3_accuracy: 0.4222\n",
      "\n",
      "Epoch 00008: top_3_accuracy improved from 0.40563 to 0.42219, saving model to ./CNN_2_dropout.model\n",
      "Epoch 9/250\n",
      "100/100 [==============================] - 41s 411ms/step - loss: 3.4900 - categorical_accuracy: 0.2670 - top_3_accuracy: 0.4400\n",
      "\n",
      "Epoch 00009: top_3_accuracy improved from 0.42219 to 0.44000, saving model to ./CNN_2_dropout.model\n",
      "Epoch 10/250\n",
      "100/100 [==============================] - 41s 411ms/step - loss: 3.5043 - categorical_accuracy: 0.2697 - top_3_accuracy: 0.4427\n",
      "\n",
      "Epoch 00010: top_3_accuracy improved from 0.44000 to 0.44266, saving model to ./CNN_2_dropout.model\n",
      "Epoch 11/250\n",
      "100/100 [==============================] - 41s 410ms/step - loss: 3.4602 - categorical_accuracy: 0.2730 - top_3_accuracy: 0.4469\n",
      "\n",
      "Epoch 00011: top_3_accuracy improved from 0.44266 to 0.44688, saving model to ./CNN_2_dropout.model\n",
      "Epoch 12/250\n",
      "100/100 [==============================] - 41s 410ms/step - loss: 3.3513 - categorical_accuracy: 0.2880 - top_3_accuracy: 0.4700\n",
      "\n",
      "Epoch 00012: top_3_accuracy improved from 0.44688 to 0.47000, saving model to ./CNN_2_dropout.model\n",
      "Epoch 13/250\n",
      "100/100 [==============================] - 41s 410ms/step - loss: 3.3637 - categorical_accuracy: 0.2827 - top_3_accuracy: 0.4573\n",
      "\n",
      "Epoch 00013: top_3_accuracy did not improve from 0.47000\n",
      "Epoch 14/250\n",
      "100/100 [==============================] - 41s 410ms/step - loss: 3.2368 - categorical_accuracy: 0.2989 - top_3_accuracy: 0.4869\n",
      "\n",
      "Epoch 00014: top_3_accuracy improved from 0.47000 to 0.48688, saving model to ./CNN_2_dropout.model\n",
      "Epoch 15/250\n",
      "100/100 [==============================] - 41s 409ms/step - loss: 3.2705 - categorical_accuracy: 0.2925 - top_3_accuracy: 0.4803\n",
      "\n",
      "Epoch 00015: top_3_accuracy did not improve from 0.48688\n",
      "Epoch 16/250\n",
      "100/100 [==============================] - 41s 410ms/step - loss: 3.2082 - categorical_accuracy: 0.3075 - top_3_accuracy: 0.4948\n",
      "\n",
      "Epoch 00016: top_3_accuracy improved from 0.48688 to 0.49484, saving model to ./CNN_2_dropout.model\n",
      "Epoch 17/250\n",
      "100/100 [==============================] - 41s 411ms/step - loss: 3.1529 - categorical_accuracy: 0.3252 - top_3_accuracy: 0.5022\n",
      "\n",
      "Epoch 00017: top_3_accuracy improved from 0.49484 to 0.50219, saving model to ./CNN_2_dropout.model\n",
      "Epoch 18/250\n",
      "100/100 [==============================] - 41s 410ms/step - loss: 3.1872 - categorical_accuracy: 0.3098 - top_3_accuracy: 0.5025\n",
      "\n",
      "Epoch 00018: top_3_accuracy improved from 0.50219 to 0.50250, saving model to ./CNN_2_dropout.model\n",
      "Epoch 19/250\n",
      "100/100 [==============================] - 41s 410ms/step - loss: 3.0989 - categorical_accuracy: 0.3277 - top_3_accuracy: 0.5153\n",
      "\n",
      "Epoch 00019: top_3_accuracy improved from 0.50250 to 0.51531, saving model to ./CNN_2_dropout.model\n",
      "Epoch 20/250\n",
      "100/100 [==============================] - 41s 410ms/step - loss: 3.0393 - categorical_accuracy: 0.3400 - top_3_accuracy: 0.5283\n",
      "\n",
      "Epoch 00020: top_3_accuracy improved from 0.51531 to 0.52828, saving model to ./CNN_2_dropout.model\n",
      "Epoch 21/250\n",
      "100/100 [==============================] - 41s 409ms/step - loss: 3.0754 - categorical_accuracy: 0.3387 - top_3_accuracy: 0.5245\n",
      "\n",
      "Epoch 00021: top_3_accuracy did not improve from 0.52828\n",
      "Epoch 22/250\n",
      "100/100 [==============================] - 41s 410ms/step - loss: 3.0662 - categorical_accuracy: 0.3375 - top_3_accuracy: 0.5203\n",
      "\n",
      "Epoch 00022: top_3_accuracy did not improve from 0.52828\n",
      "Epoch 23/250\n",
      "100/100 [==============================] - 41s 409ms/step - loss: 3.0789 - categorical_accuracy: 0.3336 - top_3_accuracy: 0.5214\n",
      "\n",
      "Epoch 00023: top_3_accuracy did not improve from 0.52828\n",
      "Epoch 24/250\n",
      "100/100 [==============================] - 41s 409ms/step - loss: 3.0348 - categorical_accuracy: 0.3405 - top_3_accuracy: 0.5380\n",
      "\n",
      "Epoch 00024: top_3_accuracy improved from 0.52828 to 0.53797, saving model to ./CNN_2_dropout.model\n",
      "Epoch 25/250\n",
      "100/100 [==============================] - 41s 409ms/step - loss: 2.9980 - categorical_accuracy: 0.3409 - top_3_accuracy: 0.5370\n",
      "\n",
      "Epoch 00025: top_3_accuracy did not improve from 0.53797\n",
      "Epoch 26/250\n",
      "100/100 [==============================] - 41s 409ms/step - loss: 3.0028 - categorical_accuracy: 0.3425 - top_3_accuracy: 0.5327\n",
      "\n",
      "Epoch 00026: top_3_accuracy did not improve from 0.53797\n",
      "Epoch 27/250\n",
      "100/100 [==============================] - 41s 410ms/step - loss: 3.0186 - categorical_accuracy: 0.3403 - top_3_accuracy: 0.5322\n",
      "\n",
      "Epoch 00027: top_3_accuracy did not improve from 0.53797\n",
      "Epoch 28/250\n",
      "100/100 [==============================] - 41s 409ms/step - loss: 2.9582 - categorical_accuracy: 0.3534 - top_3_accuracy: 0.5497\n",
      "\n",
      "Epoch 00028: top_3_accuracy improved from 0.53797 to 0.54969, saving model to ./CNN_2_dropout.model\n",
      "Epoch 29/250\n",
      "100/100 [==============================] - 41s 409ms/step - loss: 2.9632 - categorical_accuracy: 0.3505 - top_3_accuracy: 0.5356\n",
      "\n",
      "Epoch 00029: top_3_accuracy did not improve from 0.54969\n",
      "Epoch 30/250\n",
      "100/100 [==============================] - 41s 409ms/step - loss: 2.9445 - categorical_accuracy: 0.3556 - top_3_accuracy: 0.5438\n",
      "\n",
      "Epoch 00030: top_3_accuracy did not improve from 0.54969\n",
      "Epoch 31/250\n",
      "100/100 [==============================] - 41s 410ms/step - loss: 2.9543 - categorical_accuracy: 0.3586 - top_3_accuracy: 0.5475\n",
      "\n",
      "Epoch 00031: top_3_accuracy did not improve from 0.54969\n",
      "Epoch 32/250\n",
      "100/100 [==============================] - 41s 410ms/step - loss: 2.9311 - categorical_accuracy: 0.3608 - top_3_accuracy: 0.5536\n",
      "\n",
      "Epoch 00032: top_3_accuracy improved from 0.54969 to 0.55359, saving model to ./CNN_2_dropout.model\n",
      "Epoch 33/250\n",
      "100/100 [==============================] - 41s 410ms/step - loss: 2.9058 - categorical_accuracy: 0.3628 - top_3_accuracy: 0.5567\n",
      "\n",
      "Epoch 00033: top_3_accuracy improved from 0.55359 to 0.55672, saving model to ./CNN_2_dropout.model\n",
      "Epoch 34/250\n",
      "100/100 [==============================] - 41s 410ms/step - loss: 2.9302 - categorical_accuracy: 0.3644 - top_3_accuracy: 0.5563\n",
      "\n",
      "Epoch 00034: top_3_accuracy did not improve from 0.55672\n",
      "Epoch 35/250\n",
      "100/100 [==============================] - 41s 410ms/step - loss: 2.8556 - categorical_accuracy: 0.3783 - top_3_accuracy: 0.5720\n",
      "\n",
      "Epoch 00035: top_3_accuracy improved from 0.55672 to 0.57203, saving model to ./CNN_2_dropout.model\n",
      "Epoch 36/250\n",
      "100/100 [==============================] - 41s 409ms/step - loss: 2.8427 - categorical_accuracy: 0.3713 - top_3_accuracy: 0.5656\n",
      "\n",
      "Epoch 00036: top_3_accuracy did not improve from 0.57203\n",
      "Epoch 37/250\n",
      "100/100 [==============================] - 41s 410ms/step - loss: 2.8480 - categorical_accuracy: 0.3719 - top_3_accuracy: 0.5664\n",
      "\n",
      "Epoch 00037: top_3_accuracy did not improve from 0.57203\n",
      "Epoch 38/250\n",
      "100/100 [==============================] - 41s 410ms/step - loss: 2.7981 - categorical_accuracy: 0.3803 - top_3_accuracy: 0.5800\n",
      "\n",
      "Epoch 00038: top_3_accuracy improved from 0.57203 to 0.58000, saving model to ./CNN_2_dropout.model\n",
      "Epoch 39/250\n",
      "100/100 [==============================] - 41s 409ms/step - loss: 2.8217 - categorical_accuracy: 0.3912 - top_3_accuracy: 0.5727\n",
      "\n",
      "Epoch 00039: top_3_accuracy did not improve from 0.58000\n",
      "Epoch 40/250\n",
      "100/100 [==============================] - 41s 410ms/step - loss: 2.8163 - categorical_accuracy: 0.3848 - top_3_accuracy: 0.5786\n",
      "\n",
      "Epoch 00040: top_3_accuracy did not improve from 0.58000\n",
      "Epoch 41/250\n",
      "100/100 [==============================] - 41s 409ms/step - loss: 2.7804 - categorical_accuracy: 0.3777 - top_3_accuracy: 0.5742\n",
      "\n",
      "Epoch 00041: top_3_accuracy did not improve from 0.58000\n",
      "Epoch 42/250\n",
      "100/100 [==============================] - 41s 410ms/step - loss: 2.8409 - categorical_accuracy: 0.3802 - top_3_accuracy: 0.5800\n",
      "\n",
      "Epoch 00042: top_3_accuracy did not improve from 0.58000\n",
      "Epoch 43/250\n",
      "100/100 [==============================] - 41s 410ms/step - loss: 2.7782 - categorical_accuracy: 0.3895 - top_3_accuracy: 0.5875\n",
      "\n",
      "Epoch 00043: top_3_accuracy improved from 0.58000 to 0.58750, saving model to ./CNN_2_dropout.model\n",
      "Epoch 44/250\n",
      "100/100 [==============================] - 41s 410ms/step - loss: 2.7588 - categorical_accuracy: 0.3870 - top_3_accuracy: 0.5892\n",
      "\n",
      "Epoch 00044: top_3_accuracy improved from 0.58750 to 0.58922, saving model to ./CNN_2_dropout.model\n",
      "Epoch 45/250\n",
      "100/100 [==============================] - 41s 409ms/step - loss: 2.7527 - categorical_accuracy: 0.3898 - top_3_accuracy: 0.5855\n",
      "\n",
      "Epoch 00045: top_3_accuracy did not improve from 0.58922\n",
      "Epoch 46/250\n",
      "100/100 [==============================] - 41s 409ms/step - loss: 2.7147 - categorical_accuracy: 0.3984 - top_3_accuracy: 0.5837\n",
      "\n",
      "Epoch 00046: top_3_accuracy did not improve from 0.58922\n",
      "Epoch 47/250\n",
      "100/100 [==============================] - 41s 410ms/step - loss: 2.7819 - categorical_accuracy: 0.3916 - top_3_accuracy: 0.5787\n",
      "\n",
      "Epoch 00047: top_3_accuracy did not improve from 0.58922\n",
      "Epoch 48/250\n",
      "100/100 [==============================] - 41s 411ms/step - loss: 2.7804 - categorical_accuracy: 0.3967 - top_3_accuracy: 0.5861\n",
      "\n",
      "Epoch 00048: top_3_accuracy did not improve from 0.58922\n",
      "Epoch 49/250\n",
      "100/100 [==============================] - 41s 410ms/step - loss: 2.7510 - categorical_accuracy: 0.3916 - top_3_accuracy: 0.5906\n",
      "\n",
      "Epoch 00049: top_3_accuracy improved from 0.58922 to 0.59062, saving model to ./CNN_2_dropout.model\n",
      "Epoch 50/250\n",
      "100/100 [==============================] - 41s 410ms/step - loss: 2.7283 - categorical_accuracy: 0.4098 - top_3_accuracy: 0.5941\n",
      "\n",
      "Epoch 00050: top_3_accuracy improved from 0.59062 to 0.59406, saving model to ./CNN_2_dropout.model\n",
      "Epoch 51/250\n",
      "100/100 [==============================] - 41s 410ms/step - loss: 2.7328 - categorical_accuracy: 0.3964 - top_3_accuracy: 0.5908\n",
      "\n",
      "Epoch 00051: top_3_accuracy did not improve from 0.59406\n",
      "Epoch 52/250\n",
      "100/100 [==============================] - 41s 409ms/step - loss: 2.6617 - categorical_accuracy: 0.4113 - top_3_accuracy: 0.6039\n",
      "\n",
      "Epoch 00052: top_3_accuracy improved from 0.59406 to 0.60391, saving model to ./CNN_2_dropout.model\n",
      "Epoch 53/250\n",
      "100/100 [==============================] - 41s 409ms/step - loss: 2.6905 - categorical_accuracy: 0.4064 - top_3_accuracy: 0.5992\n",
      "\n",
      "Epoch 00053: top_3_accuracy did not improve from 0.60391\n",
      "Epoch 54/250\n",
      "100/100 [==============================] - 41s 410ms/step - loss: 2.6905 - categorical_accuracy: 0.4080 - top_3_accuracy: 0.6017\n",
      "\n",
      "Epoch 00054: top_3_accuracy did not improve from 0.60391\n",
      "Epoch 55/250\n",
      "100/100 [==============================] - 41s 410ms/step - loss: 2.6534 - categorical_accuracy: 0.4098 - top_3_accuracy: 0.6073\n",
      "\n",
      "Epoch 00055: top_3_accuracy improved from 0.60391 to 0.60734, saving model to ./CNN_2_dropout.model\n",
      "Epoch 56/250\n",
      "100/100 [==============================] - 41s 409ms/step - loss: 2.6378 - categorical_accuracy: 0.4139 - top_3_accuracy: 0.6155\n",
      "\n",
      "Epoch 00056: top_3_accuracy improved from 0.60734 to 0.61547, saving model to ./CNN_2_dropout.model\n",
      "Epoch 57/250\n",
      "100/100 [==============================] - 41s 410ms/step - loss: 2.6693 - categorical_accuracy: 0.4148 - top_3_accuracy: 0.6073\n",
      "\n",
      "Epoch 00057: top_3_accuracy did not improve from 0.61547\n",
      "Epoch 58/250\n",
      "100/100 [==============================] - 41s 410ms/step - loss: 2.6374 - categorical_accuracy: 0.4159 - top_3_accuracy: 0.6144\n",
      "\n",
      "Epoch 00058: top_3_accuracy did not improve from 0.61547\n",
      "Epoch 59/250\n",
      "100/100 [==============================] - 41s 410ms/step - loss: 2.6571 - categorical_accuracy: 0.4211 - top_3_accuracy: 0.6142\n",
      "\n",
      "Epoch 00059: top_3_accuracy did not improve from 0.61547\n",
      "Epoch 60/250\n",
      "100/100 [==============================] - 41s 409ms/step - loss: 2.6968 - categorical_accuracy: 0.4067 - top_3_accuracy: 0.5975\n",
      "\n",
      "Epoch 00060: top_3_accuracy did not improve from 0.61547\n",
      "Epoch 61/250\n",
      "100/100 [==============================] - 41s 410ms/step - loss: 2.5691 - categorical_accuracy: 0.4272 - top_3_accuracy: 0.6250\n",
      "\n",
      "Epoch 00061: top_3_accuracy improved from 0.61547 to 0.62500, saving model to ./CNN_2_dropout.model\n",
      "Epoch 62/250\n",
      "100/100 [==============================] - 41s 410ms/step - loss: 2.5984 - categorical_accuracy: 0.4217 - top_3_accuracy: 0.6131\n",
      "\n",
      "Epoch 00062: top_3_accuracy did not improve from 0.62500\n",
      "Epoch 63/250\n",
      "100/100 [==============================] - 41s 410ms/step - loss: 2.5911 - categorical_accuracy: 0.4261 - top_3_accuracy: 0.6308\n",
      "\n",
      "Epoch 00063: top_3_accuracy improved from 0.62500 to 0.63078, saving model to ./CNN_2_dropout.model\n",
      "Epoch 64/250\n",
      "100/100 [==============================] - 41s 410ms/step - loss: 2.6446 - categorical_accuracy: 0.4130 - top_3_accuracy: 0.6055\n",
      "\n",
      "Epoch 00064: top_3_accuracy did not improve from 0.63078\n",
      "Epoch 65/250\n",
      "100/100 [==============================] - 41s 409ms/step - loss: 2.6664 - categorical_accuracy: 0.4164 - top_3_accuracy: 0.6133\n",
      "\n",
      "Epoch 00065: top_3_accuracy did not improve from 0.63078\n",
      "Epoch 66/250\n",
      "100/100 [==============================] - 41s 410ms/step - loss: 2.6021 - categorical_accuracy: 0.4258 - top_3_accuracy: 0.6131\n",
      "\n",
      "Epoch 00066: top_3_accuracy did not improve from 0.63078\n",
      "Epoch 67/250\n",
      "100/100 [==============================] - 41s 410ms/step - loss: 2.5660 - categorical_accuracy: 0.4278 - top_3_accuracy: 0.6292\n",
      "\n",
      "Epoch 00067: top_3_accuracy did not improve from 0.63078\n",
      "Epoch 68/250\n",
      "100/100 [==============================] - 41s 409ms/step - loss: 2.6063 - categorical_accuracy: 0.4272 - top_3_accuracy: 0.6173\n",
      "\n",
      "Epoch 00068: top_3_accuracy did not improve from 0.63078\n",
      "Epoch 69/250\n",
      "100/100 [==============================] - 41s 411ms/step - loss: 2.5539 - categorical_accuracy: 0.4355 - top_3_accuracy: 0.6323\n",
      "\n",
      "Epoch 00069: top_3_accuracy improved from 0.63078 to 0.63234, saving model to ./CNN_2_dropout.model\n",
      "Epoch 70/250\n",
      "100/100 [==============================] - 41s 410ms/step - loss: 2.6268 - categorical_accuracy: 0.4105 - top_3_accuracy: 0.6120\n",
      "\n",
      "Epoch 00070: top_3_accuracy did not improve from 0.63234\n",
      "Epoch 71/250\n",
      "100/100 [==============================] - 41s 410ms/step - loss: 2.5703 - categorical_accuracy: 0.4297 - top_3_accuracy: 0.6259\n",
      "\n",
      "Epoch 00071: top_3_accuracy did not improve from 0.63234\n",
      "Epoch 72/250\n",
      "100/100 [==============================] - 41s 410ms/step - loss: 2.5361 - categorical_accuracy: 0.4361 - top_3_accuracy: 0.6270\n",
      "\n",
      "Epoch 00072: top_3_accuracy did not improve from 0.63234\n",
      "Epoch 73/250\n",
      "100/100 [==============================] - 41s 410ms/step - loss: 2.5469 - categorical_accuracy: 0.4356 - top_3_accuracy: 0.6269\n",
      "\n",
      "Epoch 00073: top_3_accuracy did not improve from 0.63234\n",
      "Epoch 74/250\n",
      "100/100 [==============================] - 41s 410ms/step - loss: 2.5870 - categorical_accuracy: 0.4323 - top_3_accuracy: 0.6202\n",
      "\n",
      "Epoch 00074: top_3_accuracy did not improve from 0.63234\n",
      "Epoch 75/250\n",
      "100/100 [==============================] - 41s 410ms/step - loss: 2.5511 - categorical_accuracy: 0.4336 - top_3_accuracy: 0.6331\n",
      "\n",
      "Epoch 00075: top_3_accuracy improved from 0.63234 to 0.63313, saving model to ./CNN_2_dropout.model\n",
      "Epoch 76/250\n",
      "100/100 [==============================] - 41s 410ms/step - loss: 2.5893 - categorical_accuracy: 0.4353 - top_3_accuracy: 0.6272\n",
      "\n",
      "Epoch 00076: top_3_accuracy did not improve from 0.63313\n",
      "Epoch 77/250\n",
      "100/100 [==============================] - 41s 411ms/step - loss: 2.5885 - categorical_accuracy: 0.4208 - top_3_accuracy: 0.6161\n",
      "\n",
      "Epoch 00077: top_3_accuracy did not improve from 0.63313\n",
      "Epoch 78/250\n",
      "100/100 [==============================] - 41s 411ms/step - loss: 2.5604 - categorical_accuracy: 0.4314 - top_3_accuracy: 0.6275\n",
      "\n",
      "Epoch 00078: top_3_accuracy did not improve from 0.63313\n",
      "Epoch 79/250\n",
      "100/100 [==============================] - 41s 411ms/step - loss: 2.5311 - categorical_accuracy: 0.4327 - top_3_accuracy: 0.6311\n",
      "\n",
      "Epoch 00079: top_3_accuracy did not improve from 0.63313\n",
      "Epoch 80/250\n",
      "100/100 [==============================] - 41s 409ms/step - loss: 2.5437 - categorical_accuracy: 0.4425 - top_3_accuracy: 0.6336\n",
      "\n",
      "Epoch 00080: top_3_accuracy improved from 0.63313 to 0.63359, saving model to ./CNN_2_dropout.model\n",
      "Epoch 81/250\n",
      "100/100 [==============================] - 41s 410ms/step - loss: 2.5380 - categorical_accuracy: 0.4406 - top_3_accuracy: 0.6366\n",
      "\n",
      "Epoch 00081: top_3_accuracy improved from 0.63359 to 0.63656, saving model to ./CNN_2_dropout.model\n",
      "Epoch 82/250\n",
      "100/100 [==============================] - 41s 410ms/step - loss: 2.5429 - categorical_accuracy: 0.4317 - top_3_accuracy: 0.6323\n",
      "\n",
      "Epoch 00082: top_3_accuracy did not improve from 0.63656\n",
      "Epoch 83/250\n",
      "100/100 [==============================] - 41s 409ms/step - loss: 2.5036 - categorical_accuracy: 0.4441 - top_3_accuracy: 0.6297\n",
      "\n",
      "Epoch 00083: top_3_accuracy did not improve from 0.63656\n",
      "Epoch 84/250\n",
      "100/100 [==============================] - 41s 410ms/step - loss: 2.5435 - categorical_accuracy: 0.4422 - top_3_accuracy: 0.6358\n",
      "\n",
      "Epoch 00084: top_3_accuracy did not improve from 0.63656\n",
      "Epoch 85/250\n",
      "100/100 [==============================] - 41s 410ms/step - loss: 2.5401 - categorical_accuracy: 0.4383 - top_3_accuracy: 0.6373\n",
      "\n",
      "Epoch 00085: top_3_accuracy improved from 0.63656 to 0.63734, saving model to ./CNN_2_dropout.model\n",
      "Epoch 86/250\n",
      "100/100 [==============================] - 41s 410ms/step - loss: 2.5737 - categorical_accuracy: 0.4334 - top_3_accuracy: 0.6278\n",
      "\n",
      "Epoch 00086: top_3_accuracy did not improve from 0.63734\n",
      "Epoch 87/250\n",
      "100/100 [==============================] - 41s 410ms/step - loss: 2.5456 - categorical_accuracy: 0.4364 - top_3_accuracy: 0.6316\n",
      "\n",
      "Epoch 00087: top_3_accuracy did not improve from 0.63734\n",
      "Epoch 88/250\n",
      "100/100 [==============================] - 41s 410ms/step - loss: 2.5439 - categorical_accuracy: 0.4402 - top_3_accuracy: 0.6373\n",
      "\n",
      "Epoch 00088: top_3_accuracy did not improve from 0.63734\n",
      "Epoch 89/250\n",
      "100/100 [==============================] - 41s 409ms/step - loss: 2.5313 - categorical_accuracy: 0.4397 - top_3_accuracy: 0.6312\n",
      "\n",
      "Epoch 00089: top_3_accuracy did not improve from 0.63734\n",
      "Epoch 90/250\n",
      "100/100 [==============================] - 41s 410ms/step - loss: 2.4787 - categorical_accuracy: 0.4536 - top_3_accuracy: 0.6484\n",
      "\n",
      "Epoch 00090: top_3_accuracy improved from 0.63734 to 0.64844, saving model to ./CNN_2_dropout.model\n",
      "Epoch 91/250\n",
      "100/100 [==============================] - 41s 409ms/step - loss: 2.5380 - categorical_accuracy: 0.4353 - top_3_accuracy: 0.6280\n",
      "\n",
      "Epoch 00091: top_3_accuracy did not improve from 0.64844\n",
      "Epoch 92/250\n",
      "100/100 [==============================] - 41s 409ms/step - loss: 2.5135 - categorical_accuracy: 0.4398 - top_3_accuracy: 0.6339\n",
      "\n",
      "Epoch 00092: top_3_accuracy did not improve from 0.64844\n",
      "Epoch 93/250\n",
      "100/100 [==============================] - 41s 411ms/step - loss: 2.4862 - categorical_accuracy: 0.4492 - top_3_accuracy: 0.6386\n",
      "\n",
      "Epoch 00093: top_3_accuracy did not improve from 0.64844\n",
      "Epoch 94/250\n",
      "100/100 [==============================] - 41s 410ms/step - loss: 2.5122 - categorical_accuracy: 0.4386 - top_3_accuracy: 0.6403\n",
      "\n",
      "Epoch 00094: top_3_accuracy did not improve from 0.64844\n",
      "Epoch 95/250\n",
      "100/100 [==============================] - 41s 410ms/step - loss: 2.5959 - categorical_accuracy: 0.4355 - top_3_accuracy: 0.6213\n",
      "\n",
      "Epoch 00095: top_3_accuracy did not improve from 0.64844\n",
      "Epoch 96/250\n",
      "100/100 [==============================] - 41s 410ms/step - loss: 2.5377 - categorical_accuracy: 0.4412 - top_3_accuracy: 0.6336\n",
      "\n",
      "Epoch 00096: top_3_accuracy did not improve from 0.64844\n",
      "Epoch 97/250\n",
      "100/100 [==============================] - 41s 409ms/step - loss: 2.5323 - categorical_accuracy: 0.4405 - top_3_accuracy: 0.6331\n",
      "\n",
      "Epoch 00097: top_3_accuracy did not improve from 0.64844\n",
      "Epoch 98/250\n",
      "100/100 [==============================] - 41s 410ms/step - loss: 2.5274 - categorical_accuracy: 0.4305 - top_3_accuracy: 0.6314\n",
      "\n",
      "Epoch 00098: top_3_accuracy did not improve from 0.64844\n",
      "Epoch 99/250\n",
      "100/100 [==============================] - 41s 410ms/step - loss: 2.5540 - categorical_accuracy: 0.4364 - top_3_accuracy: 0.6309\n",
      "\n",
      "Epoch 00099: top_3_accuracy did not improve from 0.64844\n",
      "Epoch 100/250\n",
      "100/100 [==============================] - 41s 409ms/step - loss: 2.4429 - categorical_accuracy: 0.4480 - top_3_accuracy: 0.6552\n",
      "\n",
      "Epoch 00100: top_3_accuracy improved from 0.64844 to 0.65516, saving model to ./CNN_2_dropout.model\n",
      "Epoch 101/250\n",
      "100/100 [==============================] - 41s 410ms/step - loss: 2.5367 - categorical_accuracy: 0.4363 - top_3_accuracy: 0.6281\n",
      "\n",
      "Epoch 00101: top_3_accuracy did not improve from 0.65516\n",
      "Epoch 102/250\n",
      "100/100 [==============================] - 41s 410ms/step - loss: 2.4642 - categorical_accuracy: 0.4569 - top_3_accuracy: 0.6477\n",
      "\n",
      "Epoch 00102: top_3_accuracy did not improve from 0.65516\n",
      "Epoch 103/250\n",
      "100/100 [==============================] - 41s 409ms/step - loss: 2.5264 - categorical_accuracy: 0.4392 - top_3_accuracy: 0.6356\n",
      "\n",
      "Epoch 00103: top_3_accuracy did not improve from 0.65516\n",
      "Epoch 104/250\n",
      "100/100 [==============================] - 41s 408ms/step - loss: 2.5124 - categorical_accuracy: 0.4308 - top_3_accuracy: 0.6359\n",
      "\n",
      "Epoch 00104: top_3_accuracy did not improve from 0.65516\n",
      "Epoch 105/250\n",
      "100/100 [==============================] - 41s 410ms/step - loss: 2.5573 - categorical_accuracy: 0.4363 - top_3_accuracy: 0.6267\n",
      "\n",
      "Epoch 00105: top_3_accuracy did not improve from 0.65516\n",
      "Epoch 106/250\n",
      "100/100 [==============================] - 41s 411ms/step - loss: 2.5237 - categorical_accuracy: 0.4373 - top_3_accuracy: 0.6309\n",
      "\n",
      "Epoch 00106: top_3_accuracy did not improve from 0.65516\n",
      "Epoch 107/250\n",
      "100/100 [==============================] - 41s 409ms/step - loss: 2.4712 - categorical_accuracy: 0.4483 - top_3_accuracy: 0.6405\n",
      "\n",
      "Epoch 00107: top_3_accuracy did not improve from 0.65516\n",
      "Epoch 108/250\n",
      "100/100 [==============================] - 41s 410ms/step - loss: 2.4885 - categorical_accuracy: 0.4444 - top_3_accuracy: 0.6370\n",
      "\n",
      "Epoch 00108: top_3_accuracy did not improve from 0.65516\n",
      "Epoch 109/250\n",
      "100/100 [==============================] - 41s 410ms/step - loss: 2.5400 - categorical_accuracy: 0.4370 - top_3_accuracy: 0.6356\n",
      "\n",
      "Epoch 00109: top_3_accuracy did not improve from 0.65516\n",
      "Epoch 110/250\n",
      "100/100 [==============================] - 41s 410ms/step - loss: 2.5313 - categorical_accuracy: 0.4417 - top_3_accuracy: 0.6364\n",
      "\n",
      "Epoch 00110: top_3_accuracy did not improve from 0.65516\n",
      "Epoch 111/250\n",
      "100/100 [==============================] - 41s 411ms/step - loss: 2.5306 - categorical_accuracy: 0.4308 - top_3_accuracy: 0.6359\n",
      "\n",
      "Epoch 00111: top_3_accuracy did not improve from 0.65516\n",
      "Epoch 112/250\n",
      "100/100 [==============================] - 41s 409ms/step - loss: 2.5200 - categorical_accuracy: 0.4405 - top_3_accuracy: 0.6381\n",
      "\n",
      "Epoch 00112: top_3_accuracy did not improve from 0.65516\n",
      "Epoch 113/250\n",
      "100/100 [==============================] - 41s 410ms/step - loss: 2.5009 - categorical_accuracy: 0.4500 - top_3_accuracy: 0.6405\n",
      "\n",
      "Epoch 00113: top_3_accuracy did not improve from 0.65516\n",
      "Epoch 114/250\n",
      "100/100 [==============================] - 41s 410ms/step - loss: 2.4772 - categorical_accuracy: 0.4455 - top_3_accuracy: 0.6469\n",
      "\n",
      "Epoch 00114: top_3_accuracy did not improve from 0.65516\n",
      "Epoch 115/250\n",
      "100/100 [==============================] - 41s 410ms/step - loss: 2.4968 - categorical_accuracy: 0.4448 - top_3_accuracy: 0.6391\n",
      "\n",
      "Epoch 00115: top_3_accuracy did not improve from 0.65516\n"
     ]
    }
   ],
   "source": [
    "# fit the model with our eternal generator!\n",
    "CNN_2_dropout = model.fit_generator(\n",
    "    train_iterator(BATCH_SIZE), \n",
    "    steps_per_epoch=STEPS_PER_EPOCH,\n",
    "    epochs=EPOCHS,\n",
    "    callbacks=callbacks,\n",
    "    verbose=1,\n",
    "    initial_epoch=last_finished_epoch\n",
    ")"
   ]
  },
  {
   "cell_type": "code",
   "execution_count": 0,
   "metadata": {
    "colab": {
     "base_uri": "https://localhost:8080/",
     "height": 349
    },
    "colab_type": "code",
    "id": "5F7-0wimGWC2",
    "outputId": "a5817a35-26d2-4727-995e-7952e587c9e1"
   },
   "outputs": [
    {
     "data": {
      "image/png": "[encoded data removed]",
      "text/plain": [
       "<matplotlib.figure.Figure at 0x7f7d499ca350>"
      ]
     },
     "metadata": {
      "tags": []
     },
     "output_type": "display_data"
    }
   ],
   "source": [
    "plt.figure(figsize=(10,5))\n",
    "plt.legend(loc='best')\n",
    "plt.title('MAP@3')\n",
    "plt.xlabel('Epochs')\n",
    "plt.plot(CNN_2_dropout.history['top_3_accuracy'])\n",
    "plt.show()"
   ]
  },
  {
   "cell_type": "markdown",
   "metadata": {
    "colab_type": "text",
    "id": "7tIDsX5CVI5P"
   },
   "source": [
    "**Вывод:** На  тестовых данных  на kaggle выдает 0.574. Результат уже лучше по сравнению с первым экспериментом. Модель переобучается не так сильно\n",
    "\n",
    "\n"
   ]
  },
  {
   "cell_type": "markdown",
   "metadata": {
    "colab_type": "text",
    "id": "fKjp_OhUxjeV"
   },
   "source": [
    "#Эксперимент №3"
   ]
  },
  {
   "cell_type": "markdown",
   "metadata": {
    "colab_type": "text",
    "id": "ZrmS0FXYHqjc"
   },
   "source": [
    "Построение модели с добавлением DropOut на полносвязном слое, чтобы избежать переобучения. Сильно увеличила batch_size, чтобы установить влияет ли он на переобучение"
   ]
  },
  {
   "cell_type": "code",
   "execution_count": 0,
   "metadata": {
    "colab": {
     "base_uri": "https://localhost:8080/",
     "height": 34
    },
    "colab_type": "code",
    "id": "StgdFsWLuJFh",
    "outputId": "19d3466c-02be-45e9-f5e9-70f81b71538d"
   },
   "outputs": [
    {
     "data": {
      "text/plain": [
       "['fence', 'yoga', 'horse', 'sandwich', 'cat']"
      ]
     },
     "execution_count": 208,
     "metadata": {
      "tags": []
     },
     "output_type": "execute_result"
    }
   ],
   "source": [
    "class_labels = map(lambda x: x.replace(\".csv\", \"\"), zf.namelist())\n",
    "class_labels[:5]"
   ]
  },
  {
   "cell_type": "code",
   "execution_count": 0,
   "metadata": {
    "colab": {},
    "colab_type": "code",
    "id": "TWSjHWucu1x5"
   },
   "outputs": [],
   "source": [
    "# loop through file eternally\n",
    "def get_eternal_csv_generator(fn, debug=False):\n",
    "    while True:\n",
    "        with zf.open(fn) as f:\n",
    "            f.readline()  # skip header\n",
    "            for line in csv.reader(f, delimiter=',', quotechar='\"'):\n",
    "                yield line[1], line[5]\n",
    "            if debug:\n",
    "                print fn, \"is done, starting from the beginning...\""
   ]
  },
  {
   "cell_type": "code",
   "execution_count": 0,
   "metadata": {
    "colab": {},
    "colab_type": "code",
    "id": "FKEJmGzIu2CA"
   },
   "outputs": [],
   "source": [
    "def raw_batch_generator(batch_size, debug=False):\n",
    "    generators = np.array([get_eternal_csv_generator(fn, debug) for fn in zf.namelist()])\n",
    "    while True:\n",
    "        random_indices = np.random.randint(0, len(generators), size=batch_size)\n",
    "        yield [gen.next() for gen in generators[random_indices]]"
   ]
  },
  {
   "cell_type": "code",
   "execution_count": 0,
   "metadata": {
    "colab": {},
    "colab_type": "code",
    "id": "mLdIcRqvu2Ju"
   },
   "outputs": [],
   "source": [
    "# copy-paste from https://www.kaggle.com/jpmiller/image-based-cnn\n",
    "\n",
    "import ast\n",
    "from PIL import Image, ImageDraw\n",
    "import cv2\n",
    "\n",
    "IMG_SIZE = 128\n",
    "\n",
    "# faster conversion function\n",
    "def draw_it(strokes):\n",
    "    img = 255 * np.ones((256, 256), np.uint8)\n",
    "    for stroke in ast.literal_eval(strokes):\n",
    "        for i in range(len(stroke[0]) - 1):\n",
    "            _ = cv2.line(img, (stroke[0][i], stroke[1][i]), (stroke[0][i + 1], stroke[1][i + 1]), 0, 3)\n",
    "    return cv2.resize(img, (IMG_SIZE, IMG_SIZE))"
   ]
  },
  {
   "cell_type": "code",
   "execution_count": 0,
   "metadata": {
    "colab": {},
    "colab_type": "code",
    "id": "Z7eWgZzdu2XZ"
   },
   "outputs": [],
   "source": [
    "def images_and_labels_generator(batch_size):\n",
    "    for batch in raw_batch_generator(batch_size):\n",
    "        batch_images = []\n",
    "        batch_labels = []\n",
    "        for e in batch:\n",
    "            batch_images.append(draw_it(e[0]))\n",
    "            batch_labels.append(e[1])\n",
    "        batch_images = np.stack(batch_images, axis=0)\n",
    "        yield batch_images, batch_labels"
   ]
  },
  {
   "cell_type": "code",
   "execution_count": 0,
   "metadata": {
    "colab": {
     "base_uri": "https://localhost:8080/",
     "height": 280
    },
    "colab_type": "code",
    "id": "xoQFrv-_u2UW",
    "outputId": "e09f5b23-8a64-4026-ea13-b98ac60ad451"
   },
   "outputs": [
    {
     "data": {
      "image/png": "[encoded data removed]",
      "text/plain": [
       "<matplotlib.figure.Figure at 0x7f7d489af410>"
      ]
     },
     "metadata": {
      "tags": []
     },
     "output_type": "display_data"
    }
   ],
   "source": [
    "b = images_and_labels_generator(32).next()\n",
    "plt.imshow(b[0][10, :, :])\n",
    "plt.title(b[1][10])\n",
    "plt.show()"
   ]
  },
  {
   "cell_type": "code",
   "execution_count": 0,
   "metadata": {
    "colab": {},
    "colab_type": "code",
    "id": "0uAmqsciu2Rf"
   },
   "outputs": [],
   "source": [
    " def reset_tf_session():\n",
    "    curr_session = tf.get_default_session()\n",
    "    # close current session\n",
    "    if curr_session is not None:\n",
    "        curr_session.close()\n",
    "    # reset graph\n",
    "    K.clear_session()\n",
    "    # create new session\n",
    "    config = tf.ConfigProto()\n",
    "    config.gpu_options.allow_growth = True\n",
    "    s = tf.InteractiveSession(config=config)\n",
    "    K.set_session(s)\n",
    "    return s"
   ]
  },
  {
   "cell_type": "code",
   "execution_count": 0,
   "metadata": {
    "colab": {
     "base_uri": "https://localhost:8080/",
     "height": 102
    },
    "colab_type": "code",
    "id": "fmnGyAuLu2Ot",
    "outputId": "b74a7f1d-ab32-43c4-cfd2-7f6516233522"
   },
   "outputs": [
    {
     "data": {
      "text/plain": [
       "[('snowman', 134),\n",
       " ('eyeglasses', 254),\n",
       " ('ceiling fan', 18),\n",
       " ('camel', 90),\n",
       " ('stove', 119)]"
      ]
     },
     "execution_count": 247,
     "metadata": {
      "tags": []
     },
     "output_type": "execute_result"
    }
   ],
   "source": [
    "NUM_CLASSES = len(class_labels)\n",
    "class_to_idx = {c: idx for idx, c in enumerate(class_labels)}\n",
    "class_to_idx.items()[:5]"
   ]
  },
  {
   "cell_type": "code",
   "execution_count": 0,
   "metadata": {
    "colab": {},
    "colab_type": "code",
    "id": "leb_V4Dtu2G6"
   },
   "outputs": [],
   "source": [
    "def train_iterator(batch_size):\n",
    "    for batch in images_and_labels_generator(batch_size):\n",
    "        images = batch[0].astype('float32')\n",
    "        images = images/ 255 - 0.5\n",
    "        images = np.expand_dims(images, -1)\n",
    "        labels = keras.utils.to_categorical(map(class_to_idx.get, batch[1]), NUM_CLASSES)\n",
    "        yield images, labels"
   ]
  },
  {
   "cell_type": "code",
   "execution_count": 0,
   "metadata": {
    "colab": {
     "base_uri": "https://localhost:8080/",
     "height": 51
    },
    "colab_type": "code",
    "id": "OixfsiL3u1_J",
    "outputId": "d5f8079f-795f-4300-f5c1-1986467fce25"
   },
   "outputs": [
    {
     "name": "stdout",
     "output_type": "stream",
     "text": [
      "(32, 128, 128, 1)\n",
      "(32, 340)\n"
     ]
    }
   ],
   "source": [
    "sample = train_iterator(32).next()\n",
    "print sample[0].shape\n",
    "print sample[1].shape"
   ]
  },
  {
   "cell_type": "code",
   "execution_count": 0,
   "metadata": {
    "colab": {},
    "colab_type": "code",
    "id": "MttmWKEnu18Y"
   },
   "outputs": [],
   "source": [
    "def make_model():\n",
    "    \"\"\"\n",
    "    Define your model architecture here.\n",
    "    Returns `Sequential` model.\n",
    "    \"\"\"\n",
    "    model = Sequential()\n",
    "    \n",
    "    \n",
    "    model.add(Conv2D(32, (3,3),padding='same', activation='elu', input_shape=(IMG_SIZE, IMG_SIZE, 1)))\n",
    "    model.add(MaxPooling2D(pool_size=(2,2), strides=(2,2)))\n",
    "    \n",
    "    \n",
    "    model.add(Conv2D(64, (3,3),padding='same', activation='elu'))\n",
    "    model.add(MaxPooling2D(pool_size=(2,2), strides=(2,2)))\n",
    "\n",
    "    model.add(Flatten())\n",
    "\n",
    "    model.add(Dense(256, activation='elu'))\n",
    "    model.add(Dropout(0.25))\n",
    "  \n",
    "  \n",
    "    model.add(Dense(NUM_CLASSES, activation=\"softmax\"))\n",
    "    \n",
    "    \n",
    "    return model"
   ]
  },
  {
   "cell_type": "code",
   "execution_count": 146,
   "metadata": {
    "colab": {
     "base_uri": "https://localhost:8080/",
     "height": 408
    },
    "colab_type": "code",
    "id": "6OJ26IIAu15g",
    "outputId": "dc5d7a2f-5757-468c-cd38-b5972f16da4e"
   },
   "outputs": [
    {
     "name": "stdout",
     "output_type": "stream",
     "text": [
      "_________________________________________________________________\n",
      "Layer (type)                 Output Shape              Param #   \n",
      "=================================================================\n",
      "conv2d_1 (Conv2D)            (None, 128, 128, 32)      320       \n",
      "_________________________________________________________________\n",
      "max_pooling2d_1 (MaxPooling2 (None, 64, 64, 32)        0         \n",
      "_________________________________________________________________\n",
      "conv2d_2 (Conv2D)            (None, 64, 64, 64)        18496     \n",
      "_________________________________________________________________\n",
      "max_pooling2d_2 (MaxPooling2 (None, 32, 32, 64)        0         \n",
      "_________________________________________________________________\n",
      "flatten_1 (Flatten)          (None, 65536)             0         \n",
      "_________________________________________________________________\n",
      "dense_1 (Dense)              (None, 256)               16777472  \n",
      "_________________________________________________________________\n",
      "dropout_1 (Dropout)          (None, 256)               0         \n",
      "_________________________________________________________________\n",
      "dense_2 (Dense)              (None, 340)               87380     \n",
      "=================================================================\n",
      "Total params: 16,883,668\n",
      "Trainable params: 16,883,668\n",
      "Non-trainable params: 0\n",
      "_________________________________________________________________\n"
     ]
    }
   ],
   "source": [
    "# describe model\n",
    "s = reset_tf_session()  # clear default graph\n",
    "model = make_model()\n",
    "model.summary()"
   ]
  },
  {
   "cell_type": "code",
   "execution_count": 0,
   "metadata": {
    "colab": {},
    "colab_type": "code",
    "id": "1Q4GlvtVu12q"
   },
   "outputs": [],
   "source": [
    "# custom metrics we need\n",
    "from keras.metrics import categorical_accuracy, top_k_categorical_accuracy\n",
    "\n",
    "def top_3_accuracy(y_true, y_pred):\n",
    "    return top_k_categorical_accuracy(y_true, y_pred, k=3)"
   ]
  },
  {
   "cell_type": "code",
   "execution_count": 0,
   "metadata": {
    "colab": {},
    "colab_type": "code",
    "id": "s0M11UiPyIa8"
   },
   "outputs": [],
   "source": [
    "BATCH_SIZE = 512\n",
    "STEPS_PER_EPOCH = 100\n",
    "EPOCHS = 250 \n",
    "\n",
    "s = reset_tf_session()  # clear default graph\n",
    "model = make_model()  # define our model\n",
    "\n",
    "# prepare model for fitting (loss, optimizer, etc)\n",
    "model.compile(\n",
    "    loss='categorical_crossentropy',\n",
    "    optimizer=keras.optimizers.adam(clipnorm=5.),  # gradient clipping just in case\n",
    "    metrics=[categorical_accuracy, top_3_accuracy]  # report top 3 accuracy, correlates with MAP@3!\n",
    ")"
   ]
  },
  {
   "cell_type": "code",
   "execution_count": 0,
   "metadata": {
    "colab": {},
    "colab_type": "code",
    "id": "ucQ-2vdHyIkQ"
   },
   "outputs": [],
   "source": [
    "from tensorflow.keras.callbacks import EarlyStopping, ReduceLROnPlateau, ModelCheckpoint\n",
    "callbacks = [\n",
    "    EarlyStopping(monitor='top_3_accuracy', patience=15, min_delta=0.001, mode='max'),\n",
    "    ReduceLROnPlateau(monitor='top_3_accuracy', factor=0.5, patience=5, min_delta=0.005, mode='max', cooldown=3),\n",
    "    ModelCheckpoint(\"./CNN_3_dropout.model\",monitor='top_3_accuracy', mode = 'max', save_best_only=True, verbose=1)\n",
    "]"
   ]
  },
  {
   "cell_type": "code",
   "execution_count": 0,
   "metadata": {
    "colab": {},
    "colab_type": "code",
    "id": "VLndo8gEyIhm"
   },
   "outputs": [],
   "source": [
    "last_finished_epoch = 0\n",
    "\n",
    "# you can continue from snapshot!!!\n",
    "# from keras.models import load_model\n",
    "# s = reset_tf_session()\n",
    "# last_finished_epoch = 2\n",
    "# model = load_model(\"model_{}\".format(last_finished_epoch), \n",
    "#                    custom_objects={\"top_3_accuracy\": top_3_accuracy})"
   ]
  },
  {
   "cell_type": "code",
   "execution_count": 0,
   "metadata": {
    "colab": {
     "base_uri": "https://localhost:8080/",
     "height": 7633
    },
    "colab_type": "code",
    "id": "4SvqUuXgyRE7",
    "outputId": "4d027170-bc7f-48a3-bd78-d5cda2b6f635"
   },
   "outputs": [
    {
     "name": "stdout",
     "output_type": "stream",
     "text": [
      "Epoch 1/250\n",
      "100/100 [==============================] - 55s 548ms/step - loss: 4.6047 - categorical_accuracy: 0.1294 - top_3_accuracy: 0.2335\n",
      "\n",
      "Epoch 00001: top_3_accuracy improved from -inf to 0.23348, saving model to ./CNN_3_dropout.model\n",
      "Epoch 2/250\n",
      "100/100 [==============================] - 54s 540ms/step - loss: 3.6135 - categorical_accuracy: 0.2605 - top_3_accuracy: 0.4238\n",
      "\n",
      "Epoch 00002: top_3_accuracy improved from 0.23348 to 0.42377, saving model to ./CNN_3_dropout.model\n",
      "Epoch 3/250\n",
      "100/100 [==============================] - 54s 540ms/step - loss: 3.2490 - categorical_accuracy: 0.3213 - top_3_accuracy: 0.4953\n",
      "\n",
      "Epoch 00003: top_3_accuracy improved from 0.42377 to 0.49529, saving model to ./CNN_3_dropout.model\n",
      "Epoch 4/250\n",
      "100/100 [==============================] - 54s 539ms/step - loss: 3.0486 - categorical_accuracy: 0.3541 - top_3_accuracy: 0.5332\n",
      "\n",
      "Epoch 00004: top_3_accuracy improved from 0.49529 to 0.53324, saving model to ./CNN_3_dropout.model\n",
      "Epoch 5/250\n",
      "100/100 [==============================] - 54s 538ms/step - loss: 2.8849 - categorical_accuracy: 0.3810 - top_3_accuracy: 0.5666\n",
      "\n",
      "Epoch 00005: top_3_accuracy improved from 0.53324 to 0.56658, saving model to ./CNN_3_dropout.model\n",
      "Epoch 6/250\n",
      "100/100 [==============================] - 54s 540ms/step - loss: 2.7661 - categorical_accuracy: 0.4021 - top_3_accuracy: 0.5892\n",
      "\n",
      "Epoch 00006: top_3_accuracy improved from 0.56658 to 0.58920, saving model to ./CNN_3_dropout.model\n",
      "Epoch 7/250\n",
      "100/100 [==============================] - 54s 540ms/step - loss: 2.6987 - categorical_accuracy: 0.4120 - top_3_accuracy: 0.6012\n",
      "\n",
      "Epoch 00007: top_3_accuracy improved from 0.58920 to 0.60125, saving model to ./CNN_3_dropout.model\n",
      "Epoch 8/250\n",
      "100/100 [==============================] - 54s 541ms/step - loss: 2.5905 - categorical_accuracy: 0.4332 - top_3_accuracy: 0.6239\n",
      "\n",
      "Epoch 00008: top_3_accuracy improved from 0.60125 to 0.62395, saving model to ./CNN_3_dropout.model\n",
      "Epoch 9/250\n",
      "100/100 [==============================] - 54s 540ms/step - loss: 2.5323 - categorical_accuracy: 0.4389 - top_3_accuracy: 0.6334\n",
      "\n",
      "Epoch 00009: top_3_accuracy improved from 0.62395 to 0.63338, saving model to ./CNN_3_dropout.model\n",
      "Epoch 10/250\n",
      "100/100 [==============================] - 54s 539ms/step - loss: 2.5099 - categorical_accuracy: 0.4482 - top_3_accuracy: 0.6379\n",
      "\n",
      "Epoch 00010: top_3_accuracy improved from 0.63338 to 0.63785, saving model to ./CNN_3_dropout.model\n",
      "Epoch 11/250\n",
      "100/100 [==============================] - 54s 539ms/step - loss: 2.4379 - categorical_accuracy: 0.4604 - top_3_accuracy: 0.6526\n",
      "\n",
      "Epoch 00011: top_3_accuracy improved from 0.63785 to 0.65260, saving model to ./CNN_3_dropout.model\n",
      "Epoch 12/250\n",
      "100/100 [==============================] - 54s 536ms/step - loss: 2.4075 - categorical_accuracy: 0.4606 - top_3_accuracy: 0.6576\n",
      "\n",
      "Epoch 00012: top_3_accuracy improved from 0.65260 to 0.65756, saving model to ./CNN_3_dropout.model\n",
      "Epoch 13/250\n",
      "100/100 [==============================] - 54s 537ms/step - loss: 2.3476 - categorical_accuracy: 0.4754 - top_3_accuracy: 0.6700\n",
      "\n",
      "Epoch 00013: top_3_accuracy improved from 0.65756 to 0.67002, saving model to ./CNN_3_dropout.model\n",
      "Epoch 14/250\n",
      "100/100 [==============================] - 54s 537ms/step - loss: 2.3391 - categorical_accuracy: 0.4768 - top_3_accuracy: 0.6698\n",
      "\n",
      "Epoch 00014: top_3_accuracy did not improve from 0.67002\n",
      "Epoch 15/250\n",
      "100/100 [==============================] - 54s 538ms/step - loss: 2.3114 - categorical_accuracy: 0.4861 - top_3_accuracy: 0.6738\n",
      "\n",
      "Epoch 00015: top_3_accuracy improved from 0.67002 to 0.67381, saving model to ./CNN_3_dropout.model\n",
      "Epoch 16/250\n",
      "100/100 [==============================] - 54s 540ms/step - loss: 2.2952 - categorical_accuracy: 0.4855 - top_3_accuracy: 0.6802\n",
      "\n",
      "Epoch 00016: top_3_accuracy improved from 0.67381 to 0.68023, saving model to ./CNN_3_dropout.model\n",
      "Epoch 17/250\n",
      "100/100 [==============================] - 54s 539ms/step - loss: 2.2714 - categorical_accuracy: 0.4904 - top_3_accuracy: 0.6838\n",
      "\n",
      "Epoch 00017: top_3_accuracy improved from 0.68023 to 0.68383, saving model to ./CNN_3_dropout.model\n",
      "Epoch 18/250\n",
      "100/100 [==============================] - 54s 539ms/step - loss: 2.2312 - categorical_accuracy: 0.4968 - top_3_accuracy: 0.6887\n",
      "\n",
      "Epoch 00018: top_3_accuracy improved from 0.68383 to 0.68875, saving model to ./CNN_3_dropout.model\n",
      "Epoch 19/250\n",
      "100/100 [==============================] - 54s 539ms/step - loss: 2.2123 - categorical_accuracy: 0.5014 - top_3_accuracy: 0.6939\n",
      "\n",
      "Epoch 00019: top_3_accuracy improved from 0.68875 to 0.69389, saving model to ./CNN_3_dropout.model\n",
      "Epoch 20/250\n",
      "100/100 [==============================] - 54s 537ms/step - loss: 2.1841 - categorical_accuracy: 0.5057 - top_3_accuracy: 0.6974\n",
      "\n",
      "Epoch 00020: top_3_accuracy improved from 0.69389 to 0.69738, saving model to ./CNN_3_dropout.model\n",
      "Epoch 21/250\n",
      "100/100 [==============================] - 54s 540ms/step - loss: 2.1765 - categorical_accuracy: 0.5093 - top_3_accuracy: 0.6991\n",
      "\n",
      "Epoch 00021: top_3_accuracy improved from 0.69738 to 0.69906, saving model to ./CNN_3_dropout.model\n",
      "Epoch 22/250\n",
      "100/100 [==============================] - 54s 541ms/step - loss: 2.1550 - categorical_accuracy: 0.5119 - top_3_accuracy: 0.7035\n",
      "\n",
      "Epoch 00022: top_3_accuracy improved from 0.69906 to 0.70348, saving model to ./CNN_3_dropout.model\n",
      "Epoch 23/250\n",
      "100/100 [==============================] - 54s 540ms/step - loss: 2.1419 - categorical_accuracy: 0.5210 - top_3_accuracy: 0.7072\n",
      "\n",
      "Epoch 00023: top_3_accuracy improved from 0.70348 to 0.70717, saving model to ./CNN_3_dropout.model\n",
      "Epoch 24/250\n",
      "100/100 [==============================] - 54s 539ms/step - loss: 2.1179 - categorical_accuracy: 0.5214 - top_3_accuracy: 0.7128\n",
      "\n",
      "Epoch 00024: top_3_accuracy improved from 0.70717 to 0.71275, saving model to ./CNN_3_dropout.model\n",
      "Epoch 25/250\n",
      "100/100 [==============================] - 54s 540ms/step - loss: 2.0971 - categorical_accuracy: 0.5227 - top_3_accuracy: 0.7148\n",
      "\n",
      "Epoch 00025: top_3_accuracy improved from 0.71275 to 0.71479, saving model to ./CNN_3_dropout.model\n",
      "Epoch 26/250\n",
      "100/100 [==============================] - 54s 537ms/step - loss: 2.0820 - categorical_accuracy: 0.5308 - top_3_accuracy: 0.7194\n",
      "\n",
      "Epoch 00026: top_3_accuracy improved from 0.71479 to 0.71941, saving model to ./CNN_3_dropout.model\n",
      "Epoch 27/250\n",
      "100/100 [==============================] - 54s 537ms/step - loss: 2.0714 - categorical_accuracy: 0.5261 - top_3_accuracy: 0.7185\n",
      "\n",
      "Epoch 00027: top_3_accuracy did not improve from 0.71941\n",
      "Epoch 28/250\n",
      "100/100 [==============================] - 54s 538ms/step - loss: 2.0862 - categorical_accuracy: 0.5293 - top_3_accuracy: 0.7144\n",
      "\n",
      "Epoch 00028: top_3_accuracy did not improve from 0.71941\n",
      "Epoch 29/250\n",
      "100/100 [==============================] - 54s 537ms/step - loss: 2.0659 - categorical_accuracy: 0.5327 - top_3_accuracy: 0.7216\n",
      "\n",
      "Epoch 00029: top_3_accuracy improved from 0.71941 to 0.72162, saving model to ./CNN_3_dropout.model\n",
      "Epoch 30/250\n",
      "100/100 [==============================] - 54s 538ms/step - loss: 2.0303 - categorical_accuracy: 0.5357 - top_3_accuracy: 0.7264\n",
      "\n",
      "Epoch 00030: top_3_accuracy improved from 0.72162 to 0.72639, saving model to ./CNN_3_dropout.model\n",
      "Epoch 31/250\n",
      "100/100 [==============================] - 54s 538ms/step - loss: 2.0303 - categorical_accuracy: 0.5375 - top_3_accuracy: 0.7280\n",
      "\n",
      "Epoch 00031: top_3_accuracy improved from 0.72639 to 0.72805, saving model to ./CNN_3_dropout.model\n",
      "Epoch 32/250\n",
      "100/100 [==============================] - 54s 539ms/step - loss: 2.0147 - categorical_accuracy: 0.5416 - top_3_accuracy: 0.7295\n",
      "\n",
      "Epoch 00032: top_3_accuracy improved from 0.72805 to 0.72951, saving model to ./CNN_3_dropout.model\n",
      "Epoch 33/250\n",
      "100/100 [==============================] - 54s 540ms/step - loss: 2.0134 - categorical_accuracy: 0.5429 - top_3_accuracy: 0.7328\n",
      "\n",
      "Epoch 00033: top_3_accuracy improved from 0.72951 to 0.73277, saving model to ./CNN_3_dropout.model\n",
      "Epoch 34/250\n",
      "100/100 [==============================] - 54s 541ms/step - loss: 2.0196 - categorical_accuracy: 0.5389 - top_3_accuracy: 0.7296\n",
      "\n",
      "Epoch 00034: top_3_accuracy did not improve from 0.73277\n",
      "Epoch 35/250\n",
      "100/100 [==============================] - 54s 538ms/step - loss: 1.9945 - categorical_accuracy: 0.5456 - top_3_accuracy: 0.7328\n",
      "\n",
      "Epoch 00035: top_3_accuracy did not improve from 0.73277\n",
      "Epoch 36/250\n",
      "100/100 [==============================] - 54s 537ms/step - loss: 1.9870 - categorical_accuracy: 0.5474 - top_3_accuracy: 0.7339\n",
      "\n",
      "Epoch 00036: top_3_accuracy improved from 0.73277 to 0.73387, saving model to ./CNN_3_dropout.model\n",
      "Epoch 37/250\n",
      "100/100 [==============================] - 54s 540ms/step - loss: 2.0038 - categorical_accuracy: 0.5413 - top_3_accuracy: 0.7329\n",
      "\n",
      "Epoch 00037: top_3_accuracy did not improve from 0.73387\n",
      "Epoch 38/250\n",
      "100/100 [==============================] - 54s 539ms/step - loss: 1.9971 - categorical_accuracy: 0.5447 - top_3_accuracy: 0.7335\n",
      "\n",
      "Epoch 00038: top_3_accuracy did not improve from 0.73387\n",
      "Epoch 39/250\n",
      "100/100 [==============================] - 54s 540ms/step - loss: 1.9502 - categorical_accuracy: 0.5570 - top_3_accuracy: 0.7423\n",
      "\n",
      "Epoch 00039: top_3_accuracy improved from 0.73387 to 0.74227, saving model to ./CNN_3_dropout.model\n",
      "Epoch 40/250\n",
      "100/100 [==============================] - 54s 540ms/step - loss: 1.9294 - categorical_accuracy: 0.5618 - top_3_accuracy: 0.7453\n",
      "\n",
      "Epoch 00040: top_3_accuracy improved from 0.74227 to 0.74531, saving model to ./CNN_3_dropout.model\n",
      "Epoch 41/250\n",
      "100/100 [==============================] - 54s 540ms/step - loss: 1.9274 - categorical_accuracy: 0.5618 - top_3_accuracy: 0.7460\n",
      "\n",
      "Epoch 00041: top_3_accuracy improved from 0.74531 to 0.74598, saving model to ./CNN_3_dropout.model\n",
      "Epoch 42/250\n",
      "100/100 [==============================] - 54s 537ms/step - loss: 1.8874 - categorical_accuracy: 0.5708 - top_3_accuracy: 0.7537\n",
      "\n",
      "Epoch 00042: top_3_accuracy improved from 0.74598 to 0.75371, saving model to ./CNN_3_dropout.model\n",
      "Epoch 43/250\n",
      "100/100 [==============================] - 54s 537ms/step - loss: 1.9316 - categorical_accuracy: 0.5645 - top_3_accuracy: 0.7468\n",
      "\n",
      "Epoch 00043: top_3_accuracy did not improve from 0.75371\n",
      "Epoch 44/250\n",
      "100/100 [==============================] - 54s 538ms/step - loss: 1.9130 - categorical_accuracy: 0.5642 - top_3_accuracy: 0.7496\n",
      "\n",
      "Epoch 00044: top_3_accuracy did not improve from 0.75371\n",
      "Epoch 45/250\n",
      "100/100 [==============================] - 54s 539ms/step - loss: 1.8846 - categorical_accuracy: 0.5708 - top_3_accuracy: 0.7555\n",
      "\n",
      "Epoch 00045: top_3_accuracy improved from 0.75371 to 0.75549, saving model to ./CNN_3_dropout.model\n",
      "Epoch 46/250\n",
      "100/100 [==============================] - 54s 540ms/step - loss: 1.9000 - categorical_accuracy: 0.5682 - top_3_accuracy: 0.7517\n",
      "\n",
      "Epoch 00046: top_3_accuracy did not improve from 0.75549\n",
      "Epoch 47/250\n",
      "100/100 [==============================] - 54s 539ms/step - loss: 1.8860 - categorical_accuracy: 0.5663 - top_3_accuracy: 0.7531\n",
      "\n",
      "Epoch 00047: top_3_accuracy did not improve from 0.75549\n",
      "Epoch 48/250\n",
      "100/100 [==============================] - 54s 538ms/step - loss: 1.8792 - categorical_accuracy: 0.5698 - top_3_accuracy: 0.7548\n",
      "\n",
      "Epoch 00048: top_3_accuracy did not improve from 0.75549\n",
      "Epoch 49/250\n",
      "100/100 [==============================] - 54s 538ms/step - loss: 1.8454 - categorical_accuracy: 0.5815 - top_3_accuracy: 0.7618\n",
      "\n",
      "Epoch 00049: top_3_accuracy improved from 0.75549 to 0.76176, saving model to ./CNN_3_dropout.model\n",
      "Epoch 50/250\n",
      "100/100 [==============================] - 54s 541ms/step - loss: 1.8478 - categorical_accuracy: 0.5776 - top_3_accuracy: 0.7588\n",
      "\n",
      "Epoch 00050: top_3_accuracy did not improve from 0.76176\n",
      "Epoch 51/250\n",
      "100/100 [==============================] - 54s 540ms/step - loss: 1.8404 - categorical_accuracy: 0.5768 - top_3_accuracy: 0.7629\n",
      "\n",
      "Epoch 00051: top_3_accuracy improved from 0.76176 to 0.76295, saving model to ./CNN_3_dropout.model\n",
      "Epoch 52/250\n",
      "100/100 [==============================] - 54s 540ms/step - loss: 1.8225 - categorical_accuracy: 0.5821 - top_3_accuracy: 0.7648\n",
      "\n",
      "Epoch 00052: top_3_accuracy improved from 0.76295 to 0.76482, saving model to ./CNN_3_dropout.model\n",
      "Epoch 53/250\n",
      "100/100 [==============================] - 54s 539ms/step - loss: 1.8430 - categorical_accuracy: 0.5780 - top_3_accuracy: 0.7595\n",
      "\n",
      "Epoch 00053: top_3_accuracy did not improve from 0.76482\n",
      "Epoch 54/250\n",
      "100/100 [==============================] - 54s 537ms/step - loss: 1.8232 - categorical_accuracy: 0.5849 - top_3_accuracy: 0.7654\n",
      "\n",
      "Epoch 00054: top_3_accuracy improved from 0.76482 to 0.76537, saving model to ./CNN_3_dropout.model\n",
      "Epoch 55/250\n",
      "100/100 [==============================] - 54s 537ms/step - loss: 1.8076 - categorical_accuracy: 0.5850 - top_3_accuracy: 0.7665\n",
      "\n",
      "Epoch 00055: top_3_accuracy improved from 0.76537 to 0.76654, saving model to ./CNN_3_dropout.model\n",
      "Epoch 56/250\n",
      "100/100 [==============================] - 54s 537ms/step - loss: 1.8024 - categorical_accuracy: 0.5881 - top_3_accuracy: 0.7681\n",
      "\n",
      "Epoch 00056: top_3_accuracy improved from 0.76654 to 0.76807, saving model to ./CNN_3_dropout.model\n",
      "Epoch 57/250\n",
      "100/100 [==============================] - 54s 540ms/step - loss: 1.8010 - categorical_accuracy: 0.5915 - top_3_accuracy: 0.7697\n",
      "\n",
      "Epoch 00057: top_3_accuracy improved from 0.76807 to 0.76967, saving model to ./CNN_3_dropout.model\n",
      "Epoch 58/250\n",
      "100/100 [==============================] - 54s 540ms/step - loss: 1.8113 - categorical_accuracy: 0.5881 - top_3_accuracy: 0.7682\n",
      "\n",
      "Epoch 00058: top_3_accuracy did not improve from 0.76967\n",
      "Epoch 59/250\n",
      "100/100 [==============================] - 54s 541ms/step - loss: 1.8212 - categorical_accuracy: 0.5851 - top_3_accuracy: 0.7635\n",
      "\n",
      "Epoch 00059: top_3_accuracy did not improve from 0.76967\n",
      "Epoch 60/250\n",
      "100/100 [==============================] - 54s 539ms/step - loss: 1.7976 - categorical_accuracy: 0.5882 - top_3_accuracy: 0.7674\n",
      "\n",
      "Epoch 00060: top_3_accuracy did not improve from 0.76967\n",
      "Epoch 61/250\n",
      "100/100 [==============================] - 54s 538ms/step - loss: 1.8073 - categorical_accuracy: 0.5874 - top_3_accuracy: 0.7671\n",
      "\n",
      "Epoch 00061: top_3_accuracy did not improve from 0.76967\n",
      "Epoch 62/250\n",
      "100/100 [==============================] - 54s 540ms/step - loss: 1.7949 - categorical_accuracy: 0.5928 - top_3_accuracy: 0.7698\n",
      "\n",
      "Epoch 00062: top_3_accuracy improved from 0.76967 to 0.76977, saving model to ./CNN_3_dropout.model\n",
      "Epoch 63/250\n",
      "100/100 [==============================] - 54s 540ms/step - loss: 1.7893 - categorical_accuracy: 0.5893 - top_3_accuracy: 0.7688\n",
      "\n",
      "Epoch 00063: top_3_accuracy did not improve from 0.76977\n",
      "Epoch 64/250\n",
      "100/100 [==============================] - 54s 539ms/step - loss: 1.7971 - categorical_accuracy: 0.5905 - top_3_accuracy: 0.7693\n",
      "\n",
      "Epoch 00064: top_3_accuracy did not improve from 0.76977\n",
      "Epoch 65/250\n",
      "100/100 [==============================] - 54s 540ms/step - loss: 1.8009 - categorical_accuracy: 0.5916 - top_3_accuracy: 0.7682\n",
      "\n",
      "Epoch 00065: top_3_accuracy did not improve from 0.76977\n",
      "Epoch 66/250\n",
      "100/100 [==============================] - 54s 539ms/step - loss: 1.8031 - categorical_accuracy: 0.5900 - top_3_accuracy: 0.7685\n",
      "\n",
      "Epoch 00066: top_3_accuracy did not improve from 0.76977\n",
      "Epoch 67/250\n",
      "100/100 [==============================] - 54s 537ms/step - loss: 1.7986 - categorical_accuracy: 0.5906 - top_3_accuracy: 0.7684\n",
      "\n",
      "Epoch 00067: top_3_accuracy did not improve from 0.76977\n",
      "Epoch 68/250\n",
      "100/100 [==============================] - 54s 538ms/step - loss: 1.7902 - categorical_accuracy: 0.5909 - top_3_accuracy: 0.7689\n",
      "\n",
      "Epoch 00068: top_3_accuracy did not improve from 0.76977\n",
      "Epoch 69/250\n",
      "100/100 [==============================] - 54s 537ms/step - loss: 1.7926 - categorical_accuracy: 0.5914 - top_3_accuracy: 0.7706\n",
      "\n",
      "Epoch 00069: top_3_accuracy improved from 0.76977 to 0.77061, saving model to ./CNN_3_dropout.model\n",
      "Epoch 70/250\n",
      "100/100 [==============================] - 54s 539ms/step - loss: 1.7921 - categorical_accuracy: 0.5937 - top_3_accuracy: 0.7719\n",
      "\n",
      "Epoch 00070: top_3_accuracy improved from 0.77061 to 0.77193, saving model to ./CNN_3_dropout.model\n",
      "Epoch 71/250\n",
      "100/100 [==============================] - 54s 540ms/step - loss: 1.7874 - categorical_accuracy: 0.5922 - top_3_accuracy: 0.7714\n",
      "\n",
      "Epoch 00071: top_3_accuracy did not improve from 0.77193\n",
      "Epoch 72/250\n",
      "100/100 [==============================] - 54s 540ms/step - loss: 1.7974 - categorical_accuracy: 0.5920 - top_3_accuracy: 0.7694\n",
      "\n",
      "Epoch 00072: top_3_accuracy did not improve from 0.77193\n",
      "Epoch 73/250\n",
      "100/100 [==============================] - 54s 541ms/step - loss: 1.7807 - categorical_accuracy: 0.5966 - top_3_accuracy: 0.7724\n",
      "\n",
      "Epoch 00073: top_3_accuracy improved from 0.77193 to 0.77240, saving model to ./CNN_3_dropout.model\n",
      "Epoch 74/250\n",
      "100/100 [==============================] - 54s 538ms/step - loss: 1.8100 - categorical_accuracy: 0.5868 - top_3_accuracy: 0.7659\n",
      "\n",
      "Epoch 00074: top_3_accuracy did not improve from 0.77240\n",
      "Epoch 75/250\n",
      "100/100 [==============================] - 54s 540ms/step - loss: 1.7907 - categorical_accuracy: 0.5905 - top_3_accuracy: 0.7696\n",
      "\n",
      "Epoch 00075: top_3_accuracy did not improve from 0.77240\n",
      "Epoch 76/250\n",
      "100/100 [==============================] - 54s 538ms/step - loss: 1.8031 - categorical_accuracy: 0.5916 - top_3_accuracy: 0.7694\n",
      "\n",
      "Epoch 00076: top_3_accuracy did not improve from 0.77240\n",
      "Epoch 77/250\n",
      "100/100 [==============================] - 54s 539ms/step - loss: 1.7843 - categorical_accuracy: 0.5934 - top_3_accuracy: 0.7713\n",
      "\n",
      "Epoch 00077: top_3_accuracy did not improve from 0.77240\n",
      "Epoch 78/250\n",
      "100/100 [==============================] - 54s 541ms/step - loss: 1.7859 - categorical_accuracy: 0.5947 - top_3_accuracy: 0.7709\n",
      "\n",
      "Epoch 00078: top_3_accuracy did not improve from 0.77240\n",
      "Epoch 79/250\n",
      "100/100 [==============================] - 54s 541ms/step - loss: 1.7795 - categorical_accuracy: 0.5971 - top_3_accuracy: 0.7712\n",
      "\n",
      "Epoch 00079: top_3_accuracy did not improve from 0.77240\n",
      "Epoch 80/250\n",
      "100/100 [==============================] - 54s 537ms/step - loss: 1.7879 - categorical_accuracy: 0.5960 - top_3_accuracy: 0.7717\n",
      "\n",
      "Epoch 00080: top_3_accuracy did not improve from 0.77240\n",
      "Epoch 81/250\n",
      "100/100 [==============================] - 54s 538ms/step - loss: 1.7735 - categorical_accuracy: 0.5958 - top_3_accuracy: 0.7713\n",
      "\n",
      "Epoch 00081: top_3_accuracy did not improve from 0.77240\n",
      "Epoch 82/250\n",
      "100/100 [==============================] - 54s 537ms/step - loss: 1.7915 - categorical_accuracy: 0.5922 - top_3_accuracy: 0.7718\n",
      "\n",
      "Epoch 00082: top_3_accuracy did not improve from 0.77240\n",
      "Epoch 83/250\n",
      "100/100 [==============================] - 54s 537ms/step - loss: 1.7616 - categorical_accuracy: 0.5963 - top_3_accuracy: 0.7746\n",
      "\n",
      "Epoch 00083: top_3_accuracy improved from 0.77240 to 0.77463, saving model to ./CNN_3_dropout.model\n",
      "Epoch 84/250\n",
      "100/100 [==============================] - 54s 540ms/step - loss: 1.7705 - categorical_accuracy: 0.5943 - top_3_accuracy: 0.7732\n",
      "\n",
      "Epoch 00084: top_3_accuracy did not improve from 0.77463\n",
      "Epoch 85/250\n",
      "100/100 [==============================] - 54s 540ms/step - loss: 1.7658 - categorical_accuracy: 0.5965 - top_3_accuracy: 0.7732\n",
      "\n",
      "Epoch 00085: top_3_accuracy did not improve from 0.77463\n",
      "Epoch 86/250\n",
      "100/100 [==============================] - 54s 541ms/step - loss: 1.7763 - categorical_accuracy: 0.5968 - top_3_accuracy: 0.7739\n",
      "\n",
      "Epoch 00086: top_3_accuracy did not improve from 0.77463\n",
      "Epoch 87/250\n",
      "100/100 [==============================] - 54s 539ms/step - loss: 1.7868 - categorical_accuracy: 0.5908 - top_3_accuracy: 0.7700\n",
      "\n",
      "Epoch 00087: top_3_accuracy did not improve from 0.77463\n",
      "Epoch 88/250\n",
      "100/100 [==============================] - 54s 538ms/step - loss: 1.7850 - categorical_accuracy: 0.5916 - top_3_accuracy: 0.7709\n",
      "\n",
      "Epoch 00088: top_3_accuracy did not improve from 0.77463\n",
      "Epoch 89/250\n",
      "100/100 [==============================] - 54s 540ms/step - loss: 1.7784 - categorical_accuracy: 0.5941 - top_3_accuracy: 0.7723\n",
      "\n",
      "Epoch 00089: top_3_accuracy did not improve from 0.77463\n",
      "Epoch 90/250\n",
      "100/100 [==============================] - 54s 540ms/step - loss: 1.7868 - categorical_accuracy: 0.5928 - top_3_accuracy: 0.7690\n",
      "\n",
      "Epoch 00090: top_3_accuracy did not improve from 0.77463\n",
      "Epoch 91/250\n",
      "100/100 [==============================] - 54s 540ms/step - loss: 1.7705 - categorical_accuracy: 0.5982 - top_3_accuracy: 0.7741\n",
      "\n",
      "Epoch 00091: top_3_accuracy did not improve from 0.77463\n",
      "Epoch 92/250\n",
      "100/100 [==============================] - 54s 539ms/step - loss: 1.7587 - categorical_accuracy: 0.5959 - top_3_accuracy: 0.7754\n",
      "\n",
      "Epoch 00092: top_3_accuracy improved from 0.77463 to 0.77539, saving model to ./CNN_3_dropout.model\n",
      "Epoch 93/250\n",
      "100/100 [==============================] - 54s 540ms/step - loss: 1.7938 - categorical_accuracy: 0.5897 - top_3_accuracy: 0.7700\n",
      "\n",
      "Epoch 00093: top_3_accuracy did not improve from 0.77539\n",
      "Epoch 94/250\n",
      "100/100 [==============================] - 54s 537ms/step - loss: 1.7729 - categorical_accuracy: 0.6000 - top_3_accuracy: 0.7744\n",
      "\n",
      "Epoch 00094: top_3_accuracy did not improve from 0.77539\n",
      "Epoch 95/250\n",
      "100/100 [==============================] - 54s 537ms/step - loss: 1.7675 - categorical_accuracy: 0.5954 - top_3_accuracy: 0.7726\n",
      "\n",
      "Epoch 00095: top_3_accuracy did not improve from 0.77539\n",
      "Epoch 96/250\n",
      "100/100 [==============================] - 54s 537ms/step - loss: 1.7641 - categorical_accuracy: 0.5970 - top_3_accuracy: 0.7734\n",
      "\n",
      "Epoch 00096: top_3_accuracy did not improve from 0.77539\n",
      "Epoch 97/250\n",
      "100/100 [==============================] - 54s 538ms/step - loss: 1.7742 - categorical_accuracy: 0.5944 - top_3_accuracy: 0.7757\n",
      "\n",
      "Epoch 00097: top_3_accuracy improved from 0.77539 to 0.77566, saving model to ./CNN_3_dropout.model\n",
      "Epoch 98/250\n",
      "100/100 [==============================] - 54s 540ms/step - loss: 1.7791 - categorical_accuracy: 0.5943 - top_3_accuracy: 0.7733\n",
      "\n",
      "Epoch 00098: top_3_accuracy did not improve from 0.77566\n",
      "Epoch 99/250\n",
      "100/100 [==============================] - 54s 540ms/step - loss: 1.7666 - categorical_accuracy: 0.5949 - top_3_accuracy: 0.7724\n",
      "\n",
      "Epoch 00099: top_3_accuracy did not improve from 0.77566\n",
      "Epoch 100/250\n",
      "100/100 [==============================] - 54s 540ms/step - loss: 1.7794 - categorical_accuracy: 0.5945 - top_3_accuracy: 0.7696\n",
      "\n",
      "Epoch 00100: top_3_accuracy did not improve from 0.77566\n",
      "Epoch 101/250\n",
      "100/100 [==============================] - 54s 539ms/step - loss: 1.7963 - categorical_accuracy: 0.5892 - top_3_accuracy: 0.7685\n",
      "\n",
      "Epoch 00101: top_3_accuracy did not improve from 0.77566\n",
      "Epoch 102/250\n",
      "100/100 [==============================] - 54s 538ms/step - loss: 1.7744 - categorical_accuracy: 0.5927 - top_3_accuracy: 0.7720\n",
      "\n",
      "Epoch 00102: top_3_accuracy did not improve from 0.77566\n",
      "Epoch 103/250\n",
      "100/100 [==============================] - 54s 538ms/step - loss: 1.7662 - categorical_accuracy: 0.5965 - top_3_accuracy: 0.7734\n",
      "\n",
      "Epoch 00103: top_3_accuracy did not improve from 0.77566\n",
      "Epoch 104/250\n",
      "100/100 [==============================] - 54s 540ms/step - loss: 1.7843 - categorical_accuracy: 0.5927 - top_3_accuracy: 0.7715\n",
      "\n",
      "Epoch 00104: top_3_accuracy did not improve from 0.77566\n",
      "Epoch 105/250\n",
      "100/100 [==============================] - 54s 539ms/step - loss: 1.7802 - categorical_accuracy: 0.5960 - top_3_accuracy: 0.7706\n",
      "\n",
      "Epoch 00105: top_3_accuracy did not improve from 0.77566\n",
      "Epoch 106/250\n",
      "100/100 [==============================] - 54s 540ms/step - loss: 1.7839 - categorical_accuracy: 0.5934 - top_3_accuracy: 0.7709\n",
      "\n",
      "Epoch 00106: top_3_accuracy did not improve from 0.77566\n",
      "Epoch 107/250\n",
      "100/100 [==============================] - 54s 538ms/step - loss: 1.7758 - categorical_accuracy: 0.5971 - top_3_accuracy: 0.7723\n",
      "\n",
      "Epoch 00107: top_3_accuracy did not improve from 0.77566\n",
      "Epoch 108/250\n",
      "100/100 [==============================] - 54s 536ms/step - loss: 1.7736 - categorical_accuracy: 0.5957 - top_3_accuracy: 0.7727\n",
      "\n",
      "Epoch 00108: top_3_accuracy did not improve from 0.77566\n",
      "Epoch 109/250\n",
      "100/100 [==============================] - 54s 538ms/step - loss: 1.7949 - categorical_accuracy: 0.5940 - top_3_accuracy: 0.7726\n",
      "\n",
      "Epoch 00109: top_3_accuracy did not improve from 0.77566\n",
      "Epoch 110/250\n",
      "100/100 [==============================] - 54s 537ms/step - loss: 1.7801 - categorical_accuracy: 0.5939 - top_3_accuracy: 0.7711\n",
      "\n",
      "Epoch 00110: top_3_accuracy did not improve from 0.77566\n",
      "Epoch 111/250\n",
      "100/100 [==============================] - 54s 538ms/step - loss: 1.7715 - categorical_accuracy: 0.5943 - top_3_accuracy: 0.7732\n",
      "\n",
      "Epoch 00111: top_3_accuracy did not improve from 0.77566\n",
      "Epoch 112/250\n",
      "100/100 [==============================] - 54s 540ms/step - loss: 1.7823 - categorical_accuracy: 0.5927 - top_3_accuracy: 0.7711\n",
      "\n",
      "Epoch 00112: top_3_accuracy did not improve from 0.77566\n"
     ]
    }
   ],
   "source": [
    "# fit the model with our eternal generator!\n",
    "CNN_3_dropout = model.fit_generator(\n",
    "    train_iterator(BATCH_SIZE), \n",
    "    steps_per_epoch=STEPS_PER_EPOCH,\n",
    "    epochs=EPOCHS,\n",
    "    callbacks=callbacks,\n",
    "    verbose=1,\n",
    "    initial_epoch=last_finished_epoch\n",
    ")"
   ]
  },
  {
   "cell_type": "markdown",
   "metadata": {
    "colab_type": "text",
    "id": "fgTeWbR1DcAT"
   },
   "source": [
    "**Вывод:** Итоговое качество на Kaggle 0.67. Без регуляризации простая CNN работает лучше, хотя скорее всего на повышение качество повлиял именно batch_size"
   ]
  },
  {
   "cell_type": "markdown",
   "metadata": {
    "colab_type": "text",
    "id": "F1tBvplLILjs"
   },
   "source": [
    "#Эксперимент №4"
   ]
  },
  {
   "cell_type": "markdown",
   "metadata": {
    "colab_type": "text",
    "id": "b2p4nrYoIl-V"
   },
   "source": [
    "Так как простая CNN c двумя conv слоями дала хороший реузльтат (почти 0.7 на тестовых данных). В этом эксперименте добавлю еще несколько сверточных слоев для распознавания новых фильтров. "
   ]
  },
  {
   "cell_type": "code",
   "execution_count": 7,
   "metadata": {
    "colab": {
     "base_uri": "https://localhost:8080/",
     "height": 34
    },
    "colab_type": "code",
    "id": "bCVUtEQ6INE-",
    "outputId": "95ff3f40-5749-49db-9b63-be929566747f"
   },
   "outputs": [
    {
     "data": {
      "text/plain": [
       "['fence', 'yoga', 'horse', 'sandwich', 'cat']"
      ]
     },
     "execution_count": 7,
     "metadata": {
      "tags": []
     },
     "output_type": "execute_result"
    }
   ],
   "source": [
    "class_labels = map(lambda x: x.replace(\".csv\", \"\"), zf.namelist())\n",
    "class_labels[:5]"
   ]
  },
  {
   "cell_type": "code",
   "execution_count": 0,
   "metadata": {
    "colab": {},
    "colab_type": "code",
    "id": "Ca5JXAU3Itag"
   },
   "outputs": [],
   "source": [
    "# loop through file eternally\n",
    "def get_eternal_csv_generator(fn, debug=False):\n",
    "    while True:\n",
    "        with zf.open(fn) as f:\n",
    "            f.readline()  # skip header\n",
    "            for line in csv.reader(f, delimiter=',', quotechar='\"'):\n",
    "                yield line[1], line[5]\n",
    "            if debug:\n",
    "                print fn, \"is done, starting from the beginning...\""
   ]
  },
  {
   "cell_type": "code",
   "execution_count": 0,
   "metadata": {
    "colab": {},
    "colab_type": "code",
    "id": "m2yZ-zn_Itnu"
   },
   "outputs": [],
   "source": [
    "def raw_batch_generator(batch_size, debug=False):\n",
    "    generators = np.array([get_eternal_csv_generator(fn, debug) for fn in zf.namelist()])\n",
    "    while True:\n",
    "        random_indices = np.random.randint(0, len(generators), size=batch_size)\n",
    "        yield [gen.next() for gen in generators[random_indices]]"
   ]
  },
  {
   "cell_type": "code",
   "execution_count": 0,
   "metadata": {
    "colab": {},
    "colab_type": "code",
    "id": "G63tEqEeItvw"
   },
   "outputs": [],
   "source": [
    "# copy-paste from https://www.kaggle.com/jpmiller/image-based-cnn\n",
    "\n",
    "import ast\n",
    "from PIL import Image, ImageDraw\n",
    "import cv2\n",
    "\n",
    "IMG_SIZE = 128\n",
    "\n",
    "# faster conversion function\n",
    "def draw_it(strokes):\n",
    "    img = 255 * np.ones((256, 256), np.uint8)\n",
    "    for stroke in ast.literal_eval(strokes):\n",
    "        for i in range(len(stroke[0]) - 1):\n",
    "            _ = cv2.line(img, (stroke[0][i], stroke[1][i]), (stroke[0][i + 1], stroke[1][i + 1]), 0, 3)\n",
    "    return cv2.resize(img, (IMG_SIZE, IMG_SIZE))"
   ]
  },
  {
   "cell_type": "code",
   "execution_count": 0,
   "metadata": {
    "colab": {},
    "colab_type": "code",
    "id": "N2lA9awPItso"
   },
   "outputs": [],
   "source": [
    "def images_and_labels_generator(batch_size):\n",
    "    for batch in raw_batch_generator(batch_size):\n",
    "        batch_images = []\n",
    "        batch_labels = []\n",
    "        for e in batch:\n",
    "            batch_images.append(draw_it(e[0]))\n",
    "            batch_labels.append(e[1])\n",
    "        batch_images = np.stack(batch_images, axis=0)\n",
    "        yield batch_images, batch_labels"
   ]
  },
  {
   "cell_type": "code",
   "execution_count": 13,
   "metadata": {
    "colab": {
     "base_uri": "https://localhost:8080/",
     "height": 280
    },
    "colab_type": "code",
    "id": "Tvk-FQDWItkz",
    "outputId": "a0cec260-f364-45a7-df9b-06a2126a53f8"
   },
   "outputs": [
    {
     "data": {
      "image/png": "[encoded data removed]",
      "text/plain": [
       "<matplotlib.figure.Figure at 0x7fcab14e5fd0>"
      ]
     },
     "metadata": {
      "tags": []
     },
     "output_type": "display_data"
    }
   ],
   "source": [
    "b = images_and_labels_generator(32).next()\n",
    "plt.imshow(b[0][10, :, :])\n",
    "plt.title(b[1][10])\n",
    "plt.show()"
   ]
  },
  {
   "cell_type": "code",
   "execution_count": 0,
   "metadata": {
    "colab": {},
    "colab_type": "code",
    "id": "2onYoulOIth2"
   },
   "outputs": [],
   "source": [
    "def reset_tf_session():\n",
    "    curr_session = tf.get_default_session()\n",
    "    # close current session\n",
    "    if curr_session is not None:\n",
    "        curr_session.close()\n",
    "    # reset graph\n",
    "    K.clear_session()\n",
    "    # create new session\n",
    "    config = tf.ConfigProto()\n",
    "    config.gpu_options.allow_growth = True\n",
    "    s = tf.InteractiveSession(config=config)\n",
    "    K.set_session(s)\n",
    "    return s"
   ]
  },
  {
   "cell_type": "code",
   "execution_count": 15,
   "metadata": {
    "colab": {
     "base_uri": "https://localhost:8080/",
     "height": 102
    },
    "colab_type": "code",
    "id": "-uog8D60JFT_",
    "outputId": "3eb13b85-c81b-4db0-fa17-64dc1ea8ca53"
   },
   "outputs": [
    {
     "data": {
      "text/plain": [
       "[('snowman', 134),\n",
       " ('eyeglasses', 254),\n",
       " ('ceiling fan', 18),\n",
       " ('camel', 90),\n",
       " ('stove', 119)]"
      ]
     },
     "execution_count": 15,
     "metadata": {
      "tags": []
     },
     "output_type": "execute_result"
    }
   ],
   "source": [
    "NUM_CLASSES = len(class_labels)\n",
    "class_to_idx = {c: idx for idx, c in enumerate(class_labels)}\n",
    "class_to_idx.items()[:5]"
   ]
  },
  {
   "cell_type": "code",
   "execution_count": 0,
   "metadata": {
    "colab": {},
    "colab_type": "code",
    "id": "yORz9xucJFhv"
   },
   "outputs": [],
   "source": [
    "def train_iterator(batch_size):\n",
    "    for batch in images_and_labels_generator(batch_size):\n",
    "        images = batch[0].astype('float32')\n",
    "        images = images/ 255 - 0.5\n",
    "        images = np.expand_dims(images, -1)\n",
    "        labels = keras.utils.to_categorical(map(class_to_idx.get, batch[1]), NUM_CLASSES)\n",
    "        yield images, labels"
   ]
  },
  {
   "cell_type": "code",
   "execution_count": 19,
   "metadata": {
    "colab": {
     "base_uri": "https://localhost:8080/",
     "height": 51
    },
    "colab_type": "code",
    "id": "5xSu_SvDJFex",
    "outputId": "15aebf43-5597-4967-ccf8-7b729cef4ce3"
   },
   "outputs": [
    {
     "name": "stdout",
     "output_type": "stream",
     "text": [
      "(32, 128, 128, 1)\n",
      "(32, 340)\n"
     ]
    }
   ],
   "source": [
    "sample = train_iterator(32).next()\n",
    "print sample[0].shape\n",
    "print sample[1].shape"
   ]
  },
  {
   "cell_type": "code",
   "execution_count": 0,
   "metadata": {
    "colab": {},
    "colab_type": "code",
    "id": "jwx3NNL1JFbr"
   },
   "outputs": [],
   "source": [
    "def make_model():\n",
    "    \"\"\"\n",
    "    Define your model architecture here.\n",
    "    Returns `Sequential` model.\n",
    "    \"\"\"\n",
    "    model = Sequential()\n",
    "    \n",
    "    model.add(Conv2D(16, (3,3),padding='same', activation='relu', input_shape=(IMG_SIZE, IMG_SIZE, 1)))\n",
    "    model.add(MaxPooling2D(pool_size=(2,2), strides=(2,2)))\n",
    "    \n",
    "    model.add(Conv2D(32, (3,3), padding='same', activation='relu'))\n",
    "    model.add(MaxPooling2D(pool_size=(2,2), strides=(2,2)))\n",
    "     \n",
    "    model.add(Conv2D(32, (3,3), padding='same', activation='relu'))\n",
    "    model.add(MaxPooling2D(pool_size=(2,2), strides=(2,2)))\n",
    "    \n",
    "    model.add(Conv2D(64, (3,3),padding='same', activation='relu'))\n",
    "    model.add(MaxPooling2D(pool_size=(2,2), strides=(2,2)))\n",
    "    \n",
    "    model.add(Conv2D(128, (3,3),padding='same', activation='relu'))\n",
    "    model.add(MaxPooling2D(pool_size=(2,2), strides=(2,2)))\n",
    "    model.add(Dropout(0.2)) \n",
    "\n",
    "    model.add(Flatten())\n",
    "    \n",
    "    model.add(Dense(4098, activation='relu'))\n",
    "    model.add(Dropout(0.25))\n",
    " \n",
    "  \n",
    "    model.add(Dense(NUM_CLASSES, activation=\"softmax\"))\n",
    "    \n",
    "    \n",
    "    return model"
   ]
  },
  {
   "cell_type": "code",
   "execution_count": 150,
   "metadata": {
    "colab": {
     "base_uri": "https://localhost:8080/",
     "height": 646
    },
    "colab_type": "code",
    "id": "Nf0PFRn2JFYl",
    "outputId": "1bb67d09-3a18-4de9-8128-1e5a8d8e9e5a"
   },
   "outputs": [
    {
     "name": "stdout",
     "output_type": "stream",
     "text": [
      "_________________________________________________________________\n",
      "Layer (type)                 Output Shape              Param #   \n",
      "=================================================================\n",
      "conv2d_1 (Conv2D)            (None, 128, 128, 16)      160       \n",
      "_________________________________________________________________\n",
      "max_pooling2d_1 (MaxPooling2 (None, 64, 64, 16)        0         \n",
      "_________________________________________________________________\n",
      "conv2d_2 (Conv2D)            (None, 64, 64, 32)        4640      \n",
      "_________________________________________________________________\n",
      "max_pooling2d_2 (MaxPooling2 (None, 32, 32, 32)        0         \n",
      "_________________________________________________________________\n",
      "conv2d_3 (Conv2D)            (None, 32, 32, 32)        9248      \n",
      "_________________________________________________________________\n",
      "max_pooling2d_3 (MaxPooling2 (None, 16, 16, 32)        0         \n",
      "_________________________________________________________________\n",
      "conv2d_4 (Conv2D)            (None, 16, 16, 64)        18496     \n",
      "_________________________________________________________________\n",
      "max_pooling2d_4 (MaxPooling2 (None, 8, 8, 64)          0         \n",
      "_________________________________________________________________\n",
      "conv2d_5 (Conv2D)            (None, 8, 8, 128)         73856     \n",
      "_________________________________________________________________\n",
      "max_pooling2d_5 (MaxPooling2 (None, 4, 4, 128)         0         \n",
      "_________________________________________________________________\n",
      "dropout_1 (Dropout)          (None, 4, 4, 128)         0         \n",
      "_________________________________________________________________\n",
      "flatten_1 (Flatten)          (None, 2048)              0         \n",
      "_________________________________________________________________\n",
      "dense_1 (Dense)              (None, 4098)              8396802   \n",
      "_________________________________________________________________\n",
      "dropout_2 (Dropout)          (None, 4098)              0         \n",
      "_________________________________________________________________\n",
      "dense_2 (Dense)              (None, 340)               1393660   \n",
      "=================================================================\n",
      "Total params: 9,896,862\n",
      "Trainable params: 9,896,862\n",
      "Non-trainable params: 0\n",
      "_________________________________________________________________\n"
     ]
    }
   ],
   "source": [
    "# describe model\n",
    "s = reset_tf_session()  # clear default graph\n",
    "model = make_model()\n",
    "model.summary()"
   ]
  },
  {
   "cell_type": "code",
   "execution_count": 0,
   "metadata": {
    "colab": {},
    "colab_type": "code",
    "id": "fZlVX84nIte5"
   },
   "outputs": [],
   "source": [
    "# custom metrics we need\n",
    "from keras.metrics import categorical_accuracy, top_k_categorical_accuracy\n",
    "\n",
    "def top_3_accuracy(y_true, y_pred):\n",
    "    return top_k_categorical_accuracy(y_true, y_pred, k=3)"
   ]
  },
  {
   "cell_type": "code",
   "execution_count": 0,
   "metadata": {
    "colab": {},
    "colab_type": "code",
    "id": "Zun516LaJpbz"
   },
   "outputs": [],
   "source": [
    "BATCH_SIZE = 512\n",
    "STEPS_PER_EPOCH = 100\n",
    "EPOCHS = 250 \n",
    "\n",
    "s = reset_tf_session()  # clear default graph\n",
    "model = make_model()  # define our model\n",
    "\n",
    "# prepare model for fitting (loss, optimizer, etc)\n",
    "model.compile(\n",
    "    loss='categorical_crossentropy',\n",
    "    optimizer=keras.optimizers.adam(clipnorm=5.),  # gradient clipping just in case\n",
    "    metrics=[categorical_accuracy, top_3_accuracy]  # report top 3 accuracy, correlates with MAP@3!\n",
    ")"
   ]
  },
  {
   "cell_type": "code",
   "execution_count": 0,
   "metadata": {
    "colab": {},
    "colab_type": "code",
    "id": "UnWdRaDNJpkB"
   },
   "outputs": [],
   "source": [
    "from tensorflow.keras.callbacks import EarlyStopping, ReduceLROnPlateau, ModelCheckpoint\n",
    "callbacks = [\n",
    "    EarlyStopping(monitor='top_3_accuracy', patience=15, min_delta=0.001, mode='max'),\n",
    "    ReduceLROnPlateau(monitor='top_3_accuracy', factor=0.5, patience=5, min_delta=0.005, mode='max', cooldown=3),\n",
    "    ModelCheckpoint(\"./CNN_3_dropout.model\",monitor='top_3_accuracy', mode = 'max', save_best_only=True, verbose=1)\n",
    "]"
   ]
  },
  {
   "cell_type": "code",
   "execution_count": 0,
   "metadata": {
    "colab": {},
    "colab_type": "code",
    "id": "r4VL83pJJpgz"
   },
   "outputs": [],
   "source": [
    "last_finished_epoch = 0\n",
    "\n",
    "# you can continue from snapshot!!!\n",
    "# from keras.models import load_model\n",
    "# s = reset_tf_session()\n",
    "# last_finished_epoch = 2\n",
    "# model = load_model(\"model_{}\".format(last_finished_epoch), \n",
    "#                    custom_objects={\"top_3_accuracy\": top_3_accuracy})"
   ]
  },
  {
   "cell_type": "code",
   "execution_count": 46,
   "metadata": {
    "colab": {
     "base_uri": "https://localhost:8080/",
     "height": 6633
    },
    "colab_type": "code",
    "id": "3Eeeu5Q-JpYn",
    "outputId": "829f381d-f5db-4780-f3c6-ca08e242b702"
   },
   "outputs": [
    {
     "name": "stdout",
     "output_type": "stream",
     "text": [
      "Epoch 1/250\n",
      "100/100 [==============================] - 41s 413ms/step - loss: 4.6230 - categorical_accuracy: 0.1187 - top_3_accuracy: 0.2156\n",
      "\n",
      "Epoch 00001: top_3_accuracy improved from -inf to 0.21564, saving model to ./CNN_3_dropout.model\n",
      "Epoch 2/250\n",
      "100/100 [==============================] - 36s 356ms/step - loss: 3.0583 - categorical_accuracy: 0.3304 - top_3_accuracy: 0.5207\n",
      "\n",
      "Epoch 00002: top_3_accuracy improved from 0.21564 to 0.52070, saving model to ./CNN_3_dropout.model\n",
      "Epoch 3/250\n",
      "100/100 [==============================] - 36s 356ms/step - loss: 2.6246 - categorical_accuracy: 0.4065 - top_3_accuracy: 0.6072\n",
      "\n",
      "Epoch 00003: top_3_accuracy improved from 0.52070 to 0.60721, saving model to ./CNN_3_dropout.model\n",
      "Epoch 4/250\n",
      "100/100 [==============================] - 36s 356ms/step - loss: 2.3854 - categorical_accuracy: 0.4527 - top_3_accuracy: 0.6540\n",
      "\n",
      "Epoch 00004: top_3_accuracy improved from 0.60721 to 0.65396, saving model to ./CNN_3_dropout.model\n",
      "Epoch 5/250\n",
      "100/100 [==============================] - 36s 356ms/step - loss: 2.2144 - categorical_accuracy: 0.4854 - top_3_accuracy: 0.6887\n",
      "\n",
      "Epoch 00005: top_3_accuracy improved from 0.65396 to 0.68871, saving model to ./CNN_3_dropout.model\n",
      "Epoch 6/250\n",
      "100/100 [==============================] - 36s 356ms/step - loss: 2.1119 - categorical_accuracy: 0.5077 - top_3_accuracy: 0.7089\n",
      "\n",
      "Epoch 00006: top_3_accuracy improved from 0.68871 to 0.70895, saving model to ./CNN_3_dropout.model\n",
      "Epoch 7/250\n",
      "100/100 [==============================] - 36s 355ms/step - loss: 2.0433 - categorical_accuracy: 0.5228 - top_3_accuracy: 0.7223\n",
      "\n",
      "Epoch 00007: top_3_accuracy improved from 0.70895 to 0.72234, saving model to ./CNN_3_dropout.model\n",
      "Epoch 8/250\n",
      "100/100 [==============================] - 35s 354ms/step - loss: 1.9549 - categorical_accuracy: 0.5405 - top_3_accuracy: 0.7386\n",
      "\n",
      "Epoch 00008: top_3_accuracy improved from 0.72234 to 0.73857, saving model to ./CNN_3_dropout.model\n",
      "Epoch 9/250\n",
      "100/100 [==============================] - 36s 355ms/step - loss: 1.9091 - categorical_accuracy: 0.5501 - top_3_accuracy: 0.7468\n",
      "\n",
      "Epoch 00009: top_3_accuracy improved from 0.73857 to 0.74678, saving model to ./CNN_3_dropout.model\n",
      "Epoch 10/250\n",
      "100/100 [==============================] - 36s 356ms/step - loss: 1.8520 - categorical_accuracy: 0.5615 - top_3_accuracy: 0.7566\n",
      "\n",
      "Epoch 00010: top_3_accuracy improved from 0.74678 to 0.75658, saving model to ./CNN_3_dropout.model\n",
      "Epoch 11/250\n",
      "100/100 [==============================] - 36s 357ms/step - loss: 1.8371 - categorical_accuracy: 0.5639 - top_3_accuracy: 0.7594\n",
      "\n",
      "Epoch 00011: top_3_accuracy improved from 0.75658 to 0.75936, saving model to ./CNN_3_dropout.model\n",
      "Epoch 12/250\n",
      "100/100 [==============================] - 36s 359ms/step - loss: 1.7811 - categorical_accuracy: 0.5749 - top_3_accuracy: 0.7700\n",
      "\n",
      "Epoch 00012: top_3_accuracy improved from 0.75936 to 0.77004, saving model to ./CNN_3_dropout.model\n",
      "Epoch 13/250\n",
      "100/100 [==============================] - 36s 358ms/step - loss: 1.7601 - categorical_accuracy: 0.5790 - top_3_accuracy: 0.7727\n",
      "\n",
      "Epoch 00013: top_3_accuracy improved from 0.77004 to 0.77268, saving model to ./CNN_3_dropout.model\n",
      "Epoch 14/250\n",
      "100/100 [==============================] - 36s 358ms/step - loss: 1.7523 - categorical_accuracy: 0.5836 - top_3_accuracy: 0.7725\n",
      "\n",
      "Epoch 00014: top_3_accuracy did not improve from 0.77268\n",
      "Epoch 15/250\n",
      "100/100 [==============================] - 36s 358ms/step - loss: 1.7013 - categorical_accuracy: 0.5947 - top_3_accuracy: 0.7817\n",
      "\n",
      "Epoch 00015: top_3_accuracy improved from 0.77268 to 0.78174, saving model to ./CNN_3_dropout.model\n",
      "Epoch 16/250\n",
      "100/100 [==============================] - 36s 356ms/step - loss: 1.7045 - categorical_accuracy: 0.5954 - top_3_accuracy: 0.7824\n",
      "\n",
      "Epoch 00016: top_3_accuracy improved from 0.78174 to 0.78242, saving model to ./CNN_3_dropout.model\n",
      "Epoch 17/250\n",
      "100/100 [==============================] - 36s 357ms/step - loss: 1.6859 - categorical_accuracy: 0.5975 - top_3_accuracy: 0.7859\n",
      "\n",
      "Epoch 00017: top_3_accuracy improved from 0.78242 to 0.78592, saving model to ./CNN_3_dropout.model\n",
      "Epoch 18/250\n",
      "100/100 [==============================] - 36s 357ms/step - loss: 1.6503 - categorical_accuracy: 0.6030 - top_3_accuracy: 0.7914\n",
      "\n",
      "Epoch 00018: top_3_accuracy improved from 0.78592 to 0.79141, saving model to ./CNN_3_dropout.model\n",
      "Epoch 19/250\n",
      "100/100 [==============================] - 36s 359ms/step - loss: 1.6395 - categorical_accuracy: 0.6063 - top_3_accuracy: 0.7947\n",
      "\n",
      "Epoch 00019: top_3_accuracy improved from 0.79141 to 0.79475, saving model to ./CNN_3_dropout.model\n",
      "Epoch 20/250\n",
      "100/100 [==============================] - 36s 358ms/step - loss: 1.6303 - categorical_accuracy: 0.6087 - top_3_accuracy: 0.7949\n",
      "\n",
      "Epoch 00020: top_3_accuracy improved from 0.79475 to 0.79486, saving model to ./CNN_3_dropout.model\n",
      "Epoch 21/250\n",
      "100/100 [==============================] - 36s 358ms/step - loss: 1.6012 - categorical_accuracy: 0.6137 - top_3_accuracy: 0.8006\n",
      "\n",
      "Epoch 00021: top_3_accuracy improved from 0.79486 to 0.80057, saving model to ./CNN_3_dropout.model\n",
      "Epoch 22/250\n",
      "100/100 [==============================] - 36s 359ms/step - loss: 1.6005 - categorical_accuracy: 0.6149 - top_3_accuracy: 0.8004\n",
      "\n",
      "Epoch 00022: top_3_accuracy did not improve from 0.80057\n",
      "Epoch 23/250\n",
      "100/100 [==============================] - 36s 358ms/step - loss: 1.5847 - categorical_accuracy: 0.6201 - top_3_accuracy: 0.8008\n",
      "\n",
      "Epoch 00023: top_3_accuracy improved from 0.80057 to 0.80076, saving model to ./CNN_3_dropout.model\n",
      "Epoch 24/250\n",
      "100/100 [==============================] - 36s 358ms/step - loss: 1.5564 - categorical_accuracy: 0.6251 - top_3_accuracy: 0.8077\n",
      "\n",
      "Epoch 00024: top_3_accuracy improved from 0.80076 to 0.80770, saving model to ./CNN_3_dropout.model\n",
      "Epoch 25/250\n",
      "100/100 [==============================] - 36s 358ms/step - loss: 1.5516 - categorical_accuracy: 0.6233 - top_3_accuracy: 0.8104\n",
      "\n",
      "Epoch 00025: top_3_accuracy improved from 0.80770 to 0.81045, saving model to ./CNN_3_dropout.model\n",
      "Epoch 26/250\n",
      "100/100 [==============================] - 36s 357ms/step - loss: 1.5368 - categorical_accuracy: 0.6311 - top_3_accuracy: 0.8109\n",
      "\n",
      "Epoch 00026: top_3_accuracy improved from 0.81045 to 0.81090, saving model to ./CNN_3_dropout.model\n",
      "Epoch 27/250\n",
      "100/100 [==============================] - 36s 358ms/step - loss: 1.5303 - categorical_accuracy: 0.6290 - top_3_accuracy: 0.8125\n",
      "\n",
      "Epoch 00027: top_3_accuracy improved from 0.81090 to 0.81252, saving model to ./CNN_3_dropout.model\n",
      "Epoch 28/250\n",
      "100/100 [==============================] - 36s 358ms/step - loss: 1.5326 - categorical_accuracy: 0.6278 - top_3_accuracy: 0.8108\n",
      "\n",
      "Epoch 00028: top_3_accuracy did not improve from 0.81252\n",
      "Epoch 29/250\n",
      "100/100 [==============================] - 36s 359ms/step - loss: 1.5073 - categorical_accuracy: 0.6352 - top_3_accuracy: 0.8143\n",
      "\n",
      "Epoch 00029: top_3_accuracy improved from 0.81252 to 0.81430, saving model to ./CNN_3_dropout.model\n",
      "Epoch 30/250\n",
      "100/100 [==============================] - 36s 358ms/step - loss: 1.5113 - categorical_accuracy: 0.6342 - top_3_accuracy: 0.8136\n",
      "\n",
      "Epoch 00030: top_3_accuracy did not improve from 0.81430\n",
      "Epoch 31/250\n",
      "100/100 [==============================] - 36s 357ms/step - loss: 1.4808 - categorical_accuracy: 0.6382 - top_3_accuracy: 0.8194\n",
      "\n",
      "Epoch 00031: top_3_accuracy improved from 0.81430 to 0.81937, saving model to ./CNN_3_dropout.model\n",
      "Epoch 32/250\n",
      "100/100 [==============================] - 36s 359ms/step - loss: 1.4778 - categorical_accuracy: 0.6423 - top_3_accuracy: 0.8215\n",
      "\n",
      "Epoch 00032: top_3_accuracy improved from 0.81937 to 0.82152, saving model to ./CNN_3_dropout.model\n",
      "Epoch 33/250\n",
      "100/100 [==============================] - 36s 356ms/step - loss: 1.4745 - categorical_accuracy: 0.6431 - top_3_accuracy: 0.8210\n",
      "\n",
      "Epoch 00033: top_3_accuracy did not improve from 0.82152\n",
      "Epoch 34/250\n",
      "100/100 [==============================] - 36s 356ms/step - loss: 1.4702 - categorical_accuracy: 0.6449 - top_3_accuracy: 0.8220\n",
      "\n",
      "Epoch 00034: top_3_accuracy improved from 0.82152 to 0.82203, saving model to ./CNN_3_dropout.model\n",
      "Epoch 35/250\n",
      "100/100 [==============================] - 36s 356ms/step - loss: 1.4483 - categorical_accuracy: 0.6461 - top_3_accuracy: 0.8248\n",
      "\n",
      "Epoch 00035: top_3_accuracy improved from 0.82203 to 0.82477, saving model to ./CNN_3_dropout.model\n",
      "Epoch 36/250\n",
      "100/100 [==============================] - 36s 358ms/step - loss: 1.4584 - categorical_accuracy: 0.6463 - top_3_accuracy: 0.8230\n",
      "\n",
      "Epoch 00036: top_3_accuracy did not improve from 0.82477\n",
      "Epoch 37/250\n",
      "100/100 [==============================] - 36s 357ms/step - loss: 1.4554 - categorical_accuracy: 0.6468 - top_3_accuracy: 0.8254\n",
      "\n",
      "Epoch 00037: top_3_accuracy improved from 0.82477 to 0.82545, saving model to ./CNN_3_dropout.model\n",
      "Epoch 38/250\n",
      "100/100 [==============================] - 36s 358ms/step - loss: 1.4475 - categorical_accuracy: 0.6478 - top_3_accuracy: 0.8257\n",
      "\n",
      "Epoch 00038: top_3_accuracy improved from 0.82545 to 0.82566, saving model to ./CNN_3_dropout.model\n",
      "Epoch 39/250\n",
      "100/100 [==============================] - 36s 358ms/step - loss: 1.4635 - categorical_accuracy: 0.6432 - top_3_accuracy: 0.8232\n",
      "\n",
      "Epoch 00039: top_3_accuracy did not improve from 0.82566\n",
      "Epoch 40/250\n",
      "100/100 [==============================] - 36s 357ms/step - loss: 1.4305 - categorical_accuracy: 0.6496 - top_3_accuracy: 0.8277\n",
      "\n",
      "Epoch 00040: top_3_accuracy improved from 0.82566 to 0.82773, saving model to ./CNN_3_dropout.model\n",
      "Epoch 41/250\n",
      "100/100 [==============================] - 36s 359ms/step - loss: 1.4010 - categorical_accuracy: 0.6596 - top_3_accuracy: 0.8318\n",
      "\n",
      "Epoch 00041: top_3_accuracy improved from 0.82773 to 0.83184, saving model to ./CNN_3_dropout.model\n",
      "Epoch 42/250\n",
      "100/100 [==============================] - 36s 358ms/step - loss: 1.3822 - categorical_accuracy: 0.6637 - top_3_accuracy: 0.8340\n",
      "\n",
      "Epoch 00042: top_3_accuracy improved from 0.83184 to 0.83400, saving model to ./CNN_3_dropout.model\n",
      "Epoch 43/250\n",
      "100/100 [==============================] - 36s 359ms/step - loss: 1.3698 - categorical_accuracy: 0.6651 - top_3_accuracy: 0.8369\n",
      "\n",
      "Epoch 00043: top_3_accuracy improved from 0.83400 to 0.83686, saving model to ./CNN_3_dropout.model\n",
      "Epoch 44/250\n",
      "100/100 [==============================] - 36s 357ms/step - loss: 1.3647 - categorical_accuracy: 0.6689 - top_3_accuracy: 0.8385\n",
      "\n",
      "Epoch 00044: top_3_accuracy improved from 0.83686 to 0.83846, saving model to ./CNN_3_dropout.model\n",
      "Epoch 45/250\n",
      "100/100 [==============================] - 36s 359ms/step - loss: 1.3793 - categorical_accuracy: 0.6678 - top_3_accuracy: 0.8368\n",
      "\n",
      "Epoch 00045: top_3_accuracy did not improve from 0.83846\n",
      "Epoch 46/250\n",
      "100/100 [==============================] - 36s 357ms/step - loss: 1.3630 - categorical_accuracy: 0.6698 - top_3_accuracy: 0.8409\n",
      "\n",
      "Epoch 00046: top_3_accuracy improved from 0.83846 to 0.84086, saving model to ./CNN_3_dropout.model\n",
      "Epoch 47/250\n",
      "100/100 [==============================] - 36s 359ms/step - loss: 1.3553 - categorical_accuracy: 0.6686 - top_3_accuracy: 0.8407\n",
      "\n",
      "Epoch 00047: top_3_accuracy did not improve from 0.84086\n",
      "Epoch 48/250\n",
      "100/100 [==============================] - 36s 357ms/step - loss: 1.3430 - categorical_accuracy: 0.6720 - top_3_accuracy: 0.8417\n",
      "\n",
      "Epoch 00048: top_3_accuracy improved from 0.84086 to 0.84174, saving model to ./CNN_3_dropout.model\n",
      "Epoch 49/250\n",
      "100/100 [==============================] - 36s 359ms/step - loss: 1.3180 - categorical_accuracy: 0.6773 - top_3_accuracy: 0.8459\n",
      "\n",
      "Epoch 00049: top_3_accuracy improved from 0.84174 to 0.84592, saving model to ./CNN_3_dropout.model\n",
      "Epoch 50/250\n",
      "100/100 [==============================] - 36s 359ms/step - loss: 1.3225 - categorical_accuracy: 0.6786 - top_3_accuracy: 0.8452\n",
      "\n",
      "Epoch 00050: top_3_accuracy did not improve from 0.84592\n",
      "Epoch 51/250\n",
      "100/100 [==============================] - 36s 358ms/step - loss: 1.3090 - categorical_accuracy: 0.6800 - top_3_accuracy: 0.8486\n",
      "\n",
      "Epoch 00051: top_3_accuracy improved from 0.84592 to 0.84863, saving model to ./CNN_3_dropout.model\n",
      "Epoch 52/250\n",
      "100/100 [==============================] - 36s 358ms/step - loss: 1.3074 - categorical_accuracy: 0.6808 - top_3_accuracy: 0.8477\n",
      "\n",
      "Epoch 00052: top_3_accuracy did not improve from 0.84863\n",
      "Epoch 53/250\n",
      "100/100 [==============================] - 36s 358ms/step - loss: 1.3083 - categorical_accuracy: 0.6803 - top_3_accuracy: 0.8464\n",
      "\n",
      "Epoch 00053: top_3_accuracy did not improve from 0.84863\n",
      "Epoch 54/250\n",
      "100/100 [==============================] - 36s 359ms/step - loss: 1.2808 - categorical_accuracy: 0.6859 - top_3_accuracy: 0.8504\n",
      "\n",
      "Epoch 00054: top_3_accuracy improved from 0.84863 to 0.85035, saving model to ./CNN_3_dropout.model\n",
      "Epoch 55/250\n",
      "100/100 [==============================] - 36s 359ms/step - loss: 1.2955 - categorical_accuracy: 0.6849 - top_3_accuracy: 0.8490\n",
      "\n",
      "Epoch 00055: top_3_accuracy did not improve from 0.85035\n",
      "Epoch 56/250\n",
      "100/100 [==============================] - 36s 358ms/step - loss: 1.2868 - categorical_accuracy: 0.6852 - top_3_accuracy: 0.8517\n",
      "\n",
      "Epoch 00056: top_3_accuracy improved from 0.85035 to 0.85166, saving model to ./CNN_3_dropout.model\n",
      "Epoch 57/250\n",
      "100/100 [==============================] - 36s 359ms/step - loss: 1.2837 - categorical_accuracy: 0.6881 - top_3_accuracy: 0.8512\n",
      "\n",
      "Epoch 00057: top_3_accuracy did not improve from 0.85166\n",
      "Epoch 58/250\n",
      "100/100 [==============================] - 36s 358ms/step - loss: 1.2751 - categorical_accuracy: 0.6906 - top_3_accuracy: 0.8518\n",
      "\n",
      "Epoch 00058: top_3_accuracy improved from 0.85166 to 0.85184, saving model to ./CNN_3_dropout.model\n",
      "Epoch 59/250\n",
      "100/100 [==============================] - 36s 358ms/step - loss: 1.2845 - categorical_accuracy: 0.6866 - top_3_accuracy: 0.8502\n",
      "\n",
      "Epoch 00059: top_3_accuracy did not improve from 0.85184\n",
      "Epoch 60/250\n",
      "100/100 [==============================] - 36s 358ms/step - loss: 1.2798 - categorical_accuracy: 0.6876 - top_3_accuracy: 0.8511\n",
      "\n",
      "Epoch 00060: top_3_accuracy did not improve from 0.85184\n",
      "Epoch 61/250\n",
      "100/100 [==============================] - 36s 359ms/step - loss: 1.2692 - categorical_accuracy: 0.6887 - top_3_accuracy: 0.8531\n",
      "\n",
      "Epoch 00061: top_3_accuracy improved from 0.85184 to 0.85309, saving model to ./CNN_3_dropout.model\n",
      "Epoch 62/250\n",
      "100/100 [==============================] - 36s 359ms/step - loss: 1.2716 - categorical_accuracy: 0.6891 - top_3_accuracy: 0.8524\n",
      "\n",
      "Epoch 00062: top_3_accuracy did not improve from 0.85309\n",
      "Epoch 63/250\n",
      "100/100 [==============================] - 36s 359ms/step - loss: 1.2664 - categorical_accuracy: 0.6905 - top_3_accuracy: 0.8532\n",
      "\n",
      "Epoch 00063: top_3_accuracy improved from 0.85309 to 0.85318, saving model to ./CNN_3_dropout.model\n",
      "Epoch 64/250\n",
      "100/100 [==============================] - 36s 359ms/step - loss: 1.2709 - categorical_accuracy: 0.6904 - top_3_accuracy: 0.8526\n",
      "\n",
      "Epoch 00064: top_3_accuracy did not improve from 0.85318\n",
      "Epoch 65/250\n",
      "100/100 [==============================] - 36s 359ms/step - loss: 1.2692 - categorical_accuracy: 0.6918 - top_3_accuracy: 0.8512\n",
      "\n",
      "Epoch 00065: top_3_accuracy did not improve from 0.85318\n",
      "Epoch 66/250\n",
      "100/100 [==============================] - 36s 358ms/step - loss: 1.2695 - categorical_accuracy: 0.6907 - top_3_accuracy: 0.8527\n",
      "\n",
      "Epoch 00066: top_3_accuracy did not improve from 0.85318\n",
      "Epoch 67/250\n",
      "100/100 [==============================] - 36s 359ms/step - loss: 1.2762 - categorical_accuracy: 0.6913 - top_3_accuracy: 0.8517\n",
      "\n",
      "Epoch 00067: top_3_accuracy did not improve from 0.85318\n",
      "Epoch 68/250\n",
      "100/100 [==============================] - 36s 358ms/step - loss: 1.2674 - categorical_accuracy: 0.6919 - top_3_accuracy: 0.8539\n",
      "\n",
      "Epoch 00068: top_3_accuracy improved from 0.85318 to 0.85393, saving model to ./CNN_3_dropout.model\n",
      "Epoch 69/250\n",
      "100/100 [==============================] - 36s 357ms/step - loss: 1.2597 - categorical_accuracy: 0.6919 - top_3_accuracy: 0.8533\n",
      "\n",
      "Epoch 00069: top_3_accuracy did not improve from 0.85393\n",
      "Epoch 70/250\n",
      "100/100 [==============================] - 36s 358ms/step - loss: 1.2631 - categorical_accuracy: 0.6931 - top_3_accuracy: 0.8543\n",
      "\n",
      "Epoch 00070: top_3_accuracy improved from 0.85393 to 0.85432, saving model to ./CNN_3_dropout.model\n",
      "Epoch 71/250\n",
      "100/100 [==============================] - 36s 359ms/step - loss: 1.2511 - categorical_accuracy: 0.6965 - top_3_accuracy: 0.8557\n",
      "\n",
      "Epoch 00071: top_3_accuracy improved from 0.85432 to 0.85574, saving model to ./CNN_3_dropout.model\n",
      "Epoch 72/250\n",
      "100/100 [==============================] - 36s 357ms/step - loss: 1.2558 - categorical_accuracy: 0.6926 - top_3_accuracy: 0.8549\n",
      "\n",
      "Epoch 00072: top_3_accuracy did not improve from 0.85574\n",
      "Epoch 73/250\n",
      "100/100 [==============================] - 36s 358ms/step - loss: 1.2736 - categorical_accuracy: 0.6891 - top_3_accuracy: 0.8511\n",
      "\n",
      "Epoch 00073: top_3_accuracy did not improve from 0.85574\n",
      "Epoch 74/250\n",
      "100/100 [==============================] - 36s 358ms/step - loss: 1.2739 - categorical_accuracy: 0.6913 - top_3_accuracy: 0.8522\n",
      "\n",
      "Epoch 00074: top_3_accuracy did not improve from 0.85574\n",
      "Epoch 75/250\n",
      "100/100 [==============================] - 36s 358ms/step - loss: 1.2655 - categorical_accuracy: 0.6900 - top_3_accuracy: 0.8533\n",
      "\n",
      "Epoch 00075: top_3_accuracy did not improve from 0.85574\n",
      "Epoch 76/250\n",
      "100/100 [==============================] - 36s 357ms/step - loss: 1.2755 - categorical_accuracy: 0.6923 - top_3_accuracy: 0.8520\n",
      "\n",
      "Epoch 00076: top_3_accuracy did not improve from 0.85574\n",
      "Epoch 77/250\n",
      "100/100 [==============================] - 36s 355ms/step - loss: 1.2503 - categorical_accuracy: 0.6937 - top_3_accuracy: 0.8551\n",
      "\n",
      "Epoch 00077: top_3_accuracy did not improve from 0.85574\n",
      "Epoch 78/250\n",
      "100/100 [==============================] - 36s 358ms/step - loss: 1.2587 - categorical_accuracy: 0.6955 - top_3_accuracy: 0.8543\n",
      "\n",
      "Epoch 00078: top_3_accuracy did not improve from 0.85574\n",
      "Epoch 79/250\n",
      "100/100 [==============================] - 36s 357ms/step - loss: 1.2603 - categorical_accuracy: 0.6938 - top_3_accuracy: 0.8533\n",
      "\n",
      "Epoch 00079: top_3_accuracy did not improve from 0.85574\n",
      "Epoch 80/250\n",
      "100/100 [==============================] - 36s 356ms/step - loss: 1.2501 - categorical_accuracy: 0.6940 - top_3_accuracy: 0.8550\n",
      "\n",
      "Epoch 00080: top_3_accuracy did not improve from 0.85574\n",
      "Epoch 81/250\n",
      "100/100 [==============================] - 36s 357ms/step - loss: 1.2607 - categorical_accuracy: 0.6926 - top_3_accuracy: 0.8546\n",
      "\n",
      "Epoch 00081: top_3_accuracy did not improve from 0.85574\n",
      "Epoch 82/250\n",
      "100/100 [==============================] - 36s 358ms/step - loss: 1.2297 - categorical_accuracy: 0.6961 - top_3_accuracy: 0.8577\n",
      "\n",
      "Epoch 00082: top_3_accuracy improved from 0.85574 to 0.85768, saving model to ./CNN_3_dropout.model\n",
      "Epoch 83/250\n",
      "100/100 [==============================] - 36s 358ms/step - loss: 1.2554 - categorical_accuracy: 0.6942 - top_3_accuracy: 0.8545\n",
      "\n",
      "Epoch 00083: top_3_accuracy did not improve from 0.85768\n",
      "Epoch 84/250\n",
      "100/100 [==============================] - 36s 357ms/step - loss: 1.2394 - categorical_accuracy: 0.6952 - top_3_accuracy: 0.8558\n",
      "\n",
      "Epoch 00084: top_3_accuracy did not improve from 0.85768\n",
      "Epoch 85/250\n",
      "100/100 [==============================] - 39s 390ms/step - loss: 1.2555 - categorical_accuracy: 0.6966 - top_3_accuracy: 0.8544\n",
      "\n",
      "Epoch 00085: top_3_accuracy did not improve from 0.85768\n",
      "Epoch 86/250\n",
      "100/100 [==============================] - 36s 362ms/step - loss: 1.2486 - categorical_accuracy: 0.6982 - top_3_accuracy: 0.8568\n",
      "\n",
      "Epoch 00086: top_3_accuracy did not improve from 0.85768\n",
      "Epoch 87/250\n",
      "100/100 [==============================] - 36s 359ms/step - loss: 1.2713 - categorical_accuracy: 0.6909 - top_3_accuracy: 0.8519\n",
      "\n",
      "Epoch 00087: top_3_accuracy did not improve from 0.85768\n",
      "Epoch 88/250\n",
      "100/100 [==============================] - 36s 359ms/step - loss: 1.2511 - categorical_accuracy: 0.6951 - top_3_accuracy: 0.8559\n",
      "\n",
      "Epoch 00088: top_3_accuracy did not improve from 0.85768\n",
      "Epoch 89/250\n",
      "100/100 [==============================] - 36s 360ms/step - loss: 1.2581 - categorical_accuracy: 0.6922 - top_3_accuracy: 0.8552\n",
      "\n",
      "Epoch 00089: top_3_accuracy did not improve from 0.85768\n",
      "Epoch 90/250\n",
      "100/100 [==============================] - 36s 359ms/step - loss: 1.2364 - categorical_accuracy: 0.6954 - top_3_accuracy: 0.8583\n",
      "\n",
      "Epoch 00090: top_3_accuracy improved from 0.85768 to 0.85830, saving model to ./CNN_3_dropout.model\n",
      "Epoch 91/250\n",
      "100/100 [==============================] - 36s 359ms/step - loss: 1.2558 - categorical_accuracy: 0.6929 - top_3_accuracy: 0.8551\n",
      "\n",
      "Epoch 00091: top_3_accuracy did not improve from 0.85830\n",
      "Epoch 92/250\n",
      "100/100 [==============================] - 36s 359ms/step - loss: 1.2482 - categorical_accuracy: 0.6942 - top_3_accuracy: 0.8561\n",
      "\n",
      "Epoch 00092: top_3_accuracy did not improve from 0.85830\n",
      "Epoch 93/250\n",
      "100/100 [==============================] - 36s 359ms/step - loss: 1.2557 - categorical_accuracy: 0.6951 - top_3_accuracy: 0.8549\n",
      "\n",
      "Epoch 00093: top_3_accuracy did not improve from 0.85830\n",
      "Epoch 94/250\n",
      "100/100 [==============================] - 36s 356ms/step - loss: 1.2437 - categorical_accuracy: 0.6988 - top_3_accuracy: 0.8564\n",
      "\n",
      "Epoch 00094: top_3_accuracy did not improve from 0.85830\n",
      "Epoch 95/250\n",
      "100/100 [==============================] - 36s 357ms/step - loss: 1.2482 - categorical_accuracy: 0.6934 - top_3_accuracy: 0.8566\n",
      "\n",
      "Epoch 00095: top_3_accuracy did not improve from 0.85830\n",
      "Epoch 96/250\n",
      "100/100 [==============================] - 36s 358ms/step - loss: 1.2362 - categorical_accuracy: 0.7002 - top_3_accuracy: 0.8577\n",
      "\n",
      "Epoch 00096: top_3_accuracy did not improve from 0.85830\n",
      "Epoch 97/250\n",
      "100/100 [==============================] - 35s 355ms/step - loss: 1.2564 - categorical_accuracy: 0.6950 - top_3_accuracy: 0.8559\n",
      "\n",
      "Epoch 00097: top_3_accuracy did not improve from 0.85830\n"
     ]
    }
   ],
   "source": [
    "# fit the model with our eternal generator!\n",
    "CNN_4 = model.fit_generator(\n",
    "    train_iterator(BATCH_SIZE), \n",
    "    steps_per_epoch=STEPS_PER_EPOCH,\n",
    "    epochs=EPOCHS,\n",
    "    callbacks=callbacks,\n",
    "    verbose=1,\n",
    "    initial_epoch=last_finished_epoch\n",
    ")"
   ]
  },
  {
   "cell_type": "code",
   "execution_count": 65,
   "metadata": {
    "colab": {
     "base_uri": "https://localhost:8080/",
     "height": 349
    },
    "colab_type": "code",
    "id": "b80pQfVzj7i3",
    "outputId": "cb37ee21-2443-4045-edee-1dffbfa2b42d"
   },
   "outputs": [
    {
     "data": {
      "image/png": "[encoded data removed]",
      "text/plain": [
       "<matplotlib.figure.Figure at 0x7fca6b601990>"
      ]
     },
     "metadata": {
      "tags": []
     },
     "output_type": "display_data"
    }
   ],
   "source": [
    "plt.figure(figsize=(10,5))\n",
    "plt.legend(loc='best')\n",
    "plt.title('MAP@3')\n",
    "plt.xlabel('Epochs')\n",
    "plt.plot(CNN_4.history['top_3_accuracy'])\n",
    "plt.show()"
   ]
  },
  {
   "cell_type": "markdown",
   "metadata": {
    "colab_type": "text",
    "id": "Qd8GDm5Bll_9"
   },
   "source": [
    "Удалось получить 0.8 на kaggle  ссылка на скриншот https://drive.google.com/file/d/1WAmjYbXIDr03-qICirBZOjbQbPI0_z9B/view"
   ]
  },
  {
   "cell_type": "markdown",
   "metadata": {
    "colab_type": "text",
    "id": "9bpHOHVqJgpf"
   },
   "source": [
    "**Вывод:**  Параметров обучалось меньше, чем на прошлом этапе, но из-за большого количества сверточных слоев, качество значительно улучшилось. \n",
    "\n",
    "**Про значения DropOut:** На последнем сверточном слое 0.2, на полносвязном 0.25. Так как на сверточных слоях следует использовать меньше, чтобы не потерять нужные фильтры при выключении нейронов"
   ]
  },
  {
   "cell_type": "markdown",
   "metadata": {
    "colab_type": "text",
    "id": "usUID8Fwojf7"
   },
   "source": [
    "#Эксперимент №5"
   ]
  },
  {
   "cell_type": "markdown",
   "metadata": {
    "colab_type": "text",
    "id": "3c5FOJSFKHxJ"
   },
   "source": [
    "Цель проведения экспериментов 5 и 6: установить лучшую фукцию активации для этих данных. В эксперименте 4 удалось получить хорошее качества с активацией **relu**. В эксперименте 5 будет использоваться активация **elu** на той же модели "
   ]
  },
  {
   "cell_type": "code",
   "execution_count": 68,
   "metadata": {
    "colab": {
     "base_uri": "https://localhost:8080/",
     "height": 34
    },
    "colab_type": "code",
    "id": "EfXWwt5YopEX",
    "outputId": "66b041cb-2d1f-4047-95f3-24d7f3dc797a"
   },
   "outputs": [
    {
     "data": {
      "text/plain": [
       "['fence', 'yoga', 'horse', 'sandwich', 'cat']"
      ]
     },
     "execution_count": 68,
     "metadata": {
      "tags": []
     },
     "output_type": "execute_result"
    }
   ],
   "source": [
    "class_labels = map(lambda x: x.replace(\".csv\", \"\"), zf.namelist())\n",
    "class_labels[:5]"
   ]
  },
  {
   "cell_type": "code",
   "execution_count": 0,
   "metadata": {
    "colab": {},
    "colab_type": "code",
    "id": "wdSsUZTgopTJ"
   },
   "outputs": [],
   "source": [
    "# loop through file eternally\n",
    "def get_eternal_csv_generator(fn, debug=False):\n",
    "    while True:\n",
    "        with zf.open(fn) as f:\n",
    "            f.readline()  # skip header\n",
    "            for line in csv.reader(f, delimiter=',', quotechar='\"'):\n",
    "                yield line[1], line[5]\n",
    "            if debug:\n",
    "                print fn, \"is done, starting from the beginning...\""
   ]
  },
  {
   "cell_type": "code",
   "execution_count": 0,
   "metadata": {
    "colab": {},
    "colab_type": "code",
    "id": "LEcRrnZZo0hf"
   },
   "outputs": [],
   "source": [
    "def raw_batch_generator(batch_size, debug=False):\n",
    "    generators = np.array([get_eternal_csv_generator(fn, debug) for fn in zf.namelist()])\n",
    "    while True:\n",
    "        random_indices = np.random.randint(0, len(generators), size=batch_size)\n",
    "        yield [gen.next() for gen in generators[random_indices]]"
   ]
  },
  {
   "cell_type": "code",
   "execution_count": 0,
   "metadata": {
    "colab": {},
    "colab_type": "code",
    "id": "27gKMJ5io0wJ"
   },
   "outputs": [],
   "source": [
    "# copy-paste from https://www.kaggle.com/jpmiller/image-based-cnn\n",
    "\n",
    "import ast\n",
    "from PIL import Image, ImageDraw\n",
    "import cv2\n",
    "\n",
    "IMG_SIZE = 128\n",
    "\n",
    "# faster conversion function\n",
    "def draw_it(strokes):\n",
    "    img = 255 * np.ones((256, 256), np.uint8)\n",
    "    for stroke in ast.literal_eval(strokes):\n",
    "        for i in range(len(stroke[0]) - 1):\n",
    "            _ = cv2.line(img, (stroke[0][i], stroke[1][i]), (stroke[0][i + 1], stroke[1][i + 1]), 0, 3)\n",
    "    return cv2.resize(img, (IMG_SIZE, IMG_SIZE))"
   ]
  },
  {
   "cell_type": "code",
   "execution_count": 0,
   "metadata": {
    "colab": {},
    "colab_type": "code",
    "id": "MKVvDl8lo0-7"
   },
   "outputs": [],
   "source": [
    "def images_and_labels_generator(batch_size):\n",
    "    for batch in raw_batch_generator(batch_size):\n",
    "        batch_images = []\n",
    "        batch_labels = []\n",
    "        for e in batch:\n",
    "            batch_images.append(draw_it(e[0]))\n",
    "            batch_labels.append(e[1])\n",
    "        batch_images = np.stack(batch_images, axis=0)\n",
    "        yield batch_images, batch_labels"
   ]
  },
  {
   "cell_type": "code",
   "execution_count": 0,
   "metadata": {
    "colab": {},
    "colab_type": "code",
    "id": "j58ZNzoBo06a"
   },
   "outputs": [],
   "source": [
    "def reset_tf_session():\n",
    "    curr_session = tf.get_default_session()\n",
    "    # close current session\n",
    "    if curr_session is not None:\n",
    "        curr_session.close()\n",
    "    # reset graph\n",
    "    K.clear_session()\n",
    "    # create new session\n",
    "    config = tf.ConfigProto()\n",
    "    config.gpu_options.allow_growth = True\n",
    "    s = tf.InteractiveSession(config=config)\n",
    "    K.set_session(s)\n",
    "    return s"
   ]
  },
  {
   "cell_type": "code",
   "execution_count": 74,
   "metadata": {
    "colab": {
     "base_uri": "https://localhost:8080/",
     "height": 102
    },
    "colab_type": "code",
    "id": "7GoTxlBvo02X",
    "outputId": "b6f1fa6f-f314-405c-bd5d-714bae46c466"
   },
   "outputs": [
    {
     "data": {
      "text/plain": [
       "[('snowman', 134),\n",
       " ('eyeglasses', 254),\n",
       " ('ceiling fan', 18),\n",
       " ('camel', 90),\n",
       " ('stove', 119)]"
      ]
     },
     "execution_count": 74,
     "metadata": {
      "tags": []
     },
     "output_type": "execute_result"
    }
   ],
   "source": [
    "NUM_CLASSES = len(class_labels)\n",
    "class_to_idx = {c: idx for idx, c in enumerate(class_labels)}\n",
    "class_to_idx.items()[:5]"
   ]
  },
  {
   "cell_type": "code",
   "execution_count": 0,
   "metadata": {
    "colab": {},
    "colab_type": "code",
    "id": "iYqcrtQ9o0r2"
   },
   "outputs": [],
   "source": [
    "def train_iterator(batch_size):\n",
    "    for batch in images_and_labels_generator(batch_size):\n",
    "        images = batch[0].astype('float32')\n",
    "        images = images/ 255 - 0.5\n",
    "        images = np.expand_dims(images, -1)\n",
    "        labels = keras.utils.to_categorical(map(class_to_idx.get, batch[1]), NUM_CLASSES)\n",
    "        yield images, labels"
   ]
  },
  {
   "cell_type": "code",
   "execution_count": 76,
   "metadata": {
    "colab": {
     "base_uri": "https://localhost:8080/",
     "height": 51
    },
    "colab_type": "code",
    "id": "thO0ymNDo0nu",
    "outputId": "1cbfd597-fcf1-4049-8caa-55ce5636bdc1"
   },
   "outputs": [
    {
     "name": "stdout",
     "output_type": "stream",
     "text": [
      "(32, 128, 128, 1)\n",
      "(32, 340)\n"
     ]
    }
   ],
   "source": [
    "sample = train_iterator(32).next()\n",
    "print sample[0].shape\n",
    "print sample[1].shape"
   ]
  },
  {
   "cell_type": "code",
   "execution_count": 0,
   "metadata": {
    "colab": {},
    "colab_type": "code",
    "id": "3C6MyNopopZC"
   },
   "outputs": [],
   "source": [
    "def make_model():\n",
    "    \"\"\"\n",
    "    Define your model architecture here.\n",
    "    Returns `Sequential` model.\n",
    "    \"\"\"\n",
    "    model = Sequential()\n",
    "    \n",
    "    model.add(Conv2D(16, (3,3),padding='same', activation='elu', input_shape=(IMG_SIZE, IMG_SIZE, 1)))\n",
    "    model.add(MaxPooling2D(pool_size=(2,2), strides=(2,2)))\n",
    "    \n",
    "    model.add(Conv2D(32, (3,3), padding='same', activation='elu'))\n",
    "    model.add(MaxPooling2D(pool_size=(2,2), strides=(2,2)))\n",
    "     \n",
    "    model.add(Conv2D(32, (3,3), padding='same', activation='elu'))\n",
    "    model.add(MaxPooling2D(pool_size=(2,2), strides=(2,2)))\n",
    "    \n",
    "    model.add(Conv2D(64, (3,3),padding='same', activation='elu'))\n",
    "    model.add(MaxPooling2D(pool_size=(2,2), strides=(2,2)))\n",
    "    \n",
    "    model.add(Conv2D(128, (3,3),padding='same', activation='elu'))\n",
    "    model.add(MaxPooling2D(pool_size=(2,2), strides=(2,2)))\n",
    "    model.add(Dropout(0.2))\n",
    "\n",
    "    model.add(Flatten())\n",
    "\n",
    "    model.add(Dense(4098, activation='elu'))\n",
    "    model.add(Dropout(0.25))\n",
    "  \n",
    "    model.add(Dense(NUM_CLASSES, activation=\"softmax\"))\n",
    "    \n",
    "    \n",
    "    return model"
   ]
  },
  {
   "cell_type": "code",
   "execution_count": 152,
   "metadata": {
    "colab": {
     "base_uri": "https://localhost:8080/",
     "height": 646
    },
    "colab_type": "code",
    "id": "2zFlloR4opgW",
    "outputId": "c92d2cb4-c010-49c9-ebae-d3a0d3fca41e"
   },
   "outputs": [
    {
     "name": "stdout",
     "output_type": "stream",
     "text": [
      "_________________________________________________________________\n",
      "Layer (type)                 Output Shape              Param #   \n",
      "=================================================================\n",
      "conv2d_1 (Conv2D)            (None, 128, 128, 16)      160       \n",
      "_________________________________________________________________\n",
      "max_pooling2d_1 (MaxPooling2 (None, 64, 64, 16)        0         \n",
      "_________________________________________________________________\n",
      "conv2d_2 (Conv2D)            (None, 64, 64, 32)        4640      \n",
      "_________________________________________________________________\n",
      "max_pooling2d_2 (MaxPooling2 (None, 32, 32, 32)        0         \n",
      "_________________________________________________________________\n",
      "conv2d_3 (Conv2D)            (None, 32, 32, 32)        9248      \n",
      "_________________________________________________________________\n",
      "max_pooling2d_3 (MaxPooling2 (None, 16, 16, 32)        0         \n",
      "_________________________________________________________________\n",
      "conv2d_4 (Conv2D)            (None, 16, 16, 64)        18496     \n",
      "_________________________________________________________________\n",
      "max_pooling2d_4 (MaxPooling2 (None, 8, 8, 64)          0         \n",
      "_________________________________________________________________\n",
      "conv2d_5 (Conv2D)            (None, 8, 8, 128)         73856     \n",
      "_________________________________________________________________\n",
      "max_pooling2d_5 (MaxPooling2 (None, 4, 4, 128)         0         \n",
      "_________________________________________________________________\n",
      "dropout_1 (Dropout)          (None, 4, 4, 128)         0         \n",
      "_________________________________________________________________\n",
      "flatten_1 (Flatten)          (None, 2048)              0         \n",
      "_________________________________________________________________\n",
      "dense_1 (Dense)              (None, 4098)              8396802   \n",
      "_________________________________________________________________\n",
      "dropout_2 (Dropout)          (None, 4098)              0         \n",
      "_________________________________________________________________\n",
      "dense_2 (Dense)              (None, 340)               1393660   \n",
      "=================================================================\n",
      "Total params: 9,896,862\n",
      "Trainable params: 9,896,862\n",
      "Non-trainable params: 0\n",
      "_________________________________________________________________\n"
     ]
    }
   ],
   "source": [
    "# describe model\n",
    "s = reset_tf_session()  # clear default graph\n",
    "model = make_model()\n",
    "model.summary()"
   ]
  },
  {
   "cell_type": "code",
   "execution_count": 0,
   "metadata": {
    "colab": {},
    "colab_type": "code",
    "id": "TyqvMyc9opqQ"
   },
   "outputs": [],
   "source": [
    "# custom metrics we need\n",
    "from keras.metrics import categorical_accuracy, top_k_categorical_accuracy\n",
    "\n",
    "def top_3_accuracy(y_true, y_pred):\n",
    "    return top_k_categorical_accuracy(y_true, y_pred, k=3)"
   ]
  },
  {
   "cell_type": "code",
   "execution_count": 0,
   "metadata": {
    "colab": {},
    "colab_type": "code",
    "id": "9j1CLi12opy6"
   },
   "outputs": [],
   "source": [
    "BATCH_SIZE = 512\n",
    "STEPS_PER_EPOCH = 100\n",
    "EPOCHS = 250 \n",
    "\n",
    "s = reset_tf_session()  # clear default graph\n",
    "model = make_model()  # define our model\n",
    "\n",
    "# prepare model for fitting (loss, optimizer, etc)\n",
    "model.compile(\n",
    "    loss='categorical_crossentropy',\n",
    "    optimizer=keras.optimizers.adam(clipnorm=5.),  # gradient clipping just in case\n",
    "    metrics=[categorical_accuracy, top_3_accuracy]  # report top 3 accuracy, correlates with MAP@3!\n",
    ")"
   ]
  },
  {
   "cell_type": "code",
   "execution_count": 0,
   "metadata": {
    "colab": {},
    "colab_type": "code",
    "id": "bKN__gifopmd"
   },
   "outputs": [],
   "source": [
    "from tensorflow.keras.callbacks import EarlyStopping, ReduceLROnPlateau, ModelCheckpoint\n",
    "callbacks = [\n",
    "    EarlyStopping(monitor='top_3_accuracy', patience=15, min_delta=0.001, mode='max'),\n",
    "    ReduceLROnPlateau(monitor='top_3_accuracy', factor=0.5, patience=5, min_delta=0.005, mode='max', cooldown=3),\n",
    "    ModelCheckpoint(\"./CNN_3_dropout.model\",monitor='top_3_accuracy', mode = 'max', save_best_only=True, verbose=1)\n",
    "]"
   ]
  },
  {
   "cell_type": "code",
   "execution_count": 0,
   "metadata": {
    "colab": {},
    "colab_type": "code",
    "id": "Lzo-5gy2opPS"
   },
   "outputs": [],
   "source": [
    "last_finished_epoch = 0\n",
    "\n",
    "# you can continue from snapshot!!!\n",
    "# from keras.models import load_model\n",
    "# s = reset_tf_session()\n",
    "# last_finished_epoch = 2\n",
    "# model = load_model(\"model_{}\".format(last_finished_epoch), \n",
    "#                    custom_objects={\"top_3_accuracy\": top_3_accuracy})"
   ]
  },
  {
   "cell_type": "code",
   "execution_count": 83,
   "metadata": {
    "colab": {
     "base_uri": "https://localhost:8080/",
     "height": 6701
    },
    "colab_type": "code",
    "id": "UwjqTWdPopLU",
    "outputId": "acac2e7a-b36d-4965-918a-79ff54578f0b"
   },
   "outputs": [
    {
     "name": "stdout",
     "output_type": "stream",
     "text": [
      "Epoch 1/250\n",
      "100/100 [==============================] - 38s 382ms/step - loss: 4.2604 - categorical_accuracy: 0.1651 - top_3_accuracy: 0.2894\n",
      "\n",
      "Epoch 00001: top_3_accuracy improved from -inf to 0.28936, saving model to ./CNN_3_dropout.model\n",
      "Epoch 2/250\n",
      "100/100 [==============================] - 37s 368ms/step - loss: 3.1689 - categorical_accuracy: 0.3297 - top_3_accuracy: 0.5092\n",
      "\n",
      "Epoch 00002: top_3_accuracy improved from 0.28936 to 0.50924, saving model to ./CNN_3_dropout.model\n",
      "Epoch 3/250\n",
      "100/100 [==============================] - 37s 369ms/step - loss: 2.8889 - categorical_accuracy: 0.3747 - top_3_accuracy: 0.5651\n",
      "\n",
      "Epoch 00003: top_3_accuracy improved from 0.50924 to 0.56508, saving model to ./CNN_3_dropout.model\n",
      "Epoch 4/250\n",
      "100/100 [==============================] - 37s 369ms/step - loss: 2.7296 - categorical_accuracy: 0.4067 - top_3_accuracy: 0.5968\n",
      "\n",
      "Epoch 00004: top_3_accuracy improved from 0.56508 to 0.59678, saving model to ./CNN_3_dropout.model\n",
      "Epoch 5/250\n",
      "100/100 [==============================] - 37s 369ms/step - loss: 2.5796 - categorical_accuracy: 0.4336 - top_3_accuracy: 0.6248\n",
      "\n",
      "Epoch 00005: top_3_accuracy improved from 0.59678 to 0.62482, saving model to ./CNN_3_dropout.model\n",
      "Epoch 6/250\n",
      "100/100 [==============================] - 37s 369ms/step - loss: 2.5002 - categorical_accuracy: 0.4484 - top_3_accuracy: 0.6389\n",
      "\n",
      "Epoch 00006: top_3_accuracy improved from 0.62482 to 0.63889, saving model to ./CNN_3_dropout.model\n",
      "Epoch 7/250\n",
      "100/100 [==============================] - 37s 368ms/step - loss: 2.4319 - categorical_accuracy: 0.4617 - top_3_accuracy: 0.6557\n",
      "\n",
      "Epoch 00007: top_3_accuracy improved from 0.63889 to 0.65568, saving model to ./CNN_3_dropout.model\n",
      "Epoch 8/250\n",
      "100/100 [==============================] - 37s 368ms/step - loss: 2.3676 - categorical_accuracy: 0.4728 - top_3_accuracy: 0.6674\n",
      "\n",
      "Epoch 00008: top_3_accuracy improved from 0.65568 to 0.66738, saving model to ./CNN_3_dropout.model\n",
      "Epoch 9/250\n",
      "100/100 [==============================] - 37s 367ms/step - loss: 2.3026 - categorical_accuracy: 0.4853 - top_3_accuracy: 0.6775\n",
      "\n",
      "Epoch 00009: top_3_accuracy improved from 0.66738 to 0.67754, saving model to ./CNN_3_dropout.model\n",
      "Epoch 10/250\n",
      "100/100 [==============================] - 37s 366ms/step - loss: 2.2965 - categorical_accuracy: 0.4876 - top_3_accuracy: 0.6800\n",
      "\n",
      "Epoch 00010: top_3_accuracy improved from 0.67754 to 0.68004, saving model to ./CNN_3_dropout.model\n",
      "Epoch 11/250\n",
      "100/100 [==============================] - 37s 369ms/step - loss: 2.2528 - categorical_accuracy: 0.4998 - top_3_accuracy: 0.6886\n",
      "\n",
      "Epoch 00011: top_3_accuracy improved from 0.68004 to 0.68855, saving model to ./CNN_3_dropout.model\n",
      "Epoch 12/250\n",
      "100/100 [==============================] - 37s 368ms/step - loss: 2.2104 - categorical_accuracy: 0.5034 - top_3_accuracy: 0.6964\n",
      "\n",
      "Epoch 00012: top_3_accuracy improved from 0.68855 to 0.69641, saving model to ./CNN_3_dropout.model\n",
      "Epoch 13/250\n",
      "100/100 [==============================] - 37s 369ms/step - loss: 2.2038 - categorical_accuracy: 0.5032 - top_3_accuracy: 0.6973\n",
      "\n",
      "Epoch 00013: top_3_accuracy improved from 0.69641 to 0.69734, saving model to ./CNN_3_dropout.model\n",
      "Epoch 14/250\n",
      "100/100 [==============================] - 37s 367ms/step - loss: 2.1759 - categorical_accuracy: 0.5091 - top_3_accuracy: 0.7024\n",
      "\n",
      "Epoch 00014: top_3_accuracy improved from 0.69734 to 0.70240, saving model to ./CNN_3_dropout.model\n",
      "Epoch 15/250\n",
      "100/100 [==============================] - 37s 368ms/step - loss: 2.1517 - categorical_accuracy: 0.5170 - top_3_accuracy: 0.7057\n",
      "\n",
      "Epoch 00015: top_3_accuracy improved from 0.70240 to 0.70566, saving model to ./CNN_3_dropout.model\n",
      "Epoch 16/250\n",
      "100/100 [==============================] - 37s 368ms/step - loss: 2.1215 - categorical_accuracy: 0.5212 - top_3_accuracy: 0.7108\n",
      "\n",
      "Epoch 00016: top_3_accuracy improved from 0.70566 to 0.71076, saving model to ./CNN_3_dropout.model\n",
      "Epoch 17/250\n",
      "100/100 [==============================] - 37s 367ms/step - loss: 2.1184 - categorical_accuracy: 0.5219 - top_3_accuracy: 0.7150\n",
      "\n",
      "Epoch 00017: top_3_accuracy improved from 0.71076 to 0.71498, saving model to ./CNN_3_dropout.model\n",
      "Epoch 18/250\n",
      "100/100 [==============================] - 37s 367ms/step - loss: 2.0713 - categorical_accuracy: 0.5302 - top_3_accuracy: 0.7202\n",
      "\n",
      "Epoch 00018: top_3_accuracy improved from 0.71498 to 0.72018, saving model to ./CNN_3_dropout.model\n",
      "Epoch 19/250\n",
      "100/100 [==============================] - 37s 368ms/step - loss: 2.0617 - categorical_accuracy: 0.5309 - top_3_accuracy: 0.7212\n",
      "\n",
      "Epoch 00019: top_3_accuracy improved from 0.72018 to 0.72115, saving model to ./CNN_3_dropout.model\n",
      "Epoch 20/250\n",
      "100/100 [==============================] - 37s 367ms/step - loss: 2.0464 - categorical_accuracy: 0.5352 - top_3_accuracy: 0.7257\n",
      "\n",
      "Epoch 00020: top_3_accuracy improved from 0.72115 to 0.72572, saving model to ./CNN_3_dropout.model\n",
      "Epoch 21/250\n",
      "100/100 [==============================] - 37s 367ms/step - loss: 2.0238 - categorical_accuracy: 0.5391 - top_3_accuracy: 0.7280\n",
      "\n",
      "Epoch 00021: top_3_accuracy improved from 0.72572 to 0.72797, saving model to ./CNN_3_dropout.model\n",
      "Epoch 22/250\n",
      "100/100 [==============================] - 37s 368ms/step - loss: 2.0233 - categorical_accuracy: 0.5381 - top_3_accuracy: 0.7301\n",
      "\n",
      "Epoch 00022: top_3_accuracy improved from 0.72797 to 0.73008, saving model to ./CNN_3_dropout.model\n",
      "Epoch 23/250\n",
      "100/100 [==============================] - 37s 367ms/step - loss: 2.0249 - categorical_accuracy: 0.5405 - top_3_accuracy: 0.7304\n",
      "\n",
      "Epoch 00023: top_3_accuracy improved from 0.73008 to 0.73043, saving model to ./CNN_3_dropout.model\n",
      "Epoch 24/250\n",
      "100/100 [==============================] - 37s 367ms/step - loss: 1.9822 - categorical_accuracy: 0.5499 - top_3_accuracy: 0.7364\n",
      "\n",
      "Epoch 00024: top_3_accuracy improved from 0.73043 to 0.73641, saving model to ./CNN_3_dropout.model\n",
      "Epoch 25/250\n",
      "100/100 [==============================] - 37s 368ms/step - loss: 1.9745 - categorical_accuracy: 0.5466 - top_3_accuracy: 0.7388\n",
      "\n",
      "Epoch 00025: top_3_accuracy improved from 0.73641 to 0.73885, saving model to ./CNN_3_dropout.model\n",
      "Epoch 26/250\n",
      "100/100 [==============================] - 37s 366ms/step - loss: 1.9528 - categorical_accuracy: 0.5555 - top_3_accuracy: 0.7410\n",
      "\n",
      "Epoch 00026: top_3_accuracy improved from 0.73885 to 0.74104, saving model to ./CNN_3_dropout.model\n",
      "Epoch 27/250\n",
      "100/100 [==============================] - 37s 367ms/step - loss: 1.9535 - categorical_accuracy: 0.5500 - top_3_accuracy: 0.7416\n",
      "\n",
      "Epoch 00027: top_3_accuracy improved from 0.74104 to 0.74162, saving model to ./CNN_3_dropout.model\n",
      "Epoch 28/250\n",
      "100/100 [==============================] - 37s 368ms/step - loss: 1.9596 - categorical_accuracy: 0.5518 - top_3_accuracy: 0.7380\n",
      "\n",
      "Epoch 00028: top_3_accuracy did not improve from 0.74162\n",
      "Epoch 29/250\n",
      "100/100 [==============================] - 37s 367ms/step - loss: 1.9453 - categorical_accuracy: 0.5531 - top_3_accuracy: 0.7433\n",
      "\n",
      "Epoch 00029: top_3_accuracy improved from 0.74162 to 0.74330, saving model to ./CNN_3_dropout.model\n",
      "Epoch 30/250\n",
      "100/100 [==============================] - 37s 369ms/step - loss: 1.9186 - categorical_accuracy: 0.5579 - top_3_accuracy: 0.7463\n",
      "\n",
      "Epoch 00030: top_3_accuracy improved from 0.74330 to 0.74627, saving model to ./CNN_3_dropout.model\n",
      "Epoch 31/250\n",
      "100/100 [==============================] - 37s 366ms/step - loss: 1.9198 - categorical_accuracy: 0.5596 - top_3_accuracy: 0.7478\n",
      "\n",
      "Epoch 00031: top_3_accuracy improved from 0.74627 to 0.74777, saving model to ./CNN_3_dropout.model\n",
      "Epoch 32/250\n",
      "100/100 [==============================] - 37s 367ms/step - loss: 1.8890 - categorical_accuracy: 0.5688 - top_3_accuracy: 0.7537\n",
      "\n",
      "Epoch 00032: top_3_accuracy improved from 0.74777 to 0.75369, saving model to ./CNN_3_dropout.model\n",
      "Epoch 33/250\n",
      "100/100 [==============================] - 37s 368ms/step - loss: 1.9037 - categorical_accuracy: 0.5632 - top_3_accuracy: 0.7485\n",
      "\n",
      "Epoch 00033: top_3_accuracy did not improve from 0.75369\n",
      "Epoch 34/250\n",
      "100/100 [==============================] - 37s 367ms/step - loss: 1.8932 - categorical_accuracy: 0.5633 - top_3_accuracy: 0.7529\n",
      "\n",
      "Epoch 00034: top_3_accuracy did not improve from 0.75369\n",
      "Epoch 35/250\n",
      "100/100 [==============================] - 37s 367ms/step - loss: 1.8806 - categorical_accuracy: 0.5684 - top_3_accuracy: 0.7547\n",
      "\n",
      "Epoch 00035: top_3_accuracy improved from 0.75369 to 0.75475, saving model to ./CNN_3_dropout.model\n",
      "Epoch 36/250\n",
      "100/100 [==============================] - 37s 367ms/step - loss: 1.8869 - categorical_accuracy: 0.5646 - top_3_accuracy: 0.7540\n",
      "\n",
      "Epoch 00036: top_3_accuracy did not improve from 0.75475\n",
      "Epoch 37/250\n",
      "100/100 [==============================] - 37s 367ms/step - loss: 1.8670 - categorical_accuracy: 0.5708 - top_3_accuracy: 0.7568\n",
      "\n",
      "Epoch 00037: top_3_accuracy improved from 0.75475 to 0.75680, saving model to ./CNN_3_dropout.model\n",
      "Epoch 38/250\n",
      "100/100 [==============================] - 37s 367ms/step - loss: 1.8227 - categorical_accuracy: 0.5794 - top_3_accuracy: 0.7650\n",
      "\n",
      "Epoch 00038: top_3_accuracy improved from 0.75680 to 0.76496, saving model to ./CNN_3_dropout.model\n",
      "Epoch 39/250\n",
      "100/100 [==============================] - 37s 368ms/step - loss: 1.8051 - categorical_accuracy: 0.5847 - top_3_accuracy: 0.7686\n",
      "\n",
      "Epoch 00039: top_3_accuracy improved from 0.76496 to 0.76859, saving model to ./CNN_3_dropout.model\n",
      "Epoch 40/250\n",
      "100/100 [==============================] - 37s 367ms/step - loss: 1.7853 - categorical_accuracy: 0.5873 - top_3_accuracy: 0.7704\n",
      "\n",
      "Epoch 00040: top_3_accuracy improved from 0.76859 to 0.77041, saving model to ./CNN_3_dropout.model\n",
      "Epoch 41/250\n",
      "100/100 [==============================] - 37s 367ms/step - loss: 1.7673 - categorical_accuracy: 0.5936 - top_3_accuracy: 0.7753\n",
      "\n",
      "Epoch 00041: top_3_accuracy improved from 0.77041 to 0.77525, saving model to ./CNN_3_dropout.model\n",
      "Epoch 42/250\n",
      "100/100 [==============================] - 37s 368ms/step - loss: 1.7844 - categorical_accuracy: 0.5917 - top_3_accuracy: 0.7686\n",
      "\n",
      "Epoch 00042: top_3_accuracy did not improve from 0.77525\n",
      "Epoch 43/250\n",
      "100/100 [==============================] - 37s 367ms/step - loss: 1.7678 - categorical_accuracy: 0.5921 - top_3_accuracy: 0.7740\n",
      "\n",
      "Epoch 00043: top_3_accuracy did not improve from 0.77525\n",
      "Epoch 44/250\n",
      "100/100 [==============================] - 37s 368ms/step - loss: 1.7438 - categorical_accuracy: 0.5965 - top_3_accuracy: 0.7801\n",
      "\n",
      "Epoch 00044: top_3_accuracy improved from 0.77525 to 0.78008, saving model to ./CNN_3_dropout.model\n",
      "Epoch 45/250\n",
      "100/100 [==============================] - 37s 367ms/step - loss: 1.7681 - categorical_accuracy: 0.5945 - top_3_accuracy: 0.7738\n",
      "\n",
      "Epoch 00045: top_3_accuracy did not improve from 0.78008\n",
      "Epoch 46/250\n",
      "100/100 [==============================] - 37s 368ms/step - loss: 1.7386 - categorical_accuracy: 0.5968 - top_3_accuracy: 0.7790\n",
      "\n",
      "Epoch 00046: top_3_accuracy did not improve from 0.78008\n",
      "Epoch 47/250\n",
      "100/100 [==============================] - 37s 368ms/step - loss: 1.7413 - categorical_accuracy: 0.5947 - top_3_accuracy: 0.7775\n",
      "\n",
      "Epoch 00047: top_3_accuracy did not improve from 0.78008\n",
      "Epoch 48/250\n",
      "100/100 [==============================] - 37s 367ms/step - loss: 1.7116 - categorical_accuracy: 0.6022 - top_3_accuracy: 0.7821\n",
      "\n",
      "Epoch 00048: top_3_accuracy improved from 0.78008 to 0.78205, saving model to ./CNN_3_dropout.model\n",
      "Epoch 49/250\n",
      "100/100 [==============================] - 37s 367ms/step - loss: 1.7290 - categorical_accuracy: 0.5964 - top_3_accuracy: 0.7796\n",
      "\n",
      "Epoch 00049: top_3_accuracy did not improve from 0.78205\n",
      "Epoch 50/250\n",
      "100/100 [==============================] - 37s 367ms/step - loss: 1.6787 - categorical_accuracy: 0.6109 - top_3_accuracy: 0.7893\n",
      "\n",
      "Epoch 00050: top_3_accuracy improved from 0.78205 to 0.78930, saving model to ./CNN_3_dropout.model\n",
      "Epoch 51/250\n",
      "100/100 [==============================] - 37s 367ms/step - loss: 1.6802 - categorical_accuracy: 0.6097 - top_3_accuracy: 0.7899\n",
      "\n",
      "Epoch 00051: top_3_accuracy improved from 0.78930 to 0.78992, saving model to ./CNN_3_dropout.model\n",
      "Epoch 52/250\n",
      "100/100 [==============================] - 37s 367ms/step - loss: 1.6626 - categorical_accuracy: 0.6127 - top_3_accuracy: 0.7925\n",
      "\n",
      "Epoch 00052: top_3_accuracy improved from 0.78992 to 0.79246, saving model to ./CNN_3_dropout.model\n",
      "Epoch 53/250\n",
      "100/100 [==============================] - 37s 367ms/step - loss: 1.6528 - categorical_accuracy: 0.6140 - top_3_accuracy: 0.7921\n",
      "\n",
      "Epoch 00053: top_3_accuracy did not improve from 0.79246\n",
      "Epoch 54/250\n",
      "100/100 [==============================] - 37s 368ms/step - loss: 1.6572 - categorical_accuracy: 0.6151 - top_3_accuracy: 0.7936\n",
      "\n",
      "Epoch 00054: top_3_accuracy improved from 0.79246 to 0.79361, saving model to ./CNN_3_dropout.model\n",
      "Epoch 55/250\n",
      "100/100 [==============================] - 37s 368ms/step - loss: 1.6404 - categorical_accuracy: 0.6157 - top_3_accuracy: 0.7958\n",
      "\n",
      "Epoch 00055: top_3_accuracy improved from 0.79361 to 0.79580, saving model to ./CNN_3_dropout.model\n",
      "Epoch 56/250\n",
      "100/100 [==============================] - 37s 367ms/step - loss: 1.6415 - categorical_accuracy: 0.6193 - top_3_accuracy: 0.7951\n",
      "\n",
      "Epoch 00056: top_3_accuracy did not improve from 0.79580\n",
      "Epoch 57/250\n",
      "100/100 [==============================] - 37s 368ms/step - loss: 1.6482 - categorical_accuracy: 0.6171 - top_3_accuracy: 0.7928\n",
      "\n",
      "Epoch 00057: top_3_accuracy did not improve from 0.79580\n",
      "Epoch 58/250\n",
      "100/100 [==============================] - 37s 367ms/step - loss: 1.6351 - categorical_accuracy: 0.6170 - top_3_accuracy: 0.7945\n",
      "\n",
      "Epoch 00058: top_3_accuracy did not improve from 0.79580\n",
      "Epoch 59/250\n",
      "100/100 [==============================] - 37s 368ms/step - loss: 1.6216 - categorical_accuracy: 0.6198 - top_3_accuracy: 0.7979\n",
      "\n",
      "Epoch 00059: top_3_accuracy improved from 0.79580 to 0.79785, saving model to ./CNN_3_dropout.model\n",
      "Epoch 60/250\n",
      "100/100 [==============================] - 37s 366ms/step - loss: 1.6412 - categorical_accuracy: 0.6179 - top_3_accuracy: 0.7944\n",
      "\n",
      "Epoch 00060: top_3_accuracy did not improve from 0.79785\n",
      "Epoch 61/250\n",
      "100/100 [==============================] - 37s 368ms/step - loss: 1.6026 - categorical_accuracy: 0.6246 - top_3_accuracy: 0.8012\n",
      "\n",
      "Epoch 00061: top_3_accuracy improved from 0.79785 to 0.80123, saving model to ./CNN_3_dropout.model\n",
      "Epoch 62/250\n",
      "100/100 [==============================] - 37s 366ms/step - loss: 1.6010 - categorical_accuracy: 0.6245 - top_3_accuracy: 0.8015\n",
      "\n",
      "Epoch 00062: top_3_accuracy improved from 0.80123 to 0.80146, saving model to ./CNN_3_dropout.model\n",
      "Epoch 63/250\n",
      "100/100 [==============================] - 37s 369ms/step - loss: 1.5911 - categorical_accuracy: 0.6270 - top_3_accuracy: 0.8029\n",
      "\n",
      "Epoch 00063: top_3_accuracy improved from 0.80146 to 0.80291, saving model to ./CNN_3_dropout.model\n",
      "Epoch 64/250\n",
      "100/100 [==============================] - 37s 367ms/step - loss: 1.5961 - categorical_accuracy: 0.6257 - top_3_accuracy: 0.8021\n",
      "\n",
      "Epoch 00064: top_3_accuracy did not improve from 0.80291\n",
      "Epoch 65/250\n",
      "100/100 [==============================] - 37s 367ms/step - loss: 1.6098 - categorical_accuracy: 0.6274 - top_3_accuracy: 0.7999\n",
      "\n",
      "Epoch 00065: top_3_accuracy did not improve from 0.80291\n",
      "Epoch 66/250\n",
      "100/100 [==============================] - 37s 368ms/step - loss: 1.5984 - categorical_accuracy: 0.6292 - top_3_accuracy: 0.8024\n",
      "\n",
      "Epoch 00066: top_3_accuracy did not improve from 0.80291\n",
      "Epoch 67/250\n",
      "100/100 [==============================] - 37s 367ms/step - loss: 1.5895 - categorical_accuracy: 0.6287 - top_3_accuracy: 0.8017\n",
      "\n",
      "Epoch 00067: top_3_accuracy did not improve from 0.80291\n",
      "Epoch 68/250\n",
      "100/100 [==============================] - 37s 367ms/step - loss: 1.6011 - categorical_accuracy: 0.6273 - top_3_accuracy: 0.8020\n",
      "\n",
      "Epoch 00068: top_3_accuracy did not improve from 0.80291\n",
      "Epoch 69/250\n",
      "100/100 [==============================] - 37s 366ms/step - loss: 1.5638 - categorical_accuracy: 0.6332 - top_3_accuracy: 0.8066\n",
      "\n",
      "Epoch 00069: top_3_accuracy improved from 0.80291 to 0.80664, saving model to ./CNN_3_dropout.model\n",
      "Epoch 70/250\n",
      "100/100 [==============================] - 37s 366ms/step - loss: 1.5795 - categorical_accuracy: 0.6333 - top_3_accuracy: 0.8058\n",
      "\n",
      "Epoch 00070: top_3_accuracy did not improve from 0.80664\n",
      "Epoch 71/250\n",
      "100/100 [==============================] - 37s 367ms/step - loss: 1.5775 - categorical_accuracy: 0.6318 - top_3_accuracy: 0.8047\n",
      "\n",
      "Epoch 00071: top_3_accuracy did not improve from 0.80664\n",
      "Epoch 72/250\n",
      "100/100 [==============================] - 37s 367ms/step - loss: 1.5694 - categorical_accuracy: 0.6356 - top_3_accuracy: 0.8059\n",
      "\n",
      "Epoch 00072: top_3_accuracy did not improve from 0.80664\n",
      "Epoch 73/250\n",
      "100/100 [==============================] - 37s 367ms/step - loss: 1.5900 - categorical_accuracy: 0.6320 - top_3_accuracy: 0.8040\n",
      "\n",
      "Epoch 00073: top_3_accuracy did not improve from 0.80664\n",
      "Epoch 74/250\n",
      "100/100 [==============================] - 37s 368ms/step - loss: 1.5980 - categorical_accuracy: 0.6293 - top_3_accuracy: 0.8011\n",
      "\n",
      "Epoch 00074: top_3_accuracy did not improve from 0.80664\n",
      "Epoch 75/250\n",
      "100/100 [==============================] - 37s 366ms/step - loss: 1.5788 - categorical_accuracy: 0.6325 - top_3_accuracy: 0.8055\n",
      "\n",
      "Epoch 00075: top_3_accuracy did not improve from 0.80664\n",
      "Epoch 76/250\n",
      "100/100 [==============================] - 37s 366ms/step - loss: 1.5629 - categorical_accuracy: 0.6349 - top_3_accuracy: 0.8070\n",
      "\n",
      "Epoch 00076: top_3_accuracy improved from 0.80664 to 0.80703, saving model to ./CNN_3_dropout.model\n",
      "Epoch 77/250\n",
      "100/100 [==============================] - 37s 366ms/step - loss: 1.5660 - categorical_accuracy: 0.6376 - top_3_accuracy: 0.8052\n",
      "\n",
      "Epoch 00077: top_3_accuracy did not improve from 0.80703\n",
      "Epoch 78/250\n",
      "100/100 [==============================] - 37s 367ms/step - loss: 1.5570 - categorical_accuracy: 0.6352 - top_3_accuracy: 0.8083\n",
      "\n",
      "Epoch 00078: top_3_accuracy improved from 0.80703 to 0.80828, saving model to ./CNN_3_dropout.model\n",
      "Epoch 79/250\n",
      "100/100 [==============================] - 37s 368ms/step - loss: 1.5519 - categorical_accuracy: 0.6362 - top_3_accuracy: 0.8102\n",
      "\n",
      "Epoch 00079: top_3_accuracy improved from 0.80828 to 0.81021, saving model to ./CNN_3_dropout.model\n",
      "Epoch 80/250\n",
      "100/100 [==============================] - 37s 367ms/step - loss: 1.5555 - categorical_accuracy: 0.6357 - top_3_accuracy: 0.8095\n",
      "\n",
      "Epoch 00080: top_3_accuracy did not improve from 0.81021\n",
      "Epoch 81/250\n",
      "100/100 [==============================] - 37s 368ms/step - loss: 1.5560 - categorical_accuracy: 0.6363 - top_3_accuracy: 0.8088\n",
      "\n",
      "Epoch 00081: top_3_accuracy did not improve from 0.81021\n",
      "Epoch 82/250\n",
      "100/100 [==============================] - 37s 367ms/step - loss: 1.5385 - categorical_accuracy: 0.6432 - top_3_accuracy: 0.8108\n",
      "\n",
      "Epoch 00082: top_3_accuracy improved from 0.81021 to 0.81080, saving model to ./CNN_3_dropout.model\n",
      "Epoch 83/250\n",
      "100/100 [==============================] - 37s 368ms/step - loss: 1.5303 - categorical_accuracy: 0.6407 - top_3_accuracy: 0.8130\n",
      "\n",
      "Epoch 00083: top_3_accuracy improved from 0.81080 to 0.81303, saving model to ./CNN_3_dropout.model\n",
      "Epoch 84/250\n",
      "100/100 [==============================] - 37s 368ms/step - loss: 1.5414 - categorical_accuracy: 0.6349 - top_3_accuracy: 0.8110\n",
      "\n",
      "Epoch 00084: top_3_accuracy did not improve from 0.81303\n",
      "Epoch 85/250\n",
      "100/100 [==============================] - 37s 367ms/step - loss: 1.5493 - categorical_accuracy: 0.6394 - top_3_accuracy: 0.8093\n",
      "\n",
      "Epoch 00085: top_3_accuracy did not improve from 0.81303\n",
      "Epoch 86/250\n",
      "100/100 [==============================] - 37s 367ms/step - loss: 1.5524 - categorical_accuracy: 0.6400 - top_3_accuracy: 0.8092\n",
      "\n",
      "Epoch 00086: top_3_accuracy did not improve from 0.81303\n",
      "Epoch 87/250\n",
      "100/100 [==============================] - 37s 366ms/step - loss: 1.5495 - categorical_accuracy: 0.6387 - top_3_accuracy: 0.8095\n",
      "\n",
      "Epoch 00087: top_3_accuracy did not improve from 0.81303\n",
      "Epoch 88/250\n",
      "100/100 [==============================] - 37s 367ms/step - loss: 1.5690 - categorical_accuracy: 0.6351 - top_3_accuracy: 0.8063\n",
      "\n",
      "Epoch 00088: top_3_accuracy did not improve from 0.81303\n",
      "Epoch 89/250\n",
      "100/100 [==============================] - 37s 366ms/step - loss: 1.5427 - categorical_accuracy: 0.6389 - top_3_accuracy: 0.8109\n",
      "\n",
      "Epoch 00089: top_3_accuracy did not improve from 0.81303\n",
      "Epoch 90/250\n",
      "100/100 [==============================] - 37s 368ms/step - loss: 1.5471 - categorical_accuracy: 0.6366 - top_3_accuracy: 0.8108\n",
      "\n",
      "Epoch 00090: top_3_accuracy did not improve from 0.81303\n",
      "Epoch 91/250\n",
      "100/100 [==============================] - 37s 367ms/step - loss: 1.5260 - categorical_accuracy: 0.6426 - top_3_accuracy: 0.8131\n",
      "\n",
      "Epoch 00091: top_3_accuracy improved from 0.81303 to 0.81314, saving model to ./CNN_3_dropout.model\n",
      "Epoch 92/250\n",
      "100/100 [==============================] - 37s 368ms/step - loss: 1.5458 - categorical_accuracy: 0.6384 - top_3_accuracy: 0.8094\n",
      "\n",
      "Epoch 00092: top_3_accuracy did not improve from 0.81314\n",
      "Epoch 93/250\n",
      "100/100 [==============================] - 37s 366ms/step - loss: 1.5541 - categorical_accuracy: 0.6373 - top_3_accuracy: 0.8091\n",
      "\n",
      "Epoch 00093: top_3_accuracy did not improve from 0.81314\n",
      "Epoch 94/250\n",
      "100/100 [==============================] - 37s 366ms/step - loss: 1.5345 - categorical_accuracy: 0.6419 - top_3_accuracy: 0.8112\n",
      "\n",
      "Epoch 00094: top_3_accuracy did not improve from 0.81314\n",
      "Epoch 95/250\n",
      "100/100 [==============================] - 37s 367ms/step - loss: 1.5517 - categorical_accuracy: 0.6411 - top_3_accuracy: 0.8067\n",
      "\n",
      "Epoch 00095: top_3_accuracy did not improve from 0.81314\n",
      "Epoch 96/250\n",
      "100/100 [==============================] - 37s 368ms/step - loss: 1.5386 - categorical_accuracy: 0.6413 - top_3_accuracy: 0.8101\n",
      "\n",
      "Epoch 00096: top_3_accuracy did not improve from 0.81314\n",
      "Epoch 97/250\n",
      "100/100 [==============================] - 37s 367ms/step - loss: 1.5463 - categorical_accuracy: 0.6396 - top_3_accuracy: 0.8097\n",
      "\n",
      "Epoch 00097: top_3_accuracy did not improve from 0.81314\n",
      "Epoch 98/250\n",
      "100/100 [==============================] - 37s 367ms/step - loss: 1.5310 - categorical_accuracy: 0.6409 - top_3_accuracy: 0.8132\n",
      "\n",
      "Epoch 00098: top_3_accuracy improved from 0.81314 to 0.81324, saving model to ./CNN_3_dropout.model\n"
     ]
    }
   ],
   "source": [
    "# fit the model with our eternal generator!\n",
    "CNN_4 = model.fit_generator(\n",
    "    train_iterator(BATCH_SIZE), \n",
    "    steps_per_epoch=STEPS_PER_EPOCH,\n",
    "    epochs=EPOCHS,\n",
    "    callbacks=callbacks,\n",
    "    verbose=1,\n",
    "    initial_epoch=last_finished_epoch\n",
    ")"
   ]
  },
  {
   "cell_type": "markdown",
   "metadata": {
    "colab_type": "text",
    "id": "BXMJirP1uySY"
   },
   "source": [
    " LB  = 0.756. \n",
    " \n",
    " **Вывод:**  Результаты с активацией elu хуже, чем с активацией relu. Поэтому активацию selu, как мне кажется, использовать не стоит, потому что она похожа на elu. На следующем эксперименте заменю relu на LeakyRelu "
   ]
  },
  {
   "cell_type": "markdown",
   "metadata": {
    "colab_type": "text",
    "id": "Jqa0aagD5fqk"
   },
   "source": [
    "#Эксперимент №6"
   ]
  },
  {
   "cell_type": "markdown",
   "metadata": {
    "colab_type": "text",
    "id": "Nvi2RMbuKzWs"
   },
   "source": [
    "Та же сеть, что и в эксперименте 4, только с активацией **LeakyReLU**"
   ]
  },
  {
   "cell_type": "code",
   "execution_count": 100,
   "metadata": {
    "colab": {
     "base_uri": "https://localhost:8080/",
     "height": 34
    },
    "colab_type": "code",
    "id": "AFX98fGm5jy5",
    "outputId": "6006b820-0cff-41ce-ffda-7e89c8d77fe3"
   },
   "outputs": [
    {
     "data": {
      "text/plain": [
       "['fence', 'yoga', 'horse', 'sandwich', 'cat']"
      ]
     },
     "execution_count": 100,
     "metadata": {
      "tags": []
     },
     "output_type": "execute_result"
    }
   ],
   "source": [
    "class_labels = map(lambda x: x.replace(\".csv\", \"\"), zf.namelist())\n",
    "class_labels[:5]"
   ]
  },
  {
   "cell_type": "code",
   "execution_count": 0,
   "metadata": {
    "colab": {},
    "colab_type": "code",
    "id": "5-kOs2LC5kDW"
   },
   "outputs": [],
   "source": [
    "# loop through file eternally\n",
    "def get_eternal_csv_generator(fn, debug=False):\n",
    "    while True:\n",
    "        with zf.open(fn) as f:\n",
    "            f.readline()  # skip header\n",
    "            for line in csv.reader(f, delimiter=',', quotechar='\"'):\n",
    "                yield line[1], line[5]\n",
    "            if debug:\n",
    "                print fn, \"is done, starting from the beginning...\""
   ]
  },
  {
   "cell_type": "code",
   "execution_count": 0,
   "metadata": {
    "colab": {},
    "colab_type": "code",
    "id": "Nq7j79EV5kSY"
   },
   "outputs": [],
   "source": [
    "def raw_batch_generator(batch_size, debug=False):\n",
    "    generators = np.array([get_eternal_csv_generator(fn, debug) for fn in zf.namelist()])\n",
    "    while True:\n",
    "        random_indices = np.random.randint(0, len(generators), size=batch_size)\n",
    "        yield [gen.next() for gen in generators[random_indices]]"
   ]
  },
  {
   "cell_type": "code",
   "execution_count": 0,
   "metadata": {
    "colab": {},
    "colab_type": "code",
    "id": "EoR0IXyY5kqr"
   },
   "outputs": [],
   "source": [
    "# copy-paste from https://www.kaggle.com/jpmiller/image-based-cnn\n",
    "\n",
    "import ast\n",
    "from PIL import Image, ImageDraw\n",
    "import cv2\n",
    "\n",
    "IMG_SIZE = 128\n",
    "\n",
    "# faster conversion function\n",
    "def draw_it(strokes):\n",
    "    img = 255 * np.ones((256, 256), np.uint8)\n",
    "    for stroke in ast.literal_eval(strokes):\n",
    "        for i in range(len(stroke[0]) - 1):\n",
    "            _ = cv2.line(img, (stroke[0][i], stroke[1][i]), (stroke[0][i + 1], stroke[1][i + 1]), 0, 3)\n",
    "    return cv2.resize(img, (IMG_SIZE, IMG_SIZE))"
   ]
  },
  {
   "cell_type": "code",
   "execution_count": 0,
   "metadata": {
    "colab": {},
    "colab_type": "code",
    "id": "Bqy74LHY5k-h"
   },
   "outputs": [],
   "source": [
    "def images_and_labels_generator(batch_size):\n",
    "    for batch in raw_batch_generator(batch_size):\n",
    "        batch_images = []\n",
    "        batch_labels = []\n",
    "        for e in batch:\n",
    "            batch_images.append(draw_it(e[0]))\n",
    "            batch_labels.append(e[1])\n",
    "        batch_images = np.stack(batch_images, axis=0)\n",
    "        yield batch_images, batch_labels"
   ]
  },
  {
   "cell_type": "code",
   "execution_count": 0,
   "metadata": {
    "colab": {},
    "colab_type": "code",
    "id": "3T47ZBZA5lPV"
   },
   "outputs": [],
   "source": [
    "def reset_tf_session():\n",
    "    curr_session = tf.get_default_session()\n",
    "    # close current session\n",
    "    if curr_session is not None:\n",
    "        curr_session.close()\n",
    "    # reset graph\n",
    "    K.clear_session()\n",
    "    # create new session\n",
    "    config = tf.ConfigProto()\n",
    "    config.gpu_options.allow_growth = True\n",
    "    s = tf.InteractiveSession(config=config)\n",
    "    K.set_session(s)\n",
    "    return s"
   ]
  },
  {
   "cell_type": "code",
   "execution_count": 106,
   "metadata": {
    "colab": {
     "base_uri": "https://localhost:8080/",
     "height": 102
    },
    "colab_type": "code",
    "id": "_EauOR6X5lKp",
    "outputId": "b94e6488-54c1-4eba-dd84-71bb2a6a5e61"
   },
   "outputs": [
    {
     "data": {
      "text/plain": [
       "[('snowman', 134),\n",
       " ('eyeglasses', 254),\n",
       " ('ceiling fan', 18),\n",
       " ('camel', 90),\n",
       " ('stove', 119)]"
      ]
     },
     "execution_count": 106,
     "metadata": {
      "tags": []
     },
     "output_type": "execute_result"
    }
   ],
   "source": [
    "NUM_CLASSES = len(class_labels)\n",
    "class_to_idx = {c: idx for idx, c in enumerate(class_labels)}\n",
    "class_to_idx.items()[:5]"
   ]
  },
  {
   "cell_type": "code",
   "execution_count": 0,
   "metadata": {
    "colab": {},
    "colab_type": "code",
    "id": "uf7Agy095lGG"
   },
   "outputs": [],
   "source": [
    "def train_iterator(batch_size):\n",
    "    for batch in images_and_labels_generator(batch_size):\n",
    "        images = batch[0].astype('float32')\n",
    "        images = images/ 255 - 0.5\n",
    "        images = np.expand_dims(images, -1)\n",
    "        labels = keras.utils.to_categorical(map(class_to_idx.get, batch[1]), NUM_CLASSES)\n",
    "        yield images, labels"
   ]
  },
  {
   "cell_type": "code",
   "execution_count": 108,
   "metadata": {
    "colab": {
     "base_uri": "https://localhost:8080/",
     "height": 51
    },
    "colab_type": "code",
    "id": "8Fgf9Gid5k6A",
    "outputId": "b85937a4-a287-458e-ad15-67941cffa7c6"
   },
   "outputs": [
    {
     "name": "stdout",
     "output_type": "stream",
     "text": [
      "(32, 128, 128, 1)\n",
      "(32, 340)\n"
     ]
    }
   ],
   "source": [
    "sample = train_iterator(32).next()\n",
    "print sample[0].shape\n",
    "print sample[1].shape"
   ]
  },
  {
   "cell_type": "code",
   "execution_count": 0,
   "metadata": {
    "colab": {},
    "colab_type": "code",
    "id": "EciFIAyb5k1o"
   },
   "outputs": [],
   "source": [
    "def make_model():\n",
    "    \"\"\"\n",
    "    Define your model architecture here.\n",
    "    Returns `Sequential` model.\n",
    "    \"\"\"\n",
    "    model = Sequential()\n",
    "    \n",
    "    model.add(Conv2D(16, (3,3),padding='same', input_shape=(IMG_SIZE, IMG_SIZE, 1)))\n",
    "    model.add(LeakyReLU(0.1))\n",
    "    model.add(MaxPooling2D(pool_size=(2,2), strides=(2,2)))\n",
    "    \n",
    "    model.add(Conv2D(32, (3,3), padding='same'))\n",
    "    model.add(LeakyReLU(0.1))\n",
    "    model.add(MaxPooling2D(pool_size=(2,2), strides=(2,2)))\n",
    "     \n",
    "    model.add(Conv2D(32, (3,3), padding='same'))\n",
    "    model.add(LeakyReLU(0.1))\n",
    "    model.add(MaxPooling2D(pool_size=(2,2), strides=(2,2)))\n",
    "    \n",
    "    model.add(Conv2D(64, (3,3),padding='same'))\n",
    "    model.add(LeakyReLU(0.1))\n",
    "    model.add(MaxPooling2D(pool_size=(2,2), strides=(2,2)))\n",
    "    \n",
    "    model.add(Conv2D(128, (3,3),padding='same'))\n",
    "    model.add(LeakyReLU(0.1))\n",
    "    model.add(MaxPooling2D(pool_size=(2,2), strides=(2,2)))\n",
    "    model.add(Dropout(0.2))\n",
    "\n",
    "    model.add(Flatten())\n",
    "   \n",
    "\n",
    "    model.add(Dense(4098))\n",
    "    model.add(LeakyReLU(0.1))\n",
    "    model.add(Dropout(0.25))\n",
    "  \n",
    "  \n",
    "    model.add(Dense(NUM_CLASSES, activation=\"softmax\"))\n",
    "    \n",
    "    \n",
    "    return model"
   ]
  },
  {
   "cell_type": "code",
   "execution_count": 115,
   "metadata": {
    "colab": {
     "base_uri": "https://localhost:8080/",
     "height": 850
    },
    "colab_type": "code",
    "id": "7J56SsO88R-4",
    "outputId": "ebc917e7-7ed3-485b-c62b-5054431b8891"
   },
   "outputs": [
    {
     "name": "stdout",
     "output_type": "stream",
     "text": [
      "_________________________________________________________________\n",
      "Layer (type)                 Output Shape              Param #   \n",
      "=================================================================\n",
      "conv2d_1 (Conv2D)            (None, 128, 128, 16)      160       \n",
      "_________________________________________________________________\n",
      "leaky_re_lu_1 (LeakyReLU)    (None, 128, 128, 16)      0         \n",
      "_________________________________________________________________\n",
      "max_pooling2d_1 (MaxPooling2 (None, 64, 64, 16)        0         \n",
      "_________________________________________________________________\n",
      "conv2d_2 (Conv2D)            (None, 64, 64, 32)        4640      \n",
      "_________________________________________________________________\n",
      "leaky_re_lu_2 (LeakyReLU)    (None, 64, 64, 32)        0         \n",
      "_________________________________________________________________\n",
      "max_pooling2d_2 (MaxPooling2 (None, 32, 32, 32)        0         \n",
      "_________________________________________________________________\n",
      "conv2d_3 (Conv2D)            (None, 32, 32, 32)        9248      \n",
      "_________________________________________________________________\n",
      "leaky_re_lu_3 (LeakyReLU)    (None, 32, 32, 32)        0         \n",
      "_________________________________________________________________\n",
      "max_pooling2d_3 (MaxPooling2 (None, 16, 16, 32)        0         \n",
      "_________________________________________________________________\n",
      "conv2d_4 (Conv2D)            (None, 16, 16, 64)        18496     \n",
      "_________________________________________________________________\n",
      "leaky_re_lu_4 (LeakyReLU)    (None, 16, 16, 64)        0         \n",
      "_________________________________________________________________\n",
      "max_pooling2d_4 (MaxPooling2 (None, 8, 8, 64)          0         \n",
      "_________________________________________________________________\n",
      "conv2d_5 (Conv2D)            (None, 8, 8, 128)         73856     \n",
      "_________________________________________________________________\n",
      "leaky_re_lu_5 (LeakyReLU)    (None, 8, 8, 128)         0         \n",
      "_________________________________________________________________\n",
      "max_pooling2d_5 (MaxPooling2 (None, 4, 4, 128)         0         \n",
      "_________________________________________________________________\n",
      "dropout_1 (Dropout)          (None, 4, 4, 128)         0         \n",
      "_________________________________________________________________\n",
      "flatten_1 (Flatten)          (None, 2048)              0         \n",
      "_________________________________________________________________\n",
      "dense_1 (Dense)              (None, 4098)              8396802   \n",
      "_________________________________________________________________\n",
      "leaky_re_lu_6 (LeakyReLU)    (None, 4098)              0         \n",
      "_________________________________________________________________\n",
      "dropout_2 (Dropout)          (None, 4098)              0         \n",
      "_________________________________________________________________\n",
      "dense_2 (Dense)              (None, 340)               1393660   \n",
      "=================================================================\n",
      "Total params: 9,896,862\n",
      "Trainable params: 9,896,862\n",
      "Non-trainable params: 0\n",
      "_________________________________________________________________\n"
     ]
    }
   ],
   "source": [
    "# describe model\n",
    "s = reset_tf_session()  # clear default graph\n",
    "model = make_model()\n",
    "model.summary()"
   ]
  },
  {
   "cell_type": "code",
   "execution_count": 0,
   "metadata": {
    "colab": {},
    "colab_type": "code",
    "id": "4Gvm9DwT5kxW"
   },
   "outputs": [],
   "source": [
    "# custom metrics we need\n",
    "from keras.metrics import categorical_accuracy, top_k_categorical_accuracy\n",
    "\n",
    "def top_3_accuracy(y_true, y_pred):\n",
    "    return top_k_categorical_accuracy(y_true, y_pred, k=3)"
   ]
  },
  {
   "cell_type": "code",
   "execution_count": 0,
   "metadata": {
    "colab": {},
    "colab_type": "code",
    "id": "4g1OoIdC5kmS"
   },
   "outputs": [],
   "source": [
    "BATCH_SIZE = 512\n",
    "STEPS_PER_EPOCH = 100\n",
    "EPOCHS = 250 \n",
    "\n",
    "s = reset_tf_session()  # clear default graph\n",
    "model = make_model()  # define our model\n",
    "\n",
    "# prepare model for fitting (loss, optimizer, etc)\n",
    "model.compile(\n",
    "    loss='categorical_crossentropy',\n",
    "    optimizer=keras.optimizers.adam(clipnorm=5.),  # gradient clipping just in case\n",
    "    metrics=[categorical_accuracy, top_3_accuracy]  # report top 3 accuracy, correlates with MAP@3!\n",
    ")"
   ]
  },
  {
   "cell_type": "code",
   "execution_count": 0,
   "metadata": {
    "colab": {},
    "colab_type": "code",
    "id": "f7BpEr5T5kh4"
   },
   "outputs": [],
   "source": [
    "from tensorflow.keras.callbacks import EarlyStopping, ReduceLROnPlateau, ModelCheckpoint\n",
    "callbacks = [\n",
    "    EarlyStopping(monitor='top_3_accuracy', patience=15, min_delta=0.001, mode='max'),\n",
    "    ReduceLROnPlateau(monitor='top_3_accuracy', factor=0.5, patience=5, min_delta=0.005, mode='max', cooldown=3),\n",
    "    ModelCheckpoint(\"./CNN_6.model\",monitor='top_3_accuracy', mode = 'max', save_best_only=True, verbose=1)\n",
    "]"
   ]
  },
  {
   "cell_type": "code",
   "execution_count": 0,
   "metadata": {
    "colab": {},
    "colab_type": "code",
    "id": "vOWAKswI5kdi"
   },
   "outputs": [],
   "source": [
    "last_finished_epoch = 0\n",
    "\n",
    "# you can continue from snapshot!!!\n",
    "# from keras.models import load_model\n",
    "# s = reset_tf_session()\n",
    "# last_finished_epoch = 2\n",
    "# model = load_model(\"model_{}\".format(last_finished_epoch), \n",
    "#                    custom_objects={\"top_3_accuracy\": top_3_accuracy})"
   ]
  },
  {
   "cell_type": "code",
   "execution_count": 120,
   "metadata": {
    "colab": {
     "base_uri": "https://localhost:8080/",
     "height": 6497
    },
    "colab_type": "code",
    "id": "TtXCHDDa5kZO",
    "outputId": "19b0b937-1c51-450c-c7a2-07eb4771fe14"
   },
   "outputs": [
    {
     "name": "stdout",
     "output_type": "stream",
     "text": [
      "Epoch 1/250\n",
      "100/100 [==============================] - 47s 473ms/step - loss: 4.4783 - categorical_accuracy: 0.1351 - top_3_accuracy: 0.2447\n",
      "\n",
      "Epoch 00001: top_3_accuracy improved from -inf to 0.24471, saving model to ./CNN_6.model\n",
      "Epoch 2/250\n",
      "100/100 [==============================] - 46s 463ms/step - loss: 2.9743 - categorical_accuracy: 0.3474 - top_3_accuracy: 0.5386\n",
      "\n",
      "Epoch 00002: top_3_accuracy improved from 0.24471 to 0.53859, saving model to ./CNN_6.model\n",
      "Epoch 3/250\n",
      "100/100 [==============================] - 46s 463ms/step - loss: 2.4918 - categorical_accuracy: 0.4344 - top_3_accuracy: 0.6354\n",
      "\n",
      "Epoch 00003: top_3_accuracy improved from 0.53859 to 0.63539, saving model to ./CNN_6.model\n",
      "Epoch 4/250\n",
      "100/100 [==============================] - 46s 462ms/step - loss: 2.2756 - categorical_accuracy: 0.4786 - top_3_accuracy: 0.6760\n",
      "\n",
      "Epoch 00004: top_3_accuracy improved from 0.63539 to 0.67602, saving model to ./CNN_6.model\n",
      "Epoch 5/250\n",
      "100/100 [==============================] - 46s 462ms/step - loss: 2.1066 - categorical_accuracy: 0.5120 - top_3_accuracy: 0.7092\n",
      "\n",
      "Epoch 00005: top_3_accuracy improved from 0.67602 to 0.70918, saving model to ./CNN_6.model\n",
      "Epoch 6/250\n",
      "100/100 [==============================] - 46s 462ms/step - loss: 2.0001 - categorical_accuracy: 0.5340 - top_3_accuracy: 0.7280\n",
      "\n",
      "Epoch 00006: top_3_accuracy improved from 0.70918 to 0.72801, saving model to ./CNN_6.model\n",
      "Epoch 7/250\n",
      "100/100 [==============================] - 46s 463ms/step - loss: 1.9419 - categorical_accuracy: 0.5485 - top_3_accuracy: 0.7402\n",
      "\n",
      "Epoch 00007: top_3_accuracy improved from 0.72801 to 0.74016, saving model to ./CNN_6.model\n",
      "Epoch 8/250\n",
      "100/100 [==============================] - 46s 463ms/step - loss: 1.8469 - categorical_accuracy: 0.5662 - top_3_accuracy: 0.7589\n",
      "\n",
      "Epoch 00008: top_3_accuracy improved from 0.74016 to 0.75895, saving model to ./CNN_6.model\n",
      "Epoch 9/250\n",
      "100/100 [==============================] - 46s 463ms/step - loss: 1.8068 - categorical_accuracy: 0.5705 - top_3_accuracy: 0.7657\n",
      "\n",
      "Epoch 00009: top_3_accuracy improved from 0.75895 to 0.76570, saving model to ./CNN_6.model\n",
      "Epoch 10/250\n",
      "100/100 [==============================] - 46s 462ms/step - loss: 1.7761 - categorical_accuracy: 0.5778 - top_3_accuracy: 0.7691\n",
      "\n",
      "Epoch 00010: top_3_accuracy improved from 0.76570 to 0.76912, saving model to ./CNN_6.model\n",
      "Epoch 11/250\n",
      "100/100 [==============================] - 46s 462ms/step - loss: 1.7414 - categorical_accuracy: 0.5879 - top_3_accuracy: 0.7759\n",
      "\n",
      "Epoch 00011: top_3_accuracy improved from 0.76912 to 0.77586, saving model to ./CNN_6.model\n",
      "Epoch 12/250\n",
      "100/100 [==============================] - 46s 462ms/step - loss: 1.6939 - categorical_accuracy: 0.5988 - top_3_accuracy: 0.7837\n",
      "\n",
      "Epoch 00012: top_3_accuracy improved from 0.77586 to 0.78365, saving model to ./CNN_6.model\n",
      "Epoch 13/250\n",
      "100/100 [==============================] - 46s 464ms/step - loss: 1.6911 - categorical_accuracy: 0.5991 - top_3_accuracy: 0.7859\n",
      "\n",
      "Epoch 00013: top_3_accuracy improved from 0.78365 to 0.78592, saving model to ./CNN_6.model\n",
      "Epoch 14/250\n",
      "100/100 [==============================] - 46s 463ms/step - loss: 1.6545 - categorical_accuracy: 0.6042 - top_3_accuracy: 0.7902\n",
      "\n",
      "Epoch 00014: top_3_accuracy improved from 0.78592 to 0.79021, saving model to ./CNN_6.model\n",
      "Epoch 15/250\n",
      "100/100 [==============================] - 46s 463ms/step - loss: 1.6435 - categorical_accuracy: 0.6088 - top_3_accuracy: 0.7921\n",
      "\n",
      "Epoch 00015: top_3_accuracy improved from 0.79021 to 0.79211, saving model to ./CNN_6.model\n",
      "Epoch 16/250\n",
      "100/100 [==============================] - 46s 463ms/step - loss: 1.6208 - categorical_accuracy: 0.6112 - top_3_accuracy: 0.7966\n",
      "\n",
      "Epoch 00016: top_3_accuracy improved from 0.79211 to 0.79660, saving model to ./CNN_6.model\n",
      "Epoch 17/250\n",
      "100/100 [==============================] - 46s 463ms/step - loss: 1.5923 - categorical_accuracy: 0.6183 - top_3_accuracy: 0.8021\n",
      "\n",
      "Epoch 00017: top_3_accuracy improved from 0.79660 to 0.80211, saving model to ./CNN_6.model\n",
      "Epoch 18/250\n",
      "100/100 [==============================] - 46s 462ms/step - loss: 1.5683 - categorical_accuracy: 0.6231 - top_3_accuracy: 0.8042\n",
      "\n",
      "Epoch 00018: top_3_accuracy improved from 0.80211 to 0.80424, saving model to ./CNN_6.model\n",
      "Epoch 19/250\n",
      "100/100 [==============================] - 46s 463ms/step - loss: 1.5696 - categorical_accuracy: 0.6228 - top_3_accuracy: 0.8078\n",
      "\n",
      "Epoch 00019: top_3_accuracy improved from 0.80424 to 0.80783, saving model to ./CNN_6.model\n",
      "Epoch 20/250\n",
      "100/100 [==============================] - 46s 463ms/step - loss: 1.5414 - categorical_accuracy: 0.6300 - top_3_accuracy: 0.8112\n",
      "\n",
      "Epoch 00020: top_3_accuracy improved from 0.80783 to 0.81121, saving model to ./CNN_6.model\n",
      "Epoch 21/250\n",
      "100/100 [==============================] - 46s 463ms/step - loss: 1.5365 - categorical_accuracy: 0.6305 - top_3_accuracy: 0.8107\n",
      "\n",
      "Epoch 00021: top_3_accuracy did not improve from 0.81121\n",
      "Epoch 22/250\n",
      "100/100 [==============================] - 46s 460ms/step - loss: 1.5233 - categorical_accuracy: 0.6321 - top_3_accuracy: 0.8097\n",
      "\n",
      "Epoch 00022: top_3_accuracy did not improve from 0.81121\n",
      "Epoch 23/250\n",
      "100/100 [==============================] - 46s 461ms/step - loss: 1.5296 - categorical_accuracy: 0.6336 - top_3_accuracy: 0.8118\n",
      "\n",
      "Epoch 00023: top_3_accuracy improved from 0.81121 to 0.81184, saving model to ./CNN_6.model\n",
      "Epoch 24/250\n",
      "100/100 [==============================] - 46s 459ms/step - loss: 1.5032 - categorical_accuracy: 0.6401 - top_3_accuracy: 0.8153\n",
      "\n",
      "Epoch 00024: top_3_accuracy improved from 0.81184 to 0.81529, saving model to ./CNN_6.model\n",
      "Epoch 25/250\n",
      "100/100 [==============================] - 46s 460ms/step - loss: 1.4832 - categorical_accuracy: 0.6419 - top_3_accuracy: 0.8184\n",
      "\n",
      "Epoch 00025: top_3_accuracy improved from 0.81529 to 0.81838, saving model to ./CNN_6.model\n",
      "Epoch 26/250\n",
      "100/100 [==============================] - 46s 460ms/step - loss: 1.4766 - categorical_accuracy: 0.6429 - top_3_accuracy: 0.8215\n",
      "\n",
      "Epoch 00026: top_3_accuracy improved from 0.81838 to 0.82146, saving model to ./CNN_6.model\n",
      "Epoch 27/250\n",
      "100/100 [==============================] - 46s 458ms/step - loss: 1.4657 - categorical_accuracy: 0.6427 - top_3_accuracy: 0.8223\n",
      "\n",
      "Epoch 00027: top_3_accuracy improved from 0.82146 to 0.82234, saving model to ./CNN_6.model\n",
      "Epoch 28/250\n",
      "100/100 [==============================] - 46s 458ms/step - loss: 1.4683 - categorical_accuracy: 0.6428 - top_3_accuracy: 0.8221\n",
      "\n",
      "Epoch 00028: top_3_accuracy did not improve from 0.82234\n",
      "Epoch 29/250\n",
      "100/100 [==============================] - 46s 458ms/step - loss: 1.4541 - categorical_accuracy: 0.6477 - top_3_accuracy: 0.8246\n",
      "\n",
      "Epoch 00029: top_3_accuracy improved from 0.82234 to 0.82463, saving model to ./CNN_6.model\n",
      "Epoch 30/250\n",
      "100/100 [==============================] - 46s 458ms/step - loss: 1.4324 - categorical_accuracy: 0.6542 - top_3_accuracy: 0.8280\n",
      "\n",
      "Epoch 00030: top_3_accuracy improved from 0.82463 to 0.82801, saving model to ./CNN_6.model\n",
      "Epoch 31/250\n",
      "100/100 [==============================] - 46s 458ms/step - loss: 1.4255 - categorical_accuracy: 0.6521 - top_3_accuracy: 0.8278\n",
      "\n",
      "Epoch 00031: top_3_accuracy did not improve from 0.82801\n",
      "Epoch 32/250\n",
      "100/100 [==============================] - 46s 457ms/step - loss: 1.4088 - categorical_accuracy: 0.6589 - top_3_accuracy: 0.8317\n",
      "\n",
      "Epoch 00032: top_3_accuracy improved from 0.82801 to 0.83166, saving model to ./CNN_6.model\n",
      "Epoch 33/250\n",
      "100/100 [==============================] - 46s 458ms/step - loss: 1.4096 - categorical_accuracy: 0.6604 - top_3_accuracy: 0.8312\n",
      "\n",
      "Epoch 00033: top_3_accuracy did not improve from 0.83166\n",
      "Epoch 34/250\n",
      "100/100 [==============================] - 46s 458ms/step - loss: 1.4155 - categorical_accuracy: 0.6565 - top_3_accuracy: 0.8305\n",
      "\n",
      "Epoch 00034: top_3_accuracy did not improve from 0.83166\n",
      "Epoch 35/250\n",
      "100/100 [==============================] - 46s 459ms/step - loss: 1.4142 - categorical_accuracy: 0.6575 - top_3_accuracy: 0.8309\n",
      "\n",
      "Epoch 00035: top_3_accuracy did not improve from 0.83166\n",
      "Epoch 36/250\n",
      "100/100 [==============================] - 46s 458ms/step - loss: 1.3592 - categorical_accuracy: 0.6701 - top_3_accuracy: 0.8379\n",
      "\n",
      "Epoch 00036: top_3_accuracy improved from 0.83166 to 0.83793, saving model to ./CNN_6.model\n",
      "Epoch 37/250\n",
      "100/100 [==============================] - 46s 458ms/step - loss: 1.3500 - categorical_accuracy: 0.6753 - top_3_accuracy: 0.8426\n",
      "\n",
      "Epoch 00037: top_3_accuracy improved from 0.83793 to 0.84256, saving model to ./CNN_6.model\n",
      "Epoch 38/250\n",
      "100/100 [==============================] - 46s 458ms/step - loss: 1.3426 - categorical_accuracy: 0.6743 - top_3_accuracy: 0.8420\n",
      "\n",
      "Epoch 00038: top_3_accuracy did not improve from 0.84256\n",
      "Epoch 39/250\n",
      "100/100 [==============================] - 46s 458ms/step - loss: 1.3322 - categorical_accuracy: 0.6780 - top_3_accuracy: 0.8455\n",
      "\n",
      "Epoch 00039: top_3_accuracy improved from 0.84256 to 0.84549, saving model to ./CNN_6.model\n",
      "Epoch 40/250\n",
      "100/100 [==============================] - 46s 461ms/step - loss: 1.3266 - categorical_accuracy: 0.6767 - top_3_accuracy: 0.8449\n",
      "\n",
      "Epoch 00040: top_3_accuracy did not improve from 0.84549\n",
      "Epoch 41/250\n",
      "100/100 [==============================] - 46s 460ms/step - loss: 1.3322 - categorical_accuracy: 0.6765 - top_3_accuracy: 0.8441\n",
      "\n",
      "Epoch 00041: top_3_accuracy did not improve from 0.84549\n",
      "Epoch 42/250\n",
      "100/100 [==============================] - 46s 459ms/step - loss: 1.3250 - categorical_accuracy: 0.6789 - top_3_accuracy: 0.8465\n",
      "\n",
      "Epoch 00042: top_3_accuracy improved from 0.84549 to 0.84646, saving model to ./CNN_6.model\n",
      "Epoch 43/250\n",
      "100/100 [==============================] - 46s 462ms/step - loss: 1.3216 - categorical_accuracy: 0.6797 - top_3_accuracy: 0.8470\n",
      "\n",
      "Epoch 00043: top_3_accuracy improved from 0.84646 to 0.84695, saving model to ./CNN_6.model\n",
      "Epoch 44/250\n",
      "100/100 [==============================] - 46s 461ms/step - loss: 1.3162 - categorical_accuracy: 0.6827 - top_3_accuracy: 0.8453\n",
      "\n",
      "Epoch 00044: top_3_accuracy did not improve from 0.84695\n",
      "Epoch 45/250\n",
      "100/100 [==============================] - 46s 459ms/step - loss: 1.3003 - categorical_accuracy: 0.6855 - top_3_accuracy: 0.8499\n",
      "\n",
      "Epoch 00045: top_3_accuracy improved from 0.84695 to 0.84986, saving model to ./CNN_6.model\n",
      "Epoch 46/250\n",
      "100/100 [==============================] - 46s 460ms/step - loss: 1.2794 - categorical_accuracy: 0.6903 - top_3_accuracy: 0.8517\n",
      "\n",
      "Epoch 00046: top_3_accuracy improved from 0.84986 to 0.85168, saving model to ./CNN_6.model\n",
      "Epoch 47/250\n",
      "100/100 [==============================] - 46s 460ms/step - loss: 1.2867 - categorical_accuracy: 0.6867 - top_3_accuracy: 0.8517\n",
      "\n",
      "Epoch 00047: top_3_accuracy did not improve from 0.85168\n",
      "Epoch 48/250\n",
      "100/100 [==============================] - 46s 460ms/step - loss: 1.2748 - categorical_accuracy: 0.6914 - top_3_accuracy: 0.8519\n",
      "\n",
      "Epoch 00048: top_3_accuracy improved from 0.85168 to 0.85186, saving model to ./CNN_6.model\n",
      "Epoch 49/250\n",
      "100/100 [==============================] - 46s 461ms/step - loss: 1.2599 - categorical_accuracy: 0.6962 - top_3_accuracy: 0.8551\n",
      "\n",
      "Epoch 00049: top_3_accuracy improved from 0.85186 to 0.85510, saving model to ./CNN_6.model\n",
      "Epoch 50/250\n",
      "100/100 [==============================] - 46s 461ms/step - loss: 1.2714 - categorical_accuracy: 0.6907 - top_3_accuracy: 0.8520\n",
      "\n",
      "Epoch 00050: top_3_accuracy did not improve from 0.85510\n",
      "Epoch 51/250\n",
      "100/100 [==============================] - 46s 462ms/step - loss: 1.2499 - categorical_accuracy: 0.6947 - top_3_accuracy: 0.8567\n",
      "\n",
      "Epoch 00051: top_3_accuracy improved from 0.85510 to 0.85674, saving model to ./CNN_6.model\n",
      "Epoch 52/250\n",
      "100/100 [==============================] - 46s 460ms/step - loss: 1.2517 - categorical_accuracy: 0.6946 - top_3_accuracy: 0.8564\n",
      "\n",
      "Epoch 00052: top_3_accuracy did not improve from 0.85674\n",
      "Epoch 53/250\n",
      "100/100 [==============================] - 46s 461ms/step - loss: 1.2626 - categorical_accuracy: 0.6927 - top_3_accuracy: 0.8541\n",
      "\n",
      "Epoch 00053: top_3_accuracy did not improve from 0.85674\n",
      "Epoch 54/250\n",
      "100/100 [==============================] - 46s 461ms/step - loss: 1.2508 - categorical_accuracy: 0.6956 - top_3_accuracy: 0.8556\n",
      "\n",
      "Epoch 00054: top_3_accuracy did not improve from 0.85674\n",
      "Epoch 55/250\n",
      "100/100 [==============================] - 46s 461ms/step - loss: 1.2543 - categorical_accuracy: 0.6957 - top_3_accuracy: 0.8546\n",
      "\n",
      "Epoch 00055: top_3_accuracy did not improve from 0.85674\n",
      "Epoch 56/250\n",
      "100/100 [==============================] - 46s 460ms/step - loss: 1.2463 - categorical_accuracy: 0.6963 - top_3_accuracy: 0.8567\n",
      "\n",
      "Epoch 00056: top_3_accuracy did not improve from 0.85674\n",
      "Epoch 57/250\n",
      "100/100 [==============================] - 46s 460ms/step - loss: 1.2457 - categorical_accuracy: 0.6975 - top_3_accuracy: 0.8565\n",
      "\n",
      "Epoch 00057: top_3_accuracy did not improve from 0.85674\n",
      "Epoch 58/250\n",
      "100/100 [==============================] - 46s 460ms/step - loss: 1.2393 - categorical_accuracy: 0.6996 - top_3_accuracy: 0.8564\n",
      "\n",
      "Epoch 00058: top_3_accuracy did not improve from 0.85674\n",
      "Epoch 59/250\n",
      "100/100 [==============================] - 46s 460ms/step - loss: 1.2329 - categorical_accuracy: 0.7000 - top_3_accuracy: 0.8582\n",
      "\n",
      "Epoch 00059: top_3_accuracy improved from 0.85674 to 0.85818, saving model to ./CNN_6.model\n",
      "Epoch 60/250\n",
      "100/100 [==============================] - 46s 460ms/step - loss: 1.2248 - categorical_accuracy: 0.7019 - top_3_accuracy: 0.8603\n",
      "\n",
      "Epoch 00060: top_3_accuracy improved from 0.85818 to 0.86031, saving model to ./CNN_6.model\n",
      "Epoch 61/250\n",
      "100/100 [==============================] - 46s 461ms/step - loss: 1.2285 - categorical_accuracy: 0.6993 - top_3_accuracy: 0.8598\n",
      "\n",
      "Epoch 00061: top_3_accuracy did not improve from 0.86031\n",
      "Epoch 62/250\n",
      "100/100 [==============================] - 46s 460ms/step - loss: 1.2233 - categorical_accuracy: 0.7002 - top_3_accuracy: 0.8599\n",
      "\n",
      "Epoch 00062: top_3_accuracy did not improve from 0.86031\n",
      "Epoch 63/250\n",
      "100/100 [==============================] - 46s 461ms/step - loss: 1.2239 - categorical_accuracy: 0.7025 - top_3_accuracy: 0.8597\n",
      "\n",
      "Epoch 00063: top_3_accuracy did not improve from 0.86031\n",
      "Epoch 64/250\n",
      "100/100 [==============================] - 46s 461ms/step - loss: 1.2253 - categorical_accuracy: 0.7023 - top_3_accuracy: 0.8602\n",
      "\n",
      "Epoch 00064: top_3_accuracy did not improve from 0.86031\n",
      "Epoch 65/250\n",
      "100/100 [==============================] - 46s 460ms/step - loss: 1.2206 - categorical_accuracy: 0.7051 - top_3_accuracy: 0.8591\n",
      "\n",
      "Epoch 00065: top_3_accuracy did not improve from 0.86031\n",
      "Epoch 66/250\n",
      "100/100 [==============================] - 46s 460ms/step - loss: 1.2305 - categorical_accuracy: 0.7010 - top_3_accuracy: 0.8598\n",
      "\n",
      "Epoch 00066: top_3_accuracy did not improve from 0.86031\n",
      "Epoch 67/250\n",
      "100/100 [==============================] - 46s 461ms/step - loss: 1.2225 - categorical_accuracy: 0.7038 - top_3_accuracy: 0.8598\n",
      "\n",
      "Epoch 00067: top_3_accuracy did not improve from 0.86031\n",
      "Epoch 68/250\n",
      "100/100 [==============================] - 46s 461ms/step - loss: 1.2302 - categorical_accuracy: 0.6994 - top_3_accuracy: 0.8604\n",
      "\n",
      "Epoch 00068: top_3_accuracy improved from 0.86031 to 0.86045, saving model to ./CNN_6.model\n",
      "Epoch 69/250\n",
      "100/100 [==============================] - 46s 462ms/step - loss: 1.2144 - categorical_accuracy: 0.7061 - top_3_accuracy: 0.8629\n",
      "\n",
      "Epoch 00069: top_3_accuracy improved from 0.86045 to 0.86287, saving model to ./CNN_6.model\n",
      "Epoch 70/250\n",
      "100/100 [==============================] - 46s 462ms/step - loss: 1.2174 - categorical_accuracy: 0.7022 - top_3_accuracy: 0.8617\n",
      "\n",
      "Epoch 00070: top_3_accuracy did not improve from 0.86287\n",
      "Epoch 71/250\n",
      "100/100 [==============================] - 46s 461ms/step - loss: 1.2170 - categorical_accuracy: 0.7051 - top_3_accuracy: 0.8604\n",
      "\n",
      "Epoch 00071: top_3_accuracy did not improve from 0.86287\n",
      "Epoch 72/250\n",
      "100/100 [==============================] - 46s 461ms/step - loss: 1.2074 - categorical_accuracy: 0.7069 - top_3_accuracy: 0.8639\n",
      "\n",
      "Epoch 00072: top_3_accuracy improved from 0.86287 to 0.86387, saving model to ./CNN_6.model\n",
      "Epoch 73/250\n",
      "100/100 [==============================] - 46s 460ms/step - loss: 1.2318 - categorical_accuracy: 0.7029 - top_3_accuracy: 0.8587\n",
      "\n",
      "Epoch 00073: top_3_accuracy did not improve from 0.86387\n",
      "Epoch 74/250\n",
      "100/100 [==============================] - 46s 461ms/step - loss: 1.2209 - categorical_accuracy: 0.7037 - top_3_accuracy: 0.8599\n",
      "\n",
      "Epoch 00074: top_3_accuracy did not improve from 0.86387\n",
      "Epoch 75/250\n",
      "100/100 [==============================] - 46s 461ms/step - loss: 1.2295 - categorical_accuracy: 0.7017 - top_3_accuracy: 0.8598\n",
      "\n",
      "Epoch 00075: top_3_accuracy did not improve from 0.86387\n",
      "Epoch 76/250\n",
      "100/100 [==============================] - 46s 461ms/step - loss: 1.2040 - categorical_accuracy: 0.7068 - top_3_accuracy: 0.8623\n",
      "\n",
      "Epoch 00076: top_3_accuracy did not improve from 0.86387\n",
      "Epoch 77/250\n",
      "100/100 [==============================] - 46s 462ms/step - loss: 1.2165 - categorical_accuracy: 0.7039 - top_3_accuracy: 0.8612\n",
      "\n",
      "Epoch 00077: top_3_accuracy did not improve from 0.86387\n",
      "Epoch 78/250\n",
      "100/100 [==============================] - 46s 460ms/step - loss: 1.2031 - categorical_accuracy: 0.7076 - top_3_accuracy: 0.8624\n",
      "\n",
      "Epoch 00078: top_3_accuracy did not improve from 0.86387\n",
      "Epoch 79/250\n",
      "100/100 [==============================] - 46s 459ms/step - loss: 1.2032 - categorical_accuracy: 0.7120 - top_3_accuracy: 0.8625\n",
      "\n",
      "Epoch 00079: top_3_accuracy did not improve from 0.86387\n",
      "Epoch 80/250\n",
      "100/100 [==============================] - 46s 461ms/step - loss: 1.2025 - categorical_accuracy: 0.7063 - top_3_accuracy: 0.8650\n",
      "\n",
      "Epoch 00080: top_3_accuracy improved from 0.86387 to 0.86500, saving model to ./CNN_6.model\n",
      "Epoch 81/250\n",
      "100/100 [==============================] - 46s 462ms/step - loss: 1.2106 - categorical_accuracy: 0.7044 - top_3_accuracy: 0.8616\n",
      "\n",
      "Epoch 00081: top_3_accuracy did not improve from 0.86500\n",
      "Epoch 82/250\n",
      "100/100 [==============================] - 46s 461ms/step - loss: 1.1876 - categorical_accuracy: 0.7086 - top_3_accuracy: 0.8649\n",
      "\n",
      "Epoch 00082: top_3_accuracy did not improve from 0.86500\n",
      "Epoch 83/250\n",
      "100/100 [==============================] - 46s 461ms/step - loss: 1.1961 - categorical_accuracy: 0.7081 - top_3_accuracy: 0.8650\n",
      "\n",
      "Epoch 00083: top_3_accuracy did not improve from 0.86500\n",
      "Epoch 84/250\n",
      "100/100 [==============================] - 46s 460ms/step - loss: 1.1840 - categorical_accuracy: 0.7125 - top_3_accuracy: 0.8649\n",
      "\n",
      "Epoch 00084: top_3_accuracy did not improve from 0.86500\n",
      "Epoch 85/250\n",
      "100/100 [==============================] - 46s 461ms/step - loss: 1.1940 - categorical_accuracy: 0.7090 - top_3_accuracy: 0.8633\n",
      "\n",
      "Epoch 00085: top_3_accuracy did not improve from 0.86500\n",
      "Epoch 86/250\n",
      "100/100 [==============================] - 46s 461ms/step - loss: 1.2152 - categorical_accuracy: 0.7058 - top_3_accuracy: 0.8596\n",
      "\n",
      "Epoch 00086: top_3_accuracy did not improve from 0.86500\n",
      "Epoch 87/250\n",
      "100/100 [==============================] - 46s 461ms/step - loss: 1.2118 - categorical_accuracy: 0.7066 - top_3_accuracy: 0.8603\n",
      "\n",
      "Epoch 00087: top_3_accuracy did not improve from 0.86500\n",
      "Epoch 88/250\n",
      "100/100 [==============================] - 46s 462ms/step - loss: 1.2137 - categorical_accuracy: 0.7074 - top_3_accuracy: 0.8614\n",
      "\n",
      "Epoch 00088: top_3_accuracy did not improve from 0.86500\n",
      "Epoch 89/250\n",
      "100/100 [==============================] - 46s 462ms/step - loss: 1.2108 - categorical_accuracy: 0.7029 - top_3_accuracy: 0.8637\n",
      "\n",
      "Epoch 00089: top_3_accuracy did not improve from 0.86500\n",
      "Epoch 90/250\n",
      "100/100 [==============================] - 46s 461ms/step - loss: 1.1939 - categorical_accuracy: 0.7074 - top_3_accuracy: 0.8622\n",
      "\n",
      "Epoch 00090: top_3_accuracy did not improve from 0.86500\n",
      "Epoch 91/250\n",
      "100/100 [==============================] - 46s 461ms/step - loss: 1.2030 - categorical_accuracy: 0.7097 - top_3_accuracy: 0.8612\n",
      "\n",
      "Epoch 00091: top_3_accuracy did not improve from 0.86500\n",
      "Epoch 92/250\n",
      "100/100 [==============================] - 46s 460ms/step - loss: 1.1980 - categorical_accuracy: 0.7062 - top_3_accuracy: 0.8633\n",
      "\n",
      "Epoch 00092: top_3_accuracy did not improve from 0.86500\n",
      "Epoch 93/250\n",
      "100/100 [==============================] - 46s 461ms/step - loss: 1.2004 - categorical_accuracy: 0.7071 - top_3_accuracy: 0.8630\n",
      "\n",
      "Epoch 00093: top_3_accuracy did not improve from 0.86500\n",
      "Epoch 94/250\n",
      "100/100 [==============================] - 46s 461ms/step - loss: 1.1972 - categorical_accuracy: 0.7083 - top_3_accuracy: 0.8646\n",
      "\n",
      "Epoch 00094: top_3_accuracy did not improve from 0.86500\n",
      "Epoch 95/250\n",
      "100/100 [==============================] - 46s 462ms/step - loss: 1.1889 - categorical_accuracy: 0.7110 - top_3_accuracy: 0.8636\n",
      "\n",
      "Epoch 00095: top_3_accuracy did not improve from 0.86500\n"
     ]
    }
   ],
   "source": [
    "# fit the model with our eternal generator!\n",
    "CNN_6 = model.fit_generator(\n",
    "    train_iterator(BATCH_SIZE), \n",
    "    steps_per_epoch=STEPS_PER_EPOCH,\n",
    "    epochs=EPOCHS,\n",
    "    callbacks=callbacks,\n",
    "    verbose=1,\n",
    "    initial_epoch=last_finished_epoch\n",
    ")"
   ]
  },
  {
   "cell_type": "markdown",
   "metadata": {
    "colab_type": "text",
    "id": "pc0eZUOBN4oa"
   },
   "source": [
    "**Вывод:** LB=0.816 (с активацией relu было LB=0.808). Результат улучшился, но не намного"
   ]
  },
  {
   "cell_type": "markdown",
   "metadata": {
    "colab_type": "text",
    "id": "dmlzTn1SPLGt"
   },
   "source": [
    "#Эксперимент №7"
   ]
  },
  {
   "cell_type": "markdown",
   "metadata": {
    "colab_type": "text",
    "id": "Jq72spt_LXOY"
   },
   "source": [
    "Еще одна попытка настроить регуляризацию. Пока удалось получить лучший результат только с использованием регуляризации DropOut. Добавлю после каждого слоя сверточного слоя и на полносвязном **BatchNormalization** "
   ]
  },
  {
   "cell_type": "code",
   "execution_count": 118,
   "metadata": {
    "colab": {
     "base_uri": "https://localhost:8080/",
     "height": 34
    },
    "colab_type": "code",
    "id": "ZmSJT69j5j-7",
    "outputId": "1da72498-8d96-4720-b417-5b0e387f2bb9"
   },
   "outputs": [
    {
     "data": {
      "text/plain": [
       "['fence', 'yoga', 'horse', 'sandwich', 'cat']"
      ]
     },
     "execution_count": 118,
     "metadata": {
      "tags": []
     },
     "output_type": "execute_result"
    }
   ],
   "source": [
    "class_labels = map(lambda x: x.replace(\".csv\", \"\"), zf.namelist())\n",
    "class_labels[:5]"
   ]
  },
  {
   "cell_type": "code",
   "execution_count": 0,
   "metadata": {
    "colab": {},
    "colab_type": "code",
    "id": "gbOME9oS5j6n"
   },
   "outputs": [],
   "source": [
    "# loop through file eternally\n",
    "def get_eternal_csv_generator(fn, debug=False):\n",
    "    while True:\n",
    "        with zf.open(fn) as f:\n",
    "            f.readline()  # skip header\n",
    "            for line in csv.reader(f, delimiter=',', quotechar='\"'):\n",
    "                yield line[1], line[5]\n",
    "            if debug:\n",
    "                print fn, \"is done, starting from the beginning...\""
   ]
  },
  {
   "cell_type": "code",
   "execution_count": 0,
   "metadata": {
    "colab": {},
    "colab_type": "code",
    "id": "AlrZwZmvPjMz"
   },
   "outputs": [],
   "source": [
    "def raw_batch_generator(batch_size, debug=False):\n",
    "    generators = np.array([get_eternal_csv_generator(fn, debug) for fn in zf.namelist()])\n",
    "    while True:\n",
    "        random_indices = np.random.randint(0, len(generators), size=batch_size)\n",
    "        yield [gen.next() for gen in generators[random_indices]]"
   ]
  },
  {
   "cell_type": "code",
   "execution_count": 0,
   "metadata": {
    "colab": {},
    "colab_type": "code",
    "id": "jb8zkO0RPjoi"
   },
   "outputs": [],
   "source": [
    "# copy-paste from https://www.kaggle.com/jpmiller/image-based-cnn\n",
    "\n",
    "import ast\n",
    "from PIL import Image, ImageDraw\n",
    "import cv2\n",
    "\n",
    "IMG_SIZE = 128\n",
    "\n",
    "# faster conversion function\n",
    "def draw_it(strokes):\n",
    "    img = 255 * np.ones((256, 256), np.uint8)\n",
    "    for stroke in ast.literal_eval(strokes):\n",
    "        for i in range(len(stroke[0]) - 1):\n",
    "            _ = cv2.line(img, (stroke[0][i], stroke[1][i]), (stroke[0][i + 1], stroke[1][i + 1]), 0, 3)\n",
    "    return cv2.resize(img, (IMG_SIZE, IMG_SIZE))"
   ]
  },
  {
   "cell_type": "code",
   "execution_count": 0,
   "metadata": {
    "colab": {},
    "colab_type": "code",
    "id": "IXqwD4iKPkNB"
   },
   "outputs": [],
   "source": [
    "def images_and_labels_generator(batch_size):\n",
    "    for batch in raw_batch_generator(batch_size):\n",
    "        batch_images = []\n",
    "        batch_labels = []\n",
    "        for e in batch:\n",
    "            batch_images.append(draw_it(e[0]))\n",
    "            batch_labels.append(e[1])\n",
    "        batch_images = np.stack(batch_images, axis=0)\n",
    "        yield batch_images, batch_labels"
   ]
  },
  {
   "cell_type": "code",
   "execution_count": 0,
   "metadata": {
    "colab": {},
    "colab_type": "code",
    "id": "ycr-Q2s3PkXX"
   },
   "outputs": [],
   "source": [
    "def reset_tf_session():\n",
    "    curr_session = tf.get_default_session()\n",
    "    # close current session\n",
    "    if curr_session is not None:\n",
    "        curr_session.close()\n",
    "    # reset graph\n",
    "    K.clear_session()\n",
    "    # create new session\n",
    "    config = tf.ConfigProto()\n",
    "    config.gpu_options.allow_growth = True\n",
    "    s = tf.InteractiveSession(config=config)\n",
    "    K.set_session(s)\n",
    "    return s"
   ]
  },
  {
   "cell_type": "code",
   "execution_count": 124,
   "metadata": {
    "colab": {
     "base_uri": "https://localhost:8080/",
     "height": 102
    },
    "colab_type": "code",
    "id": "9aYBD1X5PkGE",
    "outputId": "38f1297b-a3cf-40a7-d597-f4252f268e32"
   },
   "outputs": [
    {
     "data": {
      "text/plain": [
       "[('snowman', 134),\n",
       " ('eyeglasses', 254),\n",
       " ('ceiling fan', 18),\n",
       " ('camel', 90),\n",
       " ('stove', 119)]"
      ]
     },
     "execution_count": 124,
     "metadata": {
      "tags": []
     },
     "output_type": "execute_result"
    }
   ],
   "source": [
    "NUM_CLASSES = len(class_labels)\n",
    "class_to_idx = {c: idx for idx, c in enumerate(class_labels)}\n",
    "class_to_idx.items()[:5]"
   ]
  },
  {
   "cell_type": "code",
   "execution_count": 0,
   "metadata": {
    "colab": {},
    "colab_type": "code",
    "id": "8MomsXqyPkAh"
   },
   "outputs": [],
   "source": [
    "def train_iterator(batch_size):\n",
    "    for batch in images_and_labels_generator(batch_size):\n",
    "        images = batch[0].astype('float32')\n",
    "        images = images/ 255 - 0.5\n",
    "        images = np.expand_dims(images, -1)\n",
    "        labels = keras.utils.to_categorical(map(class_to_idx.get, batch[1]), NUM_CLASSES)\n",
    "        yield images, labels"
   ]
  },
  {
   "cell_type": "code",
   "execution_count": 126,
   "metadata": {
    "colab": {
     "base_uri": "https://localhost:8080/",
     "height": 51
    },
    "colab_type": "code",
    "id": "s7n8kmyfPj7Q",
    "outputId": "c11e990a-941a-42ff-8359-20b2fcb5d354"
   },
   "outputs": [
    {
     "name": "stdout",
     "output_type": "stream",
     "text": [
      "(32, 128, 128, 1)\n",
      "(32, 340)\n"
     ]
    }
   ],
   "source": [
    "sample = train_iterator(32).next()\n",
    "print sample[0].shape\n",
    "print sample[1].shape"
   ]
  },
  {
   "cell_type": "code",
   "execution_count": 0,
   "metadata": {
    "colab": {},
    "colab_type": "code",
    "id": "GTb5nFKCPj1h"
   },
   "outputs": [],
   "source": [
    "def make_model():\n",
    "    \"\"\"\n",
    "    Define your model architecture here.\n",
    "    Returns `Sequential` model.\n",
    "    \"\"\"\n",
    "    model = Sequential()\n",
    "    \n",
    "    model.add(Conv2D(16, (3,3),padding='same', input_shape=(IMG_SIZE, IMG_SIZE, 1)))\n",
    "    model.add(BatchNormalization())\n",
    "    model.add(LeakyReLU(0.1))\n",
    "    model.add(MaxPooling2D(pool_size=(2,2), strides=(2,2)))\n",
    "    \n",
    "    model.add(Conv2D(32, (3,3), padding='same'))\n",
    "    model.add(BatchNormalization())\n",
    "    model.add(LeakyReLU(0.1))\n",
    "    model.add(MaxPooling2D(pool_size=(2,2), strides=(2,2)))\n",
    "     \n",
    "    model.add(Conv2D(32, (3,3), padding='same'))\n",
    "    model.add(BatchNormalization())\n",
    "    model.add(LeakyReLU(0.1))\n",
    "    model.add(MaxPooling2D(pool_size=(2,2), strides=(2,2)))\n",
    "    \n",
    "    model.add(Conv2D(64, (3,3),padding='same'))\n",
    "    model.add(BatchNormalization())\n",
    "    model.add(LeakyReLU(0.1))\n",
    "    model.add(MaxPooling2D(pool_size=(2,2), strides=(2,2)))\n",
    "    \n",
    "    model.add(Conv2D(128, (3,3),padding='same'))\n",
    "    model.add(BatchNormalization())\n",
    "    model.add(LeakyReLU(0.1))\n",
    "    model.add(MaxPooling2D(pool_size=(2,2), strides=(2,2)))\n",
    "    model.add(Dropout(0.2))\n",
    "\n",
    "    model.add(Flatten())\n",
    "   \n",
    "\n",
    "    model.add(Dense(4098))\n",
    "    model.add(BatchNormalization())\n",
    "    model.add(LeakyReLU(0.1))\n",
    "    model.add(Dropout(0.25))\n",
    "  \n",
    "  \n",
    "    model.add(Dense(NUM_CLASSES, activation=\"softmax\"))\n",
    "    \n",
    "    \n",
    "    return model"
   ]
  },
  {
   "cell_type": "code",
   "execution_count": 128,
   "metadata": {
    "colab": {
     "base_uri": "https://localhost:8080/",
     "height": 1091
    },
    "colab_type": "code",
    "id": "pyky5X6VPjwX",
    "outputId": "6c941b15-21ce-4eba-cec7-ccdebd1d520f"
   },
   "outputs": [
    {
     "name": "stdout",
     "output_type": "stream",
     "text": [
      "_________________________________________________________________\n",
      "Layer (type)                 Output Shape              Param #   \n",
      "=================================================================\n",
      "conv2d_1 (Conv2D)            (None, 128, 128, 16)      160       \n",
      "_________________________________________________________________\n",
      "batch_normalization_1 (Batch (None, 128, 128, 16)      64        \n",
      "_________________________________________________________________\n",
      "leaky_re_lu_1 (LeakyReLU)    (None, 128, 128, 16)      0         \n",
      "_________________________________________________________________\n",
      "max_pooling2d_1 (MaxPooling2 (None, 64, 64, 16)        0         \n",
      "_________________________________________________________________\n",
      "conv2d_2 (Conv2D)            (None, 64, 64, 32)        4640      \n",
      "_________________________________________________________________\n",
      "batch_normalization_2 (Batch (None, 64, 64, 32)        128       \n",
      "_________________________________________________________________\n",
      "leaky_re_lu_2 (LeakyReLU)    (None, 64, 64, 32)        0         \n",
      "_________________________________________________________________\n",
      "max_pooling2d_2 (MaxPooling2 (None, 32, 32, 32)        0         \n",
      "_________________________________________________________________\n",
      "conv2d_3 (Conv2D)            (None, 32, 32, 32)        9248      \n",
      "_________________________________________________________________\n",
      "batch_normalization_3 (Batch (None, 32, 32, 32)        128       \n",
      "_________________________________________________________________\n",
      "leaky_re_lu_3 (LeakyReLU)    (None, 32, 32, 32)        0         \n",
      "_________________________________________________________________\n",
      "max_pooling2d_3 (MaxPooling2 (None, 16, 16, 32)        0         \n",
      "_________________________________________________________________\n",
      "conv2d_4 (Conv2D)            (None, 16, 16, 64)        18496     \n",
      "_________________________________________________________________\n",
      "batch_normalization_4 (Batch (None, 16, 16, 64)        256       \n",
      "_________________________________________________________________\n",
      "leaky_re_lu_4 (LeakyReLU)    (None, 16, 16, 64)        0         \n",
      "_________________________________________________________________\n",
      "max_pooling2d_4 (MaxPooling2 (None, 8, 8, 64)          0         \n",
      "_________________________________________________________________\n",
      "conv2d_5 (Conv2D)            (None, 8, 8, 128)         73856     \n",
      "_________________________________________________________________\n",
      "batch_normalization_5 (Batch (None, 8, 8, 128)         512       \n",
      "_________________________________________________________________\n",
      "leaky_re_lu_5 (LeakyReLU)    (None, 8, 8, 128)         0         \n",
      "_________________________________________________________________\n",
      "max_pooling2d_5 (MaxPooling2 (None, 4, 4, 128)         0         \n",
      "_________________________________________________________________\n",
      "dropout_1 (Dropout)          (None, 4, 4, 128)         0         \n",
      "_________________________________________________________________\n",
      "flatten_1 (Flatten)          (None, 2048)              0         \n",
      "_________________________________________________________________\n",
      "dense_1 (Dense)              (None, 4098)              8396802   \n",
      "_________________________________________________________________\n",
      "batch_normalization_6 (Batch (None, 4098)              16392     \n",
      "_________________________________________________________________\n",
      "leaky_re_lu_6 (LeakyReLU)    (None, 4098)              0         \n",
      "_________________________________________________________________\n",
      "dropout_2 (Dropout)          (None, 4098)              0         \n",
      "_________________________________________________________________\n",
      "dense_2 (Dense)              (None, 340)               1393660   \n",
      "=================================================================\n",
      "Total params: 9,914,342\n",
      "Trainable params: 9,905,602\n",
      "Non-trainable params: 8,740\n",
      "_________________________________________________________________\n"
     ]
    },
    {
     "name": "stderr",
     "output_type": "stream",
     "text": [
      "Exception tensorflow.python.framework.errors_impl.CancelledError: CancelledError() in <bound method _Callable.__del__ of <tensorflow.python.client.session._Callable object at 0x7f9ec28a5f10>> ignored\n"
     ]
    }
   ],
   "source": [
    "# describe model\n",
    "s = reset_tf_session()  # clear default graph\n",
    "model = make_model()\n",
    "model.summary()"
   ]
  },
  {
   "cell_type": "code",
   "execution_count": 0,
   "metadata": {
    "colab": {},
    "colab_type": "code",
    "id": "FXBzaI7ePjjh"
   },
   "outputs": [],
   "source": [
    "# custom metrics we need\n",
    "from keras.metrics import categorical_accuracy, top_k_categorical_accuracy\n",
    "\n",
    "def top_3_accuracy(y_true, y_pred):\n",
    "    return top_k_categorical_accuracy(y_true, y_pred, k=3)"
   ]
  },
  {
   "cell_type": "code",
   "execution_count": 0,
   "metadata": {
    "colab": {},
    "colab_type": "code",
    "id": "ZZScekGQPjeg"
   },
   "outputs": [],
   "source": [
    "BATCH_SIZE = 512\n",
    "STEPS_PER_EPOCH = 100\n",
    "EPOCHS = 100 \n",
    "\n",
    "s = reset_tf_session()  # clear default graph\n",
    "model = make_model()  # define our model\n",
    "\n",
    "# prepare model for fitting (loss, optimizer, etc)\n",
    "model.compile(\n",
    "    loss='categorical_crossentropy',\n",
    "    optimizer=keras.optimizers.adam(clipnorm=5.),  # gradient clipping just in case\n",
    "    metrics=[categorical_accuracy, top_3_accuracy]  # report top 3 accuracy, correlates with MAP@3!\n",
    ")"
   ]
  },
  {
   "cell_type": "code",
   "execution_count": 0,
   "metadata": {
    "colab": {},
    "colab_type": "code",
    "id": "_OhB846rPjZb"
   },
   "outputs": [],
   "source": [
    "from tensorflow.keras.callbacks import EarlyStopping, ReduceLROnPlateau, ModelCheckpoint\n",
    "callbacks = [\n",
    "    EarlyStopping(monitor='top_3_accuracy', patience=8, min_delta=0.001, mode='max'),\n",
    "    ReduceLROnPlateau(monitor='top_3_accuracy', factor=0.5, patience=5, min_delta=0.005, mode='max', cooldown=3),\n",
    "    ModelCheckpoint(\"./CNN_7.model\",monitor='top_3_accuracy', mode = 'max', save_best_only=True, verbose=1)\n",
    "]"
   ]
  },
  {
   "cell_type": "code",
   "execution_count": 0,
   "metadata": {
    "colab": {},
    "colab_type": "code",
    "id": "2pjMGPAEPjUY"
   },
   "outputs": [],
   "source": [
    "last_finished_epoch = 0\n"
   ]
  },
  {
   "cell_type": "code",
   "execution_count": 133,
   "metadata": {
    "colab": {
     "base_uri": "https://localhost:8080/",
     "height": 4729
    },
    "colab_type": "code",
    "id": "ZVo9NcnMQSdA",
    "outputId": "89b8865c-1068-4276-84e0-37e64386dda4"
   },
   "outputs": [
    {
     "name": "stdout",
     "output_type": "stream",
     "text": [
      "Epoch 1/100\n",
      "100/100 [==============================] - 68s 676ms/step - loss: 3.9216 - categorical_accuracy: 0.2304 - top_3_accuracy: 0.3785\n",
      "\n",
      "Epoch 00001: top_3_accuracy improved from -inf to 0.37848, saving model to ./CNN_7.model\n",
      "Epoch 2/100\n",
      "100/100 [==============================] - 66s 657ms/step - loss: 2.8939 - categorical_accuracy: 0.3722 - top_3_accuracy: 0.5632\n",
      "\n",
      "Epoch 00002: top_3_accuracy improved from 0.37848 to 0.56320, saving model to ./CNN_7.model\n",
      "Epoch 3/100\n",
      "100/100 [==============================] - 65s 654ms/step - loss: 2.5447 - categorical_accuracy: 0.4344 - top_3_accuracy: 0.6303\n",
      "\n",
      "Epoch 00003: top_3_accuracy improved from 0.56320 to 0.63027, saving model to ./CNN_7.model\n",
      "Epoch 4/100\n",
      "100/100 [==============================] - 65s 653ms/step - loss: 2.3663 - categorical_accuracy: 0.4672 - top_3_accuracy: 0.6629\n",
      "\n",
      "Epoch 00004: top_3_accuracy improved from 0.63027 to 0.66295, saving model to ./CNN_7.model\n",
      "Epoch 5/100\n",
      "100/100 [==============================] - 65s 654ms/step - loss: 2.2110 - categorical_accuracy: 0.4985 - top_3_accuracy: 0.6930\n",
      "\n",
      "Epoch 00005: top_3_accuracy improved from 0.66295 to 0.69297, saving model to ./CNN_7.model\n",
      "Epoch 6/100\n",
      "100/100 [==============================] - 65s 653ms/step - loss: 2.0985 - categorical_accuracy: 0.5165 - top_3_accuracy: 0.7128\n",
      "\n",
      "Epoch 00006: top_3_accuracy improved from 0.69297 to 0.71281, saving model to ./CNN_7.model\n",
      "Epoch 7/100\n",
      "100/100 [==============================] - 65s 654ms/step - loss: 2.0440 - categorical_accuracy: 0.5285 - top_3_accuracy: 0.7258\n",
      "\n",
      "Epoch 00007: top_3_accuracy improved from 0.71281 to 0.72582, saving model to ./CNN_7.model\n",
      "Epoch 8/100\n",
      "100/100 [==============================] - 65s 654ms/step - loss: 1.9385 - categorical_accuracy: 0.5491 - top_3_accuracy: 0.7437\n",
      "\n",
      "Epoch 00008: top_3_accuracy improved from 0.72582 to 0.74373, saving model to ./CNN_7.model\n",
      "Epoch 9/100\n",
      "100/100 [==============================] - 65s 654ms/step - loss: 1.8770 - categorical_accuracy: 0.5623 - top_3_accuracy: 0.7523\n",
      "\n",
      "Epoch 00009: top_3_accuracy improved from 0.74373 to 0.75227, saving model to ./CNN_7.model\n",
      "Epoch 10/100\n",
      "100/100 [==============================] - 65s 654ms/step - loss: 1.8499 - categorical_accuracy: 0.5657 - top_3_accuracy: 0.7585\n",
      "\n",
      "Epoch 00010: top_3_accuracy improved from 0.75227 to 0.75848, saving model to ./CNN_7.model\n",
      "Epoch 11/100\n",
      "100/100 [==============================] - 66s 656ms/step - loss: 1.7978 - categorical_accuracy: 0.5778 - top_3_accuracy: 0.7678\n",
      "\n",
      "Epoch 00011: top_3_accuracy improved from 0.75848 to 0.76779, saving model to ./CNN_7.model\n",
      "Epoch 12/100\n",
      "100/100 [==============================] - 66s 655ms/step - loss: 1.7674 - categorical_accuracy: 0.5819 - top_3_accuracy: 0.7718\n",
      "\n",
      "Epoch 00012: top_3_accuracy improved from 0.76779 to 0.77178, saving model to ./CNN_7.model\n",
      "Epoch 13/100\n",
      "100/100 [==============================] - 65s 655ms/step - loss: 1.7385 - categorical_accuracy: 0.5886 - top_3_accuracy: 0.7781\n",
      "\n",
      "Epoch 00013: top_3_accuracy improved from 0.77178 to 0.77807, saving model to ./CNN_7.model\n",
      "Epoch 14/100\n",
      "100/100 [==============================] - 65s 654ms/step - loss: 1.7122 - categorical_accuracy: 0.5947 - top_3_accuracy: 0.7814\n",
      "\n",
      "Epoch 00014: top_3_accuracy improved from 0.77807 to 0.78141, saving model to ./CNN_7.model\n",
      "Epoch 15/100\n",
      "100/100 [==============================] - 65s 654ms/step - loss: 1.6694 - categorical_accuracy: 0.6047 - top_3_accuracy: 0.7881\n",
      "\n",
      "Epoch 00015: top_3_accuracy improved from 0.78141 to 0.78814, saving model to ./CNN_7.model\n",
      "Epoch 16/100\n",
      "100/100 [==============================] - 65s 653ms/step - loss: 1.6505 - categorical_accuracy: 0.6072 - top_3_accuracy: 0.7921\n",
      "\n",
      "Epoch 00016: top_3_accuracy improved from 0.78814 to 0.79205, saving model to ./CNN_7.model\n",
      "Epoch 17/100\n",
      "100/100 [==============================] - 65s 654ms/step - loss: 1.6441 - categorical_accuracy: 0.6114 - top_3_accuracy: 0.7933\n",
      "\n",
      "Epoch 00017: top_3_accuracy improved from 0.79205 to 0.79330, saving model to ./CNN_7.model\n",
      "Epoch 18/100\n",
      "100/100 [==============================] - 65s 653ms/step - loss: 1.5968 - categorical_accuracy: 0.6195 - top_3_accuracy: 0.8001\n",
      "\n",
      "Epoch 00018: top_3_accuracy improved from 0.79330 to 0.80012, saving model to ./CNN_7.model\n",
      "Epoch 19/100\n",
      "100/100 [==============================] - 65s 654ms/step - loss: 1.5854 - categorical_accuracy: 0.6213 - top_3_accuracy: 0.8034\n",
      "\n",
      "Epoch 00019: top_3_accuracy improved from 0.80012 to 0.80336, saving model to ./CNN_7.model\n",
      "Epoch 20/100\n",
      "100/100 [==============================] - 65s 655ms/step - loss: 1.5695 - categorical_accuracy: 0.6246 - top_3_accuracy: 0.8064\n",
      "\n",
      "Epoch 00020: top_3_accuracy improved from 0.80336 to 0.80643, saving model to ./CNN_7.model\n",
      "Epoch 21/100\n",
      "100/100 [==============================] - 65s 654ms/step - loss: 1.5364 - categorical_accuracy: 0.6295 - top_3_accuracy: 0.8102\n",
      "\n",
      "Epoch 00021: top_3_accuracy improved from 0.80643 to 0.81023, saving model to ./CNN_7.model\n",
      "Epoch 22/100\n",
      "100/100 [==============================] - 66s 655ms/step - loss: 1.5521 - categorical_accuracy: 0.6274 - top_3_accuracy: 0.8058\n",
      "\n",
      "Epoch 00022: top_3_accuracy did not improve from 0.81023\n",
      "Epoch 23/100\n",
      "100/100 [==============================] - 65s 654ms/step - loss: 1.5373 - categorical_accuracy: 0.6332 - top_3_accuracy: 0.8096\n",
      "\n",
      "Epoch 00023: top_3_accuracy did not improve from 0.81023\n",
      "Epoch 24/100\n",
      "100/100 [==============================] - 65s 654ms/step - loss: 1.5104 - categorical_accuracy: 0.6381 - top_3_accuracy: 0.8147\n",
      "\n",
      "Epoch 00024: top_3_accuracy improved from 0.81023 to 0.81467, saving model to ./CNN_7.model\n",
      "Epoch 25/100\n",
      "100/100 [==============================] - 65s 653ms/step - loss: 1.4890 - categorical_accuracy: 0.6425 - top_3_accuracy: 0.8200\n",
      "\n",
      "Epoch 00025: top_3_accuracy improved from 0.81467 to 0.82000, saving model to ./CNN_7.model\n",
      "Epoch 26/100\n",
      "100/100 [==============================] - 65s 655ms/step - loss: 1.4787 - categorical_accuracy: 0.6453 - top_3_accuracy: 0.8205\n",
      "\n",
      "Epoch 00026: top_3_accuracy improved from 0.82000 to 0.82055, saving model to ./CNN_7.model\n",
      "Epoch 27/100\n",
      "100/100 [==============================] - 65s 655ms/step - loss: 1.4696 - categorical_accuracy: 0.6454 - top_3_accuracy: 0.8216\n",
      "\n",
      "Epoch 00027: top_3_accuracy improved from 0.82055 to 0.82156, saving model to ./CNN_7.model\n",
      "Epoch 28/100\n",
      "100/100 [==============================] - 65s 655ms/step - loss: 1.4769 - categorical_accuracy: 0.6428 - top_3_accuracy: 0.8198\n",
      "\n",
      "Epoch 00028: top_3_accuracy did not improve from 0.82156\n",
      "Epoch 29/100\n",
      "100/100 [==============================] - 66s 656ms/step - loss: 1.4668 - categorical_accuracy: 0.6450 - top_3_accuracy: 0.8240\n",
      "\n",
      "Epoch 00029: top_3_accuracy improved from 0.82156 to 0.82400, saving model to ./CNN_7.model\n",
      "Epoch 30/100\n",
      "100/100 [==============================] - 66s 656ms/step - loss: 1.4351 - categorical_accuracy: 0.6521 - top_3_accuracy: 0.8262\n",
      "\n",
      "Epoch 00030: top_3_accuracy improved from 0.82400 to 0.82619, saving model to ./CNN_7.model\n",
      "Epoch 31/100\n",
      "100/100 [==============================] - 66s 655ms/step - loss: 1.4330 - categorical_accuracy: 0.6545 - top_3_accuracy: 0.8282\n",
      "\n",
      "Epoch 00031: top_3_accuracy improved from 0.82619 to 0.82816, saving model to ./CNN_7.model\n",
      "Epoch 32/100\n",
      "100/100 [==============================] - 65s 653ms/step - loss: 1.4092 - categorical_accuracy: 0.6589 - top_3_accuracy: 0.8320\n",
      "\n",
      "Epoch 00032: top_3_accuracy improved from 0.82816 to 0.83203, saving model to ./CNN_7.model\n",
      "Epoch 33/100\n",
      "100/100 [==============================] - 65s 653ms/step - loss: 1.4155 - categorical_accuracy: 0.6591 - top_3_accuracy: 0.8323\n",
      "\n",
      "Epoch 00033: top_3_accuracy improved from 0.83203 to 0.83230, saving model to ./CNN_7.model\n",
      "Epoch 34/100\n",
      "100/100 [==============================] - 65s 653ms/step - loss: 1.4180 - categorical_accuracy: 0.6575 - top_3_accuracy: 0.8313\n",
      "\n",
      "Epoch 00034: top_3_accuracy did not improve from 0.83230\n",
      "Epoch 35/100\n",
      "100/100 [==============================] - 65s 653ms/step - loss: 1.4017 - categorical_accuracy: 0.6584 - top_3_accuracy: 0.8320\n",
      "\n",
      "Epoch 00035: top_3_accuracy did not improve from 0.83230\n",
      "Epoch 36/100\n",
      "100/100 [==============================] - 65s 654ms/step - loss: 1.4093 - categorical_accuracy: 0.6599 - top_3_accuracy: 0.8336\n",
      "\n",
      "Epoch 00036: top_3_accuracy improved from 0.83230 to 0.83363, saving model to ./CNN_7.model\n",
      "Epoch 37/100\n",
      "100/100 [==============================] - 65s 654ms/step - loss: 1.4004 - categorical_accuracy: 0.6607 - top_3_accuracy: 0.8326\n",
      "\n",
      "Epoch 00037: top_3_accuracy did not improve from 0.83363\n",
      "Epoch 38/100\n",
      "100/100 [==============================] - 65s 655ms/step - loss: 1.3630 - categorical_accuracy: 0.6730 - top_3_accuracy: 0.8402\n",
      "\n",
      "Epoch 00038: top_3_accuracy improved from 0.83363 to 0.84018, saving model to ./CNN_7.model\n",
      "Epoch 39/100\n",
      "100/100 [==============================] - 65s 654ms/step - loss: 1.3353 - categorical_accuracy: 0.6765 - top_3_accuracy: 0.8437\n",
      "\n",
      "Epoch 00039: top_3_accuracy improved from 0.84018 to 0.84371, saving model to ./CNN_7.model\n",
      "Epoch 40/100\n",
      "100/100 [==============================] - 65s 654ms/step - loss: 1.3191 - categorical_accuracy: 0.6827 - top_3_accuracy: 0.8462\n",
      "\n",
      "Epoch 00040: top_3_accuracy improved from 0.84371 to 0.84615, saving model to ./CNN_7.model\n",
      "Epoch 41/100\n",
      "100/100 [==============================] - 66s 655ms/step - loss: 1.3198 - categorical_accuracy: 0.6814 - top_3_accuracy: 0.8447\n",
      "\n",
      "Epoch 00041: top_3_accuracy did not improve from 0.84615\n",
      "Epoch 42/100\n",
      "100/100 [==============================] - 65s 654ms/step - loss: 1.3097 - categorical_accuracy: 0.6832 - top_3_accuracy: 0.8486\n",
      "\n",
      "Epoch 00042: top_3_accuracy improved from 0.84615 to 0.84857, saving model to ./CNN_7.model\n",
      "Epoch 43/100\n",
      "100/100 [==============================] - 65s 655ms/step - loss: 1.2975 - categorical_accuracy: 0.6841 - top_3_accuracy: 0.8493\n",
      "\n",
      "Epoch 00043: top_3_accuracy improved from 0.84857 to 0.84930, saving model to ./CNN_7.model\n",
      "Epoch 44/100\n",
      "100/100 [==============================] - 65s 655ms/step - loss: 1.3125 - categorical_accuracy: 0.6841 - top_3_accuracy: 0.8460\n",
      "\n",
      "Epoch 00044: top_3_accuracy did not improve from 0.84930\n",
      "Epoch 45/100\n",
      "100/100 [==============================] - 65s 654ms/step - loss: 1.3085 - categorical_accuracy: 0.6820 - top_3_accuracy: 0.8481\n",
      "\n",
      "Epoch 00045: top_3_accuracy did not improve from 0.84930\n",
      "Epoch 46/100\n",
      "100/100 [==============================] - 65s 653ms/step - loss: 1.2918 - categorical_accuracy: 0.6863 - top_3_accuracy: 0.8514\n",
      "\n",
      "Epoch 00046: top_3_accuracy improved from 0.84930 to 0.85143, saving model to ./CNN_7.model\n",
      "Epoch 47/100\n",
      "100/100 [==============================] - 65s 655ms/step - loss: 1.2640 - categorical_accuracy: 0.6915 - top_3_accuracy: 0.8534\n",
      "\n",
      "Epoch 00047: top_3_accuracy improved from 0.85143 to 0.85344, saving model to ./CNN_7.model\n",
      "Epoch 48/100\n",
      "100/100 [==============================] - 65s 654ms/step - loss: 1.2456 - categorical_accuracy: 0.6979 - top_3_accuracy: 0.8579\n",
      "\n",
      "Epoch 00048: top_3_accuracy improved from 0.85344 to 0.85793, saving model to ./CNN_7.model\n",
      "Epoch 49/100\n",
      "100/100 [==============================] - 65s 653ms/step - loss: 1.2517 - categorical_accuracy: 0.6988 - top_3_accuracy: 0.8548\n",
      "\n",
      "Epoch 00049: top_3_accuracy did not improve from 0.85793\n",
      "Epoch 50/100\n",
      "100/100 [==============================] - 65s 653ms/step - loss: 1.2470 - categorical_accuracy: 0.6978 - top_3_accuracy: 0.8585\n",
      "\n",
      "Epoch 00050: top_3_accuracy improved from 0.85793 to 0.85846, saving model to ./CNN_7.model\n",
      "Epoch 51/100\n",
      "100/100 [==============================] - 65s 654ms/step - loss: 1.2510 - categorical_accuracy: 0.6979 - top_3_accuracy: 0.8571\n",
      "\n",
      "Epoch 00051: top_3_accuracy did not improve from 0.85846\n",
      "Epoch 52/100\n",
      "100/100 [==============================] - 65s 654ms/step - loss: 1.2370 - categorical_accuracy: 0.6975 - top_3_accuracy: 0.8583\n",
      "\n",
      "Epoch 00052: top_3_accuracy did not improve from 0.85846\n",
      "Epoch 53/100\n",
      "100/100 [==============================] - 65s 654ms/step - loss: 1.2534 - categorical_accuracy: 0.6959 - top_3_accuracy: 0.8556\n",
      "\n",
      "Epoch 00053: top_3_accuracy did not improve from 0.85846\n",
      "Epoch 54/100\n",
      "100/100 [==============================] - 65s 654ms/step - loss: 1.2196 - categorical_accuracy: 0.7016 - top_3_accuracy: 0.8611\n",
      "\n",
      "Epoch 00054: top_3_accuracy improved from 0.85846 to 0.86113, saving model to ./CNN_7.model\n",
      "Epoch 55/100\n",
      "100/100 [==============================] - 65s 653ms/step - loss: 1.2267 - categorical_accuracy: 0.7013 - top_3_accuracy: 0.8599\n",
      "\n",
      "Epoch 00055: top_3_accuracy did not improve from 0.86113\n",
      "Epoch 56/100\n",
      "100/100 [==============================] - 65s 654ms/step - loss: 1.2290 - categorical_accuracy: 0.7021 - top_3_accuracy: 0.8603\n",
      "\n",
      "Epoch 00056: top_3_accuracy did not improve from 0.86113\n",
      "Epoch 57/100\n",
      "100/100 [==============================] - 65s 654ms/step - loss: 1.2207 - categorical_accuracy: 0.7033 - top_3_accuracy: 0.8611\n",
      "\n",
      "Epoch 00057: top_3_accuracy did not improve from 0.86113\n",
      "Epoch 58/100\n",
      "100/100 [==============================] - 65s 655ms/step - loss: 1.2106 - categorical_accuracy: 0.7057 - top_3_accuracy: 0.8626\n",
      "\n",
      "Epoch 00058: top_3_accuracy improved from 0.86113 to 0.86258, saving model to ./CNN_7.model\n",
      "Epoch 59/100\n",
      "100/100 [==============================] - 65s 654ms/step - loss: 1.2144 - categorical_accuracy: 0.7038 - top_3_accuracy: 0.8614\n",
      "\n",
      "Epoch 00059: top_3_accuracy did not improve from 0.86258\n",
      "Epoch 60/100\n",
      "100/100 [==============================] - 65s 654ms/step - loss: 1.2263 - categorical_accuracy: 0.7044 - top_3_accuracy: 0.8611\n",
      "\n",
      "Epoch 00060: top_3_accuracy did not improve from 0.86258\n",
      "Epoch 61/100\n",
      "100/100 [==============================] - 65s 654ms/step - loss: 1.1941 - categorical_accuracy: 0.7055 - top_3_accuracy: 0.8653\n",
      "\n",
      "Epoch 00061: top_3_accuracy improved from 0.86258 to 0.86529, saving model to ./CNN_7.model\n",
      "Epoch 62/100\n",
      "100/100 [==============================] - 65s 654ms/step - loss: 1.2057 - categorical_accuracy: 0.7068 - top_3_accuracy: 0.8624\n",
      "\n",
      "Epoch 00062: top_3_accuracy did not improve from 0.86529\n",
      "Epoch 63/100\n",
      "100/100 [==============================] - 65s 653ms/step - loss: 1.1956 - categorical_accuracy: 0.7073 - top_3_accuracy: 0.8660\n",
      "\n",
      "Epoch 00063: top_3_accuracy improved from 0.86529 to 0.86602, saving model to ./CNN_7.model\n",
      "Epoch 64/100\n",
      "100/100 [==============================] - 65s 653ms/step - loss: 1.2002 - categorical_accuracy: 0.7077 - top_3_accuracy: 0.8632\n",
      "\n",
      "Epoch 00064: top_3_accuracy did not improve from 0.86602\n",
      "Epoch 65/100\n",
      "100/100 [==============================] - 65s 653ms/step - loss: 1.2154 - categorical_accuracy: 0.7056 - top_3_accuracy: 0.8621\n",
      "\n",
      "Epoch 00065: top_3_accuracy did not improve from 0.86602\n",
      "Epoch 66/100\n",
      "100/100 [==============================] - 65s 654ms/step - loss: 1.2118 - categorical_accuracy: 0.7076 - top_3_accuracy: 0.8618\n",
      "\n",
      "Epoch 00066: top_3_accuracy did not improve from 0.86602\n",
      "Epoch 67/100\n",
      "100/100 [==============================] - 65s 654ms/step - loss: 1.2053 - categorical_accuracy: 0.7064 - top_3_accuracy: 0.8634\n",
      "\n",
      "Epoch 00067: top_3_accuracy did not improve from 0.86602\n",
      "Epoch 68/100\n",
      "100/100 [==============================] - 65s 654ms/step - loss: 1.2070 - categorical_accuracy: 0.7077 - top_3_accuracy: 0.8629\n",
      "\n",
      "Epoch 00068: top_3_accuracy did not improve from 0.86602\n",
      "Epoch 69/100\n",
      "100/100 [==============================] - 65s 654ms/step - loss: 1.1971 - categorical_accuracy: 0.7093 - top_3_accuracy: 0.8637\n",
      "\n",
      "Epoch 00069: top_3_accuracy did not improve from 0.86602\n"
     ]
    }
   ],
   "source": [
    "# fit the model with our eternal generator!\n",
    "CNN_7 = model.fit_generator(\n",
    "    train_iterator(BATCH_SIZE), \n",
    "    steps_per_epoch=STEPS_PER_EPOCH,\n",
    "    epochs=EPOCHS,\n",
    "    callbacks=callbacks,\n",
    "    verbose=1,\n",
    "    initial_epoch=last_finished_epoch\n",
    ")"
   ]
  },
  {
   "cell_type": "markdown",
   "metadata": {
    "colab_type": "text",
    "id": "gv_buAgJNLSp"
   },
   "source": [
    "**Вывод:** На тестовых данных результат немного улучшился, но на kaggle остался такими же. Можно предположить, что BatchNormalization можно не использовать в данном обучении"
   ]
  },
  {
   "cell_type": "markdown",
   "metadata": {
    "colab_type": "text",
    "id": "Amc-46O56bEz"
   },
   "source": [
    "#Эксперимент №8 Аугментация"
   ]
  },
  {
   "cell_type": "markdown",
   "metadata": {
    "colab_type": "text",
    "id": "S8wEI5r4PsJp"
   },
   "source": [
    "Использую лучшую модель CNN с LeakyReLU, только в генератор подаю измененные картинки "
   ]
  },
  {
   "cell_type": "code",
   "execution_count": 125,
   "metadata": {
    "colab": {
     "base_uri": "https://localhost:8080/",
     "height": 114
    },
    "colab_type": "code",
    "id": "JuQ_iG_aC2PG",
    "outputId": "43610e4d-ba6d-44cf-faac-3b3a7b911002"
   },
   "outputs": [
    {
     "name": "stdout",
     "output_type": "stream",
     "text": [
      "Drive already mounted at /content/gdrive; to attempt to forcibly remount, call drive.mount(\"/content/gdrive\", force_remount=True).\n"
     ]
    }
   ],
   "source": [
    "from google.colab import drive\n",
    "GOOGLE_DRIVE_MOUNT = \"/content/gdrive\"\n",
    "drive.mount(GOOGLE_DRIVE_MOUNT)"
   ]
  },
  {
   "cell_type": "code",
   "execution_count": 126,
   "metadata": {
    "colab": {
     "base_uri": "https://localhost:8080/",
     "height": 34
    },
    "colab_type": "code",
    "id": "pzdR4aNaQSSW",
    "outputId": "0a5c3ad9-b58e-4f4a-e133-0d491490a47e"
   },
   "outputs": [
    {
     "data": {
      "text/plain": [
       "['fence', 'yoga', 'horse', 'sandwich', 'cat']"
      ]
     },
     "execution_count": 126,
     "metadata": {
      "tags": []
     },
     "output_type": "execute_result"
    }
   ],
   "source": [
    "class_labels = map(lambda x: x.replace(\".csv\", \"\"), zf.namelist())\n",
    "class_labels[:5]"
   ]
  },
  {
   "cell_type": "code",
   "execution_count": 0,
   "metadata": {
    "colab": {},
    "colab_type": "code",
    "id": "B9xzShGu9ejP"
   },
   "outputs": [],
   "source": [
    "# loop through file eternally\n",
    "def get_eternal_csv_generator(fn, debug=False):\n",
    "    while True:\n",
    "        with zf.open(fn) as f:\n",
    "            f.readline()  # skip header\n",
    "            for line in csv.reader(f, delimiter=',', quotechar='\"'):\n",
    "                yield line[1], line[5]\n",
    "            if debug:\n",
    "                print fn, \"is done, starting from the beginning...\""
   ]
  },
  {
   "cell_type": "code",
   "execution_count": 0,
   "metadata": {
    "colab": {},
    "colab_type": "code",
    "id": "VQfrLSy-9fCG"
   },
   "outputs": [],
   "source": [
    "def raw_batch_generator(batch_size, debug=False):\n",
    "    generators = np.array([get_eternal_csv_generator(fn, debug) for fn in zf.namelist()])\n",
    "    while True:\n",
    "        random_indices = np.random.randint(0, len(generators), size=batch_size)\n",
    "        yield [gen.next() for gen in generators[random_indices]]"
   ]
  },
  {
   "cell_type": "code",
   "execution_count": 0,
   "metadata": {
    "colab": {},
    "colab_type": "code",
    "id": "JUBcBsY29fhq"
   },
   "outputs": [],
   "source": [
    "# copy-paste from https://www.kaggle.com/jpmiller/image-based-cnn\n",
    "\n",
    "import ast\n",
    "from PIL import Image, ImageDraw\n",
    "import cv2\n",
    "\n",
    "IMG_SIZE = 128\n",
    "\n",
    "# faster conversion function\n",
    "def draw_it(strokes):\n",
    "    img = 255 * np.ones((256, 256), np.uint8)\n",
    "    for stroke in ast.literal_eval(strokes):\n",
    "        for i in range(len(stroke[0]) - 1):\n",
    "            _ = cv2.line(img, (stroke[0][i], stroke[1][i]), (stroke[0][i + 1], stroke[1][i + 1]), 0, 3)\n",
    "    return cv2.resize(img, (IMG_SIZE, IMG_SIZE))"
   ]
  },
  {
   "cell_type": "code",
   "execution_count": 0,
   "metadata": {
    "colab": {},
    "colab_type": "code",
    "id": "tY99mhK_QCf-"
   },
   "outputs": [],
   "source": [
    "def images_and_labels_generator(batch_size):\n",
    "    for batch in raw_batch_generator(batch_size):\n",
    "        batch_images = []\n",
    "        batch_labels = []\n",
    "        for e in batch:\n",
    "            batch_images.append(draw_it(e[0]))\n",
    "            batch_labels.append(e[1])\n",
    "        batch_images = np.stack(batch_images, axis=0)\n",
    "        yield batch_images, batch_labels"
   ]
  },
  {
   "cell_type": "code",
   "execution_count": 131,
   "metadata": {
    "colab": {
     "base_uri": "https://localhost:8080/",
     "height": 280
    },
    "colab_type": "code",
    "id": "PKU85xxkQFr3",
    "outputId": "d36d38d3-eb34-419f-f317-39ac502bd1c2"
   },
   "outputs": [
    {
     "data": {
      "image/png": "[encoded data removed]",
      "text/plain": [
       "<matplotlib.figure.Figure at 0x7f0d9807de90>"
      ]
     },
     "metadata": {
      "tags": []
     },
     "output_type": "display_data"
    }
   ],
   "source": [
    "b = images_and_labels_generator(32).next()\n",
    "plt.imshow(b[0][10, :, :])\n",
    "plt.title(b[1][10])\n",
    "plt.show()"
   ]
  },
  {
   "cell_type": "code",
   "execution_count": 132,
   "metadata": {
    "colab": {
     "base_uri": "https://localhost:8080/",
     "height": 1272
    },
    "colab_type": "code",
    "id": "xNIOtjGxCHzF",
    "outputId": "bcb5701f-f88b-4509-d6c4-5af82cb14f3b"
   },
   "outputs": [
    {
     "data": {
      "image/png": "[encoded data removed]",
      "text/plain": [
       "<matplotlib.figure.Figure at 0x7f0d98143310>"
      ]
     },
     "metadata": {
      "tags": []
     },
     "output_type": "display_data"
    },
    {
     "data": {
      "image/png": "[encoded data removed]",
      "text/plain": [
       "<matplotlib.figure.Figure at 0x7f0d970b3ad0>"
      ]
     },
     "metadata": {
      "tags": []
     },
     "output_type": "display_data"
    },
    {
     "data": {
      "image/png": "[encoded data removed]",
      "text/plain": [
       "<matplotlib.figure.Figure at 0x7f0d97b4de10>"
      ]
     },
     "metadata": {
      "tags": []
     },
     "output_type": "display_data"
    },
    {
     "data": {
      "image/png": "[encoded data removed]",
      "text/plain": [
       "<matplotlib.figure.Figure at 0x7f0da1d54d50>"
      ]
     },
     "metadata": {
      "tags": []
     },
     "output_type": "display_data"
    },
    {
     "data": {
      "image/png": "[encoded data removed]",
      "text/plain": [
       "<matplotlib.figure.Figure at 0x7f0d97d30e90>"
      ]
     },
     "metadata": {
      "tags": []
     },
     "output_type": "display_data"
    }
   ],
   "source": [
    "from keras.preprocessing.image import ImageDataGenerator\n",
    "\n",
    "image_gen = ImageDataGenerator(\n",
    "    rotation_range=10, #случайная ротация\n",
    "    width_shift_range=0.2, #случайное отображение горизонтально или вертикально \n",
    "    height_shift_range=0.2,\n",
    "    zoom_range=0.2, #случайное приближение\n",
    "    horizontal_flip=True, #случайный переворот части изображения \n",
    "    fill_mode='constant', #заполнение новых пикселей, полученных в результате сдвигов или отражения \n",
    "    cval=255\n",
    ")\n",
    "\n",
    "image = b[0][10, :, :]\n",
    "\n",
    "# add 3 channels to image\n",
    "image = np.tile(np.expand_dims(image, axis=2), (1, 1, 3))\n",
    "\n",
    "# 5 random augmentations\n",
    "for _ in range(5):\n",
    "    plt.imshow(image_gen.random_transform(image)[:, :, 0])\n",
    "    plt.show()"
   ]
  },
  {
   "cell_type": "code",
   "execution_count": 0,
   "metadata": {
    "colab": {},
    "colab_type": "code",
    "id": "NAjnd8mI9fbr"
   },
   "outputs": [],
   "source": [
    "def images_and_labels_generator_foraug(batch_size):\n",
    "    for batch in raw_batch_generator(batch_size):\n",
    "        batch_images = []\n",
    "        batch_labels = []\n",
    "        for e in batch:\n",
    "            batch_images.append(draw_it(e[0]))\n",
    "            batch_labels.append(e[1])\n",
    "        batch_images = np.stack(batch_images, axis=0)\n",
    "        batch_images = image_gen.random_transform(batch_images) #добавляю картинки \n",
    "        yield batch_images, batch_labels"
   ]
  },
  {
   "cell_type": "code",
   "execution_count": 0,
   "metadata": {
    "colab": {},
    "colab_type": "code",
    "id": "fnpgzSTG9fWA"
   },
   "outputs": [],
   "source": [
    "def reset_tf_session():\n",
    "    curr_session = tf.get_default_session()\n",
    "    # close current session\n",
    "    if curr_session is not None:\n",
    "        curr_session.close()\n",
    "    # reset graph\n",
    "    K.clear_session()\n",
    "    # create new session\n",
    "    config = tf.ConfigProto()\n",
    "    config.gpu_options.allow_growth = True\n",
    "    s = tf.InteractiveSession(config=config)\n",
    "    K.set_session(s)\n",
    "    return s"
   ]
  },
  {
   "cell_type": "code",
   "execution_count": 135,
   "metadata": {
    "colab": {
     "base_uri": "https://localhost:8080/",
     "height": 102
    },
    "colab_type": "code",
    "id": "haiJPrNq--Mx",
    "outputId": "c5354d79-eeaa-4bc2-e73f-cf184f1a0399"
   },
   "outputs": [
    {
     "data": {
      "text/plain": [
       "[('snowman', 134),\n",
       " ('eyeglasses', 254),\n",
       " ('ceiling fan', 18),\n",
       " ('camel', 90),\n",
       " ('stove', 119)]"
      ]
     },
     "execution_count": 135,
     "metadata": {
      "tags": []
     },
     "output_type": "execute_result"
    }
   ],
   "source": [
    "NUM_CLASSES = len(class_labels)\n",
    "class_to_idx = {c: idx for idx, c in enumerate(class_labels)}\n",
    "class_to_idx.items()[:5]"
   ]
  },
  {
   "cell_type": "code",
   "execution_count": 0,
   "metadata": {
    "colab": {},
    "colab_type": "code",
    "id": "ee1skGv3--VX"
   },
   "outputs": [],
   "source": [
    "def train_iterator(batch_size):\n",
    "    for batch in images_and_labels_generator_foraug(batch_size):\n",
    "        images = batch[0].astype('float32')\n",
    "        images = images/ 255 - 0.5\n",
    "        images = np.expand_dims(images, -1)\n",
    "        labels = keras.utils.to_categorical(map(class_to_idx.get, batch[1]), NUM_CLASSES)\n",
    "        yield images, labels"
   ]
  },
  {
   "cell_type": "code",
   "execution_count": 137,
   "metadata": {
    "colab": {
     "base_uri": "https://localhost:8080/",
     "height": 51
    },
    "colab_type": "code",
    "id": "ABtbgm-e_Gwd",
    "outputId": "aac278fc-462a-4863-afb8-2c7c2decd9bc"
   },
   "outputs": [
    {
     "name": "stdout",
     "output_type": "stream",
     "text": [
      "(32, 128, 128, 1)\n",
      "(32, 340)\n"
     ]
    }
   ],
   "source": [
    "sample = train_iterator(32).next()\n",
    "print sample[0].shape\n",
    "print sample[1].shape"
   ]
  },
  {
   "cell_type": "code",
   "execution_count": 0,
   "metadata": {
    "colab": {},
    "colab_type": "code",
    "id": "EsFwwtKa_G_U"
   },
   "outputs": [],
   "source": [
    "def make_model():\n",
    "    \"\"\"\n",
    "    Define your model architecture here.\n",
    "    Returns `Sequential` model.\n",
    "    \"\"\"\n",
    "    model = Sequential()\n",
    "    \n",
    "    model.add(Conv2D(16, (3,3),padding='same', input_shape=(IMG_SIZE, IMG_SIZE, 1)))\n",
    "    model.add(LeakyReLU(0.1))\n",
    "    model.add(MaxPooling2D(pool_size=(2,2), strides=(2,2)))\n",
    "    \n",
    "    model.add(Conv2D(32, (3,3), padding='same'))\n",
    "    model.add(LeakyReLU(0.1))\n",
    "    model.add(MaxPooling2D(pool_size=(2,2), strides=(2,2)))\n",
    "     \n",
    "    model.add(Conv2D(32, (3,3), padding='same'))\n",
    "    model.add(LeakyReLU(0.1))\n",
    "    model.add(MaxPooling2D(pool_size=(2,2), strides=(2,2)))\n",
    "    \n",
    "    model.add(Conv2D(64, (3,3),padding='same'))\n",
    "    model.add(LeakyReLU(0.1))\n",
    "    model.add(MaxPooling2D(pool_size=(2,2), strides=(2,2)))\n",
    "    \n",
    "    model.add(Conv2D(128, (3,3),padding='same'))\n",
    "    model.add(LeakyReLU(0.1))\n",
    "    model.add(MaxPooling2D(pool_size=(2,2), strides=(2,2)))\n",
    "    model.add(Dropout(0.2))\n",
    "\n",
    "    model.add(Flatten())\n",
    "   \n",
    "\n",
    "    model.add(Dense(4098))\n",
    "    model.add(LeakyReLU(0.1))\n",
    "    model.add(Dropout(0.25))\n",
    "  \n",
    "  \n",
    "    model.add(Dense(NUM_CLASSES, activation=\"softmax\"))\n",
    "    \n",
    "    \n",
    "    return model"
   ]
  },
  {
   "cell_type": "code",
   "execution_count": 139,
   "metadata": {
    "colab": {
     "base_uri": "https://localhost:8080/",
     "height": 850
    },
    "colab_type": "code",
    "id": "Yx92pzCB_G5F",
    "outputId": "3545f17a-eb80-415d-a113-032c8246f258"
   },
   "outputs": [
    {
     "name": "stdout",
     "output_type": "stream",
     "text": [
      "_________________________________________________________________\n",
      "Layer (type)                 Output Shape              Param #   \n",
      "=================================================================\n",
      "conv2d_1 (Conv2D)            (None, 128, 128, 16)      160       \n",
      "_________________________________________________________________\n",
      "leaky_re_lu_1 (LeakyReLU)    (None, 128, 128, 16)      0         \n",
      "_________________________________________________________________\n",
      "max_pooling2d_1 (MaxPooling2 (None, 64, 64, 16)        0         \n",
      "_________________________________________________________________\n",
      "conv2d_2 (Conv2D)            (None, 64, 64, 32)        4640      \n",
      "_________________________________________________________________\n",
      "leaky_re_lu_2 (LeakyReLU)    (None, 64, 64, 32)        0         \n",
      "_________________________________________________________________\n",
      "max_pooling2d_2 (MaxPooling2 (None, 32, 32, 32)        0         \n",
      "_________________________________________________________________\n",
      "conv2d_3 (Conv2D)            (None, 32, 32, 32)        9248      \n",
      "_________________________________________________________________\n",
      "leaky_re_lu_3 (LeakyReLU)    (None, 32, 32, 32)        0         \n",
      "_________________________________________________________________\n",
      "max_pooling2d_3 (MaxPooling2 (None, 16, 16, 32)        0         \n",
      "_________________________________________________________________\n",
      "conv2d_4 (Conv2D)            (None, 16, 16, 64)        18496     \n",
      "_________________________________________________________________\n",
      "leaky_re_lu_4 (LeakyReLU)    (None, 16, 16, 64)        0         \n",
      "_________________________________________________________________\n",
      "max_pooling2d_4 (MaxPooling2 (None, 8, 8, 64)          0         \n",
      "_________________________________________________________________\n",
      "conv2d_5 (Conv2D)            (None, 8, 8, 128)         73856     \n",
      "_________________________________________________________________\n",
      "leaky_re_lu_5 (LeakyReLU)    (None, 8, 8, 128)         0         \n",
      "_________________________________________________________________\n",
      "max_pooling2d_5 (MaxPooling2 (None, 4, 4, 128)         0         \n",
      "_________________________________________________________________\n",
      "dropout_1 (Dropout)          (None, 4, 4, 128)         0         \n",
      "_________________________________________________________________\n",
      "flatten_1 (Flatten)          (None, 2048)              0         \n",
      "_________________________________________________________________\n",
      "dense_1 (Dense)              (None, 4098)              8396802   \n",
      "_________________________________________________________________\n",
      "leaky_re_lu_6 (LeakyReLU)    (None, 4098)              0         \n",
      "_________________________________________________________________\n",
      "dropout_2 (Dropout)          (None, 4098)              0         \n",
      "_________________________________________________________________\n",
      "dense_2 (Dense)              (None, 340)               1393660   \n",
      "=================================================================\n",
      "Total params: 9,896,862\n",
      "Trainable params: 9,896,862\n",
      "Non-trainable params: 0\n",
      "_________________________________________________________________\n"
     ]
    }
   ],
   "source": [
    "# describe model\n",
    "s = reset_tf_session()  # clear default graph\n",
    "model = make_model()\n",
    "model.summary()"
   ]
  },
  {
   "cell_type": "code",
   "execution_count": 0,
   "metadata": {
    "colab": {},
    "colab_type": "code",
    "id": "aCS2VzXG9fQN"
   },
   "outputs": [],
   "source": [
    "# custom metrics we need\n",
    "from keras.metrics import categorical_accuracy, top_k_categorical_accuracy\n",
    "\n",
    "def top_3_accuracy(y_true, y_pred):\n",
    "    return top_k_categorical_accuracy(y_true, y_pred, k=3)"
   ]
  },
  {
   "cell_type": "code",
   "execution_count": 0,
   "metadata": {
    "colab": {},
    "colab_type": "code",
    "id": "ajCqSryF9fKv"
   },
   "outputs": [],
   "source": [
    "BATCH_SIZE = 512\n",
    "STEPS_PER_EPOCH = 100\n",
    "EPOCHS = 20 \n",
    "\n",
    "s = reset_tf_session()  # clear default graph\n",
    "model = make_model()  # define our model\n",
    "\n",
    "# prepare model for fitting (loss, optimizer, etc)\n",
    "model.compile(\n",
    "    loss='categorical_crossentropy',\n",
    "    optimizer=keras.optimizers.adam(clipnorm=5.),  # gradient clipping just in case\n",
    "    metrics=[categorical_accuracy, top_3_accuracy]  # report top 3 accuracy, correlates with MAP@3!\n",
    ")"
   ]
  },
  {
   "cell_type": "code",
   "execution_count": 0,
   "metadata": {
    "colab": {},
    "colab_type": "code",
    "id": "f1OaVC4IUmUW"
   },
   "outputs": [],
   "source": [
    "# for saving the model after every epoch\n",
    "from keras.models import save_model\n",
    "\n",
    "class ModelSaveCallback(keras.callbacks.Callback):\n",
    "    def __init__(self, file_name):\n",
    "        super(ModelSaveCallback, self).__init__()\n",
    "        self.file_name = file_name\n",
    "\n",
    "    def on_epoch_end(self, epoch, logs=None):\n",
    "        model_filename = self.file_name.format(epoch)\n",
    "        save_model(self.model, model_filename)\n",
    "        print(\"Model saved in {}\".format(model_filename))"
   ]
  },
  {
   "cell_type": "code",
   "execution_count": 0,
   "metadata": {
    "colab": {},
    "colab_type": "code",
    "id": "RMc-06ev9e26"
   },
   "outputs": [],
   "source": [
    "last_finished_epoch = 0"
   ]
  },
  {
   "cell_type": "code",
   "execution_count": 144,
   "metadata": {
    "colab": {
     "base_uri": "https://localhost:8080/",
     "height": 51
    },
    "colab_type": "code",
    "id": "Nk23iWZfC3Ea",
    "outputId": "f828f3fb-b213-4367-b04b-62a8acf15d64"
   },
   "outputs": [
    {
     "name": "stdout",
     "output_type": "stream",
     "text": [
      "/content/gdrive/My Drive\n",
      "/content/gdrive/My Drive/model{}_aug1\n"
     ]
    }
   ],
   "source": [
    "import os\n",
    "GOOGLE_DRIVE_ROOT = GOOGLE_DRIVE_MOUNT + \"/\" + filter(lambda x: x[0] != '.', os.listdir(GOOGLE_DRIVE_MOUNT))[0]\n",
    "print GOOGLE_DRIVE_ROOT\n",
    "\n",
    "# will save checkpoints to Google Drive\n",
    "CHECKPOINT_TEMPLATE = GOOGLE_DRIVE_ROOT + \"/model{}_aug1\"\n",
    "print CHECKPOINT_TEMPLATE"
   ]
  },
  {
   "cell_type": "code",
   "execution_count": 145,
   "metadata": {
    "colab": {
     "base_uri": "https://localhost:8080/",
     "height": 1057
    },
    "colab_type": "code",
    "id": "kj4na3VI9exS",
    "outputId": "322cfda8-88c6-4fb4-8aa9-29243e659cb4"
   },
   "outputs": [
    {
     "name": "stdout",
     "output_type": "stream",
     "text": [
      "Epoch 1/20\n",
      "100/100 [==============================] - 96s 962ms/step - loss: 5.8297 - categorical_accuracy: 0.0031 - top_3_accuracy: 0.0091\n",
      "Model saved in /content/gdrive/My Drive/model0_aug1\n",
      "Epoch 2/20\n",
      "100/100 [==============================] - 96s 960ms/step - loss: 5.8294 - categorical_accuracy: 0.0033 - top_3_accuracy: 0.0093\n",
      "Model saved in /content/gdrive/My Drive/model1_aug1\n",
      "Epoch 3/20\n",
      "100/100 [==============================] - 104s 1s/step - loss: 5.8293 - categorical_accuracy: 0.0030 - top_3_accuracy: 0.0095\n",
      "Model saved in /content/gdrive/My Drive/model2_aug1\n",
      "Epoch 4/20\n",
      "100/100 [==============================] - 99s 992ms/step - loss: 5.8294 - categorical_accuracy: 0.0029 - top_3_accuracy: 0.0087\n",
      "Model saved in /content/gdrive/My Drive/model3_aug1\n",
      "Epoch 5/20\n",
      "100/100 [==============================] - 97s 968ms/step - loss: 5.8295 - categorical_accuracy: 0.0031 - top_3_accuracy: 0.0087\n",
      "Model saved in /content/gdrive/My Drive/model4_aug1\n",
      "Epoch 6/20\n",
      "100/100 [==============================] - 97s 967ms/step - loss: 5.8297 - categorical_accuracy: 0.0031 - top_3_accuracy: 0.0088\n",
      "Model saved in /content/gdrive/My Drive/model5_aug1\n",
      "Epoch 7/20\n",
      "100/100 [==============================] - 96s 958ms/step - loss: 5.8298 - categorical_accuracy: 0.0029 - top_3_accuracy: 0.0087\n",
      "Model saved in /content/gdrive/My Drive/model6_aug1\n",
      "Epoch 8/20\n",
      "100/100 [==============================] - 96s 962ms/step - loss: 5.8303 - categorical_accuracy: 0.0030 - top_3_accuracy: 0.0086\n",
      "Model saved in /content/gdrive/My Drive/model7_aug1\n",
      "Epoch 9/20\n",
      "100/100 [==============================] - 98s 979ms/step - loss: 5.8306 - categorical_accuracy: 0.0029 - top_3_accuracy: 0.0084\n",
      "Model saved in /content/gdrive/My Drive/model8_aug1\n",
      "Epoch 10/20\n",
      "100/100 [==============================] - 97s 969ms/step - loss: 5.8318 - categorical_accuracy: 0.0027 - top_3_accuracy: 0.0079\n",
      "Model saved in /content/gdrive/My Drive/model9_aug1\n",
      "Epoch 11/20\n",
      "100/100 [==============================] - 96s 964ms/step - loss: 5.8311 - categorical_accuracy: 0.0026 - top_3_accuracy: 0.0074\n",
      "Model saved in /content/gdrive/My Drive/model10_aug1\n",
      "Epoch 12/20\n",
      "100/100 [==============================] - 97s 969ms/step - loss: 5.8303 - categorical_accuracy: 0.0030 - top_3_accuracy: 0.0098\n",
      "Model saved in /content/gdrive/My Drive/model11_aug1\n",
      "Epoch 13/20\n",
      "100/100 [==============================] - 98s 979ms/step - loss: 5.8301 - categorical_accuracy: 0.0029 - top_3_accuracy: 0.0092\n",
      "Model saved in /content/gdrive/My Drive/model12_aug1\n",
      "Epoch 14/20\n",
      "100/100 [==============================] - 97s 967ms/step - loss: 5.8301 - categorical_accuracy: 0.0031 - top_3_accuracy: 0.0089\n",
      "Model saved in /content/gdrive/My Drive/model13_aug1\n",
      "Epoch 15/20\n",
      "100/100 [==============================] - 96s 964ms/step - loss: 5.8300 - categorical_accuracy: 0.0029 - top_3_accuracy: 0.0085\n",
      "Model saved in /content/gdrive/My Drive/model14_aug1\n",
      "Epoch 16/20\n",
      "100/100 [==============================] - 96s 956ms/step - loss: 5.8303 - categorical_accuracy: 0.0031 - top_3_accuracy: 0.0091\n",
      "Model saved in /content/gdrive/My Drive/model15_aug1\n",
      "Epoch 17/20\n",
      "100/100 [==============================] - 96s 957ms/step - loss: 5.8301 - categorical_accuracy: 0.0033 - top_3_accuracy: 0.0090\n",
      "Model saved in /content/gdrive/My Drive/model16_aug1\n",
      "Epoch 18/20\n",
      "100/100 [==============================] - 97s 974ms/step - loss: 5.8302 - categorical_accuracy: 0.0029 - top_3_accuracy: 0.0094\n",
      "Model saved in /content/gdrive/My Drive/model17_aug1\n",
      "Epoch 19/20\n",
      "100/100 [==============================] - 97s 969ms/step - loss: 5.8300 - categorical_accuracy: 0.0027 - top_3_accuracy: 0.0086\n",
      "Model saved in /content/gdrive/My Drive/model18_aug1\n",
      "Epoch 20/20\n",
      "100/100 [==============================] - 97s 971ms/step - loss: 5.8302 - categorical_accuracy: 0.0034 - top_3_accuracy: 0.0098\n",
      "Model saved in /content/gdrive/My Drive/model19_aug1\n"
     ]
    }
   ],
   "source": [
    "# fit the model with our eternal generator!\n",
    "CNN8 = model.fit_generator(\n",
    "    train_iterator(BATCH_SIZE), \n",
    "    steps_per_epoch=STEPS_PER_EPOCH,\n",
    "    epochs=EPOCHS,\n",
    "    callbacks=[ModelSaveCallback(CHECKPOINT_TEMPLATE)],\n",
    "    verbose=1,\n",
    "    initial_epoch=last_finished_epoch\n",
    ")"
   ]
  },
  {
   "cell_type": "markdown",
   "metadata": {
    "colab_type": "text",
    "id": "O6LbBhHjoTIq"
   },
   "source": [
    "**Вывод:** Качество на тестовой выборке очень низкое, возможно аугментация слишком сильная"
   ]
  },
  {
   "cell_type": "markdown",
   "metadata": {
    "colab_type": "text",
    "id": "FOZL9IvHUwYU"
   },
   "source": [
    "#Эксперимент №9 Аугментация "
   ]
  },
  {
   "cell_type": "markdown",
   "metadata": {
    "colab_type": "text",
    "id": "K9w2x8Rtof_J"
   },
   "source": [
    "Попробую аугментировать изображения с помощью библиотеки imgaug. Выбираю параметры для минимального измнения картинок: только свдиги, отражение и афинные преобразования"
   ]
  },
  {
   "cell_type": "code",
   "execution_count": 146,
   "metadata": {
    "colab": {
     "base_uri": "https://localhost:8080/",
     "height": 34
    },
    "colab_type": "code",
    "id": "Qmjd8BwDbark",
    "outputId": "047d5f9c-af63-48c3-859b-a188e221f558"
   },
   "outputs": [
    {
     "data": {
      "text/plain": [
       "['fence', 'yoga', 'horse', 'sandwich', 'cat']"
      ]
     },
     "execution_count": 146,
     "metadata": {
      "tags": []
     },
     "output_type": "execute_result"
    }
   ],
   "source": [
    "class_labels = map(lambda x: x.replace(\".csv\", \"\"), zf.namelist())\n",
    "class_labels[:5]"
   ]
  },
  {
   "cell_type": "code",
   "execution_count": 0,
   "metadata": {
    "colab": {},
    "colab_type": "code",
    "id": "Ts32l4fsbbE_"
   },
   "outputs": [],
   "source": [
    "# loop through file eternally\n",
    "def get_eternal_csv_generator(fn, debug=False):\n",
    "    while True:\n",
    "        with zf.open(fn) as f:\n",
    "            f.readline()  # skip header\n",
    "            for line in csv.reader(f, delimiter=',', quotechar='\"'):\n",
    "                yield line[1], line[5]\n",
    "            if debug:\n",
    "                print fn, \"is done, starting from the beginning...\""
   ]
  },
  {
   "cell_type": "code",
   "execution_count": 0,
   "metadata": {
    "colab": {},
    "colab_type": "code",
    "id": "fUm6IF-4bclo"
   },
   "outputs": [],
   "source": [
    "def raw_batch_generator(batch_size, debug=False):\n",
    "    generators = np.array([get_eternal_csv_generator(fn, debug) for fn in zf.namelist()])\n",
    "    while True:\n",
    "        random_indices = np.random.randint(0, len(generators), size=batch_size)\n",
    "        yield [gen.next() for gen in generators[random_indices]]"
   ]
  },
  {
   "cell_type": "code",
   "execution_count": 0,
   "metadata": {
    "colab": {},
    "colab_type": "code",
    "id": "ro9OdDdqbd7c"
   },
   "outputs": [],
   "source": [
    "# copy-paste from https://www.kaggle.com/jpmiller/image-based-cnn\n",
    "\n",
    "import ast\n",
    "from PIL import Image, ImageDraw\n",
    "import cv2\n",
    "\n",
    "IMG_SIZE = 128\n",
    "\n",
    "# faster conversion function\n",
    "def draw_it(strokes):\n",
    "    img = 255 * np.ones((256, 256), np.uint8)\n",
    "    for stroke in ast.literal_eval(strokes):\n",
    "        for i in range(len(stroke[0]) - 1):\n",
    "            _ = cv2.line(img, (stroke[0][i], stroke[1][i]), (stroke[0][i + 1], stroke[1][i + 1]), 0, 3)\n",
    "    return cv2.resize(img, (IMG_SIZE, IMG_SIZE))"
   ]
  },
  {
   "cell_type": "code",
   "execution_count": 0,
   "metadata": {
    "colab": {},
    "colab_type": "code",
    "id": "bmsD6M8hbdzL"
   },
   "outputs": [],
   "source": [
    "def images_and_labels_generator(batch_size):\n",
    "    for batch in raw_batch_generator(batch_size):\n",
    "        batch_images = []\n",
    "        batch_labels = []\n",
    "        for e in batch:\n",
    "            batch_images.append(draw_it(e[0]))\n",
    "            batch_labels.append(e[1])\n",
    "        batch_images = np.stack(batch_images, axis=0)\n",
    "        yield batch_images, batch_labels"
   ]
  },
  {
   "cell_type": "code",
   "execution_count": 151,
   "metadata": {
    "colab": {
     "base_uri": "https://localhost:8080/",
     "height": 280
    },
    "colab_type": "code",
    "id": "5J223-3nbdsd",
    "outputId": "6fb78184-5ab6-4dae-a785-9f1146a85933"
   },
   "outputs": [
    {
     "data": {
      "image/png": "[encoded data removed]",
      "text/plain": [
       "<matplotlib.figure.Figure at 0x7f0d970f8850>"
      ]
     },
     "metadata": {
      "tags": []
     },
     "output_type": "display_data"
    }
   ],
   "source": [
    "b = images_and_labels_generator(32).next()\n",
    "plt.imshow(b[0][10, :, :])\n",
    "plt.title(b[1][10])\n",
    "plt.show()"
   ]
  },
  {
   "cell_type": "code",
   "execution_count": 153,
   "metadata": {
    "colab": {
     "base_uri": "https://localhost:8080/",
     "height": 579
    },
    "colab_type": "code",
    "id": "IWa6T2mWbdlw",
    "outputId": "b7385dd2-634b-4c03-b293-86077980b4c8"
   },
   "outputs": [
    {
     "name": "stdout",
     "output_type": "stream",
     "text": [
      "Collecting imgaug\n",
      "\u001b[?25l  Downloading https://files.pythonhosted.org/packages/ad/2e/748dbb7bb52ec8667098bae9b585f448569ae520031932687761165419a2/imgaug-0.2.6.tar.gz (631kB)\n",
      "\u001b[K    100% |████████████████████████████████| 634kB 6.3MB/s \n",
      "\u001b[?25hRequirement already satisfied: scipy in /usr/local/lib/python2.7/dist-packages (from imgaug) (1.1.0)\n",
      "Requirement already satisfied: scikit-image>=0.11.0 in /usr/local/lib/python2.7/dist-packages (from imgaug) (0.13.1)\n",
      "Requirement already satisfied: numpy>=1.7.0 in /usr/local/lib/python2.7/dist-packages (from imgaug) (1.14.6)\n",
      "Requirement already satisfied: six in /usr/local/lib/python2.7/dist-packages (from imgaug) (1.11.0)\n",
      "Requirement already satisfied: PyWavelets>=0.4.0 in /usr/local/lib/python2.7/dist-packages (from scikit-image>=0.11.0->imgaug) (1.0.1)\n",
      "Requirement already satisfied: networkx>=1.8 in /usr/local/lib/python2.7/dist-packages (from scikit-image>=0.11.0->imgaug) (2.2)\n",
      "Requirement already satisfied: pillow>=2.1.0 in /usr/local/lib/python2.7/dist-packages (from scikit-image>=0.11.0->imgaug) (4.0.0)\n",
      "Requirement already satisfied: matplotlib>=1.3.1 in /usr/local/lib/python2.7/dist-packages (from scikit-image>=0.11.0->imgaug) (2.1.2)\n",
      "Requirement already satisfied: decorator>=4.3.0 in /usr/local/lib/python2.7/dist-packages (from networkx>=1.8->scikit-image>=0.11.0->imgaug) (4.3.0)\n",
      "Requirement already satisfied: olefile in /usr/local/lib/python2.7/dist-packages (from pillow>=2.1.0->scikit-image>=0.11.0->imgaug) (0.46)\n",
      "Requirement already satisfied: cycler>=0.10 in /usr/local/lib/python2.7/dist-packages (from matplotlib>=1.3.1->scikit-image>=0.11.0->imgaug) (0.10.0)\n",
      "Requirement already satisfied: backports.functools-lru-cache in /usr/local/lib/python2.7/dist-packages (from matplotlib>=1.3.1->scikit-image>=0.11.0->imgaug) (1.5)\n",
      "Requirement already satisfied: subprocess32 in /usr/local/lib/python2.7/dist-packages (from matplotlib>=1.3.1->scikit-image>=0.11.0->imgaug) (3.5.3)\n",
      "Requirement already satisfied: pytz in /usr/local/lib/python2.7/dist-packages (from matplotlib>=1.3.1->scikit-image>=0.11.0->imgaug) (2018.7)\n",
      "Requirement already satisfied: python-dateutil>=2.1 in /usr/local/lib/python2.7/dist-packages (from matplotlib>=1.3.1->scikit-image>=0.11.0->imgaug) (2.5.3)\n",
      "Requirement already satisfied: pyparsing!=2.0.4,!=2.1.2,!=2.1.6,>=2.0.1 in /usr/local/lib/python2.7/dist-packages (from matplotlib>=1.3.1->scikit-image>=0.11.0->imgaug) (2.3.0)\n",
      "Building wheels for collected packages: imgaug\n",
      "  Running setup.py bdist_wheel for imgaug ... \u001b[?25l-\b \b\\\b \bdone\n",
      "\u001b[?25h  Stored in directory: /root/.cache/pip/wheels/97/ec/48/0d25896c417b715af6236dbcef8f0bed136a1a5e52972fc6d0\n",
      "Successfully built imgaug\n",
      "Installing collected packages: imgaug\n",
      "Successfully installed imgaug-0.2.6\n"
     ]
    }
   ],
   "source": [
    "!pip install imgaug"
   ]
  },
  {
   "cell_type": "code",
   "execution_count": 0,
   "metadata": {
    "colab": {},
    "colab_type": "code",
    "id": "yHlOmh29bdfF"
   },
   "outputs": [],
   "source": [
    "from imgaug import augmenters as iaa\n",
    "image_gen = iaa.Sequential([\n",
    "    iaa.Crop(px=(0, 16)),  \n",
    "    iaa.Fliplr(0.5), \n",
    "    iaa.Affine(\n",
    "        scale={\"x\": (0.8, 1.2), \"y\": (0.8, 1.2)},\n",
    "        rotate=(-25, 25),\n",
    "    )\n",
    "])"
   ]
  },
  {
   "cell_type": "code",
   "execution_count": 0,
   "metadata": {
    "colab": {},
    "colab_type": "code",
    "id": "kllzerV4bdRu"
   },
   "outputs": [],
   "source": [
    "def images_and_labels_generator_foraug(batch_size):\n",
    "    for batch in raw_batch_generator(batch_size):\n",
    "        batch_images = []\n",
    "        batch_labels = []\n",
    "        for e in batch:\n",
    "            batch_images.append(draw_it(e[0]))\n",
    "            batch_labels.append(e[1])\n",
    "        batch_images = np.stack(batch_images, axis=0)\n",
    "        batch_images = image_gen.augment_images(batch_images) #добавляю картинки \n",
    "        yield batch_images, batch_labels"
   ]
  },
  {
   "cell_type": "code",
   "execution_count": 0,
   "metadata": {
    "colab": {},
    "colab_type": "code",
    "id": "ldhFEJYabdLF"
   },
   "outputs": [],
   "source": [
    "def reset_tf_session():\n",
    "    curr_session = tf.get_default_session()\n",
    "    # close current session\n",
    "    if curr_session is not None:\n",
    "        curr_session.close()\n",
    "    # reset graph\n",
    "    K.clear_session()\n",
    "    # create new session\n",
    "    config = tf.ConfigProto()\n",
    "    config.gpu_options.allow_growth = True\n",
    "    s = tf.InteractiveSession(config=config)\n",
    "    K.set_session(s)\n",
    "    return s"
   ]
  },
  {
   "cell_type": "code",
   "execution_count": 163,
   "metadata": {
    "colab": {
     "base_uri": "https://localhost:8080/",
     "height": 102
    },
    "colab_type": "code",
    "id": "YwswahTobdEY",
    "outputId": "d446871d-76ad-4959-9490-980d8e1a80d8"
   },
   "outputs": [
    {
     "data": {
      "text/plain": [
       "[('snowman', 134),\n",
       " ('eyeglasses', 254),\n",
       " ('ceiling fan', 18),\n",
       " ('camel', 90),\n",
       " ('stove', 119)]"
      ]
     },
     "execution_count": 163,
     "metadata": {
      "tags": []
     },
     "output_type": "execute_result"
    }
   ],
   "source": [
    "NUM_CLASSES = len(class_labels)\n",
    "class_to_idx = {c: idx for idx, c in enumerate(class_labels)}\n",
    "class_to_idx.items()[:5]"
   ]
  },
  {
   "cell_type": "code",
   "execution_count": 0,
   "metadata": {
    "colab": {},
    "colab_type": "code",
    "id": "Em7XPlPdbc6O"
   },
   "outputs": [],
   "source": [
    "def train_iterator(batch_size):\n",
    "    for batch in images_and_labels_generator_foraug(batch_size):\n",
    "        images = batch[0].astype('float32')\n",
    "        images = images/ 255 - 0.5\n",
    "        images = np.expand_dims(images, -1)\n",
    "        labels = keras.utils.to_categorical(map(class_to_idx.get, batch[1]), NUM_CLASSES)\n",
    "        yield images, labels"
   ]
  },
  {
   "cell_type": "code",
   "execution_count": 165,
   "metadata": {
    "colab": {
     "base_uri": "https://localhost:8080/",
     "height": 51
    },
    "colab_type": "code",
    "id": "rrDMhjXRbcxC",
    "outputId": "ceb6f51b-49a7-43a0-c873-ce9ee1bc56e0"
   },
   "outputs": [
    {
     "name": "stdout",
     "output_type": "stream",
     "text": [
      "(32, 128, 128, 1)\n",
      "(32, 340)\n"
     ]
    }
   ],
   "source": [
    "sample = train_iterator(32).next()\n",
    "print sample[0].shape\n",
    "print sample[1].shape"
   ]
  },
  {
   "cell_type": "code",
   "execution_count": 0,
   "metadata": {
    "colab": {},
    "colab_type": "code",
    "id": "El6bv0X8bce8"
   },
   "outputs": [],
   "source": [
    "def make_model():\n",
    "    \"\"\"\n",
    "    Define your model architecture here.\n",
    "    Returns `Sequential` model.\n",
    "    \"\"\"\n",
    "    model = Sequential()\n",
    "    \n",
    "    model.add(Conv2D(16, (3,3),padding='same', input_shape=(IMG_SIZE, IMG_SIZE, 1)))\n",
    "    model.add(LeakyReLU(0.1))\n",
    "    model.add(MaxPooling2D(pool_size=(2,2), strides=(2,2)))\n",
    "    \n",
    "    model.add(Conv2D(32, (3,3), padding='same'))\n",
    "    model.add(LeakyReLU(0.1))\n",
    "    model.add(MaxPooling2D(pool_size=(2,2), strides=(2,2)))\n",
    "     \n",
    "    model.add(Conv2D(32, (3,3), padding='same'))\n",
    "    model.add(LeakyReLU(0.1))\n",
    "    model.add(MaxPooling2D(pool_size=(2,2), strides=(2,2)))\n",
    "    \n",
    "    model.add(Conv2D(64, (3,3),padding='same'))\n",
    "    model.add(LeakyReLU(0.1))\n",
    "    model.add(MaxPooling2D(pool_size=(2,2), strides=(2,2)))\n",
    "    \n",
    "    model.add(Conv2D(128, (3,3),padding='same'))\n",
    "    model.add(LeakyReLU(0.1))\n",
    "    model.add(MaxPooling2D(pool_size=(2,2), strides=(2,2)))\n",
    "    model.add(Dropout(0.2))\n",
    "\n",
    "    model.add(Flatten())\n",
    "   \n",
    "\n",
    "    model.add(Dense(4098))\n",
    "    model.add(LeakyReLU(0.1))\n",
    "    model.add(Dropout(0.25))\n",
    "  \n",
    "  \n",
    "    model.add(Dense(NUM_CLASSES, activation=\"softmax\"))\n",
    "    \n",
    "    \n",
    "    return model"
   ]
  },
  {
   "cell_type": "code",
   "execution_count": 167,
   "metadata": {
    "colab": {
     "base_uri": "https://localhost:8080/",
     "height": 850
    },
    "colab_type": "code",
    "id": "peJ_IJoEbcYA",
    "outputId": "7ed6950d-7e70-4326-856e-1cc8a82b2142"
   },
   "outputs": [
    {
     "name": "stdout",
     "output_type": "stream",
     "text": [
      "_________________________________________________________________\n",
      "Layer (type)                 Output Shape              Param #   \n",
      "=================================================================\n",
      "conv2d_1 (Conv2D)            (None, 128, 128, 16)      160       \n",
      "_________________________________________________________________\n",
      "leaky_re_lu_1 (LeakyReLU)    (None, 128, 128, 16)      0         \n",
      "_________________________________________________________________\n",
      "max_pooling2d_1 (MaxPooling2 (None, 64, 64, 16)        0         \n",
      "_________________________________________________________________\n",
      "conv2d_2 (Conv2D)            (None, 64, 64, 32)        4640      \n",
      "_________________________________________________________________\n",
      "leaky_re_lu_2 (LeakyReLU)    (None, 64, 64, 32)        0         \n",
      "_________________________________________________________________\n",
      "max_pooling2d_2 (MaxPooling2 (None, 32, 32, 32)        0         \n",
      "_________________________________________________________________\n",
      "conv2d_3 (Conv2D)            (None, 32, 32, 32)        9248      \n",
      "_________________________________________________________________\n",
      "leaky_re_lu_3 (LeakyReLU)    (None, 32, 32, 32)        0         \n",
      "_________________________________________________________________\n",
      "max_pooling2d_3 (MaxPooling2 (None, 16, 16, 32)        0         \n",
      "_________________________________________________________________\n",
      "conv2d_4 (Conv2D)            (None, 16, 16, 64)        18496     \n",
      "_________________________________________________________________\n",
      "leaky_re_lu_4 (LeakyReLU)    (None, 16, 16, 64)        0         \n",
      "_________________________________________________________________\n",
      "max_pooling2d_4 (MaxPooling2 (None, 8, 8, 64)          0         \n",
      "_________________________________________________________________\n",
      "conv2d_5 (Conv2D)            (None, 8, 8, 128)         73856     \n",
      "_________________________________________________________________\n",
      "leaky_re_lu_5 (LeakyReLU)    (None, 8, 8, 128)         0         \n",
      "_________________________________________________________________\n",
      "max_pooling2d_5 (MaxPooling2 (None, 4, 4, 128)         0         \n",
      "_________________________________________________________________\n",
      "dropout_1 (Dropout)          (None, 4, 4, 128)         0         \n",
      "_________________________________________________________________\n",
      "flatten_1 (Flatten)          (None, 2048)              0         \n",
      "_________________________________________________________________\n",
      "dense_1 (Dense)              (None, 4098)              8396802   \n",
      "_________________________________________________________________\n",
      "leaky_re_lu_6 (LeakyReLU)    (None, 4098)              0         \n",
      "_________________________________________________________________\n",
      "dropout_2 (Dropout)          (None, 4098)              0         \n",
      "_________________________________________________________________\n",
      "dense_2 (Dense)              (None, 340)               1393660   \n",
      "=================================================================\n",
      "Total params: 9,896,862\n",
      "Trainable params: 9,896,862\n",
      "Non-trainable params: 0\n",
      "_________________________________________________________________\n"
     ]
    }
   ],
   "source": [
    "# describe model\n",
    "s = reset_tf_session()  # clear default graph\n",
    "model = make_model()\n",
    "model.summary()"
   ]
  },
  {
   "cell_type": "code",
   "execution_count": 0,
   "metadata": {
    "colab": {},
    "colab_type": "code",
    "id": "Wf4lkjJzbcRH"
   },
   "outputs": [],
   "source": [
    "# custom metrics we need\n",
    "from keras.metrics import categorical_accuracy, top_k_categorical_accuracy\n",
    "\n",
    "def top_3_accuracy(y_true, y_pred):\n",
    "    return top_k_categorical_accuracy(y_true, y_pred, k=3)"
   ]
  },
  {
   "cell_type": "code",
   "execution_count": 0,
   "metadata": {
    "colab": {},
    "colab_type": "code",
    "id": "zV-UYRAzbcKp"
   },
   "outputs": [],
   "source": [
    "BATCH_SIZE = 512\n",
    "STEPS_PER_EPOCH = 100\n",
    "EPOCHS = 20 \n",
    "\n",
    "s = reset_tf_session()  # clear default graph\n",
    "model = make_model()  # define our model\n",
    "\n",
    "# prepare model for fitting (loss, optimizer, etc)\n",
    "model.compile(\n",
    "    loss='categorical_crossentropy',\n",
    "    optimizer=keras.optimizers.adam(clipnorm=5.),  # gradient clipping just in case\n",
    "    metrics=[categorical_accuracy, top_3_accuracy]  # report top 3 accuracy, correlates with MAP@3!\n",
    ")"
   ]
  },
  {
   "cell_type": "code",
   "execution_count": 0,
   "metadata": {
    "colab": {},
    "colab_type": "code",
    "id": "_EoaTyMCbcEP"
   },
   "outputs": [],
   "source": [
    "# for saving the model after every epoch\n",
    "from keras.models import save_model\n",
    "\n",
    "class ModelSaveCallback(keras.callbacks.Callback):\n",
    "    def __init__(self, file_name):\n",
    "        super(ModelSaveCallback, self).__init__()\n",
    "        self.file_name = file_name\n",
    "\n",
    "    def on_epoch_end(self, epoch, logs=None):\n",
    "        model_filename = self.file_name.format(epoch)\n",
    "        save_model(self.model, model_filename)\n",
    "        print(\"Model saved in {}\".format(model_filename))"
   ]
  },
  {
   "cell_type": "code",
   "execution_count": 0,
   "metadata": {
    "colab": {},
    "colab_type": "code",
    "id": "zpndv4zObb8q"
   },
   "outputs": [],
   "source": [
    "last_finished_epoch = 0"
   ]
  },
  {
   "cell_type": "code",
   "execution_count": 172,
   "metadata": {
    "colab": {
     "base_uri": "https://localhost:8080/",
     "height": 51
    },
    "colab_type": "code",
    "id": "MVLEeAxfbb2L",
    "outputId": "0047b16c-4b15-45dd-f3c2-68c389c25967"
   },
   "outputs": [
    {
     "name": "stdout",
     "output_type": "stream",
     "text": [
      "/content/gdrive/My Drive\n",
      "/content/gdrive/My Drive/model{}_aug2\n"
     ]
    }
   ],
   "source": [
    "import os\n",
    "GOOGLE_DRIVE_ROOT = GOOGLE_DRIVE_MOUNT + \"/\" + filter(lambda x: x[0] != '.', os.listdir(GOOGLE_DRIVE_MOUNT))[0]\n",
    "print GOOGLE_DRIVE_ROOT\n",
    "\n",
    "# will save checkpoints to Google Drive\n",
    "CHECKPOINT_TEMPLATE = GOOGLE_DRIVE_ROOT + \"/model{}_aug2\"\n",
    "print CHECKPOINT_TEMPLATE"
   ]
  },
  {
   "cell_type": "code",
   "execution_count": 173,
   "metadata": {
    "colab": {
     "base_uri": "https://localhost:8080/",
     "height": 1074
    },
    "colab_type": "code",
    "id": "0SFYwCXTmx0Z",
    "outputId": "3782a400-189c-4c85-8036-a5a3fe903cd7"
   },
   "outputs": [
    {
     "name": "stderr",
     "output_type": "stream",
     "text": [
      "Exception tensorflow.python.framework.errors_impl.CancelledError: CancelledError() in <bound method _Callable.__del__ of <tensorflow.python.client.session._Callable object at 0x7f0d970e4f10>> ignored\n"
     ]
    },
    {
     "name": "stdout",
     "output_type": "stream",
     "text": [
      "Epoch 1/20\n",
      "100/100 [==============================] - 63s 626ms/step - loss: 5.4472 - categorical_accuracy: 0.0222 - top_3_accuracy: 0.0548\n",
      "Model saved in /content/gdrive/My Drive/model0_aug2\n",
      "Epoch 2/20\n",
      "100/100 [==============================] - 61s 614ms/step - loss: 4.6431 - categorical_accuracy: 0.0942 - top_3_accuracy: 0.1905\n",
      "Model saved in /content/gdrive/My Drive/model1_aug2\n",
      "Epoch 3/20\n",
      "100/100 [==============================] - 61s 611ms/step - loss: 4.0922 - categorical_accuracy: 0.1670 - top_3_accuracy: 0.3009\n",
      "Model saved in /content/gdrive/My Drive/model2_aug2\n",
      "Epoch 4/20\n",
      "100/100 [==============================] - 61s 614ms/step - loss: 3.7280 - categorical_accuracy: 0.2184 - top_3_accuracy: 0.3795\n",
      "Model saved in /content/gdrive/My Drive/model3_aug2\n",
      "Epoch 5/20\n",
      "100/100 [==============================] - 61s 615ms/step - loss: 3.4638 - categorical_accuracy: 0.2590 - top_3_accuracy: 0.4308\n",
      "Model saved in /content/gdrive/My Drive/model4_aug2\n",
      "Epoch 6/20\n",
      "100/100 [==============================] - 62s 617ms/step - loss: 3.3029 - categorical_accuracy: 0.2879 - top_3_accuracy: 0.4669\n",
      "Model saved in /content/gdrive/My Drive/model5_aug2\n",
      "Epoch 7/20\n",
      "100/100 [==============================] - 61s 612ms/step - loss: 3.1446 - categorical_accuracy: 0.3119 - top_3_accuracy: 0.4960\n",
      "Model saved in /content/gdrive/My Drive/model6_aug2\n",
      "Epoch 8/20\n",
      "100/100 [==============================] - 61s 614ms/step - loss: 3.0472 - categorical_accuracy: 0.3315 - top_3_accuracy: 0.5189\n",
      "Model saved in /content/gdrive/My Drive/model7_aug2\n",
      "Epoch 9/20\n",
      "100/100 [==============================] - 61s 612ms/step - loss: 2.9369 - categorical_accuracy: 0.3505 - top_3_accuracy: 0.5418\n",
      "Model saved in /content/gdrive/My Drive/model8_aug2\n",
      "Epoch 10/20\n",
      "100/100 [==============================] - 62s 617ms/step - loss: 2.8596 - categorical_accuracy: 0.3628 - top_3_accuracy: 0.5560\n",
      "Model saved in /content/gdrive/My Drive/model9_aug2\n",
      "Epoch 11/20\n",
      "100/100 [==============================] - 62s 623ms/step - loss: 2.8054 - categorical_accuracy: 0.3729 - top_3_accuracy: 0.5694\n",
      "Model saved in /content/gdrive/My Drive/model10_aug2\n",
      "Epoch 12/20\n",
      "100/100 [==============================] - 62s 620ms/step - loss: 2.7109 - categorical_accuracy: 0.3916 - top_3_accuracy: 0.5886\n",
      "Model saved in /content/gdrive/My Drive/model11_aug2\n",
      "Epoch 13/20\n",
      "100/100 [==============================] - 61s 613ms/step - loss: 2.7017 - categorical_accuracy: 0.3923 - top_3_accuracy: 0.5854\n",
      "Model saved in /content/gdrive/My Drive/model12_aug2\n",
      "Epoch 14/20\n",
      "100/100 [==============================] - 61s 611ms/step - loss: 2.6576 - categorical_accuracy: 0.4003 - top_3_accuracy: 0.5960\n",
      "Model saved in /content/gdrive/My Drive/model13_aug2\n",
      "Epoch 15/20\n",
      "100/100 [==============================] - 61s 614ms/step - loss: 2.5975 - categorical_accuracy: 0.4137 - top_3_accuracy: 0.6098\n",
      "Model saved in /content/gdrive/My Drive/model14_aug2\n",
      "Epoch 16/20\n",
      "100/100 [==============================] - 62s 615ms/step - loss: 2.5775 - categorical_accuracy: 0.4137 - top_3_accuracy: 0.6124\n",
      "Model saved in /content/gdrive/My Drive/model15_aug2\n",
      "Epoch 17/20\n",
      "100/100 [==============================] - 61s 609ms/step - loss: 2.5466 - categorical_accuracy: 0.4213 - top_3_accuracy: 0.6185\n",
      "Model saved in /content/gdrive/My Drive/model16_aug2\n",
      "Epoch 18/20\n",
      "100/100 [==============================] - 61s 609ms/step - loss: 2.5084 - categorical_accuracy: 0.4264 - top_3_accuracy: 0.6255\n",
      "Model saved in /content/gdrive/My Drive/model17_aug2\n",
      "Epoch 19/20\n",
      "100/100 [==============================] - 61s 608ms/step - loss: 2.4850 - categorical_accuracy: 0.4316 - top_3_accuracy: 0.6304\n",
      "Model saved in /content/gdrive/My Drive/model18_aug2\n",
      "Epoch 20/20\n",
      "100/100 [==============================] - 61s 611ms/step - loss: 2.4437 - categorical_accuracy: 0.4400 - top_3_accuracy: 0.6400\n",
      "Model saved in /content/gdrive/My Drive/model19_aug2\n"
     ]
    }
   ],
   "source": [
    "# fit the model with our eternal generator!\n",
    "CNN9 = model.fit_generator(\n",
    "    train_iterator(BATCH_SIZE), \n",
    "    steps_per_epoch=STEPS_PER_EPOCH,\n",
    "    epochs=EPOCHS,\n",
    "    callbacks=[ModelSaveCallback(CHECKPOINT_TEMPLATE)],\n",
    "    verbose=1,\n",
    "    initial_epoch=last_finished_epoch\n",
    ")"
   ]
  },
  {
   "cell_type": "markdown",
   "metadata": {
    "colab_type": "text",
    "id": "mbQ-mkWxsTYz"
   },
   "source": [
    "Качество уже лучше, LB = 0.618; сравню с обучением на исходных картинках "
   ]
  },
  {
   "cell_type": "markdown",
   "metadata": {
    "colab_type": "text",
    "id": "4dAba5yQspXA"
   },
   "source": [
    "#Эксперимернт №10 Без аугментации. Для сравнения"
   ]
  },
  {
   "cell_type": "markdown",
   "metadata": {
    "colab_type": "text",
    "id": "ert86iTwbgFf"
   },
   "source": [
    "Та же сеть, что и в эксперименте 6, обученная на исходном датасете для сравнения качества. Обучаю всего 20 эпох, так как этого достаточно для того, чтобы определить, что лучше работает"
   ]
  },
  {
   "cell_type": "code",
   "execution_count": 181,
   "metadata": {
    "colab": {
     "base_uri": "https://localhost:8080/",
     "height": 34
    },
    "colab_type": "code",
    "id": "nQURJgLcbbpC",
    "outputId": "2e1bb22e-7d04-4ad2-bb28-b2609c860541"
   },
   "outputs": [
    {
     "data": {
      "text/plain": [
       "['fence', 'yoga', 'horse', 'sandwich', 'cat']"
      ]
     },
     "execution_count": 181,
     "metadata": {
      "tags": []
     },
     "output_type": "execute_result"
    }
   ],
   "source": [
    "class_labels = map(lambda x: x.replace(\".csv\", \"\"), zf.namelist())\n",
    "class_labels[:5]"
   ]
  },
  {
   "cell_type": "code",
   "execution_count": 0,
   "metadata": {
    "colab": {},
    "colab_type": "code",
    "id": "bm6gdUDHbbic"
   },
   "outputs": [],
   "source": [
    "# loop through file eternally\n",
    "def get_eternal_csv_generator(fn, debug=False):\n",
    "    while True:\n",
    "        with zf.open(fn) as f:\n",
    "            f.readline()  # skip header\n",
    "            for line in csv.reader(f, delimiter=',', quotechar='\"'):\n",
    "                yield line[1], line[5]\n",
    "            if debug:\n",
    "                print fn, \"is done, starting from the beginning...\""
   ]
  },
  {
   "cell_type": "code",
   "execution_count": 0,
   "metadata": {
    "colab": {},
    "colab_type": "code",
    "id": "QIpEO_LdbbcI"
   },
   "outputs": [],
   "source": [
    "def raw_batch_generator(batch_size, debug=False):\n",
    "    generators = np.array([get_eternal_csv_generator(fn, debug) for fn in zf.namelist()])\n",
    "    while True:\n",
    "        random_indices = np.random.randint(0, len(generators), size=batch_size)\n",
    "        yield [gen.next() for gen in generators[random_indices]]"
   ]
  },
  {
   "cell_type": "code",
   "execution_count": 0,
   "metadata": {
    "colab": {},
    "colab_type": "code",
    "id": "kZzRDipMbbPP"
   },
   "outputs": [],
   "source": [
    "import ast\n",
    "from PIL import Image, ImageDraw\n",
    "import cv2\n",
    "\n",
    "IMG_SIZE = 128\n",
    "\n",
    "# faster conversion function\n",
    "def draw_it(strokes):\n",
    "    img = 255 * np.ones((256, 256), np.uint8)\n",
    "    for stroke in ast.literal_eval(strokes):\n",
    "        for i in range(len(stroke[0]) - 1):\n",
    "            _ = cv2.line(img, (stroke[0][i], stroke[1][i]), (stroke[0][i + 1], stroke[1][i + 1]), 0, 3)\n",
    "    return cv2.resize(img, (IMG_SIZE, IMG_SIZE))"
   ]
  },
  {
   "cell_type": "code",
   "execution_count": 0,
   "metadata": {
    "colab": {},
    "colab_type": "code",
    "id": "Ud9eI7NLba-e"
   },
   "outputs": [],
   "source": [
    "def images_and_labels_generator(batch_size):\n",
    "    for batch in raw_batch_generator(batch_size):\n",
    "        batch_images = []\n",
    "        batch_labels = []\n",
    "        for e in batch:\n",
    "            batch_images.append(draw_it(e[0]))\n",
    "            batch_labels.append(e[1])\n",
    "        batch_images = np.stack(batch_images, axis=0)\n",
    "        yield batch_images, batch_labels"
   ]
  },
  {
   "cell_type": "code",
   "execution_count": 0,
   "metadata": {
    "colab": {},
    "colab_type": "code",
    "id": "ocOV2eBBba35"
   },
   "outputs": [],
   "source": [
    "def reset_tf_session():\n",
    "    curr_session = tf.get_default_session()\n",
    "    # close current session\n",
    "    if curr_session is not None:\n",
    "        curr_session.close()\n",
    "    # reset graph\n",
    "    K.clear_session()\n",
    "    # create new session\n",
    "    config = tf.ConfigProto()\n",
    "    config.gpu_options.allow_growth = True\n",
    "    s = tf.InteractiveSession(config=config)\n",
    "    K.set_session(s)\n",
    "    return s"
   ]
  },
  {
   "cell_type": "code",
   "execution_count": 187,
   "metadata": {
    "colab": {
     "base_uri": "https://localhost:8080/",
     "height": 102
    },
    "colab_type": "code",
    "id": "eUxLY2I8bnRQ",
    "outputId": "df948318-75e4-40f9-c2e5-a8841072826f"
   },
   "outputs": [
    {
     "data": {
      "text/plain": [
       "[('snowman', 134),\n",
       " ('eyeglasses', 254),\n",
       " ('ceiling fan', 18),\n",
       " ('camel', 90),\n",
       " ('stove', 119)]"
      ]
     },
     "execution_count": 187,
     "metadata": {
      "tags": []
     },
     "output_type": "execute_result"
    }
   ],
   "source": [
    "NUM_CLASSES = len(class_labels)\n",
    "class_to_idx = {c: idx for idx, c in enumerate(class_labels)}\n",
    "class_to_idx.items()[:5]"
   ]
  },
  {
   "cell_type": "code",
   "execution_count": 0,
   "metadata": {
    "colab": {},
    "colab_type": "code",
    "id": "4aJXO903bnq7"
   },
   "outputs": [],
   "source": [
    "def train_iterator(batch_size):\n",
    "    for batch in images_and_labels_generator(batch_size):\n",
    "        images = batch[0].astype('float32')\n",
    "        images = images/ 255 - 0.5\n",
    "        images = np.expand_dims(images, -1)\n",
    "        labels = keras.utils.to_categorical(map(class_to_idx.get, batch[1]), NUM_CLASSES)\n",
    "        yield images, labels"
   ]
  },
  {
   "cell_type": "code",
   "execution_count": 189,
   "metadata": {
    "colab": {
     "base_uri": "https://localhost:8080/",
     "height": 51
    },
    "colab_type": "code",
    "id": "JiJ6m0nvbn8y",
    "outputId": "86d28154-65a0-4000-fa6a-0f8c78cc8728"
   },
   "outputs": [
    {
     "name": "stdout",
     "output_type": "stream",
     "text": [
      "(32, 128, 128, 1)\n",
      "(32, 340)\n"
     ]
    }
   ],
   "source": [
    "sample = train_iterator(32).next()\n",
    "print sample[0].shape\n",
    "print sample[1].shape"
   ]
  },
  {
   "cell_type": "code",
   "execution_count": 0,
   "metadata": {
    "colab": {},
    "colab_type": "code",
    "id": "ahiU0Ywtbnj1"
   },
   "outputs": [],
   "source": [
    "def make_model():\n",
    "    \"\"\"\n",
    "    Define your model architecture here.\n",
    "    Returns `Sequential` model.\n",
    "    \"\"\"\n",
    "    model = Sequential()\n",
    "    \n",
    "    model.add(Conv2D(16, (3,3),padding='same', input_shape=(IMG_SIZE, IMG_SIZE, 1)))\n",
    "    model.add(LeakyReLU(0.1))\n",
    "    model.add(MaxPooling2D(pool_size=(2,2), strides=(2,2)))\n",
    "    \n",
    "    model.add(Conv2D(32, (3,3), padding='same'))\n",
    "    model.add(LeakyReLU(0.1))\n",
    "    model.add(MaxPooling2D(pool_size=(2,2), strides=(2,2)))\n",
    "     \n",
    "    model.add(Conv2D(32, (3,3), padding='same'))\n",
    "    model.add(LeakyReLU(0.1))\n",
    "    model.add(MaxPooling2D(pool_size=(2,2), strides=(2,2)))\n",
    "    \n",
    "    model.add(Conv2D(64, (3,3),padding='same'))\n",
    "    model.add(LeakyReLU(0.1))\n",
    "    model.add(MaxPooling2D(pool_size=(2,2), strides=(2,2)))\n",
    "    \n",
    "    model.add(Conv2D(128, (3,3),padding='same'))\n",
    "    model.add(LeakyReLU(0.1))\n",
    "    model.add(MaxPooling2D(pool_size=(2,2), strides=(2,2)))\n",
    "    model.add(Dropout(0.2))\n",
    "\n",
    "    model.add(Flatten())\n",
    "   \n",
    "\n",
    "    model.add(Dense(4098))\n",
    "    model.add(LeakyReLU(0.1))\n",
    "    model.add(Dropout(0.25))\n",
    "  \n",
    "  \n",
    "    model.add(Dense(NUM_CLASSES, activation=\"softmax\"))\n",
    "    \n",
    "    \n",
    "    return model"
   ]
  },
  {
   "cell_type": "code",
   "execution_count": 191,
   "metadata": {
    "colab": {
     "base_uri": "https://localhost:8080/",
     "height": 850
    },
    "colab_type": "code",
    "id": "62Sm3j-xbncW",
    "outputId": "b07619d2-d0ea-46d4-9be6-4277b9b2c3da"
   },
   "outputs": [
    {
     "name": "stdout",
     "output_type": "stream",
     "text": [
      "_________________________________________________________________\n",
      "Layer (type)                 Output Shape              Param #   \n",
      "=================================================================\n",
      "conv2d_1 (Conv2D)            (None, 128, 128, 16)      160       \n",
      "_________________________________________________________________\n",
      "leaky_re_lu_1 (LeakyReLU)    (None, 128, 128, 16)      0         \n",
      "_________________________________________________________________\n",
      "max_pooling2d_1 (MaxPooling2 (None, 64, 64, 16)        0         \n",
      "_________________________________________________________________\n",
      "conv2d_2 (Conv2D)            (None, 64, 64, 32)        4640      \n",
      "_________________________________________________________________\n",
      "leaky_re_lu_2 (LeakyReLU)    (None, 64, 64, 32)        0         \n",
      "_________________________________________________________________\n",
      "max_pooling2d_2 (MaxPooling2 (None, 32, 32, 32)        0         \n",
      "_________________________________________________________________\n",
      "conv2d_3 (Conv2D)            (None, 32, 32, 32)        9248      \n",
      "_________________________________________________________________\n",
      "leaky_re_lu_3 (LeakyReLU)    (None, 32, 32, 32)        0         \n",
      "_________________________________________________________________\n",
      "max_pooling2d_3 (MaxPooling2 (None, 16, 16, 32)        0         \n",
      "_________________________________________________________________\n",
      "conv2d_4 (Conv2D)            (None, 16, 16, 64)        18496     \n",
      "_________________________________________________________________\n",
      "leaky_re_lu_4 (LeakyReLU)    (None, 16, 16, 64)        0         \n",
      "_________________________________________________________________\n",
      "max_pooling2d_4 (MaxPooling2 (None, 8, 8, 64)          0         \n",
      "_________________________________________________________________\n",
      "conv2d_5 (Conv2D)            (None, 8, 8, 128)         73856     \n",
      "_________________________________________________________________\n",
      "leaky_re_lu_5 (LeakyReLU)    (None, 8, 8, 128)         0         \n",
      "_________________________________________________________________\n",
      "max_pooling2d_5 (MaxPooling2 (None, 4, 4, 128)         0         \n",
      "_________________________________________________________________\n",
      "dropout_1 (Dropout)          (None, 4, 4, 128)         0         \n",
      "_________________________________________________________________\n",
      "flatten_1 (Flatten)          (None, 2048)              0         \n",
      "_________________________________________________________________\n",
      "dense_1 (Dense)              (None, 4098)              8396802   \n",
      "_________________________________________________________________\n",
      "leaky_re_lu_6 (LeakyReLU)    (None, 4098)              0         \n",
      "_________________________________________________________________\n",
      "dropout_2 (Dropout)          (None, 4098)              0         \n",
      "_________________________________________________________________\n",
      "dense_2 (Dense)              (None, 340)               1393660   \n",
      "=================================================================\n",
      "Total params: 9,896,862\n",
      "Trainable params: 9,896,862\n",
      "Non-trainable params: 0\n",
      "_________________________________________________________________\n"
     ]
    }
   ],
   "source": [
    "# describe model\n",
    "s = reset_tf_session()  # clear default graph\n",
    "model = make_model()\n",
    "model.summary()"
   ]
  },
  {
   "cell_type": "code",
   "execution_count": 0,
   "metadata": {
    "colab": {},
    "colab_type": "code",
    "id": "iFi3IMV9bowR"
   },
   "outputs": [],
   "source": [
    "# custom metrics we need\n",
    "from keras.metrics import categorical_accuracy, top_k_categorical_accuracy\n",
    "\n",
    "def top_3_accuracy(y_true, y_pred):\n",
    "    return top_k_categorical_accuracy(y_true, y_pred, k=3)"
   ]
  },
  {
   "cell_type": "code",
   "execution_count": 0,
   "metadata": {
    "colab": {},
    "colab_type": "code",
    "id": "HJcYc85QqVIk"
   },
   "outputs": [],
   "source": [
    "BATCH_SIZE = 512\n",
    "STEPS_PER_EPOCH = 100\n",
    "EPOCHS = 20 \n",
    "\n",
    "s = reset_tf_session()  # clear default graph\n",
    "model = make_model()  # define our model\n",
    "\n",
    "# prepare model for fitting (loss, optimizer, etc)\n",
    "model.compile(\n",
    "    loss='categorical_crossentropy',\n",
    "    optimizer=keras.optimizers.adam(clipnorm=5.),  # gradient clipping just in case\n",
    "    metrics=[categorical_accuracy, top_3_accuracy]  # report top 3 accuracy, correlates with MAP@3!\n",
    ")"
   ]
  },
  {
   "cell_type": "code",
   "execution_count": 0,
   "metadata": {
    "colab": {},
    "colab_type": "code",
    "id": "aIqxsjRlqVUv"
   },
   "outputs": [],
   "source": [
    "# for saving the model after every epoch\n",
    "from keras.models import save_model\n",
    "\n",
    "class ModelSaveCallback(keras.callbacks.Callback):\n",
    "    def __init__(self, file_name):\n",
    "        super(ModelSaveCallback, self).__init__()\n",
    "        self.file_name = file_name\n",
    "\n",
    "    def on_epoch_end(self, epoch, logs=None):\n",
    "        model_filename = self.file_name.format(epoch)\n",
    "        save_model(self.model, model_filename)\n",
    "        print(\"Model saved in {}\".format(model_filename))"
   ]
  },
  {
   "cell_type": "code",
   "execution_count": 0,
   "metadata": {
    "colab": {},
    "colab_type": "code",
    "id": "tvXyudjpqpSZ"
   },
   "outputs": [],
   "source": [
    "last_finished_epoch = 0"
   ]
  },
  {
   "cell_type": "code",
   "execution_count": 196,
   "metadata": {
    "colab": {
     "base_uri": "https://localhost:8080/",
     "height": 51
    },
    "colab_type": "code",
    "id": "XExrCHdUqqG6",
    "outputId": "f4e30f66-ee0a-4ec0-91f9-d397b28c01d5"
   },
   "outputs": [
    {
     "name": "stdout",
     "output_type": "stream",
     "text": [
      "/content/gdrive/My Drive\n",
      "/content/gdrive/My Drive/model{}_withoutaug\n"
     ]
    }
   ],
   "source": [
    "import os\n",
    "GOOGLE_DRIVE_ROOT = GOOGLE_DRIVE_MOUNT + \"/\" + filter(lambda x: x[0] != '.', os.listdir(GOOGLE_DRIVE_MOUNT))[0]\n",
    "print GOOGLE_DRIVE_ROOT\n",
    "\n",
    "# will save checkpoints to Google Drive\n",
    "CHECKPOINT_TEMPLATE = GOOGLE_DRIVE_ROOT + \"/model{}_withoutaug\"\n",
    "print CHECKPOINT_TEMPLATE"
   ]
  },
  {
   "cell_type": "code",
   "execution_count": 197,
   "metadata": {
    "colab": {
     "base_uri": "https://localhost:8080/",
     "height": 1057
    },
    "colab_type": "code",
    "id": "vID8kvhKqo36",
    "outputId": "2fda40d1-1043-4981-98f5-7d2196488f73"
   },
   "outputs": [
    {
     "name": "stdout",
     "output_type": "stream",
     "text": [
      "Epoch 1/20\n",
      "100/100 [==============================] - 47s 473ms/step - loss: 4.5370 - categorical_accuracy: 0.1285 - top_3_accuracy: 0.2342\n",
      "Model saved in /content/gdrive/My Drive/model0_withoutaug\n",
      "Epoch 2/20\n",
      "100/100 [==============================] - 46s 461ms/step - loss: 3.0334 - categorical_accuracy: 0.3384 - top_3_accuracy: 0.5305\n",
      "Model saved in /content/gdrive/My Drive/model1_withoutaug\n",
      "Epoch 3/20\n",
      "100/100 [==============================] - 46s 461ms/step - loss: 2.5260 - categorical_accuracy: 0.4324 - top_3_accuracy: 0.6292\n",
      "Model saved in /content/gdrive/My Drive/model2_withoutaug\n",
      "Epoch 4/20\n",
      "100/100 [==============================] - 46s 461ms/step - loss: 2.2825 - categorical_accuracy: 0.4758 - top_3_accuracy: 0.6746\n",
      "Model saved in /content/gdrive/My Drive/model3_withoutaug\n",
      "Epoch 5/20\n",
      "100/100 [==============================] - 46s 460ms/step - loss: 2.1210 - categorical_accuracy: 0.5082 - top_3_accuracy: 0.7056\n",
      "Model saved in /content/gdrive/My Drive/model4_withoutaug\n",
      "Epoch 6/20\n",
      "100/100 [==============================] - 46s 460ms/step - loss: 2.0158 - categorical_accuracy: 0.5291 - top_3_accuracy: 0.7259\n",
      "Model saved in /content/gdrive/My Drive/model5_withoutaug\n",
      "Epoch 7/20\n",
      "100/100 [==============================] - 46s 461ms/step - loss: 1.9314 - categorical_accuracy: 0.5486 - top_3_accuracy: 0.7419\n",
      "Model saved in /content/gdrive/My Drive/model6_withoutaug\n",
      "Epoch 8/20\n",
      "100/100 [==============================] - 46s 460ms/step - loss: 1.8472 - categorical_accuracy: 0.5656 - top_3_accuracy: 0.7588\n",
      "Model saved in /content/gdrive/My Drive/model7_withoutaug\n",
      "Epoch 9/20\n",
      "100/100 [==============================] - 46s 462ms/step - loss: 1.7920 - categorical_accuracy: 0.5739 - top_3_accuracy: 0.7660\n",
      "Model saved in /content/gdrive/My Drive/model8_withoutaug\n",
      "Epoch 10/20\n",
      "100/100 [==============================] - 46s 462ms/step - loss: 1.7750 - categorical_accuracy: 0.5813 - top_3_accuracy: 0.7682\n",
      "Model saved in /content/gdrive/My Drive/model9_withoutaug\n",
      "Epoch 11/20\n",
      "100/100 [==============================] - 46s 462ms/step - loss: 1.7413 - categorical_accuracy: 0.5885 - top_3_accuracy: 0.7758\n",
      "Model saved in /content/gdrive/My Drive/model10_withoutaug\n",
      "Epoch 12/20\n",
      "100/100 [==============================] - 46s 461ms/step - loss: 1.7061 - categorical_accuracy: 0.5951 - top_3_accuracy: 0.7831\n",
      "Model saved in /content/gdrive/My Drive/model11_withoutaug\n",
      "Epoch 13/20\n",
      "100/100 [==============================] - 46s 461ms/step - loss: 1.6920 - categorical_accuracy: 0.6002 - top_3_accuracy: 0.7856\n",
      "Model saved in /content/gdrive/My Drive/model12_withoutaug\n",
      "Epoch 14/20\n",
      "100/100 [==============================] - 46s 460ms/step - loss: 1.6501 - categorical_accuracy: 0.6047 - top_3_accuracy: 0.7932\n",
      "Model saved in /content/gdrive/My Drive/model13_withoutaug\n",
      "Epoch 15/20\n",
      "100/100 [==============================] - 46s 462ms/step - loss: 1.6460 - categorical_accuracy: 0.6068 - top_3_accuracy: 0.7918\n",
      "Model saved in /content/gdrive/My Drive/model14_withoutaug\n",
      "Epoch 16/20\n",
      "100/100 [==============================] - 46s 461ms/step - loss: 1.6088 - categorical_accuracy: 0.6154 - top_3_accuracy: 0.7983\n",
      "Model saved in /content/gdrive/My Drive/model15_withoutaug\n",
      "Epoch 17/20\n",
      "100/100 [==============================] - 46s 461ms/step - loss: 1.6069 - categorical_accuracy: 0.6158 - top_3_accuracy: 0.7996\n",
      "Model saved in /content/gdrive/My Drive/model16_withoutaug\n",
      "Epoch 18/20\n",
      "100/100 [==============================] - 46s 460ms/step - loss: 1.5591 - categorical_accuracy: 0.6256 - top_3_accuracy: 0.8052\n",
      "Model saved in /content/gdrive/My Drive/model17_withoutaug\n",
      "Epoch 19/20\n",
      "100/100 [==============================] - 46s 461ms/step - loss: 1.5668 - categorical_accuracy: 0.6227 - top_3_accuracy: 0.8073\n",
      "Model saved in /content/gdrive/My Drive/model18_withoutaug\n",
      "Epoch 20/20\n",
      "100/100 [==============================] - 46s 461ms/step - loss: 1.5328 - categorical_accuracy: 0.6319 - top_3_accuracy: 0.8115\n",
      "Model saved in /content/gdrive/My Drive/model19_withoutaug\n"
     ]
    }
   ],
   "source": [
    "CNN10 = model.fit_generator(\n",
    "    train_iterator(BATCH_SIZE), \n",
    "    steps_per_epoch=STEPS_PER_EPOCH,\n",
    "    epochs=EPOCHS,\n",
    "    callbacks=[ModelSaveCallback(CHECKPOINT_TEMPLATE)],\n",
    "    verbose=1,\n",
    "    initial_epoch=last_finished_epoch\n",
    ")"
   ]
  },
  {
   "cell_type": "markdown",
   "metadata": {
    "colab_type": "text",
    "id": "JtlMg-wlxfVY"
   },
   "source": [
    "Модель на исходных данных обучается заметно лучше, чем на аугментированных. Даже при 20 эпохах, LB=0.744"
   ]
  },
  {
   "cell_type": "markdown",
   "metadata": {
    "colab_type": "text",
    "id": "Sc-fm2subpEw"
   },
   "source": [
    "#Сравнение качества с аугментацией и без"
   ]
  },
  {
   "cell_type": "code",
   "execution_count": 228,
   "metadata": {
    "colab": {
     "base_uri": "https://localhost:8080/",
     "height": 512
    },
    "colab_type": "code",
    "id": "CRuF4z6WbwgQ",
    "outputId": "8692a358-911d-4242-92d0-0e72f2fb5493"
   },
   "outputs": [
    {
     "data": {
      "image/png": "[encoded data removed]",
      "text/plain": [
       "<matplotlib.figure.Figure at 0x7f0d94187890>"
      ]
     },
     "metadata": {
      "tags": []
     },
     "output_type": "display_data"
    }
   ],
   "source": [
    "plt.figure(figsize=(12,8))\n",
    "plt.legend(loc='best')\n",
    "plt.title('MAP@3')\n",
    "plt.xlabel('Epochs')\n",
    "line1 = plt.plot(CNN10.history['top_3_accuracy'], label='without augmentation')\n",
    "line2 = plt.plot(CNN9.history['top_3_accuracy'],label = 'with augmentation')\n",
    "line3 = plt.plot(CNN8.history['top_3_accuracy'],label = 'with bad augmentation')\n",
    "plt.legend(loc=2, borderaxespad=0.)\n",
    "plt.show()"
   ]
  },
  {
   "cell_type": "markdown",
   "metadata": {
    "colab_type": "text",
    "id": "-wUa2c6z9Xsm"
   },
   "source": [
    "**Выводы по аугментации:** Даже минимальная аугментация только портит качество как на обучении, так и на тесте. Аугментация в данном случае не нужна, потому что датасет большой и состоит из разных картинок. Возможно аугментация на этом датасете поможет, когда качество будет более 0.9. Использую очень простую аугментацию, потому что картинки простые и маленькие, не надо использовать, например, размытие "
   ]
  },
  {
   "cell_type": "markdown",
   "metadata": {
    "colab_type": "text",
    "id": "mYugvbbrtlgZ"
   },
   "source": [
    "#Выводы и результаты"
   ]
  },
  {
   "cell_type": "markdown",
   "metadata": {
    "colab_type": "text",
    "id": "XlXcr7NB1fkt"
   },
   "source": [
    "\n",
    "\n",
    "*   Максимальный скор **LB=0.816**\n",
    "*   Получилось доказать, что лучшая регуляризация **LeakyReLU**\n",
    "*   Регуляризация **BatchNormalization** не изменила результат\n",
    "*   При использовании большого **размера батча** лучше качество\n",
    "*   **Dropout** убрал переобучение \n",
    "*   **EarlyStopping** позволил также избежать переобучения и вовремя останавливал модель, когда переставало расти качество\n",
    "*   **Аугментация** скорее всего не нужна в данном датасете\n",
    "*   Поняла, что надо сначала строить максимально простую CNN, а уже потом добавлять регуляризацию и дополнительные слои\n",
    "\n",
    "\n",
    "\n"
   ]
  },
  {
   "cell_type": "markdown",
   "metadata": {
    "colab_type": "text",
    "id": "6PRFPrg5RQ1r"
   },
   "source": [
    "# Score test set"
   ]
  },
  {
   "cell_type": "code",
   "execution_count": 198,
   "metadata": {
    "ExecuteTime": {
     "end_time": "2018-11-07T12:18:38.307707Z",
     "start_time": "2018-11-07T12:18:34.929466Z"
    },
    "colab": {
     "base_uri": "https://localhost:8080/",
     "height": 65
    },
    "colab_type": "code",
    "id": "rvL9Y1gGRQ1s",
    "outputId": "967e3b51-1747-4b43-cfa2-14d43c5aa57e"
   },
   "outputs": [
    {
     "name": "stdout",
     "output_type": "stream",
     "text": [
      "test_simplified.csv: Skipping, found more recently modified local copy (use --force to force download)\n"
     ]
    }
   ],
   "source": [
    "# download test set\n",
    "! KAGGLE_USERNAME=adtsvetkova KAGGLE_KEY=711dab66e0f54e09951120830972f100 kaggle competitions download -c quickdraw-doodle-recognition -f test_simplified.csv"
   ]
  },
  {
   "cell_type": "code",
   "execution_count": 0,
   "metadata": {
    "ExecuteTime": {
     "end_time": "2018-11-07T16:25:30.169624Z",
     "start_time": "2018-11-07T16:25:30.148875Z"
    },
    "colab": {},
    "colab_type": "code",
    "id": "aVvctxb-RQ1x"
   },
   "outputs": [],
   "source": [
    "def test_csv_iterator(batch_size):\n",
    "    with open(\"test_simplified.csv\", \"r\") as f:\n",
    "        batch_keys = []\n",
    "        batch_images = []\n",
    "        f.readline()  # skip header\n",
    "        for line in csv.reader(f, delimiter=',', quotechar='\"'):\n",
    "            batch_keys.append(line[0])\n",
    "            batch_images.append(draw_it(line[2]))\n",
    "            if len(batch_images) == batch_size:\n",
    "                batch_images = np.stack(batch_images, axis=0)\n",
    "                batch_images = np.expand_dims(batch_images, -1)\n",
    "                batch_images = batch_images.astype('float32')\n",
    "                batch_images = batch_images/ 255 - 0.5\n",
    "                yield batch_keys, batch_images\n",
    "                batch_keys = []\n",
    "                batch_images = []\n",
    "        if batch_images:  # last batch\n",
    "            batch_images = np.stack(batch_images, axis=0)\n",
    "            batch_images = np.expand_dims(batch_images, -1)\n",
    "            batch_images = batch_images.astype('float32')\n",
    "            batch_images = batch_images/ 255 - 0.5\n",
    "            yield batch_keys, batch_images"
   ]
  },
  {
   "cell_type": "code",
   "execution_count": 200,
   "metadata": {
    "ExecuteTime": {
     "end_time": "2018-11-07T16:25:32.406415Z",
     "start_time": "2018-11-07T16:25:32.203842Z"
    },
    "colab": {
     "base_uri": "https://localhost:8080/",
     "height": 65
    },
    "colab_type": "code",
    "id": "tDQkSdo3RQ10",
    "outputId": "8fc63abc-68e2-487f-c318-3ac9e691c69f"
   },
   "outputs": [
    {
     "name": "stdout",
     "output_type": "stream",
     "text": [
      "112200 test_simplified.csv\n"
     ]
    }
   ],
   "source": [
    "! wc -l test_simplified.csv"
   ]
  },
  {
   "cell_type": "code",
   "execution_count": 201,
   "metadata": {
    "ExecuteTime": {
     "end_time": "2018-11-07T16:26:30.259083Z",
     "start_time": "2018-11-07T16:25:32.579734Z"
    },
    "colab": {
     "base_uri": "https://localhost:8080/",
     "height": 34
    },
    "colab_type": "code",
    "id": "_FFUiMNVRQ14",
    "outputId": "9f951ff9-154b-4916-d8de-a10ddb6d9305",
    "scrolled": true
   },
   "outputs": [
    {
     "name": "stderr",
     "output_type": "stream",
     "text": [
      "100%|██████████| 220/220.0 [01:32<00:00,  2.37it/s]\n"
     ]
    }
   ],
   "source": [
    "with open(\"submission.csv\", \"w\", buffering=1*1024*1024) as f:\n",
    "    f.write(\"key_id,word\\n\")\n",
    "    for batch_keys, batch_images in tqdm.tqdm(test_csv_iterator(BATCH_SIZE), total=np.ceil(112200./BATCH_SIZE)):\n",
    "        probas = model.predict_proba(batch_images, BATCH_SIZE)\n",
    "        top_3_classes = np.argsort(probas, axis=1)[:, [-1, -2, -3]]\n",
    "        labels = map(lambda x: \" \".join(\"_\".join(class_labels[idx].split()) for idx in x), top_3_classes)\n",
    "        for key, labels in zip(batch_keys, labels):\n",
    "            f.write(key + \",\" + labels + \"\\n\")"
   ]
  },
  {
   "cell_type": "code",
   "execution_count": 202,
   "metadata": {
    "ExecuteTime": {
     "end_time": "2018-11-07T16:27:51.293010Z",
     "start_time": "2018-11-07T16:27:51.111607Z"
    },
    "colab": {
     "base_uri": "https://localhost:8080/",
     "height": 65
    },
    "colab_type": "code",
    "id": "4OQCVDcNRQ18",
    "outputId": "6fdcd76c-e6a8-4b8c-817d-5c0030f371fa"
   },
   "outputs": [
    {
     "name": "stdout",
     "output_type": "stream",
     "text": [
      "112200 submission.csv\n"
     ]
    }
   ],
   "source": [
    "! wc -l submission.csv"
   ]
  },
  {
   "cell_type": "code",
   "execution_count": 203,
   "metadata": {
    "ExecuteTime": {
     "end_time": "2018-11-07T13:18:12.630549Z",
     "start_time": "2018-11-07T13:17:59.689315Z"
    },
    "colab": {
     "base_uri": "https://localhost:8080/",
     "height": 65
    },
    "colab_type": "code",
    "id": "5zgagBQgRQ2B",
    "outputId": "8716986d-6f88-4f92-a21e-e1412ee5e19b"
   },
   "outputs": [
    {
     "name": "stdout",
     "output_type": "stream",
     "text": [
      "100% 4.40M/4.40M [00:00<00:00, 15.3MB/s]\n",
      "Successfully submitted to Quick, Draw! Doodle Recognition Challenge"
     ]
    }
   ],
   "source": [
    "# submit to kaggle\n",
    "! KAGGLE_USERNAME=adtsvetkova KAGGLE_KEY=711dab66e0f54e09951120830972f100 kaggle competitions submit quickdraw-doodle-recognition -f submission.csv -m \"My precious\""
   ]
  },
  {
   "cell_type": "code",
   "execution_count": 0,
   "metadata": {
    "colab": {},
    "colab_type": "code",
    "id": "fqvT4Pw_rs4V"
   },
   "outputs": [],
   "source": []
  }
 ],
 "metadata": {
  "accelerator": "GPU",
  "colab": {
   "collapsed_sections": [
    "9DQguMI22X1d"
   ],
   "name": "Цветкова Алена Дмитриевна БВВ161_notebook.ipynb",
   "provenance": [],
   "toc_visible": true,
   "version": "0.3.2"
  },
  "kernelspec": {
   "display_name": "Python 2",
   "name": "python2"
  }
 },
 "nbformat": 4,
 "nbformat_minor": 1
}
